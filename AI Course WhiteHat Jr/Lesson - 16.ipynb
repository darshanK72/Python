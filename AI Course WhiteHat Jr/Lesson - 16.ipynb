{
  "nbformat": 4,
  "nbformat_minor": 0,
  "metadata": {
    "colab": {
      "name": "Copy of 2021-11-08_Darshan_Lesson16",
      "provenance": [],
      "collapsed_sections": []
    },
    "kernelspec": {
      "name": "python3",
      "display_name": "Python 3"
    }
  },
  "cells": [
    {
      "cell_type": "markdown",
      "metadata": {
        "id": "KZngaph1E1HU"
      },
      "source": [
        "# Lesson 16: Pandas Series"
      ]
    },
    {
      "cell_type": "markdown",
      "metadata": {
        "id": "lu7sQsTV5-eP"
      },
      "source": [
        "\n",
        "|Particulars|Description|\n",
        "|-|-|\n",
        "|**Topics Covered**|Creating Pandas series|\n",
        "||Measures of central tendency|\n",
        "||Pandas series operations|\n",
        "||Comparison between Python lists, NumPy arrays, and Pandas series|\n",
        "|||\n",
        "|**Lesson Description**|In this class, a student will create a Pandas series.|\n",
        "|||\n",
        "|**Lesson Duration**|45 minutes|\n",
        "|||\n",
        "|**Learning Outcomes**|Create a Pandas series.|\n",
        "||Retrieve an item from a Pandas series.|\n",
        "||Apply basic statistical operations on a Pandas series.|\n",
        "\n"
      ]
    },
    {
      "cell_type": "markdown",
      "metadata": {
        "id": "6zaxTgXE5_5n"
      },
      "source": [
        "---"
      ]
    },
    {
      "cell_type": "markdown",
      "metadata": {
        "id": "9xQQ4vHgQBSN"
      },
      "source": [
        "### Teacher-Student Tasks\n",
        "\n",
        "Before we go ahead with more concepts on Machine Learning and Artificial Intelligence, let's first learn a bit of Data Analysis, so that you can get a better understanding of data. Every dataset tells you a story if you look at it through the right lenses.\n",
        "\n",
        "To give you a perspective, imagine that you have data on the number of sales happening in every month of every single shop in your city. You would notice that during the festivals, the sales volume of sweets rises by a tremendous magnitude. Similarly, the sales volume of clothes, jewellery, and electronic products also rose significantly in this period.\n",
        "\n",
        "If you have the tourism data, then you would see that a lot of people in India go on a vacation in May and June, which makes sense because schools are closed in these two months due to summer vacation.\n",
        "\n",
        "Through data, you can observe a trend, and based on that trend you can draw meaningful insights, helping you in making decisions in your daily life, in business organizations, in medical and engineering applications, etc. \n",
        "\n",
        "When it comes to Data Analysis in Python, we use a module called Pandas which is specifically designed to manipulate, manage and analyze a huge amount of data by creating Pandas Series and Pandas DataFrames. \n",
        "\n",
        "In this lesson, we will learn about the Pandas Series."
      ]
    },
    {
      "cell_type": "markdown",
      "metadata": {
        "id": "crUqZtm_BRK6"
      },
      "source": [
        "---"
      ]
    },
    {
      "cell_type": "markdown",
      "metadata": {
        "id": "2jtEZd96SmI9"
      },
      "source": [
        "#### Pandas Series \n",
        "\n",
        "A Pandas series is a one-dimensional array that can hold various data types. It is similar to a Python list and a NumPy array.\n",
        "\n",
        "Without going too much into the theory, let's get started with the Pandas series right away. At the end of the class, we will learn when to use a Python list, a NumPy array, and a Pandas series."
      ]
    },
    {
      "cell_type": "markdown",
      "metadata": {
        "id": "PiRvtjf1BXlV"
      },
      "source": [
        "---"
      ]
    },
    {
      "cell_type": "markdown",
      "metadata": {
        "id": "6VYKPpnVavVx"
      },
      "source": [
        "#### Task 1: Python List To Pandas Series Conversion\n",
        "\n",
        "Let's understand the Pandas series through an example. Suppose there are `30` students in your class and their weights vary in the range of `45` to `60` kg (both inclusive).\n",
        "\n",
        "We can create a Pandas series containing the weights of the students by first creating a Python list and then converting it to a Pandas series. To create a Pandas series, you have to first import the `pandas` module using the `import` keyword. \n",
        "\n",
        "```\n",
        "import pandas as pd\n",
        "```\n",
        "\n",
        "Here, `pd` is an alias (or nickname) for `pandas`\n",
        "\n",
        "Then you can call the `Series()` function to convert a Python list or a NumPy array into a Pandas series:\n",
        "\n",
        "```\n",
        "weights = pd.Series([random.randint(45, 60) for i in range(30)])\n",
        "```\n",
        "\n",
        "**Note:** Unlike other functions, the `Series()` function begins with the uppercase letter `S`."
      ]
    },
    {
      "cell_type": "code",
      "metadata": {
        "id": "EMr9AICpP2wY",
        "colab": {
          "base_uri": "https://localhost:8080/"
        },
        "outputId": "cd9e66b7-d7e8-47cf-9908-197a43bbfddc"
      },
      "source": [
        "# S1.1: Create a Pandas series containing 30 random integers between 45 and 60.\n",
        "import pandas as pd\n",
        "import random\n",
        "weights = pd.Series([random.randint(45,60)for i in range(30)])\n",
        "weights"
      ],
      "execution_count": null,
      "outputs": [
        {
          "output_type": "execute_result",
          "data": {
            "text/plain": [
              "0     60\n",
              "1     47\n",
              "2     49\n",
              "3     55\n",
              "4     50\n",
              "5     49\n",
              "6     53\n",
              "7     52\n",
              "8     55\n",
              "9     56\n",
              "10    50\n",
              "11    53\n",
              "12    58\n",
              "13    60\n",
              "14    46\n",
              "15    51\n",
              "16    48\n",
              "17    52\n",
              "18    48\n",
              "19    56\n",
              "20    45\n",
              "21    54\n",
              "22    46\n",
              "23    55\n",
              "24    60\n",
              "25    46\n",
              "26    58\n",
              "27    47\n",
              "28    51\n",
              "29    59\n",
              "dtype: int64"
            ]
          },
          "metadata": {},
          "execution_count": 2
        }
      ]
    },
    {
      "cell_type": "markdown",
      "metadata": {
        "id": "UrDULktVb2Ji"
      },
      "source": [
        "The first column in the output represents the indices of all the items in the `weights` Pandas series. The second column contains the weights of the students. The data type of each item is an `int`.\n",
        "\n",
        "**Note:** Ignore the `64` in the `int64` for the time being. \n",
        "\n",
        "Using the `Series()` function, you can convert any one-dimensional Python list into a Pandas series. Now, let's verify whether `weights` is a Pandas series or not:"
      ]
    },
    {
      "cell_type": "code",
      "metadata": {
        "id": "TDnNWIjxz99A",
        "colab": {
          "base_uri": "https://localhost:8080/"
        },
        "outputId": "2e9b5cb1-3c0d-4e08-9a09-9aa4f7fa42e2"
      },
      "source": [
        "# S1.2: Verify the type of value stored in the 'weights' variable using the 'type()' function.\n",
        "type(weights)"
      ],
      "execution_count": null,
      "outputs": [
        {
          "output_type": "execute_result",
          "data": {
            "text/plain": [
              "pandas.core.series.Series"
            ]
          },
          "metadata": {},
          "execution_count": 4
        }
      ]
    },
    {
      "cell_type": "markdown",
      "metadata": {
        "id": "9sOodrKz0K4O"
      },
      "source": [
        "The `type()` function returns `pandas.core.series.Series` as an output that confirms that `weights` are indeed a Pandas series. \n",
        "\n",
        "A Pandas series can also contain items of multiple data types. Recall that in one of the previous class, we created 4 different variables to store the attributes of a planet (*Learned in Lesson:  Variables and Data Types*).\n",
        "\n",
        "||Mercury|\n",
        "|-|-|\n",
        "|Diameter (km)|4879|\n",
        "|Gravity ($m/s^2$)|3.7|\n",
        "|Ring|No|\n",
        "\n",
        "\n",
        "Let's store the name of a planet, its diameter, gravity, and whether it has a ring or not in a Python list and then convert it into a pandas series:\n"
      ]
    },
    {
      "cell_type": "code",
      "metadata": {
        "id": "rsq1SJvObuMK",
        "colab": {
          "base_uri": "https://localhost:8080/"
        },
        "outputId": "d3412cc3-6752-41b9-dfe7-2c514b3d7665"
      },
      "source": [
        "# S1.3: Create a Python list that contains planet name, diameter, gravity, and False if the planet has a ring.\n",
        "# Convert the list into a Pandas series. Also, verify whether the list successfully is converted to a Pandas series or not.\n",
        "planets = pd.Series(['Mercury',4879,3.7,False])\n",
        "planets"
      ],
      "execution_count": null,
      "outputs": [
        {
          "output_type": "execute_result",
          "data": {
            "text/plain": [
              "0    Mercury\n",
              "1       4879\n",
              "2        3.7\n",
              "3      False\n",
              "dtype: object"
            ]
          },
          "metadata": {},
          "execution_count": 5
        }
      ]
    },
    {
      "cell_type": "markdown",
      "metadata": {
        "id": "qYnWSTd-oEBY"
      },
      "source": [
        "Here the data type is an `object`. Pandas cannot return the data type of every individual item. Hence, it has returned `object` data type to represent one common data type for all the items.\n",
        "\n",
        "You can also use the `size` keyword to find the number of items in a Pandas series:"
      ]
    },
    {
      "cell_type": "code",
      "metadata": {
        "id": "PUa5uRc2Cysy",
        "colab": {
          "base_uri": "https://localhost:8080/"
        },
        "outputId": "92528f26-889b-4731-ac2e-8edd31df6b3f"
      },
      "source": [
        "# S1.4: Find the number of items in the 'weights' Pandas series using the 'size' keyword.\n",
        "weights.size"
      ],
      "execution_count": null,
      "outputs": [
        {
          "output_type": "execute_result",
          "data": {
            "text/plain": [
              "30"
            ]
          },
          "metadata": {},
          "execution_count": 6
        }
      ]
    },
    {
      "cell_type": "markdown",
      "metadata": {
        "id": "QtQA2xU0C94F"
      },
      "source": [
        "So, there are `30` items in the `weights` Pandas series. \n",
        "\n",
        "You can also use the `shape` keyword to find the number of rows and columns in a Pandas series:"
      ]
    },
    {
      "cell_type": "code",
      "metadata": {
        "id": "-y9cRsdBDH-G",
        "colab": {
          "base_uri": "https://localhost:8080/"
        },
        "outputId": "cab2f593-c970-4c35-ed86-36718f2a269a"
      },
      "source": [
        "# S1.5: Find the number of rows and columns in the 'weights' Pandas series using the 'shape' keyword.\n",
        "weights.shape"
      ],
      "execution_count": null,
      "outputs": [
        {
          "output_type": "execute_result",
          "data": {
            "text/plain": [
              "(30,)"
            ]
          },
          "metadata": {},
          "execution_count": 7
        }
      ]
    },
    {
      "cell_type": "markdown",
      "metadata": {
        "id": "UiqBN8vsDOyh"
      },
      "source": [
        "So, there are `30` rows and `1` column in the `weights` Pandas series."
      ]
    },
    {
      "cell_type": "markdown",
      "metadata": {
        "id": "KGtlRcPDBfPd"
      },
      "source": [
        "---"
      ]
    },
    {
      "cell_type": "markdown",
      "metadata": {
        "id": "SLrh_iDB1M74"
      },
      "source": [
        "#### Task 2: The `mean(), min(), max()` Functions \n",
        "\n",
        "The `mean()` function does not take any input and returns the average value of all the items as an output.\n",
        "\n",
        "To apply this function, you need to write the Pandas series; whose mean value you need to compute, followed by the dot (`.`) operator:\n"
      ]
    },
    {
      "cell_type": "code",
      "metadata": {
        "id": "Ce9nbvapc3HX",
        "colab": {
          "base_uri": "https://localhost:8080/"
        },
        "outputId": "ab6aadd1-853e-413e-e09a-1dfb17e5d927"
      },
      "source": [
        "# S2.1: Calculate the average value of all the numbers in a Pandas series.\n",
        "weights.mean()"
      ],
      "execution_count": null,
      "outputs": [
        {
          "output_type": "execute_result",
          "data": {
            "text/plain": [
              "52.3"
            ]
          },
          "metadata": {},
          "execution_count": 8
        }
      ]
    },
    {
      "cell_type": "markdown",
      "metadata": {
        "id": "Xb62jTLtup7l"
      },
      "source": [
        "Thus, the mean value of `weights` series is approximately `54.567`. Similarly, you can also find the minimum and maximum values in a Pandas series using the `min()` and `max()` functions:"
      ]
    },
    {
      "cell_type": "code",
      "metadata": {
        "id": "MoGFFlFGzm5_",
        "colab": {
          "base_uri": "https://localhost:8080/"
        },
        "outputId": "77e7a1bc-5f19-4441-ee31-822829677d1e"
      },
      "source": [
        "# S2.2: Using the 'min()' and 'max()' functions, print the minimum and maximum values in the 'weights' Pandas series.\n",
        "print(weights.min())\n",
        "print(weights.max())"
      ],
      "execution_count": null,
      "outputs": [
        {
          "output_type": "stream",
          "name": "stdout",
          "text": [
            "45\n",
            "60\n"
          ]
        }
      ]
    },
    {
      "cell_type": "markdown",
      "metadata": {
        "id": "rtH3HOvsGvxG"
      },
      "source": [
        "Thus, the minimum and maximum values in `weights` series is 46 and 60 respectively."
      ]
    },
    {
      "cell_type": "markdown",
      "metadata": {
        "id": "1Aa8dT_nBg0U"
      },
      "source": [
        "---"
      ]
    },
    {
      "cell_type": "markdown",
      "metadata": {
        "id": "ppYm2Q9V3s2H"
      },
      "source": [
        "#### Task 3: The `head()` and `tail()` Functions\n",
        "\n",
        "Sometimes instead of looking at the full dataset, we just want to look at the first few rows or the last few rows of the dataset. In such cases, we can use the `head()` and `tail()` functions.\n",
        "\n",
        "The `head()` function shows the first five and the `tail()` function shows the last five items in a Pandas series.\n",
        "\n",
        "Let us apply `head()` and `tail()` functions on `weights` series."
      ]
    },
    {
      "cell_type": "code",
      "metadata": {
        "id": "C2mEBmQv1wmr",
        "colab": {
          "base_uri": "https://localhost:8080/"
        },
        "outputId": "f677b75f-2e62-4239-be91-51580c29cded"
      },
      "source": [
        "# S3.1: Print only the first 5 items in a Pandas series using the 'head()' function.\n",
        "weights.head()"
      ],
      "execution_count": null,
      "outputs": [
        {
          "output_type": "execute_result",
          "data": {
            "text/plain": [
              "0    60\n",
              "1    47\n",
              "2    49\n",
              "3    55\n",
              "4    50\n",
              "dtype: int64"
            ]
          },
          "metadata": {},
          "execution_count": 10
        }
      ]
    },
    {
      "cell_type": "markdown",
      "metadata": {
        "id": "8vHjxvBe4mDU"
      },
      "source": [
        "The numbers in the first column in the output are the indices of each item in the Pandas series. Since we print the first five items, the indices range from `0` to `4`."
      ]
    },
    {
      "cell_type": "code",
      "metadata": {
        "id": "4BZ0vDmy4kWQ",
        "colab": {
          "base_uri": "https://localhost:8080/"
        },
        "outputId": "d8891e6b-c03c-4c4b-e72e-7a4ecbc638b7"
      },
      "source": [
        "# S3.2: Using the 'tail()' function, print the last 5 items in the Pandas series.\n",
        "weights.tail()"
      ],
      "execution_count": null,
      "outputs": [
        {
          "output_type": "execute_result",
          "data": {
            "text/plain": [
              "25    46\n",
              "26    58\n",
              "27    47\n",
              "28    51\n",
              "29    59\n",
              "dtype: int64"
            ]
          },
          "metadata": {},
          "execution_count": 11
        }
      ]
    },
    {
      "cell_type": "markdown",
      "metadata": {
        "id": "-Z8RAfIr3wiO"
      },
      "source": [
        "Since we printed the last five items of the series, the indices range from `25` to `29`.\n",
        "\n",
        "Within the `head()` and `tail()` functions, you can specify the `n` number of first items and the `n` number of last items you wish to see in a Pandas series.\n",
        "\n",
        "Let us print the first 8 items of the `weights` series using `head()` function."
      ]
    },
    {
      "cell_type": "code",
      "metadata": {
        "id": "QX5A5rd23v01",
        "colab": {
          "base_uri": "https://localhost:8080/"
        },
        "outputId": "b111d722-7101-450b-d60c-42f6c645323a"
      },
      "source": [
        "# S3.3: Using the 'head()' function, print the first 8 items of the weights series.\n",
        "weights.head(8)"
      ],
      "execution_count": null,
      "outputs": [
        {
          "output_type": "execute_result",
          "data": {
            "text/plain": [
              "0    60\n",
              "1    47\n",
              "2    49\n",
              "3    55\n",
              "4    50\n",
              "5    49\n",
              "6    53\n",
              "7    52\n",
              "dtype: int64"
            ]
          },
          "metadata": {},
          "execution_count": 12
        }
      ]
    },
    {
      "cell_type": "markdown",
      "metadata": {
        "id": "NbmDxzYkIptO"
      },
      "source": [
        "Similarly, let us print the last 12 items of the `weights` series using `tail()` function."
      ]
    },
    {
      "cell_type": "code",
      "metadata": {
        "id": "jG3-LcqW4Xps",
        "colab": {
          "base_uri": "https://localhost:8080/"
        },
        "outputId": "362b9810-cdda-4138-f59f-34808b77987f"
      },
      "source": [
        "# S3.4: Using the 'tail()' function, print the last 12 items of the weights series.\n",
        "weights.tail(12)"
      ],
      "execution_count": null,
      "outputs": [
        {
          "output_type": "execute_result",
          "data": {
            "text/plain": [
              "18    48\n",
              "19    56\n",
              "20    45\n",
              "21    54\n",
              "22    46\n",
              "23    55\n",
              "24    60\n",
              "25    46\n",
              "26    58\n",
              "27    47\n",
              "28    51\n",
              "29    59\n",
              "dtype: int64"
            ]
          },
          "metadata": {},
          "execution_count": 13
        }
      ]
    },
    {
      "cell_type": "markdown",
      "metadata": {
        "id": "36VLFXO3I-Hl"
      },
      "source": [
        "Thus, we can view a small sample of a series using pandas `head()` and `tail()` functions."
      ]
    },
    {
      "cell_type": "markdown",
      "metadata": {
        "id": "Rme5LFfDBjBl"
      },
      "source": [
        "---"
      ]
    },
    {
      "cell_type": "markdown",
      "metadata": {
        "id": "R-YHECv8272g"
      },
      "source": [
        "#### Task 4: Indexing A Pandas Series\n",
        "\n",
        "Indexing a Pandas series is the same as indexing a Python list or a NumPy array. \n",
        "\n",
        "Let's say we want to get the weights of the students whose indices range from `13` to `21`, then you can write the variable storing the Pandas series followed by the square brackets `[]`. Inside the square brackets, you can mention the range of items you wish to retrieve from a series.\n",
        "\n",
        "**Syntax:** `pandas_series[start_index:end_index]`\n",
        "\n",
        "For example, to print the weights of the students whose indices range from `13` to `21`, the `start_index` would be `13` and `end_index` would be the next number after `21` i.e. `22`. Let us print these weights."
      ]
    },
    {
      "cell_type": "code",
      "metadata": {
        "id": "phhN5YRc3k3b",
        "colab": {
          "base_uri": "https://localhost:8080/"
        },
        "outputId": "43c72296-1529-46d2-8090-eea0bd3d9e4a"
      },
      "source": [
        "# S4.1: Retrieve items from a Pandas series using the indexing method.\n",
        "weights[13:22]"
      ],
      "execution_count": null,
      "outputs": [
        {
          "output_type": "execute_result",
          "data": {
            "text/plain": [
              "13    60\n",
              "14    46\n",
              "15    51\n",
              "16    48\n",
              "17    52\n",
              "18    48\n",
              "19    56\n",
              "20    45\n",
              "21    54\n",
              "dtype: int64"
            ]
          },
          "metadata": {},
          "execution_count": 15
        }
      ]
    },
    {
      "cell_type": "code",
      "metadata": {
        "id": "OkuDG88ICFF8",
        "colab": {
          "base_uri": "https://localhost:8080/"
        },
        "outputId": "4e2b9750-a278-4246-ee7e-dfa7545cf785"
      },
      "source": [
        "# S4.2: Print the items ranging from indices 17 to 27.\n",
        "weights[17:28]"
      ],
      "execution_count": null,
      "outputs": [
        {
          "output_type": "execute_result",
          "data": {
            "text/plain": [
              "17    52\n",
              "18    48\n",
              "19    56\n",
              "20    45\n",
              "21    54\n",
              "22    46\n",
              "23    55\n",
              "24    60\n",
              "25    46\n",
              "26    58\n",
              "27    47\n",
              "dtype: int64"
            ]
          },
          "metadata": {},
          "execution_count": 16
        }
      ]
    },
    {
      "cell_type": "markdown",
      "metadata": {
        "id": "JNWu5EOFKGRt"
      },
      "source": [
        "Hence, we can select particular rows and columns of data from a series using indexing method."
      ]
    },
    {
      "cell_type": "markdown",
      "metadata": {
        "id": "KyUdbTFud0V0"
      },
      "source": [
        "---"
      ]
    },
    {
      "cell_type": "markdown",
      "metadata": {
        "id": "kWIw-52mGY_O"
      },
      "source": [
        "#### Task 5: The `mode()` Function\n",
        "\n",
        "Let's say you want to find out the weights of the most number of students in your class, then you can use the `mode()` function."
      ]
    },
    {
      "cell_type": "code",
      "metadata": {
        "id": "usuCFOT5DnI0",
        "colab": {
          "base_uri": "https://localhost:8080/"
        },
        "outputId": "3e3b9305-8aa7-41a0-e197-e9a593a511ff"
      },
      "source": [
        "# S5.1: Compute the modal value in the 'weight' series.\n",
        "weights.mode()"
      ],
      "execution_count": null,
      "outputs": [
        {
          "output_type": "execute_result",
          "data": {
            "text/plain": [
              "0    46\n",
              "1    55\n",
              "2    60\n",
              "dtype: int64"
            ]
          },
          "metadata": {},
          "execution_count": 17
        }
      ]
    },
    {
      "cell_type": "markdown",
      "metadata": {
        "id": "a4lTVCuwIkC2"
      },
      "source": [
        "**Note**: A dataset can have more than one modal value. \n"
      ]
    },
    {
      "cell_type": "markdown",
      "metadata": {
        "id": "8wRQOfR7Bmqr"
      },
      "source": [
        "---"
      ]
    },
    {
      "cell_type": "markdown",
      "metadata": {
        "id": "FHZ9M6342j2M"
      },
      "source": [
        "#### Task 6: The `sort_values()` Function\n",
        "\n",
        "We can use the `sort_values()` function to arrange the numbers in a Pandas series either in an ascending order or in descending order.\n",
        "\n",
        "To arrange the numbers in a Pandas series in increasing order, use the `sort_values()` function with the `ascending=True` as an input."
      ]
    },
    {
      "cell_type": "code",
      "metadata": {
        "id": "Ahm8KCSm243J",
        "colab": {
          "base_uri": "https://localhost:8080/"
        },
        "outputId": "e10a6d2f-1137-4fb7-b078-7c211b877c2d"
      },
      "source": [
        "# S6.1: Arrange the weights in the increasing order using the 'sort_values()' function.\n",
        "weights.sort_values(ascending=True)"
      ],
      "execution_count": null,
      "outputs": [
        {
          "output_type": "execute_result",
          "data": {
            "text/plain": [
              "20    45\n",
              "14    46\n",
              "22    46\n",
              "25    46\n",
              "1     47\n",
              "27    47\n",
              "18    48\n",
              "16    48\n",
              "5     49\n",
              "2     49\n",
              "4     50\n",
              "10    50\n",
              "15    51\n",
              "28    51\n",
              "17    52\n",
              "7     52\n",
              "11    53\n",
              "6     53\n",
              "21    54\n",
              "3     55\n",
              "8     55\n",
              "23    55\n",
              "9     56\n",
              "19    56\n",
              "26    58\n",
              "12    58\n",
              "29    59\n",
              "13    60\n",
              "24    60\n",
              "0     60\n",
              "dtype: int64"
            ]
          },
          "metadata": {},
          "execution_count": 19
        }
      ]
    },
    {
      "cell_type": "markdown",
      "metadata": {
        "id": "HvuYmLY01NRE"
      },
      "source": [
        "To arrange the numbers in a Pandas series in the decreasing order, use the `sort_values()` function with the `ascending=False` as an input."
      ]
    },
    {
      "cell_type": "code",
      "metadata": {
        "id": "58zrrGp03MPr",
        "colab": {
          "base_uri": "https://localhost:8080/"
        },
        "outputId": "3751f133-b03f-4e6f-df3a-f6ecc5aec916"
      },
      "source": [
        "# Student Action: Using the 'sort_values()' function, arrange the weights in the decreasing order.\n",
        "weights.sort_values(ascending=False)"
      ],
      "execution_count": null,
      "outputs": [
        {
          "output_type": "execute_result",
          "data": {
            "text/plain": [
              "0     60\n",
              "24    60\n",
              "13    60\n",
              "29    59\n",
              "12    58\n",
              "26    58\n",
              "19    56\n",
              "9     56\n",
              "23    55\n",
              "8     55\n",
              "3     55\n",
              "21    54\n",
              "6     53\n",
              "11    53\n",
              "7     52\n",
              "17    52\n",
              "28    51\n",
              "15    51\n",
              "10    50\n",
              "4     50\n",
              "2     49\n",
              "5     49\n",
              "16    48\n",
              "18    48\n",
              "27    47\n",
              "1     47\n",
              "25    46\n",
              "22    46\n",
              "14    46\n",
              "20    45\n",
              "dtype: int64"
            ]
          },
          "metadata": {},
          "execution_count": 20
        }
      ]
    },
    {
      "cell_type": "markdown",
      "metadata": {
        "id": "ZK1Iu7vKJwtE"
      },
      "source": [
        "**Note:** The `sort_values()` function does not have any separate attribute like `descending = True` for arranging numbers in descending order. Use `ascending = False` only for descending order."
      ]
    },
    {
      "cell_type": "markdown",
      "metadata": {
        "id": "f_gvj2iuBojX"
      },
      "source": [
        "---"
      ]
    },
    {
      "cell_type": "markdown",
      "metadata": {
        "id": "JzMxsDyM1xjF"
      },
      "source": [
        "#### Task 7: The `median()` Function\n",
        "\n",
        "To find the median value in a Pandas series, we can simply use the `median()` function.\n"
      ]
    },
    {
      "cell_type": "code",
      "metadata": {
        "id": "7ow8yIRJIVkH",
        "colab": {
          "base_uri": "https://localhost:8080/"
        },
        "outputId": "1a834adc-6e50-45eb-f5e4-c0e82ff67ae1"
      },
      "source": [
        "# S7.1: Using the 'median()' function, find the median weight in the weights series.\n",
        "weights.median()"
      ],
      "execution_count": null,
      "outputs": [
        {
          "output_type": "execute_result",
          "data": {
            "text/plain": [
              "52.0"
            ]
          },
          "metadata": {},
          "execution_count": 21
        }
      ]
    },
    {
      "cell_type": "markdown",
      "metadata": {
        "id": "ZIOsjoUMKdCE"
      },
      "source": [
        "Thus, the median value of `weights` series is `55.5`."
      ]
    },
    {
      "cell_type": "markdown",
      "metadata": {
        "id": "miV_5-BUBqgo"
      },
      "source": [
        "---"
      ]
    },
    {
      "cell_type": "markdown",
      "metadata": {
        "id": "OzwfreqNImoh"
      },
      "source": [
        "#### Task 8: The `value_counts()` Function\n",
        "\n",
        "To count the number of occurrences of an item in a Pandas series, you can use the `value_counts()` function:"
      ]
    },
    {
      "cell_type": "code",
      "metadata": {
        "id": "oXpzD6kCIrFc",
        "colab": {
          "base_uri": "https://localhost:8080/"
        },
        "outputId": "0f136996-9603-4168-8565-16ce126f25ba"
      },
      "source": [
        "# S8.1: Count the number of times each item in the 'weights' Pandas series occurs.\n",
        "weights.value_counts()"
      ],
      "execution_count": null,
      "outputs": [
        {
          "output_type": "execute_result",
          "data": {
            "text/plain": [
              "60    3\n",
              "55    3\n",
              "46    3\n",
              "58    2\n",
              "56    2\n",
              "53    2\n",
              "52    2\n",
              "51    2\n",
              "50    2\n",
              "49    2\n",
              "48    2\n",
              "47    2\n",
              "59    1\n",
              "54    1\n",
              "45    1\n",
              "dtype: int64"
            ]
          },
          "metadata": {},
          "execution_count": 22
        }
      ]
    },
    {
      "cell_type": "markdown",
      "metadata": {
        "id": "sm6gnHKkJFTw"
      },
      "source": [
        "**Note:** The `value_counts()` function is not available for Python lists and NumPy arrays.\n",
        "\n",
        "There is more to the Pandas series. We will learn it in detail along with Pandas DataFrames from the next class onwards. This is just an introductory class to Pandas."
      ]
    },
    {
      "cell_type": "markdown",
      "metadata": {
        "id": "fxkchvyXiCdB"
      },
      "source": [
        "---"
      ]
    },
    {
      "cell_type": "markdown",
      "metadata": {
        "id": "5EwMI1JpiEDr"
      },
      "source": [
        "#### Python List vs NumPy Array vs Pandas Series\n",
        "\n",
        "You might now wonder when to use a Python list, a NumPy array, and a Pandas series?\n",
        "\n",
        "There are no hard rules to decide when to use which one of these data structures but as a guide you may consider the following:\n",
        "\n",
        "1. When you just want to store data, retrieve data, and add more data, use a Python list.\n",
        "\n",
        "2. When you want to store numerical data (one-dimensional or multidimensional) and want to perform a lot of mathematical operations, then use a NumPy array as it faster than a Python list and it is easy to create a multidimensional array using a NumPy array.\n",
        "\n",
        "3. When you want to import data from an external file such as `TXT, XLXS, CSV, XML`, etc. then use a Pandas series. In the next class, you will learn how to import data from an external file. Additionally, Pandas allow you to interpret data in different ways. It also allows you to do complicated data extraction, manipulation, and data processing operations on a dataset. Throughout this course, we will use the Pandas library to handle data."
      ]
    },
    {
      "cell_type": "markdown",
      "metadata": {
        "id": "beimGUcBsjx2"
      },
      "source": [
        "We will stop here. In the next class, we will learn about Pandas DataFrame which is a collection of Pandas series."
      ]
    },
    {
      "cell_type": "markdown",
      "metadata": {
        "id": "g1bVOdOWJSav"
      },
      "source": [
        "---"
      ]
    }
  ]
}