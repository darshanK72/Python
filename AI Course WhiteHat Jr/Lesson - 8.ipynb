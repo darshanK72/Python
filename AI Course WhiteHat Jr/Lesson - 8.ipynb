{
  "nbformat": 4,
  "nbformat_minor": 0,
  "metadata": {
    "colab": {
      "name": "Copy of Lesson 8 - Python Lists II - Class Copy.ipynb",
      "provenance": [],
      "collapsed_sections": []
    },
    "kernelspec": {
      "name": "python3",
      "display_name": "Python 3"
    }
  },
  "cells": [
    {
      "cell_type": "markdown",
      "metadata": {
        "id": "ywVdfNdkVjZo"
      },
      "source": [
        "# Lesson 8 - Python Lists II"
      ]
    },
    {
      "cell_type": "markdown",
      "metadata": {
        "id": "an4cBciPWpBE"
      },
      "source": [
        "---"
      ]
    },
    {
      "cell_type": "markdown",
      "metadata": {
        "id": "7LlG_PPFjJUz"
      },
      "source": [
        "### Teacher-Student Tasks\n",
        "\n",
        "\n",
        "In the previous class, we learned that each value in a list is generally referred to as an **item** or an **element**. \n",
        "<center>\n",
        "<img src=\"https://curriculum.whitehatjr.com/APT+Asset/APT+C3+images/valid_entries2.PNG\"/>\n",
        "</center>\n",
        "\n",
        "We also created a Python list that stores the names of the countries that won the FIFA world cup from `1982` till `2018`. \n",
        "\n",
        "|Year|Winner|\n",
        "|-|-|\n",
        "|1982|Italy|\n",
        "|1986|Argentina|\n",
        "|1990|Germany|\n",
        "|1994|Brazil|\n",
        "|1998|France|\n",
        "|2002|Brazil|\n",
        "|2006|Italy|\n",
        "|2010|Spain|\n",
        "|2014|Germany|\n",
        "|2018|France|\n",
        "\n",
        "We stored the list in the `fifa_wc_winners` variable.\n",
        "\n",
        "<img src=\"https://curriculum.whitehatjr.com/APT+Asset/APT+C4+images/list.png\"/>"
      ]
    },
    {
      "cell_type": "code",
      "metadata": {
        "id": "ne1JkZ_UxuTC",
        "colab": {
          "base_uri": "https://localhost:8080/"
        },
        "outputId": "c6282ccc-acf8-4c4b-8c0a-73075b7f737f"
      },
      "source": [
        "# Run the code below to activate the Python list containing all the winners of FIFA world cup from 1982 to 2018.\n",
        "fifa_wc_winners = ['Italy', 'Argentina', 'Germany', 'Brazil', 'France', 'Brazil', 'Italy', 'Spain', 'Germany', 'France']\n",
        "fifa_wc_winners"
      ],
      "execution_count": null,
      "outputs": [
        {
          "output_type": "execute_result",
          "data": {
            "text/plain": [
              "['Italy',\n",
              " 'Argentina',\n",
              " 'Germany',\n",
              " 'Brazil',\n",
              " 'France',\n",
              " 'Brazil',\n",
              " 'Italy',\n",
              " 'Spain',\n",
              " 'Germany',\n",
              " 'France']"
            ]
          },
          "metadata": {},
          "execution_count": 1
        }
      ]
    },
    {
      "cell_type": "markdown",
      "metadata": {
        "id": "2AKgPtU2x1y2"
      },
      "source": [
        "\n",
        "\n",
        "In today's class, we will learn more about Python lists.\n",
        "\n",
        "We will also re-create the count-based algorithm we created in the previous class using the Python lists concepts. \n",
        "\n",
        "\n"
      ]
    },
    {
      "cell_type": "markdown",
      "metadata": {
        "id": "A9DUkIzL8p6S"
      },
      "source": [
        "---"
      ]
    },
    {
      "cell_type": "markdown",
      "metadata": {
        "id": "ulZE26jaMU3P"
      },
      "source": [
        "#### Task 1: The `count()` Function\n",
        "\n",
        "The  `count()` function is used to count the number of times an element appears in the list.\n",
        "\n",
        " \n",
        "\n",
        "Recall the `update_counts()` function that we created in one of our previous class for our Mind Reader game: \n",
        "\n",
        "(*Learned in the lesson: Python Functions*)\n",
        "\n",
        "\n",
        "\n",
        "```python\n",
        "def update_counts(player_input):\n",
        "  global count_zero, count_one\n",
        "  if player_input == 0:\n",
        "    count_zero = count_zero + 1\n",
        "  else:\n",
        "    count_one = count_one + 1\n",
        "```\n",
        "\n",
        "In another version of the Mind Reader game, we are going to perform the following task:\n",
        "1. Record the player inputs in a Python list. \n",
        "2. Count the number of times a player played `0` and `1` using the  readymade `count()` function of Python lists.\n",
        "\n",
        "This will eliminate the need for the `update_counts()` function.\n",
        "\n",
        "To use the `count()` function, you first need to write the list, then the  dot (`.`) operator and lastly the `count()` function. Enter the item as an input to the `count()` function whose occurrence you wish to count.\n",
        "\n",
        "**Syntax:** `list_name.count(item)`\n",
        "\n",
        "Let's find out the number of times `'France'` and `'Brazil'` has won the world cup(s) between the years `1982` and `2018`:"
      ]
    },
    {
      "cell_type": "code",
      "metadata": {
        "id": "0HLcxrAxPBwa",
        "colab": {
          "base_uri": "https://localhost:8080/"
        },
        "outputId": "07a28f7a-c56f-41b5-cf11-63dab73535a0"
      },
      "source": [
        "# S1.1: Count the number of times 'France' has won the world cup between the years 1982 and 2018.\n",
        "fifa_wc_winners.count(\"France\")"
      ],
      "execution_count": null,
      "outputs": [
        {
          "output_type": "execute_result",
          "data": {
            "text/plain": [
              "2"
            ]
          },
          "metadata": {},
          "execution_count": 2
        }
      ]
    },
    {
      "cell_type": "markdown",
      "metadata": {
        "id": "hwKc18slPPxC"
      },
      "source": [
        "So, `'France'` has won the world cup twice. Let's check for `'Brazil'`:"
      ]
    },
    {
      "cell_type": "code",
      "metadata": {
        "id": "_dHF77d8PWDU",
        "colab": {
          "base_uri": "https://localhost:8080/"
        },
        "outputId": "cc2f4870-225d-462b-b7b4-c4cf23f8bf93"
      },
      "source": [
        "# S1.2: Count the number of times 'Brazil' has won the world cup between the years 1982 and 2018.\n",
        "fifa_wc_winners.count(\"Brazil\")"
      ],
      "execution_count": null,
      "outputs": [
        {
          "output_type": "execute_result",
          "data": {
            "text/plain": [
              "2"
            ]
          },
          "metadata": {},
          "execution_count": 3
        }
      ]
    },
    {
      "cell_type": "markdown",
      "metadata": {
        "id": "vIlGRLvlPbsN"
      },
      "source": [
        "And, `'Brazil'` has also won the world cup twice between the years `1982` and `2018`."
      ]
    },
    {
      "cell_type": "markdown",
      "metadata": {
        "id": "im74znVg_zWA"
      },
      "source": [
        "---"
      ]
    },
    {
      "cell_type": "markdown",
      "metadata": {
        "id": "xCBbVdNS4EC-"
      },
      "source": [
        "#### Task 2: An Empty List\n",
        "\n",
        "An empty list is a list with no elements.\n",
        "\n",
        "\n",
        "Let's create a list that will record the player inputs. Let's store it in a variable with the name `player_inputs_list`. \n",
        "\n",
        "Before the beginning of the game, the list will be empty. That means, it will NOT contain any player input. So, let's create an empty list and store it in the `player_inputs_list` variable.\n",
        "\n",
        "\n"
      ]
    },
    {
      "cell_type": "code",
      "metadata": {
        "id": "WS1e7xBHAN4S"
      },
      "source": [
        "# S2.1: Create an empty list and store in a variable with name 'player_inputs_list'.\n",
        "player_inputs_list = []"
      ],
      "execution_count": null,
      "outputs": []
    },
    {
      "cell_type": "markdown",
      "metadata": {
        "id": "-gD3Yb0RAz6T"
      },
      "source": [
        "As you can see, we have created an empty list."
      ]
    },
    {
      "cell_type": "markdown",
      "metadata": {
        "id": "OHP5X39HA47W"
      },
      "source": [
        "---"
      ]
    },
    {
      "cell_type": "markdown",
      "metadata": {
        "id": "hhSZVe9aA5j2"
      },
      "source": [
        "#### Task 3: The `append()` Function\n",
        "\n",
        "To add an item to a Python list, you can use the `append()` function. A new item always gets added at the right-most end of a list.\n",
        "\n",
        "\n",
        "To use the `append()` function, you first need to write the list, then the dot (`.`) operator and lastly the `append()` function. Enter the item as an input to the `append()` function which you need to add to a list.\n",
        "\n",
        "**Syntax:** `list_name.append(item)`\n",
        "\n",
        "\n",
        "\n",
        "Suppose a player plays `0, 0, 1, 0, 1` for the first five attempts. Let's add these inputs to the list stored in the `player_inputs_list` variable:"
      ]
    },
    {
      "cell_type": "code",
      "metadata": {
        "id": "2XfXqu4OB--r",
        "colab": {
          "base_uri": "https://localhost:8080/"
        },
        "outputId": "60716613-226a-477e-e592-fcff339445c6"
      },
      "source": [
        "# S3.1: Using the 'append()' function, add the items 0, 0, 1, 0, and 1 to the list stored in the 'player_inputs_list' variable.\n",
        "# Print the updated list after adding each item to the 'player_inputs_list'.\n",
        "player_inputs_list.append(0)\n",
        "player_inputs_list.append(0)\n",
        "player_inputs_list.append(1)\n",
        "print(player_inputs_list)"
      ],
      "execution_count": null,
      "outputs": [
        {
          "output_type": "stream",
          "name": "stdout",
          "text": [
            "[0, 1, 0, 0, 0, 1]\n"
          ]
        }
      ]
    },
    {
      "cell_type": "markdown",
      "metadata": {
        "id": "-bBBRCNCGuoj"
      },
      "source": [
        "As you can see, a new item gets added at the right-most end of the list. Let's count the number of times `0` and `1` appear in the `player_inputs_list` using the `count()` function:"
      ]
    },
    {
      "cell_type": "code",
      "metadata": {
        "id": "x__YLMdTK3Wy",
        "colab": {
          "base_uri": "https://localhost:8080/"
        },
        "outputId": "c5dd8c3a-db6f-48ae-af6f-a4a2a50006fa"
      },
      "source": [
        "# S3.2: Count the number of times 0 and 1 appear in the 'player_inputs_list'.\n",
        "print(player_inputs_list.count(0))\n",
        "print(player_inputs_list.count(1))"
      ],
      "execution_count": null,
      "outputs": [
        {
          "output_type": "stream",
          "name": "stdout",
          "text": [
            "4\n",
            "2\n"
          ]
        }
      ]
    },
    {
      "cell_type": "markdown",
      "metadata": {
        "id": "8Sl-Ae7JLHdH"
      },
      "source": [
        "So, `0` appears thrice and `1` appears twice in the `players_inputs_list`."
      ]
    },
    {
      "cell_type": "markdown",
      "metadata": {
        "id": "GkQYzaCI4DGs"
      },
      "source": [
        "---"
      ]
    },
    {
      "cell_type": "markdown",
      "metadata": {
        "id": "0LuQTtRnSAWj"
      },
      "source": [
        "#### Task 4: The Revised `prediction()` Function\n",
        "\n",
        "Recall the `prediction()` function that we created in one of the previous class  (*Learned in the lesson: Python Functions*):\n",
        "\n",
        "\n",
        "```python\n",
        "def prediction():\n",
        "  if count_zero > count_one:\n",
        "    predict = 0\n",
        "  elif count_one > count_zero:\n",
        "    predict = 1\n",
        "  else:\n",
        "    predict = random.randint(0, 1)\n",
        "  \n",
        "  return predict\n",
        "```\n",
        "Now, using the knowledge of Python lists, let's re-define the above`prediction()` function.\n",
        "\n",
        "Inside this function: \n",
        "\n",
        "1. Create two variables `count_zero` and `count_one` to store the number of times a player has entered `0` and `1` respectively. \n",
        "\n",
        "2. Using the `count()` function, count the number of times a player has entered `0` and `1`. \n",
        "```\n",
        "player_inputs_list.count(0)  \n",
        "player_inputs_list.count(1) \n",
        "```\n",
        "\n",
        "  Then store them in the `count_zero` and `count_one` variables.\n",
        "3. Compare the values of the `count_zero` and `count_one` variables:\n",
        "    - If `count_zero > count_one`, the `prediction()` function should return `0` as\n",
        "the prediction.\n",
        "\n",
        "  - Else if `count_one > count_zero`, the `prediction()` function should return `1` as the prediction.\n",
        "\n",
        "  - Else the `prediction()` function should return either `0` or `1` randomly as the prediction."
      ]
    },
    {
      "cell_type": "code",
      "metadata": {
        "id": "HkzbxzQlJZDf"
      },
      "source": [
        "# S4.1: Recreate the 'prediction()' function using Python lists.\n",
        "import random\n",
        "def prediction():\n",
        "  count_zero = player_inputs_list.count(0)\n",
        "  count_one = player_inputs_list.count(1)\n",
        "  if count_zero > count_one:\n",
        "    predict = 0\n",
        "  elif count_one > count_zero:\n",
        "    predict = 1\n",
        "  else:\n",
        "    predict = random.randint(0, 1)\n",
        "\n",
        "  return predict\n"
      ],
      "execution_count": null,
      "outputs": []
    },
    {
      "cell_type": "markdown",
      "metadata": {
        "id": "TJlpjVZnBeGl"
      },
      "source": [
        "Now that we have redefined the `prediction()` function by using Python lists, let us now modify the `gameplay()` function as well."
      ]
    },
    {
      "cell_type": "markdown",
      "metadata": {
        "id": "FGSjeSTEVq-1"
      },
      "source": [
        "---"
      ]
    },
    {
      "cell_type": "markdown",
      "metadata": {
        "id": "_9jUqOBlMAQC"
      },
      "source": [
        "#### Task 5: Count Based Mind Reader Game Algorithm Using Python Lists\n",
        "\n",
        "Now, let's run the Mind Reader game with the new `prediction()` function which uses a Python list stored in the `player_inputs_list` variable.\n",
        "\n",
        "Also, there is a slight change in the `gameplay()` function. After getting the `predicted` value from the `prediction()` function, we will add the current `player_input` value to the `player_inputs_list` using the `append()` function.\n",
        "\n",
        "<img src=\"https://curriculum.whitehatjr.com/APT+Asset/C5+images/gameplay_new.png\"/>\n",
        "\n"
      ]
    },
    {
      "cell_type": "code",
      "metadata": {
        "id": "dhWD_3x011uH",
        "colab": {
          "base_uri": "https://localhost:8080/"
        },
        "outputId": "b33d0c7c-d4ee-441d-d763-96b922adc175"
      },
      "source": [
        "# S5.1: Use the revised 'prediction()' function to create the count-based Mind Reader game algorithm.\n",
        "# Import the random module\n",
        "\n",
        "import random\n",
        "# Create an empty list and store it in the 'player_inputs_list' variable.\n",
        "player_input_list = []\n",
        "\n",
        "# Create the 'player_score' and 'computer_score' variables. Set their initial values equal to 0.\n",
        "player_score = 0\n",
        "computer_score = 0\n",
        "\n",
        "# Declare the 'prediction()' function here.\n",
        "def prediction():\n",
        "  count_zero = player_inputs_list.count(0)\n",
        "  count_one = player_inputs_list.count(1)\n",
        "  if count_zero > count_one:\n",
        "    predict = 0\n",
        "  elif count_one > count_zero:\n",
        "    predict = 1\n",
        "  else:\n",
        "    predict = random.randint(0, 1)\n",
        "\n",
        "  return predict\n",
        "\n",
        "\n",
        "\n",
        "# Declare the 'update_scores()' function here.\n",
        "def update_scores(predicted,player_input):\n",
        "  global player_score,computer_score\n",
        "  if player_input == predicted:\n",
        "    computer_score += 1\n",
        "  else:\n",
        "    player_score += 1\n",
        "  print(\"Computer Score : \",computer_score)\n",
        "  print(\"Player Score : \",player_score)\n",
        "\n",
        "\n",
        "\n",
        "# Declare the 'gameplay()' function here.\n",
        "def gameplay():\n",
        "  valid_entries = ['0','1']\n",
        "  while True:\n",
        "    player_input = input(\"Enter 0 or 1\")\n",
        "    # Convert the player_input value to an integer.\n",
        "    while player_input not in valid_entries:\n",
        "      print(\"Invalid Entry\")\n",
        "      player_input = input(\"Enter 0 or 1\")\n",
        "    \n",
        "    predicted = prediction()\n",
        "    player_input = int(player_input)\n",
        "    # Add the current player input to the 'player_inputs_list'.\n",
        "    player_inputs_list.append(player_input)\n",
        "\n",
        "    update_scores(predicted,player_input)\n",
        "\n",
        "    # Update the scores using the 'update_scores()' function.\n",
        "    if player_score == 10:\n",
        "      print(\"You Won!\")\n",
        "      break;\n",
        "    elif computer_score == 10:\n",
        "      print(\"You lost!\")\n",
        "      break;\n",
        "\n",
        "    \n",
        "\n",
        "# Call the 'gameplay()' function here.\n",
        "gameplay()"
      ],
      "execution_count": null,
      "outputs": [
        {
          "output_type": "stream",
          "name": "stdout",
          "text": [
            "Enter 0 or 11\n",
            "Computer Score :  1\n",
            "Player Score :  0\n",
            "Enter 0 or 11\n",
            "Computer Score :  2\n",
            "Player Score :  0\n",
            "Enter 0 or 10\n",
            "Computer Score :  2\n",
            "Player Score :  1\n",
            "Enter 0 or 10\n",
            "Computer Score :  2\n",
            "Player Score :  2\n",
            "Enter 0 or 10\n",
            "Computer Score :  3\n",
            "Player Score :  2\n",
            "Enter 0 or 10\n",
            "Computer Score :  4\n",
            "Player Score :  2\n",
            "Enter 0 or 11\n",
            "Computer Score :  4\n",
            "Player Score :  3\n",
            "Enter 0 or 16\n",
            "Invalid Entry\n",
            "Enter 0 or 11\n",
            "Computer Score :  4\n",
            "Player Score :  4\n",
            "Enter 0 or 11\n",
            "Computer Score :  4\n",
            "Player Score :  5\n",
            "Enter 0 or 11\n",
            "Computer Score :  5\n",
            "Player Score :  5\n",
            "Enter 0 or 11\n",
            "Computer Score :  6\n",
            "Player Score :  5\n",
            "Enter 0 or 11\n",
            "Computer Score :  7\n",
            "Player Score :  5\n",
            "Enter 0 or 10\n",
            "Computer Score :  7\n",
            "Player Score :  6\n",
            "Enter 0 or 10\n",
            "Computer Score :  7\n",
            "Player Score :  7\n",
            "Enter 0 or 11\n",
            "Computer Score :  8\n",
            "Player Score :  7\n",
            "Enter 0 or 11\n",
            "Computer Score :  9\n",
            "Player Score :  7\n",
            "Enter 0 or 11\n",
            "Computer Score :  10\n",
            "Player Score :  7\n",
            "You lost!\n"
          ]
        }
      ]
    },
    {
      "cell_type": "markdown",
      "metadata": {
        "id": "E_xx932hSYn9"
      },
      "source": [
        "At the end of the game, if you want to look at the player inputs, then you can print the `player_inputs_list`:"
      ]
    },
    {
      "cell_type": "code",
      "metadata": {
        "id": "fTclQOhWSYMs",
        "colab": {
          "base_uri": "https://localhost:8080/"
        },
        "outputId": "047fd78b-ac6c-47ac-e22f-35768c4a0e57"
      },
      "source": [
        "# S5.2: Print the 'player_inputs_list'.\n",
        "print(player_input_list)"
      ],
      "execution_count": null,
      "outputs": [
        {
          "output_type": "stream",
          "name": "stdout",
          "text": [
            "[]\n"
          ]
        }
      ]
    },
    {
      "cell_type": "markdown",
      "metadata": {
        "id": "7N6-lK2UDf2j"
      },
      "source": [
        "Thus, we modified the `prediction()` and `gameplay()` function using a Python list."
      ]
    },
    {
      "cell_type": "markdown",
      "metadata": {
        "id": "K9lJqak6SztT"
      },
      "source": [
        "We will stop here. \n",
        "\n",
        "In this class, we created a count-based Mind Reader game algorithm by using the concept of a Python list. In this process, we also learned some basics of Python lists and how the in-built `count()` function of Python lists can eradicate the need for user defined `update_counts()` function.\n",
        "\n",
        "\n",
        "In the next class, we will continue learning more concepts of Python lists."
      ]
    },
    {
      "cell_type": "markdown",
      "metadata": {
        "id": "mH4-6NfgSxyW"
      },
      "source": [
        "---"
      ]
    },
    {
      "cell_type": "code",
      "metadata": {
        "colab": {
          "base_uri": "https://localhost:8080/"
        },
        "id": "bWz7h3vnIc3D",
        "outputId": "14f989b0-59b3-42c0-9263-587a44a0be7d"
      },
      "source": [
        "lst = [1,2,3,1,1,2,3,5,5,2,64,23,1]\n",
        "\n",
        "temp = []\n",
        "for ele in lst:\n",
        "  if ele not in temp:\n",
        "    temp.append(ele)\n",
        "print(temp)"
      ],
      "execution_count": null,
      "outputs": [
        {
          "output_type": "stream",
          "name": "stdout",
          "text": [
            "[1, 2, 3, 5, 64, 23]\n"
          ]
        }
      ]
    },
    {
      "cell_type": "code",
      "metadata": {
        "colab": {
          "base_uri": "https://localhost:8080/"
        },
        "id": "afsTNfiHI1Bo",
        "outputId": "012d61f2-4b04-457d-94c3-a38da3da6100"
      },
      "source": [
        "def find_max(lst):\n",
        "  maxx = -1\n",
        "  for ele in lst:\n",
        "    if ele > maxx:\n",
        "      maxx = ele\n",
        "  return maxx\n",
        "\n",
        "find_max(lst)"
      ],
      "execution_count": null,
      "outputs": [
        {
          "output_type": "execute_result",
          "data": {
            "text/plain": [
              "64"
            ]
          },
          "metadata": {},
          "execution_count": 20
        }
      ]
    },
    {
      "cell_type": "code",
      "metadata": {
        "colab": {
          "base_uri": "https://localhost:8080/"
        },
        "id": "g52SonsJJHVw",
        "outputId": "16a650a5-4eb3-48f4-b6d1-9669ff43a455"
      },
      "source": [
        "def find_sum(lst):\n",
        "  sum = 0\n",
        "  for ele in lst:\n",
        "    sum += ele\n",
        "  return sum\n",
        "\n",
        "find_sum(lst)"
      ],
      "execution_count": null,
      "outputs": [
        {
          "output_type": "execute_result",
          "data": {
            "text/plain": [
              "113"
            ]
          },
          "metadata": {},
          "execution_count": 21
        }
      ]
    },
    {
      "cell_type": "code",
      "metadata": {
        "colab": {
          "base_uri": "https://localhost:8080/"
        },
        "id": "wg-6yF-uJV33",
        "outputId": "2ecf72ab-39d5-40de-f060-7b32812718e8"
      },
      "source": [
        "lst1 = [1,2,3,4,5,6]\n",
        "lst2 = [11,88,7,9,0]\n",
        "\n",
        "def have_commen(lst1,lst2):\n",
        "  for ele1 in lst1:\n",
        "    for ele2 in lst2:\n",
        "      if ele1 == ele2:\n",
        "        return True\n",
        "  return False\n",
        "\n",
        "have_commen(lst1,lst2)"
      ],
      "execution_count": null,
      "outputs": [
        {
          "output_type": "execute_result",
          "data": {
            "text/plain": [
              "False"
            ]
          },
          "metadata": {},
          "execution_count": 23
        }
      ]
    },
    {
      "cell_type": "code",
      "metadata": {
        "colab": {
          "base_uri": "https://localhost:8080/"
        },
        "id": "RDi9cyc_KQ0C",
        "outputId": "48d8d5fd-5dc0-4de0-deb2-3c0f6c67463d"
      },
      "source": [
        "liist = [1,2,3,4,5,6,7]\n",
        "random.shuffle(liist)\n",
        "print(liist)"
      ],
      "execution_count": null,
      "outputs": [
        {
          "output_type": "stream",
          "name": "stdout",
          "text": [
            "[6, 5, 3, 4, 2, 1, 7]\n"
          ]
        }
      ]
    },
    {
      "cell_type": "code",
      "metadata": {
        "colab": {
          "base_uri": "https://localhost:8080/"
        },
        "id": "JN4wXAdaKotF",
        "outputId": "84ca5490-b1b1-48ab-d045-68ee18936c54"
      },
      "source": [
        "import itertools\n",
        "\n",
        "print(list(itertools.permutations([1,2,3])))"
      ],
      "execution_count": null,
      "outputs": [
        {
          "output_type": "stream",
          "name": "stdout",
          "text": [
            "[(1, 2, 3), (1, 3, 2), (2, 1, 3), (2, 3, 1), (3, 1, 2), (3, 2, 1)]\n"
          ]
        }
      ]
    },
    {
      "cell_type": "code",
      "metadata": {
        "id": "FRETar1YMDLc"
      },
      "source": [
        ""
      ],
      "execution_count": null,
      "outputs": []
    }
  ]
}