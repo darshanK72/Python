{
  "nbformat": 4,
  "nbformat_minor": 0,
  "metadata": {
    "colab": {
      "name": "Copy of Copy of Lesson 31 - String Operations I - Class Copy.ipynb",
      "provenance": [],
      "collapsed_sections": []
    },
    "kernelspec": {
      "name": "python3",
      "display_name": "Python 3"
    }
  },
  "cells": [
    {
      "cell_type": "markdown",
      "metadata": {
        "id": "ZmBmKJ7A93-o"
      },
      "source": [
        "# Lesson 31: String Operations I"
      ]
    },
    {
      "cell_type": "markdown",
      "metadata": {
        "id": "vatnmWbAh8pi"
      },
      "source": [
        "---"
      ]
    },
    {
      "cell_type": "markdown",
      "metadata": {
        "id": "I0cTgOwYT8s0"
      },
      "source": [
        "### Teacher-Student Tasks\n",
        "\n",
        "So far, we have been calling string a data type. But technically, in Python, a string is another data structure just like a list, a tuple, and a dictionary. Therefore, it means a string also stores data. Essentially, a string is an array containing some items. Any character (whether a letter, a number, or a special symbol like space, brackets, etc.) enclosed within double quotes (`\"\"`) or single quotes (`''`) is considered as a string. \n",
        "\n",
        "Since a string is a data structure, the following operations/functions applicable for lists and tuples are also applicable for strings:\n",
        "\n",
        "1. String Length\n",
        "\n",
        "2. String Indexing\n",
        "\n",
        "3. String Slicing\n",
        "\n",
        "4. Index of an Item\n",
        "\n",
        "5. String Concatenation\n",
        "\n",
        "6. The `enumerate()` Function\n",
        "\n",
        "7. The `count()` Function\n",
        "\n",
        "Let's first quickly apply the above operations/functions on strings and then learn some new concepts about them."
      ]
    },
    {
      "cell_type": "markdown",
      "metadata": {
        "id": "AxTo4CQPDPZb"
      },
      "source": [
        "---"
      ]
    },
    {
      "cell_type": "markdown",
      "metadata": {
        "id": "g5D1KJm0C5PH"
      },
      "source": [
        "#### Task 1: Common Data Structure Operations on Strings\n",
        "\n",
        "Here are the common operations or functions that can be applied to a data structure in Python.\n",
        "\n",
        "**1. String Length:** The number of items (or characters) contained in a string:"
      ]
    },
    {
      "cell_type": "code",
      "metadata": {
        "id": "uU_TcNO7TxQy",
        "colab": {
          "base_uri": "https://localhost:8080/"
        },
        "outputId": "4c2c1da4-eb97-42fd-92a3-9a4051822725"
      },
      "source": [
        "# S1.1: Create an alphanumeric string, preferably a short sentence. Also, find its length.\n",
        "s1 = 'Hello I am Darshan and my birth date is 7 Dec'\n",
        "len(s1)"
      ],
      "execution_count": null,
      "outputs": [
        {
          "output_type": "execute_result",
          "data": {
            "text/plain": [
              "45"
            ]
          },
          "metadata": {},
          "execution_count": 2
        }
      ]
    },
    {
      "cell_type": "markdown",
      "metadata": {
        "id": "u8WU1MYlFMZ9"
      },
      "source": [
        "**2. Indexing**: The positions occupied by the items or characters in a string.\n"
      ]
    },
    {
      "cell_type": "code",
      "metadata": {
        "id": "uYRMrXEaXe51",
        "colab": {
          "base_uri": "https://localhost:8080/"
        },
        "outputId": "ee38e249-2f6a-4190-abd7-f32c40962bba"
      },
      "source": [
        "# S1.2: Print every item (or character) of the above string using a loop and the indexing method. Also, print the indices.\n",
        "for c in s1:\n",
        "  print(c)"
      ],
      "execution_count": null,
      "outputs": [
        {
          "output_type": "stream",
          "name": "stdout",
          "text": [
            "H\n",
            "e\n",
            "l\n",
            "l\n",
            "o\n",
            " \n",
            "I\n",
            " \n",
            "a\n",
            "m\n",
            " \n",
            "D\n",
            "a\n",
            "r\n",
            "s\n",
            "h\n",
            "a\n",
            "n\n",
            " \n",
            "a\n",
            "n\n",
            "d\n",
            " \n",
            "m\n",
            "y\n",
            " \n",
            "b\n",
            "i\n",
            "r\n",
            "t\n",
            "h\n",
            " \n",
            "d\n",
            "a\n",
            "t\n",
            "e\n",
            " \n",
            "i\n",
            "s\n",
            " \n",
            "7\n",
            " \n",
            "D\n",
            "e\n",
            "c\n"
          ]
        }
      ]
    },
    {
      "cell_type": "markdown",
      "metadata": {
        "id": "DQVtMw0aGFiD"
      },
      "source": [
        "As you can see in the above output, even the spaces occupy an index because they are also a part of the string.\n",
        "\n",
        "Let us now print the items of the above string in the reverse order without using negative indexing. "
      ]
    },
    {
      "cell_type": "code",
      "metadata": {
        "id": "nxAGqzUTGRGu",
        "colab": {
          "base_uri": "https://localhost:8080/"
        },
        "outputId": "1f9310b7-8954-4106-90ca-fd456fd90f25"
      },
      "source": [
        "# Student Action: Print the items of the above string in the reverse order without using negative indexing. Also, print the indices.\n",
        "for i in range(44,-1,-1):\n",
        "  print(s1[i],end='')"
      ],
      "execution_count": null,
      "outputs": [
        {
          "output_type": "stream",
          "name": "stdout",
          "text": [
            "ceD 7 si etad htrib ym dna nahsraD ma I olleH"
          ]
        }
      ]
    },
    {
      "cell_type": "code",
      "metadata": {
        "id": "yNQHfLnZHmX_",
        "colab": {
          "base_uri": "https://localhost:8080/"
        },
        "outputId": "32fc64a2-1e6b-472e-d03c-7301c70eeb1f"
      },
      "source": [
        "# S1.3: Print the items of the above string using negative indexing. Also, print the indices.\n",
        "for i in range(-len(s1),0):\n",
        "  print(i,s1[i])"
      ],
      "execution_count": null,
      "outputs": [
        {
          "output_type": "stream",
          "name": "stdout",
          "text": [
            "-45 H\n",
            "-44 e\n",
            "-43 l\n",
            "-42 l\n",
            "-41 o\n",
            "-40  \n",
            "-39 I\n",
            "-38  \n",
            "-37 a\n",
            "-36 m\n",
            "-35  \n",
            "-34 D\n",
            "-33 a\n",
            "-32 r\n",
            "-31 s\n",
            "-30 h\n",
            "-29 a\n",
            "-28 n\n",
            "-27  \n",
            "-26 a\n",
            "-25 n\n",
            "-24 d\n",
            "-23  \n",
            "-22 m\n",
            "-21 y\n",
            "-20  \n",
            "-19 b\n",
            "-18 i\n",
            "-17 r\n",
            "-16 t\n",
            "-15 h\n",
            "-14  \n",
            "-13 d\n",
            "-12 a\n",
            "-11 t\n",
            "-10 e\n",
            "-9  \n",
            "-8 i\n",
            "-7 s\n",
            "-6  \n",
            "-5 7\n",
            "-4  \n",
            "-3 D\n",
            "-2 e\n",
            "-1 c\n"
          ]
        }
      ]
    },
    {
      "cell_type": "markdown",
      "metadata": {
        "id": "FJnZY6yTIh2e"
      },
      "source": [
        "**3. String Slicing:** A small part of string sliced out from the original string:"
      ]
    },
    {
      "cell_type": "code",
      "metadata": {
        "id": "_u4_5mr_IeLf",
        "colab": {
          "base_uri": "https://localhost:8080/",
          "height": 38
        },
        "outputId": "78ca0fe1-458c-4c91-ad41-6c1b331b8ae4"
      },
      "source": [
        "# S1.4: Get the first 5 characters (or items) of the above string.\n",
        "s1[:5]"
      ],
      "execution_count": null,
      "outputs": [
        {
          "output_type": "execute_result",
          "data": {
            "application/vnd.google.colaboratory.intrinsic+json": {
              "type": "string"
            },
            "text/plain": [
              "'Hello'"
            ]
          },
          "metadata": {},
          "execution_count": 10
        }
      ]
    },
    {
      "cell_type": "code",
      "metadata": {
        "id": "CXiH4PSFIzzE",
        "colab": {
          "base_uri": "https://localhost:8080/"
        },
        "outputId": "133cab29-2e3b-41a4-dab0-ff031f9b4ac7"
      },
      "source": [
        "# S1.5: Get the first 5 characters (or items) of the above string in the reverse order.\n",
        "s = s1[:5]\n",
        "print(s[::-1])\n"
      ],
      "execution_count": null,
      "outputs": [
        {
          "output_type": "stream",
          "name": "stdout",
          "text": [
            "olleH\n"
          ]
        }
      ]
    },
    {
      "cell_type": "code",
      "metadata": {
        "id": "NUIt-yWBJhjT",
        "colab": {
          "base_uri": "https://localhost:8080/",
          "height": 38
        },
        "outputId": "d22a5ef6-1c29-4f20-cc95-0121c27943d9"
      },
      "source": [
        "# S1.6: Get all the characters (or items) of the above string in the reverse order.\n",
        "s1[::-1]"
      ],
      "execution_count": null,
      "outputs": [
        {
          "output_type": "execute_result",
          "data": {
            "application/vnd.google.colaboratory.intrinsic+json": {
              "type": "string"
            },
            "text/plain": [
              "'ceD 7 si etad htrib ym dna nahsraD ma I olleH'"
            ]
          },
          "metadata": {},
          "execution_count": 16
        }
      ]
    },
    {
      "cell_type": "markdown",
      "metadata": {
        "id": "awt5qmUzKBNP"
      },
      "source": [
        "You cannot change/replace the items of a string using the index method. For that, we have to use the `replace()` function which we will learn shortly."
      ]
    },
    {
      "cell_type": "code",
      "metadata": {
        "id": "3-nJOCEmK5W9",
        "colab": {
          "base_uri": "https://localhost:8080/",
          "height": 219
        },
        "outputId": "5c0ce74f-7aa4-4544-d777-807092137092"
      },
      "source": [
        "# S1.7: Try to replace the item at index = 3 with 'W'. You should get 'TypeError' because the 'str' object does not support item assignment.\n",
        "s1[3] = 'W'\n",
        "s1"
      ],
      "execution_count": null,
      "outputs": [
        {
          "output_type": "error",
          "ename": "TypeError",
          "evalue": "ignored",
          "traceback": [
            "\u001b[0;31m---------------------------------------------------------------------------\u001b[0m",
            "\u001b[0;31mTypeError\u001b[0m                                 Traceback (most recent call last)",
            "\u001b[0;32m<ipython-input-17-beba92d548a7>\u001b[0m in \u001b[0;36m<module>\u001b[0;34m()\u001b[0m\n\u001b[1;32m      1\u001b[0m \u001b[0;31m# S1.7: Try to replace the item at index = 3 with 'W'. You should get 'TypeError' because the 'str' object does not support item assignment.\u001b[0m\u001b[0;34m\u001b[0m\u001b[0;34m\u001b[0m\u001b[0;34m\u001b[0m\u001b[0m\n\u001b[0;32m----> 2\u001b[0;31m \u001b[0ms1\u001b[0m\u001b[0;34m[\u001b[0m\u001b[0;36m3\u001b[0m\u001b[0;34m]\u001b[0m \u001b[0;34m=\u001b[0m \u001b[0;34m'W'\u001b[0m\u001b[0;34m\u001b[0m\u001b[0;34m\u001b[0m\u001b[0m\n\u001b[0m\u001b[1;32m      3\u001b[0m \u001b[0ms1\u001b[0m\u001b[0;34m\u001b[0m\u001b[0;34m\u001b[0m\u001b[0m\n",
            "\u001b[0;31mTypeError\u001b[0m: 'str' object does not support item assignment"
          ]
        }
      ]
    },
    {
      "cell_type": "markdown",
      "metadata": {
        "id": "QqqNuxL-rO30"
      },
      "source": [
        "From the above output, you may observe that the index method cannot be used to replace items in a string."
      ]
    },
    {
      "cell_type": "markdown",
      "metadata": {
        "id": "zvzKPHe9LgqO"
      },
      "source": [
        "**4. String Index:** The `index()` function returns the index at which the item is located. In the case of the repeated item, it returns the index at which it appears the first time in the string. The same is true in the case of a list and a tuple."
      ]
    },
    {
      "cell_type": "code",
      "metadata": {
        "id": "uD5Ld2S3LxHm",
        "colab": {
          "base_uri": "https://localhost:8080/"
        },
        "outputId": "4a870159-79cc-41d7-b059-8c27d31fca60"
      },
      "source": [
        "# S1.8: Get the index of any item in the string that you created.\n",
        "s1.index('D')"
      ],
      "execution_count": null,
      "outputs": [
        {
          "output_type": "execute_result",
          "data": {
            "text/plain": [
              "11"
            ]
          },
          "metadata": {},
          "execution_count": 18
        }
      ]
    },
    {
      "cell_type": "markdown",
      "metadata": {
        "id": "oNa1cgFTNMXi"
      },
      "source": [
        "**5. String Concatenation:** The process of joining two or more strings to get one string using the `+` operator is called string concatenation. \n",
        "\n",
        "**Note:** Before the string concatenation operation, you need to ensure that the objects to be concatenated are all strings. If a data type that needs to be concatenated is not a string then, you first need to convert it into a string using the `str()` function."
      ]
    },
    {
      "cell_type": "code",
      "metadata": {
        "id": "MFk2vzm0OuvK",
        "colab": {
          "base_uri": "https://localhost:8080/"
        },
        "outputId": "5d18c1fc-ca8f-4845-fb8e-6edb2a059167"
      },
      "source": [
        "# S1.9: Concatenate the following objects to get the \"Jupiter has 79 known moons.\"\n",
        "s2 = 'Jupiter has '+str(79)+' Known moons.'\n",
        "print(s2)"
      ],
      "execution_count": null,
      "outputs": [
        {
          "output_type": "stream",
          "name": "stdout",
          "text": [
            "Jupiter has 79 Known moons.\n"
          ]
        }
      ]
    },
    {
      "cell_type": "markdown",
      "metadata": {
        "id": "eQ2Hn1sefX6t"
      },
      "source": [
        "**6. The `enumerate()` Function**: It pairs the item in a string with its roll call and returns a collection of tuples."
      ]
    },
    {
      "cell_type": "code",
      "metadata": {
        "id": "cbB4VwB2gEjh",
        "colab": {
          "base_uri": "https://localhost:8080/"
        },
        "outputId": "942103e3-b671-47ef-ff64-a7e42835afa3"
      },
      "source": [
        "# S1.10: Apply the 'enumerate()' function on above string thrice: On top of it apply the 'list()', 'dict()' &  'tuple()' functions.\n",
        "# Store all of three of them in different variables.\n",
        "l = list(enumerate(s1))\n",
        "d = dict(enumerate(s1))\n",
        "t = tuple(enumerate(s1))\n",
        "print(l)\n",
        "print(d)\n",
        "print(t)"
      ],
      "execution_count": null,
      "outputs": [
        {
          "output_type": "stream",
          "name": "stdout",
          "text": [
            "[(0, 'H'), (1, 'e'), (2, 'l'), (3, 'l'), (4, 'o'), (5, ' '), (6, 'I'), (7, ' '), (8, 'a'), (9, 'm'), (10, ' '), (11, 'D'), (12, 'a'), (13, 'r'), (14, 's'), (15, 'h'), (16, 'a'), (17, 'n'), (18, ' '), (19, 'a'), (20, 'n'), (21, 'd'), (22, ' '), (23, 'm'), (24, 'y'), (25, ' '), (26, 'b'), (27, 'i'), (28, 'r'), (29, 't'), (30, 'h'), (31, ' '), (32, 'd'), (33, 'a'), (34, 't'), (35, 'e'), (36, ' '), (37, 'i'), (38, 's'), (39, ' '), (40, '7'), (41, ' '), (42, 'D'), (43, 'e'), (44, 'c')]\n",
            "{0: 'H', 1: 'e', 2: 'l', 3: 'l', 4: 'o', 5: ' ', 6: 'I', 7: ' ', 8: 'a', 9: 'm', 10: ' ', 11: 'D', 12: 'a', 13: 'r', 14: 's', 15: 'h', 16: 'a', 17: 'n', 18: ' ', 19: 'a', 20: 'n', 21: 'd', 22: ' ', 23: 'm', 24: 'y', 25: ' ', 26: 'b', 27: 'i', 28: 'r', 29: 't', 30: 'h', 31: ' ', 32: 'd', 33: 'a', 34: 't', 35: 'e', 36: ' ', 37: 'i', 38: 's', 39: ' ', 40: '7', 41: ' ', 42: 'D', 43: 'e', 44: 'c'}\n",
            "((0, 'H'), (1, 'e'), (2, 'l'), (3, 'l'), (4, 'o'), (5, ' '), (6, 'I'), (7, ' '), (8, 'a'), (9, 'm'), (10, ' '), (11, 'D'), (12, 'a'), (13, 'r'), (14, 's'), (15, 'h'), (16, 'a'), (17, 'n'), (18, ' '), (19, 'a'), (20, 'n'), (21, 'd'), (22, ' '), (23, 'm'), (24, 'y'), (25, ' '), (26, 'b'), (27, 'i'), (28, 'r'), (29, 't'), (30, 'h'), (31, ' '), (32, 'd'), (33, 'a'), (34, 't'), (35, 'e'), (36, ' '), (37, 'i'), (38, 's'), (39, ' '), (40, '7'), (41, ' '), (42, 'D'), (43, 'e'), (44, 'c'))\n"
          ]
        }
      ]
    },
    {
      "cell_type": "markdown",
      "metadata": {
        "id": "47fwac30rP7R"
      },
      "source": [
        "**7. The `count()` Function:** It returns the number of times an item (or a character) appears in a string.  "
      ]
    },
    {
      "cell_type": "code",
      "metadata": {
        "id": "u6jwT9VEq0cW",
        "colab": {
          "base_uri": "https://localhost:8080/"
        },
        "outputId": "e72b93c1-d2c9-4d63-d629-9f64d298b894"
      },
      "source": [
        "# S1.11: Count the number of spaces in the above string.\n",
        "s1.count('a')"
      ],
      "execution_count": null,
      "outputs": [
        {
          "output_type": "execute_result",
          "data": {
            "text/plain": [
              "5"
            ]
          },
          "metadata": {},
          "execution_count": 21
        }
      ]
    },
    {
      "cell_type": "markdown",
      "metadata": {
        "id": "V5c--rHQrvis"
      },
      "source": [
        "Thus, we learned how certain functions which are common to almost every data structure like lists, tuples, dictionaries, etc. can be applied to strings in Python."
      ]
    },
    {
      "cell_type": "markdown",
      "metadata": {
        "id": "Q42qBPhNVMjz"
      },
      "source": [
        "---"
      ]
    },
    {
      "cell_type": "markdown",
      "metadata": {
        "id": "ThWR9mIBVOX1"
      },
      "source": [
        "#### Task 2: Empty String and Multiline String\n",
        "\n",
        "A string that has no item (or character) is called an **empty string**. It can be created by either using single quotes or double quotes without enclosing anything between them. Not even space."
      ]
    },
    {
      "cell_type": "code",
      "metadata": {
        "id": "o-_NmJhSVkNN",
        "colab": {
          "base_uri": "https://localhost:8080/"
        },
        "outputId": "3ee58971-1511-468d-a71d-470dc32b58b2"
      },
      "source": [
        "# S2.1: Create an empty string. Print the string and also print its length.\n",
        "e = ''\n",
        "print(e)\n",
        "print(len(e))"
      ],
      "execution_count": null,
      "outputs": [
        {
          "output_type": "stream",
          "name": "stdout",
          "text": [
            "\n",
            "0\n"
          ]
        }
      ]
    },
    {
      "cell_type": "markdown",
      "metadata": {
        "id": "jnZrU2FXkB9D"
      },
      "source": [
        "You may require to write a very long string in multiple lines in a code cell. Such a string is called a multiline string. To create a multiline string, use three single quotes (`''' '''`) or three double quotes (`\"\"\" \"\"\"`).\n",
        "\n",
        "Here's one of the wonderful poems by Nobel Prize Winner Dr Rabindranath Tagore from this collection called Gitanjali.\n",
        "\n",
        "```\n",
        "Where the mind is without fear\n",
        "and the head is held high,\n",
        "where knowledge is free.\n",
        "Where the world has not been broken up into fragments, \n",
        "by narrow domestic walls.\n",
        "Where words come out from the depth of truth,\n",
        "where tireless striving stretches its arms toward perfection.\n",
        "Where the clear stream of reason has not lost its way\n",
        "into the dreary desert sand of dead habit.\n",
        "Where the mind is led forward by thee\n",
        "into ever widening thought and action.\n",
        "In to that heaven of freedom, my father,\n",
        "LET MY COUNTRY AWAKE!\n",
        "```\n",
        "\n",
        "The above poem has 13 lines. If we want to print it as a string in the following code cell, then we will have to create it as a multiline string."
      ]
    },
    {
      "cell_type": "code",
      "metadata": {
        "id": "hJlxpFfmmN7-",
        "colab": {
          "base_uri": "https://localhost:8080/"
        },
        "outputId": "cc5764f0-7e21-41d7-9773-49a2d31d1247"
      },
      "source": [
        "# S2.2: Create the multiline string for the above poem and print it using the 'print()' function.\n",
        "poem = \"\"\"\n",
        "Where the mind is without fear\n",
        "and the head is held high,\n",
        "where knowledge is free.\n",
        "Where the world has not been broken up into fragments, \n",
        "by narrow domestic walls.\n",
        "Where words come out from the depth of truth,\n",
        "where tireless striving stretches its arms toward perfection.\n",
        "Where the clear stream of reason has not lost its way\n",
        "into the dreary desert sand of dead habit.\n",
        "Where the mind is led forward by thee\n",
        "into ever widening thought and action.\n",
        "In to that heaven of freedom, my father,\n",
        "LET MY COUNTRY AWAKE!\n",
        "\"\"\"\n",
        "print(poem)"
      ],
      "execution_count": null,
      "outputs": [
        {
          "output_type": "stream",
          "name": "stdout",
          "text": [
            "\n",
            "Where the mind is without fear\n",
            "and the head is held high,\n",
            "where knowledge is free.\n",
            "Where the world has not been broken up into fragments, \n",
            "by narrow domestic walls.\n",
            "Where words come out from the depth of truth,\n",
            "where tireless striving stretches its arms toward perfection.\n",
            "Where the clear stream of reason has not lost its way\n",
            "into the dreary desert sand of dead habit.\n",
            "Where the mind is led forward by thee\n",
            "into ever widening thought and action.\n",
            "In to that heaven of freedom, my father,\n",
            "LET MY COUNTRY AWAKE!\n",
            "\n"
          ]
        }
      ]
    },
    {
      "cell_type": "markdown",
      "metadata": {
        "id": "6igTWqxBmo7s"
      },
      "source": [
        "The way you indent a multiline string is a way it gets printed in the output.\n",
        "\n",
        "Try to create the above string with either single quotes and double quotes. You should get an error."
      ]
    },
    {
      "cell_type": "code",
      "metadata": {
        "id": "MTCL0R8Kmwm9",
        "colab": {
          "base_uri": "https://localhost:8080/",
          "height": 132
        },
        "outputId": "5cbed36f-4c4f-484f-9ae0-3f429684490a"
      },
      "source": [
        "# S2.3: Create the multiline string for the above poem and print it using the 'print()' function.\n",
        "p1 = 'Where the mind is without fear\n",
        "and the head is held high,\n",
        "where knowledge is free.\n",
        "Where the world has not been broken up into fragments, \n",
        "by narrow domestic walls.\n",
        "Where words come out from the depth of truth,\n",
        "where tireless striving stretches its arms toward perfection.\n",
        "Where the clear stream of reason has not lost its way\n",
        "into the dreary desert sand of dead habit.\n",
        "Where the mind is led forward by thee\n",
        "into ever widening thought and action.\n",
        "In to that heaven of freedom, my father,\n",
        "LET MY COUNTRY AWAKE!'\n",
        "\n",
        "print(p1)"
      ],
      "execution_count": null,
      "outputs": [
        {
          "output_type": "error",
          "ename": "SyntaxError",
          "evalue": "ignored",
          "traceback": [
            "\u001b[0;36m  File \u001b[0;32m\"<ipython-input-25-5fb8cd8e2a4f>\"\u001b[0;36m, line \u001b[0;32m2\u001b[0m\n\u001b[0;31m    p1 = 'Where the mind is without fear\u001b[0m\n\u001b[0m                                        ^\u001b[0m\n\u001b[0;31mSyntaxError\u001b[0m\u001b[0;31m:\u001b[0m EOL while scanning string literal\n"
          ]
        }
      ]
    },
    {
      "cell_type": "markdown",
      "metadata": {
        "id": "GXptAYrIsXzG"
      },
      "source": [
        "As you can see, you will get error if you use only one double quotes to print multiline string. Hence, we need to use three double quotes or three single quotes to print multiline string."
      ]
    },
    {
      "cell_type": "markdown",
      "metadata": {
        "id": "XV9GyuzxaRxk"
      },
      "source": [
        "---"
      ]
    },
    {
      "cell_type": "markdown",
      "metadata": {
        "id": "mZ4NjAtWsSMG"
      },
      "source": [
        "#### Task 3: Repetition\n",
        "\n",
        "You can repeat a string several times by using the `*` operator. Using this concept you can create many incredible patterns such as a triangle, a rectangle, a square, etc.\n",
        "\n",
        "Let's learn this concept by creating the following triangle:\n",
        "\n",
        "```\n",
        "#\n",
        "##\n",
        "###\n",
        "####\n",
        "#####\n",
        "```\n",
        "\n",
        "Here, the `#` string appears only once in the first line, twice in the second line, thrice in the third line, four times in the fourth line, and five times in the fifth line:"
      ]
    },
    {
      "cell_type": "code",
      "metadata": {
        "id": "JfepSinHstil",
        "colab": {
          "base_uri": "https://localhost:8080/"
        },
        "outputId": "e1a3b145-28db-4442-c727-427853fdcbf0"
      },
      "source": [
        "# S3.1: Create the above triangle.\n",
        "for i in range(1,6):\n",
        "  for j in range(i):\n",
        "    print('#',end=' ')\n",
        "  print()\n",
        "\n",
        "for i in range(1,6):\n",
        "  print('# '*i)"
      ],
      "execution_count": null,
      "outputs": [
        {
          "output_type": "stream",
          "name": "stdout",
          "text": [
            "# \n",
            "# # \n",
            "# # # \n",
            "# # # # \n",
            "# # # # # \n",
            "# \n",
            "# # \n",
            "# # # \n",
            "# # # # \n",
            "# # # # # \n"
          ]
        }
      ]
    },
    {
      "cell_type": "markdown",
      "metadata": {
        "id": "5OiQmtuLtaT2"
      },
      "source": [
        "In the above code:\n",
        "\n",
        "- The value of `i` goes from 1 to 5.\n",
        "\n",
        "- `i = 1`, repeats the `'#'` string only once because of `'#' * 1`.\n",
        "\n",
        "- `i = 2`, repeats the `'#'` string twice because of `'#' * 2`.\n",
        "\n",
        "- `i = 3`, repeats the `'#'` string thrice because of `'#' * 3`.\n",
        "\n",
        "- `i = 4`, repeats the `'#'` string four times because of `'#' * 4`.\n",
        "\n",
        "- `i = 5`, repeats the `'#'` string five times because of `'#' * 5`.\n",
        "\n",
        "Now, you create the following triangle. It is a mirror image of the above triangle:\n",
        "\n",
        "```\n",
        "    #\n",
        "   ##\n",
        "  ###\n",
        " ####\n",
        "#####\n",
        "```\n"
      ]
    },
    {
      "cell_type": "code",
      "metadata": {
        "id": "wrCs3k3ZvhLT",
        "colab": {
          "base_uri": "https://localhost:8080/"
        },
        "outputId": "a5c68002-64d4-4d1f-e660-2e3f71868ef8"
      },
      "source": [
        "# S3.2: Create the above triangle.\n",
        "for i in range(1,6):\n",
        "  print(' '*(5-i),end='')\n",
        "  print('#'*i)\n"
      ],
      "execution_count": null,
      "outputs": [
        {
          "output_type": "stream",
          "name": "stdout",
          "text": [
            "    #\n",
            "   ##\n",
            "  ###\n",
            " ####\n",
            "#####\n"
          ]
        }
      ]
    },
    {
      "cell_type": "markdown",
      "metadata": {
        "id": "FMhzOap-x8IM"
      },
      "source": [
        "In the above code:\n",
        "\n",
        "- The value of `i` goes from 1 to 5.\n",
        "\n",
        "- `i = 1`, repeats the space `' '` four times because of `' ' * (5 - 1)` and the `'#'` string only once because of `'#' * 1`.\n",
        "\n",
        "- `i = 2`, repeats the space `' '` thrice because of `' ' * (5 - 2)` and the `'#'` string twice because of `'#' * 2`.\n",
        "\n",
        "- `i = 3`, repeats the space `' '` twice because of `' ' * (5 - 3)` and the `'#'` string thrice because of `'#' * 3`.\n",
        "\n",
        "- `i = 4`, repeats the space `' '` only once because of `' ' * (5 - 4)` and the `'#'` string four times because of `'#' * 4`.\n",
        "\n",
        "- `i = 5`, repeats the space `' '` zero times because of `' ' * (5 - 5)` and the `'#'` string five times because of `'#' * 5`.\n",
        "\n",
        "\n",
        "Similarly, you can create many more such patterns.\n",
        "\n",
        "**Note:** Similarly, you can also repeat the times contained in a list and in a tuple multiple times using the `*` operator."
      ]
    },
    {
      "cell_type": "code",
      "metadata": {
        "id": "DNX97jn-St3h",
        "colab": {
          "base_uri": "https://localhost:8080/"
        },
        "outputId": "9f9b935f-5ed2-4a47-e484-30c59c0f26e0"
      },
      "source": [
        "# S3.3: Create a list containing three items and repeat them twice.\n",
        "l1 = [1,2,3]\n",
        "print(l1*2)\n",
        "t1 = (1,2,3)\n",
        "print(t1*3)"
      ],
      "execution_count": null,
      "outputs": [
        {
          "output_type": "stream",
          "name": "stdout",
          "text": [
            "[1, 2, 3, 1, 2, 3]\n",
            "(1, 2, 3, 1, 2, 3, 1, 2, 3)\n"
          ]
        }
      ]
    },
    {
      "cell_type": "code",
      "metadata": {
        "id": "bK7ovlG1SJ-w"
      },
      "source": [
        "# S3.4: Create a tuple containing three items and repeat them four times.\n"
      ],
      "execution_count": null,
      "outputs": []
    },
    {
      "cell_type": "markdown",
      "metadata": {
        "id": "Sv-EWVbhs9eH"
      },
      "source": [
        "Hence, the `*` operator can be used with lists, tuples as well as strings to repeat the items contained in them."
      ]
    },
    {
      "cell_type": "markdown",
      "metadata": {
        "id": "0OMi1V9osRiW"
      },
      "source": [
        "---"
      ]
    },
    {
      "cell_type": "markdown",
      "metadata": {
        "id": "uSbF9A2m8Hm4"
      },
      "source": [
        "#### Task 4: The `format()` Function\n",
        "\n",
        "This function is our best friend when it comes to formatting a string. Why?\n",
        "\n",
        "Recall that in the case of the string concatenation, we have to use the `+` operator several times to get one string. Additionally, you have to beware of spaces and also have to convert a non-string data type object to a string before concatenation. This is such a big hassle if too many strings are to be concatenated.\n",
        "\n",
        "Similarly, while printing the values of multiple entities using the `print()` function, you have to separate them with commas. Again quite a handful of  tasks especially in the case of long strings.\n",
        "\n",
        "The `format()` function doesn't require that much effort to generate a clean string. It allows you to create one long string with proper punctuation and plug in the required values at the respective places in the long string.\n",
        "\n",
        "Let's learn this function with the help of an example. We have a dummy CSV containing the data of the 20 professional marathon runners (men's category) who participated in the **Mumbai Marathon (TMM)** 2020.\n",
        "\n",
        "Our task is to create a certificate for each runner using the `format()` function. The certificate should read the following:\n",
        "\n",
        "```\n",
        "Mumbai Marathon 2020\n",
        "\n",
        "      CONGRATULATIONS\n",
        "\n",
        "This is to certify that JOHN DERA                     \n",
        "BIB No. 22\n",
        "officially completed the marathon \n",
        "(distance 42.2 km) \n",
        "in the men's category \n",
        "with a finish time of 2:08:09 \n",
        "and rank 1.                   \n",
        "--------------------------------------------------\n",
        "```\n",
        "\n",
        "Here's the link to the CSV file containing data for each runner:\n",
        "\n",
        "\n",
        "https://s3-whjr-curriculum-uploads.whjr.online/0da95234-a814-4957-b949-38d4b7754a94.csv\n",
        "\n",
        "**Note:** This is a dummy dataset used for the sole purpose of understanding the concept. \n",
        "\n",
        "\n",
        "**How to approach this task?**\n",
        "\n",
        "1. Create a Pandas DataFrame for the MM 2020 professional runners (men's category).\n",
        "\n",
        "2. Create the following string with curly brackets as placeholders:\n",
        "\n",
        "  ```\n",
        "  Mumbai Marathon 2020\n",
        "\n",
        "        CONGRATULATIONS\n",
        "\n",
        "  This is to certify that {}                    \n",
        "  BIB No. {}\n",
        "  officially completed the marathon \n",
        "  (distance 42.2 km) \n",
        "  in the men's category \n",
        "  with a finish time of {} \n",
        "  and rank {}.                   \n",
        "  {}\n",
        "  ```\n",
        "\n",
        "3. Iterate through each row of the DataFrame created in the first step to get the name, BIB number, race finish time, and rank of a runner.\n",
        "\n",
        "4. Fill the values in the placeholders (or curly brackets) using the `format()` function such that,\n",
        "\n",
        "      - The name of a runner goes to the first placeholder.\n",
        "\n",
        "      - The BIB number of a runner goes to the second placeholder.\n",
        "\n",
        "      - The race finish time of a runner goes to the third placeholder.\n",
        "\n",
        "      - The rank of a runner goes to the fifth placeholder.\n",
        "\n",
        "      - The 50 repetitions of the hyphen symbol goes to the last placeholder.\n",
        "\n",
        "5. Print the prescribed certificate for each runner.\n",
        "\n",
        "Steps 3, 4, and 5 are part of the same iteration."
      ]
    },
    {
      "cell_type": "code",
      "metadata": {
        "id": "VNq8Xc7E3X39",
        "colab": {
          "base_uri": "https://localhost:8080/",
          "height": 676
        },
        "outputId": "ad7d6a3d-a288-41ac-a0f5-06a67b16675b"
      },
      "source": [
        "# S4.1: Create a Pandas DataFrame for the TMM 2020 runners.\n",
        "import pandas as pd\n",
        "\n",
        "df = pd.read_csv(\"https://s3-whjr-curriculum-uploads.whjr.online/0da95234-a814-4957-b949-38d4b7754a94.csv\")\n",
        "df"
      ],
      "execution_count": null,
      "outputs": [
        {
          "output_type": "execute_result",
          "data": {
            "text/html": [
              "<div>\n",
              "<style scoped>\n",
              "    .dataframe tbody tr th:only-of-type {\n",
              "        vertical-align: middle;\n",
              "    }\n",
              "\n",
              "    .dataframe tbody tr th {\n",
              "        vertical-align: top;\n",
              "    }\n",
              "\n",
              "    .dataframe thead th {\n",
              "        text-align: right;\n",
              "    }\n",
              "</style>\n",
              "<table border=\"1\" class=\"dataframe\">\n",
              "  <thead>\n",
              "    <tr style=\"text-align: right;\">\n",
              "      <th></th>\n",
              "      <th>Finish Position</th>\n",
              "      <th>BIB</th>\n",
              "      <th>NAME</th>\n",
              "      <th>NATIONALITY</th>\n",
              "      <th>Net Finish Time</th>\n",
              "    </tr>\n",
              "  </thead>\n",
              "  <tbody>\n",
              "    <tr>\n",
              "      <th>0</th>\n",
              "      <td>1</td>\n",
              "      <td>22</td>\n",
              "      <td>JOHN DERA</td>\n",
              "      <td>UGA</td>\n",
              "      <td>02:08:09</td>\n",
              "    </tr>\n",
              "    <tr>\n",
              "      <th>1</th>\n",
              "      <td>2</td>\n",
              "      <td>3</td>\n",
              "      <td>JAMES GREYSON</td>\n",
              "      <td>ETH</td>\n",
              "      <td>02:08:20</td>\n",
              "    </tr>\n",
              "    <tr>\n",
              "      <th>2</th>\n",
              "      <td>3</td>\n",
              "      <td>9</td>\n",
              "      <td>CARTER JACK</td>\n",
              "      <td>ETH</td>\n",
              "      <td>02:08:26</td>\n",
              "    </tr>\n",
              "    <tr>\n",
              "      <th>3</th>\n",
              "      <td>4</td>\n",
              "      <td>15</td>\n",
              "      <td>SHOEB SYED</td>\n",
              "      <td>UGA</td>\n",
              "      <td>02:08:41</td>\n",
              "    </tr>\n",
              "    <tr>\n",
              "      <th>4</th>\n",
              "      <td>5</td>\n",
              "      <td>20</td>\n",
              "      <td>SHER SINGH</td>\n",
              "      <td>IND</td>\n",
              "      <td>02:08:56</td>\n",
              "    </tr>\n",
              "    <tr>\n",
              "      <th>5</th>\n",
              "      <td>6</td>\n",
              "      <td>11</td>\n",
              "      <td>MOHIT RAJ</td>\n",
              "      <td>IND</td>\n",
              "      <td>02:09:01</td>\n",
              "    </tr>\n",
              "    <tr>\n",
              "      <th>6</th>\n",
              "      <td>7</td>\n",
              "      <td>4</td>\n",
              "      <td>AVA JACKSON</td>\n",
              "      <td>KEN</td>\n",
              "      <td>02:09:15</td>\n",
              "    </tr>\n",
              "    <tr>\n",
              "      <th>7</th>\n",
              "      <td>8</td>\n",
              "      <td>23</td>\n",
              "      <td>DELNAZ BAK</td>\n",
              "      <td>ETH</td>\n",
              "      <td>02:10:04</td>\n",
              "    </tr>\n",
              "    <tr>\n",
              "      <th>8</th>\n",
              "      <td>9</td>\n",
              "      <td>44</td>\n",
              "      <td>SHRENU SINGH</td>\n",
              "      <td>IND</td>\n",
              "      <td>02:10:36</td>\n",
              "    </tr>\n",
              "    <tr>\n",
              "      <th>9</th>\n",
              "      <td>10</td>\n",
              "      <td>32</td>\n",
              "      <td>RAHUL BHATT</td>\n",
              "      <td>IND</td>\n",
              "      <td>02:10:37</td>\n",
              "    </tr>\n",
              "    <tr>\n",
              "      <th>10</th>\n",
              "      <td>11</td>\n",
              "      <td>43</td>\n",
              "      <td>VINCENT</td>\n",
              "      <td>KEN</td>\n",
              "      <td>02:11:15</td>\n",
              "    </tr>\n",
              "    <tr>\n",
              "      <th>11</th>\n",
              "      <td>12</td>\n",
              "      <td>10</td>\n",
              "      <td>CAMILA HARPER</td>\n",
              "      <td>ETH</td>\n",
              "      <td>02:13:39</td>\n",
              "    </tr>\n",
              "    <tr>\n",
              "      <th>12</th>\n",
              "      <td>13</td>\n",
              "      <td>51</td>\n",
              "      <td>LUNA LAMP</td>\n",
              "      <td>ETH</td>\n",
              "      <td>02:18:44</td>\n",
              "    </tr>\n",
              "    <tr>\n",
              "      <th>13</th>\n",
              "      <td>14</td>\n",
              "      <td>56</td>\n",
              "      <td>SOFIA JOHNSON</td>\n",
              "      <td>ETH</td>\n",
              "      <td>02:24:00</td>\n",
              "    </tr>\n",
              "    <tr>\n",
              "      <th>14</th>\n",
              "      <td>15</td>\n",
              "      <td>53</td>\n",
              "      <td>ELIZABETH RAY</td>\n",
              "      <td>ETH</td>\n",
              "      <td>02:24:03</td>\n",
              "    </tr>\n",
              "    <tr>\n",
              "      <th>15</th>\n",
              "      <td>16</td>\n",
              "      <td>70</td>\n",
              "      <td>RAVIKUMAR</td>\n",
              "      <td>IND</td>\n",
              "      <td>02:24:32</td>\n",
              "    </tr>\n",
              "    <tr>\n",
              "      <th>16</th>\n",
              "      <td>17</td>\n",
              "      <td>27</td>\n",
              "      <td>GRACE ZOE</td>\n",
              "      <td>KEN</td>\n",
              "      <td>02:24:53</td>\n",
              "    </tr>\n",
              "    <tr>\n",
              "      <th>17</th>\n",
              "      <td>18</td>\n",
              "      <td>55</td>\n",
              "      <td>RAHUL PAL</td>\n",
              "      <td>IND</td>\n",
              "      <td>02:26:56</td>\n",
              "    </tr>\n",
              "    <tr>\n",
              "      <th>18</th>\n",
              "      <td>19</td>\n",
              "      <td>54</td>\n",
              "      <td>PRADEEP BHOSALE</td>\n",
              "      <td>IND</td>\n",
              "      <td>02:29:27</td>\n",
              "    </tr>\n",
              "    <tr>\n",
              "      <th>19</th>\n",
              "      <td>20</td>\n",
              "      <td>57</td>\n",
              "      <td>NAOMI HADLEY</td>\n",
              "      <td>KEN</td>\n",
              "      <td>02:31:16</td>\n",
              "    </tr>\n",
              "  </tbody>\n",
              "</table>\n",
              "</div>"
            ],
            "text/plain": [
              "    Finish Position  BIB             NAME NATIONALITY Net Finish Time\n",
              "0                 1   22        JOHN DERA         UGA        02:08:09\n",
              "1                 2    3    JAMES GREYSON         ETH        02:08:20\n",
              "2                 3    9      CARTER JACK         ETH        02:08:26\n",
              "3                 4   15       SHOEB SYED         UGA        02:08:41\n",
              "4                 5   20       SHER SINGH         IND        02:08:56\n",
              "5                 6   11        MOHIT RAJ         IND        02:09:01\n",
              "6                 7    4      AVA JACKSON         KEN        02:09:15\n",
              "7                 8   23       DELNAZ BAK         ETH        02:10:04\n",
              "8                 9   44     SHRENU SINGH         IND        02:10:36\n",
              "9                10   32      RAHUL BHATT         IND        02:10:37\n",
              "10               11   43         VINCENT          KEN        02:11:15\n",
              "11               12   10    CAMILA HARPER         ETH        02:13:39\n",
              "12               13   51        LUNA LAMP         ETH        02:18:44\n",
              "13               14   56    SOFIA JOHNSON         ETH        02:24:00\n",
              "14               15   53    ELIZABETH RAY         ETH        02:24:03\n",
              "15               16   70        RAVIKUMAR         IND        02:24:32\n",
              "16               17   27        GRACE ZOE         KEN        02:24:53\n",
              "17               18   55        RAHUL PAL         IND        02:26:56\n",
              "18               19   54  PRADEEP BHOSALE         IND        02:29:27\n",
              "19               20   57     NAOMI HADLEY         KEN        02:31:16"
            ]
          },
          "metadata": {},
          "execution_count": 39
        }
      ]
    },
    {
      "cell_type": "markdown",
      "metadata": {
        "id": "LH7PYgKn7FAQ"
      },
      "source": [
        "The first step is done. Now, let's follow the remaining steps:"
      ]
    },
    {
      "cell_type": "code",
      "metadata": {
        "id": "TdemmHi_8-vb",
        "colab": {
          "base_uri": "https://localhost:8080/"
        },
        "outputId": "32ce9adb-2c0c-4da1-c68e-d8e3e1838c1a"
      },
      "source": [
        "# S4.2: Print the certificates for each TMM 2020 runner in the prescribed format.\n",
        "cert = \"\"\"\n",
        "Mumbai Marathon 2020\n",
        "\n",
        "     CONGRATULATIONS\n",
        "\n",
        "This is to certify that {}                    \n",
        "BIB No. {}\n",
        "officially completed the marathon \n",
        "(distance 42.2 km) \n",
        "in the men's category \n",
        "with a finish time of {} \n",
        "and rank {}.                   \n",
        "{}\n",
        "\n",
        "\"\"\"\n",
        "for i in df.index:\n",
        "  print(i,cert.format(df.loc[i,'NAME'],df.loc[i,'BIB'],df.loc[i,'Net Finish Time'],df.loc[i,'Finish Position'],\"-\"*50))"
      ],
      "execution_count": null,
      "outputs": [
        {
          "output_type": "stream",
          "name": "stdout",
          "text": [
            "0 \n",
            "Mumbai Marathon 2020\n",
            "\n",
            "     CONGRATULATIONS\n",
            "\n",
            "This is to certify that JOHN DERA                    \n",
            "BIB No. 22\n",
            "officially completed the marathon \n",
            "(distance 42.2 km) \n",
            "in the men's category \n",
            "with a finish time of 02:08:09 \n",
            "and rank 1.                   \n",
            "--------------------------------------------------\n",
            "\n",
            "\n",
            "1 \n",
            "Mumbai Marathon 2020\n",
            "\n",
            "     CONGRATULATIONS\n",
            "\n",
            "This is to certify that JAMES GREYSON                    \n",
            "BIB No. 3\n",
            "officially completed the marathon \n",
            "(distance 42.2 km) \n",
            "in the men's category \n",
            "with a finish time of 02:08:20 \n",
            "and rank 2.                   \n",
            "--------------------------------------------------\n",
            "\n",
            "\n",
            "2 \n",
            "Mumbai Marathon 2020\n",
            "\n",
            "     CONGRATULATIONS\n",
            "\n",
            "This is to certify that CARTER JACK                    \n",
            "BIB No. 9\n",
            "officially completed the marathon \n",
            "(distance 42.2 km) \n",
            "in the men's category \n",
            "with a finish time of 02:08:26 \n",
            "and rank 3.                   \n",
            "--------------------------------------------------\n",
            "\n",
            "\n",
            "3 \n",
            "Mumbai Marathon 2020\n",
            "\n",
            "     CONGRATULATIONS\n",
            "\n",
            "This is to certify that SHOEB SYED                    \n",
            "BIB No. 15\n",
            "officially completed the marathon \n",
            "(distance 42.2 km) \n",
            "in the men's category \n",
            "with a finish time of 02:08:41 \n",
            "and rank 4.                   \n",
            "--------------------------------------------------\n",
            "\n",
            "\n",
            "4 \n",
            "Mumbai Marathon 2020\n",
            "\n",
            "     CONGRATULATIONS\n",
            "\n",
            "This is to certify that SHER SINGH                    \n",
            "BIB No. 20\n",
            "officially completed the marathon \n",
            "(distance 42.2 km) \n",
            "in the men's category \n",
            "with a finish time of 02:08:56 \n",
            "and rank 5.                   \n",
            "--------------------------------------------------\n",
            "\n",
            "\n",
            "5 \n",
            "Mumbai Marathon 2020\n",
            "\n",
            "     CONGRATULATIONS\n",
            "\n",
            "This is to certify that MOHIT RAJ                    \n",
            "BIB No. 11\n",
            "officially completed the marathon \n",
            "(distance 42.2 km) \n",
            "in the men's category \n",
            "with a finish time of 02:09:01 \n",
            "and rank 6.                   \n",
            "--------------------------------------------------\n",
            "\n",
            "\n",
            "6 \n",
            "Mumbai Marathon 2020\n",
            "\n",
            "     CONGRATULATIONS\n",
            "\n",
            "This is to certify that AVA JACKSON                    \n",
            "BIB No. 4\n",
            "officially completed the marathon \n",
            "(distance 42.2 km) \n",
            "in the men's category \n",
            "with a finish time of 02:09:15 \n",
            "and rank 7.                   \n",
            "--------------------------------------------------\n",
            "\n",
            "\n",
            "7 \n",
            "Mumbai Marathon 2020\n",
            "\n",
            "     CONGRATULATIONS\n",
            "\n",
            "This is to certify that DELNAZ BAK                    \n",
            "BIB No. 23\n",
            "officially completed the marathon \n",
            "(distance 42.2 km) \n",
            "in the men's category \n",
            "with a finish time of 02:10:04 \n",
            "and rank 8.                   \n",
            "--------------------------------------------------\n",
            "\n",
            "\n",
            "8 \n",
            "Mumbai Marathon 2020\n",
            "\n",
            "     CONGRATULATIONS\n",
            "\n",
            "This is to certify that SHRENU SINGH                    \n",
            "BIB No. 44\n",
            "officially completed the marathon \n",
            "(distance 42.2 km) \n",
            "in the men's category \n",
            "with a finish time of 02:10:36 \n",
            "and rank 9.                   \n",
            "--------------------------------------------------\n",
            "\n",
            "\n",
            "9 \n",
            "Mumbai Marathon 2020\n",
            "\n",
            "     CONGRATULATIONS\n",
            "\n",
            "This is to certify that RAHUL BHATT                    \n",
            "BIB No. 32\n",
            "officially completed the marathon \n",
            "(distance 42.2 km) \n",
            "in the men's category \n",
            "with a finish time of 02:10:37 \n",
            "and rank 10.                   \n",
            "--------------------------------------------------\n",
            "\n",
            "\n",
            "10 \n",
            "Mumbai Marathon 2020\n",
            "\n",
            "     CONGRATULATIONS\n",
            "\n",
            "This is to certify that VINCENT                     \n",
            "BIB No. 43\n",
            "officially completed the marathon \n",
            "(distance 42.2 km) \n",
            "in the men's category \n",
            "with a finish time of 02:11:15 \n",
            "and rank 11.                   \n",
            "--------------------------------------------------\n",
            "\n",
            "\n",
            "11 \n",
            "Mumbai Marathon 2020\n",
            "\n",
            "     CONGRATULATIONS\n",
            "\n",
            "This is to certify that CAMILA HARPER                    \n",
            "BIB No. 10\n",
            "officially completed the marathon \n",
            "(distance 42.2 km) \n",
            "in the men's category \n",
            "with a finish time of 02:13:39 \n",
            "and rank 12.                   \n",
            "--------------------------------------------------\n",
            "\n",
            "\n",
            "12 \n",
            "Mumbai Marathon 2020\n",
            "\n",
            "     CONGRATULATIONS\n",
            "\n",
            "This is to certify that LUNA LAMP                    \n",
            "BIB No. 51\n",
            "officially completed the marathon \n",
            "(distance 42.2 km) \n",
            "in the men's category \n",
            "with a finish time of 02:18:44 \n",
            "and rank 13.                   \n",
            "--------------------------------------------------\n",
            "\n",
            "\n",
            "13 \n",
            "Mumbai Marathon 2020\n",
            "\n",
            "     CONGRATULATIONS\n",
            "\n",
            "This is to certify that SOFIA JOHNSON                    \n",
            "BIB No. 56\n",
            "officially completed the marathon \n",
            "(distance 42.2 km) \n",
            "in the men's category \n",
            "with a finish time of 02:24:00 \n",
            "and rank 14.                   \n",
            "--------------------------------------------------\n",
            "\n",
            "\n",
            "14 \n",
            "Mumbai Marathon 2020\n",
            "\n",
            "     CONGRATULATIONS\n",
            "\n",
            "This is to certify that ELIZABETH RAY                    \n",
            "BIB No. 53\n",
            "officially completed the marathon \n",
            "(distance 42.2 km) \n",
            "in the men's category \n",
            "with a finish time of 02:24:03 \n",
            "and rank 15.                   \n",
            "--------------------------------------------------\n",
            "\n",
            "\n",
            "15 \n",
            "Mumbai Marathon 2020\n",
            "\n",
            "     CONGRATULATIONS\n",
            "\n",
            "This is to certify that RAVIKUMAR                    \n",
            "BIB No. 70\n",
            "officially completed the marathon \n",
            "(distance 42.2 km) \n",
            "in the men's category \n",
            "with a finish time of 02:24:32 \n",
            "and rank 16.                   \n",
            "--------------------------------------------------\n",
            "\n",
            "\n",
            "16 \n",
            "Mumbai Marathon 2020\n",
            "\n",
            "     CONGRATULATIONS\n",
            "\n",
            "This is to certify that GRACE ZOE                    \n",
            "BIB No. 27\n",
            "officially completed the marathon \n",
            "(distance 42.2 km) \n",
            "in the men's category \n",
            "with a finish time of 02:24:53 \n",
            "and rank 17.                   \n",
            "--------------------------------------------------\n",
            "\n",
            "\n",
            "17 \n",
            "Mumbai Marathon 2020\n",
            "\n",
            "     CONGRATULATIONS\n",
            "\n",
            "This is to certify that RAHUL PAL                    \n",
            "BIB No. 55\n",
            "officially completed the marathon \n",
            "(distance 42.2 km) \n",
            "in the men's category \n",
            "with a finish time of 02:26:56 \n",
            "and rank 18.                   \n",
            "--------------------------------------------------\n",
            "\n",
            "\n",
            "18 \n",
            "Mumbai Marathon 2020\n",
            "\n",
            "     CONGRATULATIONS\n",
            "\n",
            "This is to certify that PRADEEP BHOSALE                    \n",
            "BIB No. 54\n",
            "officially completed the marathon \n",
            "(distance 42.2 km) \n",
            "in the men's category \n",
            "with a finish time of 02:29:27 \n",
            "and rank 19.                   \n",
            "--------------------------------------------------\n",
            "\n",
            "\n",
            "19 \n",
            "Mumbai Marathon 2020\n",
            "\n",
            "     CONGRATULATIONS\n",
            "\n",
            "This is to certify that NAOMI HADLEY                    \n",
            "BIB No. 57\n",
            "officially completed the marathon \n",
            "(distance 42.2 km) \n",
            "in the men's category \n",
            "with a finish time of 02:31:16 \n",
            "and rank 20.                   \n",
            "--------------------------------------------------\n",
            "\n",
            "\n"
          ]
        }
      ]
    },
    {
      "cell_type": "markdown",
      "metadata": {
        "id": "_Zbr1xTY9Olb"
      },
      "source": [
        "As you can see, we first created a multiline string and stored it in a variable. The string contains five placeholders in the form of curly brackets.\n",
        "\n",
        "- The first place holder is created to store the name of each runner.\n",
        "\n",
        "- The second place holder is created to store the BIB number of each runner.\n",
        "\n",
        "- The third place holder is created to store the finish time of each runner.\n",
        "\n",
        "- The fourth place holder is created to store the rank secured by each runner in the marathon.\n",
        "\n",
        "- The fifth place holder is created to store the hyphen symbol (`-`).\n",
        "\n",
        "In the same order of the placeholders, we passed the values to the `format()` so that they occupy their respective places in the final string. The last value,  `'-' * 50`, that is passed to the `format()` function means that the hyphen symbol is repeated 50 times.\n",
        "\n",
        "**Labeling Placeholders**\n",
        "\n",
        "When there are too many placeholders to fill, you might lose a track of what value to put to what placeholder. In such cases, the better approach is to label the placeholders in such a way that they describe the values to put to the placeholders:"
      ]
    },
    {
      "cell_type": "code",
      "metadata": {
        "id": "aSqns1fTbYio",
        "colab": {
          "base_uri": "https://localhost:8080/"
        },
        "outputId": "225f5605-fbe7-4bab-f2db-7fb0bb3162a3"
      },
      "source": [
        "# S4.3: Label the placeholders in the above code.\n",
        "cert = \"\"\"\n",
        "Mumbai Marathon 2020\n",
        "\n",
        "     CONGRATULATIONS\n",
        "\n",
        "This is to certify that {name}                    \n",
        "BIB No. {bib}\n",
        "officially completed the marathon \n",
        "(distance 42.2 km) \n",
        "in the men's category \n",
        "with a finish time of {ft} \n",
        "and rank {r}.                   \n",
        "{h}\n",
        "\n",
        "\"\"\"\n",
        "\n",
        "for i in df.index:\n",
        "  print(cert.format(name=df.loc[i,'NAME'],bib=df.loc[i,'BIB'],\n",
        "                    ft=df.loc[i,'Net Finish Time'],r=df.loc[i,'Finish Position'],\n",
        "                    h='-'*50))"
      ],
      "execution_count": null,
      "outputs": [
        {
          "output_type": "stream",
          "name": "stdout",
          "text": [
            "\n",
            "Mumbai Marathon 2020\n",
            "\n",
            "     CONGRATULATIONS\n",
            "\n",
            "This is to certify that JOHN DERA                    \n",
            "BIB No. 22\n",
            "officially completed the marathon \n",
            "(distance 42.2 km) \n",
            "in the men's category \n",
            "with a finish time of 02:08:09 \n",
            "and rank 1.                   \n",
            "--------------------------------------------------\n",
            "\n",
            "\n",
            "\n",
            "Mumbai Marathon 2020\n",
            "\n",
            "     CONGRATULATIONS\n",
            "\n",
            "This is to certify that JAMES GREYSON                    \n",
            "BIB No. 3\n",
            "officially completed the marathon \n",
            "(distance 42.2 km) \n",
            "in the men's category \n",
            "with a finish time of 02:08:20 \n",
            "and rank 2.                   \n",
            "--------------------------------------------------\n",
            "\n",
            "\n",
            "\n",
            "Mumbai Marathon 2020\n",
            "\n",
            "     CONGRATULATIONS\n",
            "\n",
            "This is to certify that CARTER JACK                    \n",
            "BIB No. 9\n",
            "officially completed the marathon \n",
            "(distance 42.2 km) \n",
            "in the men's category \n",
            "with a finish time of 02:08:26 \n",
            "and rank 3.                   \n",
            "--------------------------------------------------\n",
            "\n",
            "\n",
            "\n",
            "Mumbai Marathon 2020\n",
            "\n",
            "     CONGRATULATIONS\n",
            "\n",
            "This is to certify that SHOEB SYED                    \n",
            "BIB No. 15\n",
            "officially completed the marathon \n",
            "(distance 42.2 km) \n",
            "in the men's category \n",
            "with a finish time of 02:08:41 \n",
            "and rank 4.                   \n",
            "--------------------------------------------------\n",
            "\n",
            "\n",
            "\n",
            "Mumbai Marathon 2020\n",
            "\n",
            "     CONGRATULATIONS\n",
            "\n",
            "This is to certify that SHER SINGH                    \n",
            "BIB No. 20\n",
            "officially completed the marathon \n",
            "(distance 42.2 km) \n",
            "in the men's category \n",
            "with a finish time of 02:08:56 \n",
            "and rank 5.                   \n",
            "--------------------------------------------------\n",
            "\n",
            "\n",
            "\n",
            "Mumbai Marathon 2020\n",
            "\n",
            "     CONGRATULATIONS\n",
            "\n",
            "This is to certify that MOHIT RAJ                    \n",
            "BIB No. 11\n",
            "officially completed the marathon \n",
            "(distance 42.2 km) \n",
            "in the men's category \n",
            "with a finish time of 02:09:01 \n",
            "and rank 6.                   \n",
            "--------------------------------------------------\n",
            "\n",
            "\n",
            "\n",
            "Mumbai Marathon 2020\n",
            "\n",
            "     CONGRATULATIONS\n",
            "\n",
            "This is to certify that AVA JACKSON                    \n",
            "BIB No. 4\n",
            "officially completed the marathon \n",
            "(distance 42.2 km) \n",
            "in the men's category \n",
            "with a finish time of 02:09:15 \n",
            "and rank 7.                   \n",
            "--------------------------------------------------\n",
            "\n",
            "\n",
            "\n",
            "Mumbai Marathon 2020\n",
            "\n",
            "     CONGRATULATIONS\n",
            "\n",
            "This is to certify that DELNAZ BAK                    \n",
            "BIB No. 23\n",
            "officially completed the marathon \n",
            "(distance 42.2 km) \n",
            "in the men's category \n",
            "with a finish time of 02:10:04 \n",
            "and rank 8.                   \n",
            "--------------------------------------------------\n",
            "\n",
            "\n",
            "\n",
            "Mumbai Marathon 2020\n",
            "\n",
            "     CONGRATULATIONS\n",
            "\n",
            "This is to certify that SHRENU SINGH                    \n",
            "BIB No. 44\n",
            "officially completed the marathon \n",
            "(distance 42.2 km) \n",
            "in the men's category \n",
            "with a finish time of 02:10:36 \n",
            "and rank 9.                   \n",
            "--------------------------------------------------\n",
            "\n",
            "\n",
            "\n",
            "Mumbai Marathon 2020\n",
            "\n",
            "     CONGRATULATIONS\n",
            "\n",
            "This is to certify that RAHUL BHATT                    \n",
            "BIB No. 32\n",
            "officially completed the marathon \n",
            "(distance 42.2 km) \n",
            "in the men's category \n",
            "with a finish time of 02:10:37 \n",
            "and rank 10.                   \n",
            "--------------------------------------------------\n",
            "\n",
            "\n",
            "\n",
            "Mumbai Marathon 2020\n",
            "\n",
            "     CONGRATULATIONS\n",
            "\n",
            "This is to certify that VINCENT                     \n",
            "BIB No. 43\n",
            "officially completed the marathon \n",
            "(distance 42.2 km) \n",
            "in the men's category \n",
            "with a finish time of 02:11:15 \n",
            "and rank 11.                   \n",
            "--------------------------------------------------\n",
            "\n",
            "\n",
            "\n",
            "Mumbai Marathon 2020\n",
            "\n",
            "     CONGRATULATIONS\n",
            "\n",
            "This is to certify that CAMILA HARPER                    \n",
            "BIB No. 10\n",
            "officially completed the marathon \n",
            "(distance 42.2 km) \n",
            "in the men's category \n",
            "with a finish time of 02:13:39 \n",
            "and rank 12.                   \n",
            "--------------------------------------------------\n",
            "\n",
            "\n",
            "\n",
            "Mumbai Marathon 2020\n",
            "\n",
            "     CONGRATULATIONS\n",
            "\n",
            "This is to certify that LUNA LAMP                    \n",
            "BIB No. 51\n",
            "officially completed the marathon \n",
            "(distance 42.2 km) \n",
            "in the men's category \n",
            "with a finish time of 02:18:44 \n",
            "and rank 13.                   \n",
            "--------------------------------------------------\n",
            "\n",
            "\n",
            "\n",
            "Mumbai Marathon 2020\n",
            "\n",
            "     CONGRATULATIONS\n",
            "\n",
            "This is to certify that SOFIA JOHNSON                    \n",
            "BIB No. 56\n",
            "officially completed the marathon \n",
            "(distance 42.2 km) \n",
            "in the men's category \n",
            "with a finish time of 02:24:00 \n",
            "and rank 14.                   \n",
            "--------------------------------------------------\n",
            "\n",
            "\n",
            "\n",
            "Mumbai Marathon 2020\n",
            "\n",
            "     CONGRATULATIONS\n",
            "\n",
            "This is to certify that ELIZABETH RAY                    \n",
            "BIB No. 53\n",
            "officially completed the marathon \n",
            "(distance 42.2 km) \n",
            "in the men's category \n",
            "with a finish time of 02:24:03 \n",
            "and rank 15.                   \n",
            "--------------------------------------------------\n",
            "\n",
            "\n",
            "\n",
            "Mumbai Marathon 2020\n",
            "\n",
            "     CONGRATULATIONS\n",
            "\n",
            "This is to certify that RAVIKUMAR                    \n",
            "BIB No. 70\n",
            "officially completed the marathon \n",
            "(distance 42.2 km) \n",
            "in the men's category \n",
            "with a finish time of 02:24:32 \n",
            "and rank 16.                   \n",
            "--------------------------------------------------\n",
            "\n",
            "\n",
            "\n",
            "Mumbai Marathon 2020\n",
            "\n",
            "     CONGRATULATIONS\n",
            "\n",
            "This is to certify that GRACE ZOE                    \n",
            "BIB No. 27\n",
            "officially completed the marathon \n",
            "(distance 42.2 km) \n",
            "in the men's category \n",
            "with a finish time of 02:24:53 \n",
            "and rank 17.                   \n",
            "--------------------------------------------------\n",
            "\n",
            "\n",
            "\n",
            "Mumbai Marathon 2020\n",
            "\n",
            "     CONGRATULATIONS\n",
            "\n",
            "This is to certify that RAHUL PAL                    \n",
            "BIB No. 55\n",
            "officially completed the marathon \n",
            "(distance 42.2 km) \n",
            "in the men's category \n",
            "with a finish time of 02:26:56 \n",
            "and rank 18.                   \n",
            "--------------------------------------------------\n",
            "\n",
            "\n",
            "\n",
            "Mumbai Marathon 2020\n",
            "\n",
            "     CONGRATULATIONS\n",
            "\n",
            "This is to certify that PRADEEP BHOSALE                    \n",
            "BIB No. 54\n",
            "officially completed the marathon \n",
            "(distance 42.2 km) \n",
            "in the men's category \n",
            "with a finish time of 02:29:27 \n",
            "and rank 19.                   \n",
            "--------------------------------------------------\n",
            "\n",
            "\n",
            "\n",
            "Mumbai Marathon 2020\n",
            "\n",
            "     CONGRATULATIONS\n",
            "\n",
            "This is to certify that NAOMI HADLEY                    \n",
            "BIB No. 57\n",
            "officially completed the marathon \n",
            "(distance 42.2 km) \n",
            "in the men's category \n",
            "with a finish time of 02:31:16 \n",
            "and rank 20.                   \n",
            "--------------------------------------------------\n",
            "\n",
            "\n"
          ]
        }
      ]
    },
    {
      "cell_type": "markdown",
      "metadata": {
        "id": "OjZsTtePdO0c"
      },
      "source": [
        "As you can see, we have labeled the placeholders to determine which value to assign to which placeholder. Then, using the `format()` function, we have assigned the values to their respective placeholders.\n",
        "\n",
        "**Syntax of `format()` function:** `string.format(placeholder1 = value1, placeholder2 = value2, ..., placeholderN = valueN)` where `N` is the number of values to assign or the number of placeholders to fill.\n",
        "\n",
        "We will pause here now and will continue learning the remaining string operations in the next class."
      ]
    },
    {
      "cell_type": "markdown",
      "metadata": {
        "id": "DrJU6Q5E8G0c"
      },
      "source": [
        "---"
      ]
    }
  ]
}