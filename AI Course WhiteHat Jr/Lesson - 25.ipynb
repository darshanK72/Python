{
  "nbformat": 4,
  "nbformat_minor": 0,
  "metadata": {
    "colab": {
      "name": "2021-11-19_Darshan_Lesson25",
      "provenance": [],
      "collapsed_sections": []
    },
    "kernelspec": {
      "name": "python3",
      "display_name": "Python 3"
    }
  },
  "cells": [
    {
      "cell_type": "markdown",
      "metadata": {
        "id": "aMbswDYFUt_1"
      },
      "source": [
        "# Lesson 25: Annotated Bar Graphs"
      ]
    },
    {
      "cell_type": "markdown",
      "metadata": {
        "id": "HdibbNMSUwxr"
      },
      "source": [
        "---"
      ]
    },
    {
      "cell_type": "markdown",
      "metadata": {
        "id": "dmruqgPqb9BH"
      },
      "source": [
        "### Teacher-Student Tasks\n",
        "\n",
        "In the previous classes, we learned how to create bar graphs, i.e., both the count plots and histograms. In this class, we will learn how to annotate (or label) bar graphs (both count plots and histograms) to display the essential parameters such as count and percentages in the graph itself.\n",
        "\n",
        "Let's quickly rush through the activities we covered in the previous class and begin this class from **Task 1: Count Plot Without Annotations** section.\n",
        "\n"
      ]
    },
    {
      "cell_type": "markdown",
      "metadata": {
        "id": "0btx_ehOLDK5"
      },
      "source": [
        "---"
      ]
    },
    {
      "cell_type": "markdown",
      "metadata": {
        "id": "DoShzic97iBl"
      },
      "source": [
        "#### Recap\n",
        "\n",
        "Dataset link (don't click on it):\n",
        "\n",
        "https://s3-student-datasets-bucket.whjr.online/whitehat-ds-datasets/meteorite-landings/meteorite-landings.csv\n",
        "\n",
        "\n",
        "**Dataset Credits:** https://www.kaggle.com/nasa/meteorite-landings"
      ]
    },
    {
      "cell_type": "code",
      "metadata": {
        "id": "ThLLbqIzUd9f",
        "colab": {
          "base_uri": "https://localhost:8080/"
        },
        "outputId": "7378ad44-04f1-4abb-b3b6-d6094d0795e6"
      },
      "source": [
        "# Below are the activities that have been covered in the previous class.\n",
        "# 1. Import the necessary libraries for this class and create a DataFrame.\n",
        "import numpy as np\n",
        "import pandas as pd\n",
        "import matplotlib.pyplot as plt\n",
        "import warnings\n",
        "\n",
        "warnings.filterwarnings(\"ignore\")\n",
        "met_df = pd.read_csv('https://s3-student-datasets-bucket.whjr.online/whitehat-ds-datasets/meteorite-landings/meteorite-landings.csv')\n",
        "\n",
        "# 2. Find the number of rows and columns in the DataFrame. \n",
        "print(met_df.shape)\n",
        "\n",
        "# 3. Rows containing the year values less than 860 and greater than 2016.\n",
        "correct_years_df = met_df[(met_df['year'] >= 860) & (met_df['year'] <= 2016)]\n",
        "\n",
        "# 4. Rows having the 'reclong' values greater than or equal to -180 degrees and less than or equal to 180 degrees.\n",
        "correct_long_df = correct_years_df[(correct_years_df['reclong'] >= -180) & (correct_years_df['reclong'] <= 180)]\n",
        "\n",
        "# 5. Rows containing the '0 reclat' and '0 reclong' values from the 'correct_long_df'.\n",
        "correct_lat_long_df = correct_long_df[~((correct_long_df['reclat'] == 0 ) & (correct_long_df['reclong'] == 0))]\n",
        "\n",
        "# 6. Indices of the rows having missing mass values.\n",
        "row_indices = correct_lat_long_df[correct_lat_long_df['mass'].isnull() == True].index\n",
        "\n",
        "# 7. Missing values in the 'mass' column in the 'correct_lat_long_df' DataFrame with median of mass.\n",
        "median_mass = correct_lat_long_df['mass'].median()\n",
        "correct_lat_long_df.loc[row_indices, 'mass'] = median_mass\n",
        "\n",
        "# 8. Convert the 'year' values into an integer type values.\n",
        "correct_lat_long_df.loc[:, 'year'] = correct_lat_long_df.loc[:, 'year'].astype('int')"
      ],
      "execution_count": null,
      "outputs": [
        {
          "output_type": "stream",
          "name": "stdout",
          "text": [
            "(45716, 10)\n"
          ]
        }
      ]
    },
    {
      "cell_type": "markdown",
      "metadata": {
        "id": "mAHPBr8hmtGf"
      },
      "source": [
        "---"
      ]
    },
    {
      "cell_type": "markdown",
      "metadata": {
        "id": "P-XzsmGGL25Z"
      },
      "source": [
        "#### Task 1: Count Plot Without Annotations\n",
        "\n",
        "Recall that in the previous two classes, we learned to draw the count plots and histograms for all the meteorites fallen on Earth in a year. However, the bars in the count plots and histograms didn't display the exact counts on the graph as you can see in the graphs below:"
      ]
    },
    {
      "cell_type": "code",
      "metadata": {
        "id": "jpbcSYNJkunJ",
        "colab": {
          "base_uri": "https://localhost:8080/",
          "height": 366
        },
        "outputId": "6fde6774-cc67-462a-b353-b97811e492f1"
      },
      "source": [
        "# S1.1: Run the code shown below.\n",
        "# Non-annotated count plot for the count of the meteorites between the years 1970 & 2000.\n",
        "import seaborn as sns\n",
        "plt.figure(figsize=(20, 6))\n",
        "sns.countplot(x='year', data=correct_lat_long_df[(correct_lat_long_df['year'] >= 1970) & (correct_lat_long_df['year'] < 2001)])\n",
        "plt.show()"
      ],
      "execution_count": null,
      "outputs": [
        {
          "output_type": "display_data",
          "data": {
            "image/png": "[encoded data removed]",
            "text/plain": [
              "<Figure size 1440x432 with 1 Axes>"
            ]
          },
          "metadata": {
            "needs_background": "light"
          }
        }
      ]
    },
    {
      "cell_type": "code",
      "metadata": {
        "id": "JTraeNt9lDwK",
        "colab": {
          "base_uri": "https://localhost:8080/",
          "height": 388
        },
        "outputId": "92ed549f-c56f-47e5-cc88-b53ec86d1253"
      },
      "source": [
        "# S1.2: Run the code shown below.\n",
        "# Non-annotated histogram for the Pandas series containing the year values between 1970 to 2000 including both of them.\n",
        "plt.figure(figsize=(10, 6))\n",
        "sns.distplot(correct_lat_long_df.loc[(correct_lat_long_df['year'] >= 1970) & (correct_lat_long_df['year'] < 2001), 'year'], bins=6, kde=False)\n",
        "plt.grid()\n",
        "plt.show()"
      ],
      "execution_count": null,
      "outputs": [
        {
          "output_type": "display_data",
          "data": {
            "image/png": "[encoded data removed]",
            "text/plain": [
              "<Figure size 720x432 with 1 Axes>"
            ]
          },
          "metadata": {
            "needs_background": "light"
          }
        }
      ]
    },
    {
      "cell_type": "markdown",
      "metadata": {
        "id": "vxPvqE8qkvGC"
      },
      "source": [
        "Let's learn how to display the exact figures on the bars in a count plot and a histogram by annotating (or labeling) them. \n",
        "\n",
        "\n",
        "Let's first annotate the count plot for the year 1970 to 2000 (both inclusive) with the count of the meteorites fallen in the year. The resulting annotated count plot should look like the following:\n",
        "\n",
        "<img src='https://student-datasets-bucket.s3.ap-south-1.amazonaws.com/images/countplot_annotated.png'>\n",
        "\n",
        "As you can see in the count plot above, there are bars for all the years in the range 1970 to 2000 indicating the count of the meteorites fallen in a year. The numbers on top of the bars show the actual counts. E.g., in the year 1979, a total of 3046 meteorites have fallen on Earth.\n",
        "\n",
        "\n"
      ]
    },
    {
      "cell_type": "markdown",
      "metadata": {
        "id": "_Pqx0BQMsPTN"
      },
      "source": [
        "---"
      ]
    },
    {
      "cell_type": "markdown",
      "metadata": {
        "id": "j19QBMlQsQUs"
      },
      "source": [
        "#### Task 2: The `patches` \n",
        "\n",
        "With reference to the `matplotlib.pyplot` module, the bars in the count plots and histograms are considered as rectangles. Each rectangle (or bar) in a count plot and a histogram has width, height, $x$, and $y$ coordinates as shown in the image below:\n",
        "\n",
        "<img src='https://student-datasets-bucket.s3.ap-south-1.amazonaws.com/images/matplotlib_rectangle.png' width=700>\n",
        "\n",
        "To create an annotated bar (both histogram and count plot) graph, we first need to get the rectangle attributes using the `patches` keyword along with the following functions:\n",
        "\n",
        "1. The `get_width()` function returns the width of the rectangle as shown in the image above.\n",
        "\n",
        "2. The `get_height()` function returns the height of the rectangle as shown in the image above.\n",
        "\n",
        "3. The `get_x()` function returns the `x` (or left) coordinate of the rectangle as shown in the image above.\n",
        "\n",
        "4. The `get_y()` function returns the `y` (or bottom) coordinate of the rectangle as shown in the image above.\n",
        "\n",
        "**Note:** \n",
        "\n",
        "1. The `angle` and `fill` are two more attributes of a rectangle that we don't need to know at the moment. We will learn about them whenever we require them.\n",
        "\n",
        "2. The `patches` keyword works only if the `matplotlib` module is imported.\n",
        "\n",
        "Let's get the Python list containing the rectangle attributes for the count plot displaying the number of meteorites fallen between 1970 to 2000. Also, let's print the length of the list. The steps to be followed are:\n",
        "\n",
        "1. Use the `countplot()` function to create a count plot for the meteorites fallen between 1970 to 2000 (both inclusive) and then store the count plot in a variable.\n",
        "\n",
        "2. Use the `patches` keyword to get the rectangle attributes list. Print the length of the list.\n",
        "\n",
        "3. Use the `for` loop to print rectangle attributes for each rectangle.\n"
      ]
    },
    {
      "cell_type": "code",
      "metadata": {
        "id": "O3Cgkee1sa8w",
        "colab": {
          "base_uri": "https://localhost:8080/",
          "height": 921
        },
        "outputId": "dac0b2c9-1af6-4608-8f22-ddef942fab26"
      },
      "source": [
        "# S2.1: Get the list containing the bar attributes for the count plot displaying the number of meteorites fallen from 1970 to 2000.\n",
        "# Store the count plot in the 'cp' variable.\n",
        "plt.figure(figsize=(20, 6))\n",
        "cp = sns.countplot(x='year', data=correct_lat_long_df[(correct_lat_long_df['year'] >= 1970) & (correct_lat_long_df['year'] < 2001)])\n",
        "print(len(cp.patches))\n",
        "\n",
        "for ele in cp.patches:\n",
        "  print(ele)\n",
        "\n",
        "# Get the list containing the bar (or rectangle) attributes.\n"
      ],
      "execution_count": null,
      "outputs": [
        {
          "output_type": "stream",
          "name": "stdout",
          "text": [
            "31\n",
            "Rectangle(xy=(-0.4, 0), width=0.8, height=46, angle=0)\n",
            "Rectangle(xy=(0.6, 0), width=0.8, height=48, angle=0)\n",
            "Rectangle(xy=(1.6, 0), width=0.8, height=31, angle=0)\n",
            "Rectangle(xy=(2.6, 0), width=0.8, height=30, angle=0)\n",
            "Rectangle(xy=(3.6, 0), width=0.8, height=691, angle=0)\n",
            "Rectangle(xy=(4.6, 0), width=0.8, height=336, angle=0)\n",
            "Rectangle(xy=(5.6, 0), width=0.8, height=51, angle=0)\n",
            "Rectangle(xy=(6.6, 0), width=0.8, height=421, angle=0)\n",
            "Rectangle(xy=(7.6, 0), width=0.8, height=262, angle=0)\n",
            "Rectangle(xy=(8.6, 0), width=0.8, height=3046, angle=0)\n",
            "Rectangle(xy=(9.6, 0), width=0.8, height=144, angle=0)\n",
            "Rectangle(xy=(10.6, 0), width=0.8, height=458, angle=0)\n",
            "Rectangle(xy=(11.6, 0), width=0.8, height=344, angle=0)\n",
            "Rectangle(xy=(12.6, 0), width=0.8, height=360, angle=0)\n",
            "Rectangle(xy=(13.6, 0), width=0.8, height=402, angle=0)\n",
            "Rectangle(xy=(14.6, 0), width=0.8, height=377, angle=0)\n",
            "Rectangle(xy=(15.6, 0), width=0.8, height=1375, angle=0)\n",
            "Rectangle(xy=(16.6, 0), width=0.8, height=915, angle=0)\n",
            "Rectangle(xy=(17.6, 0), width=0.8, height=2295, angle=0)\n",
            "Rectangle(xy=(18.6, 0), width=0.8, height=136, angle=0)\n",
            "Rectangle(xy=(19.6, 0), width=0.8, height=1507, angle=0)\n",
            "Rectangle(xy=(20.6, 0), width=0.8, height=871, angle=0)\n",
            "Rectangle(xy=(21.6, 0), width=0.8, height=372, angle=0)\n",
            "Rectangle(xy=(22.6, 0), width=0.8, height=979, angle=0)\n",
            "Rectangle(xy=(23.6, 0), width=0.8, height=719, angle=0)\n",
            "Rectangle(xy=(24.6, 0), width=0.8, height=486, angle=0)\n",
            "Rectangle(xy=(25.6, 0), width=0.8, height=583, angle=0)\n",
            "Rectangle(xy=(26.6, 0), width=0.8, height=1510, angle=0)\n",
            "Rectangle(xy=(27.6, 0), width=0.8, height=485, angle=0)\n",
            "Rectangle(xy=(28.6, 0), width=0.8, height=1582, angle=0)\n",
            "Rectangle(xy=(29.6, 0), width=0.8, height=1506, angle=0)\n"
          ]
        },
        {
          "output_type": "display_data",
          "data": {
            "image/png": "[encoded data removed]",
            "text/plain": [
              "<Figure size 1440x432 with 1 Axes>"
            ]
          },
          "metadata": {
            "needs_background": "light"
          }
        }
      ]
    },
    {
      "cell_type": "markdown",
      "metadata": {
        "id": "y1NQYFJ1JH7Y"
      },
      "source": [
        "As you can see, the `patches` keyword returns the Python list containing the attributes of each bar (or rectangle) in the count plot along with the countplot (to be ignored at the moment). There are 31 such rectangles, hence we have attributes for 31 rectangles in the `cp.patches` list.\n",
        "\n",
        "Let's get the `width, height, x` and `y` coordinates of each bar in the above count plot using the `get_width(), get_height(), get_x()`, and `get_y()` functions respectively:"
      ]
    },
    {
      "cell_type": "code",
      "metadata": {
        "id": "qrGR5AkLH-gk",
        "colab": {
          "base_uri": "https://localhost:8080/"
        },
        "outputId": "28da08c5-6999-4a21-fdc4-a1392513b0a2"
      },
      "source": [
        "# S2.2: Get the height, width, x, and y coordinates of each bar in the count plot stored in the 'cp' variable.\n",
        "for i in cp.patches:\n",
        "  print(i.get_width())\n",
        "  print(i.get_height())\n",
        "  print(i.get_x())\n",
        "  print(i.get_y())\n",
        "  print()"
      ],
      "execution_count": null,
      "outputs": [
        {
          "output_type": "stream",
          "name": "stdout",
          "text": [
            "0.8\n",
            "46\n",
            "-0.4\n",
            "0\n",
            "\n",
            "0.8\n",
            "48\n",
            "0.6\n",
            "0\n",
            "\n",
            "0.8\n",
            "31\n",
            "1.6\n",
            "0\n",
            "\n",
            "0.8\n",
            "30\n",
            "2.6\n",
            "0\n",
            "\n",
            "0.8\n",
            "691\n",
            "3.6\n",
            "0\n",
            "\n",
            "0.8\n",
            "336\n",
            "4.6\n",
            "0\n",
            "\n",
            "0.8\n",
            "51\n",
            "5.6\n",
            "0\n",
            "\n",
            "0.8\n",
            "421\n",
            "6.6\n",
            "0\n",
            "\n",
            "0.8\n",
            "262\n",
            "7.6\n",
            "0\n",
            "\n",
            "0.8\n",
            "3046\n",
            "8.6\n",
            "0\n",
            "\n",
            "0.8\n",
            "144\n",
            "9.6\n",
            "0\n",
            "\n",
            "0.8\n",
            "458\n",
            "10.6\n",
            "0\n",
            "\n",
            "0.8\n",
            "344\n",
            "11.6\n",
            "0\n",
            "\n",
            "0.8\n",
            "360\n",
            "12.6\n",
            "0\n",
            "\n",
            "0.8\n",
            "402\n",
            "13.6\n",
            "0\n",
            "\n",
            "0.8\n",
            "377\n",
            "14.6\n",
            "0\n",
            "\n",
            "0.8\n",
            "1375\n",
            "15.6\n",
            "0\n",
            "\n",
            "0.8\n",
            "915\n",
            "16.6\n",
            "0\n",
            "\n",
            "0.8\n",
            "2295\n",
            "17.6\n",
            "0\n",
            "\n",
            "0.8\n",
            "136\n",
            "18.6\n",
            "0\n",
            "\n",
            "0.8\n",
            "1507\n",
            "19.6\n",
            "0\n",
            "\n",
            "0.8\n",
            "871\n",
            "20.6\n",
            "0\n",
            "\n",
            "0.8\n",
            "372\n",
            "21.6\n",
            "0\n",
            "\n",
            "0.8\n",
            "979\n",
            "22.6\n",
            "0\n",
            "\n",
            "0.8\n",
            "719\n",
            "23.6\n",
            "0\n",
            "\n",
            "0.8\n",
            "486\n",
            "24.6\n",
            "0\n",
            "\n",
            "0.8\n",
            "583\n",
            "25.6\n",
            "0\n",
            "\n",
            "0.8\n",
            "1510\n",
            "26.6\n",
            "0\n",
            "\n",
            "0.8\n",
            "485\n",
            "27.6\n",
            "0\n",
            "\n",
            "0.8\n",
            "1582\n",
            "28.6\n",
            "0\n",
            "\n",
            "0.8\n",
            "1506\n",
            "29.6\n",
            "0\n",
            "\n"
          ]
        }
      ]
    },
    {
      "cell_type": "markdown",
      "metadata": {
        "id": "ZSUC8QIcIqyv"
      },
      "source": [
        "So as you can see, we have retrieved the attributes of each rectangle in the count plot created for the `correct_lat_long_df[(correct_lat_long_df['year'] >= 1970) & (correct_lat_long_df['year'] < 2001)]` DataFrame.\n",
        "\n",
        "Now, let's annotate them."
      ]
    },
    {
      "cell_type": "markdown",
      "metadata": {
        "id": "LhnaylKeI9PA"
      },
      "source": [
        "---"
      ]
    },
    {
      "cell_type": "markdown",
      "metadata": {
        "id": "M8tGjBXfI-Ju"
      },
      "source": [
        "#### Task 3: The `annotate()` Function\n",
        "\n",
        "To annotate a bar in either a histogram or a count plot, you need to use the `annotate()` function. It takes several parameters as inputs. But for the time being, we will pass only the following parameters:\n",
        "\n",
        "1. `text`: It is the label (or annotation) that you would like to put in the graph. Here, we will put the height of each bar graph as the labels. It is supposed to be a string value. The `text` parameter also supports integer values but as a best practice, always use only the string values.\n",
        "\n",
        "2. `xy`: It is the position (`x` and `y` coordinates) of the bar where a label (or annotation) is supposed to be applied. The coordinates need to be passed as a tuple.\n",
        "\n",
        "3. `ha` or `horizontalalignment`: As the name suggests, it controls the horizontal alignment of the label (or annotation). You can provide the following values for horizontal alignment:\n",
        "\n",
        "  - `left`: It puts a label on the left-hand side of the `x` coordinate. This is counter-intuitive.\n",
        "\n",
        "  - `right`: It puts a label on the right-hand side of the `x` coordinate. This is again counter-intuitive.\n",
        "\n",
        "  - `center`: It puts a label at equal distances w.r.t. the `x` coordinate. \n",
        "\n",
        "4. `va` or `verticalalignment`: As the name suggests, it controls the vertical alignment of the label (or annotation).\n",
        "\n",
        "  - `top`: It puts a label at the bottom w.r.t. the `y` coordinate. This is counter-intuitive.\n",
        "\n",
        "  - `center`: It puts a label at equal distances w.r.t. the `y` coordinate.\n",
        "\n",
        "  - `bottom`: It puts a label at top w.r.t. the `y` coordinate. This is counter-intuitive.\n",
        "\n",
        "**Syntax:** `some_plot.annotate(text, xy, ha, va)` where `some_plot` is the variable storing the `matplotlib.pyplot` graph.\n",
        "\n",
        "Now, let's annotate the count plot for the meteorites fallen between the years 1970 to 2000 (including 2000): \n"
      ]
    },
    {
      "cell_type": "code",
      "metadata": {
        "id": "yx_w8V8zXQhP",
        "colab": {
          "base_uri": "https://localhost:8080/",
          "height": 366
        },
        "outputId": "b23a0ccf-9486-433a-ba7e-ad54f9771aad"
      },
      "source": [
        "# S3.1: Annotate bars in the count plot for the meteorites fallen between the years 1970 to 2000 (including both).\n",
        "plt.figure(figsize=(20, 6))\n",
        "cp = sns.countplot(x='year', data=correct_lat_long_df[(correct_lat_long_df['year'] >= 1970) & (correct_lat_long_df['year'] < 2001)])\n",
        "\n",
        "for i in cp.patches:\n",
        "  cp.annotate(str(i.get_height()),xy=(i.get_x()+ i.get_width()/2,i.get_height()),ha='right',va='top')\n"
      ],
      "execution_count": null,
      "outputs": [
        {
          "output_type": "display_data",
          "data": {
            "image/png": "[encoded data removed]",
            "text/plain": [
              "<Figure size 1440x432 with 1 Axes>"
            ]
          },
          "metadata": {
            "needs_background": "light"
          }
        }
      ]
    },
    {
      "cell_type": "markdown",
      "metadata": {
        "id": "ZdYcWSAHrpyT"
      },
      "source": [
        "In the above code, we iterate through each patch to get the attributes for each bar in the count plot. \n",
        "\n",
        "For each bar:\n",
        "\n",
        "- We annotate (or label) the bar height to the bar. The bar height is essentially the count of meteorites fallen to Earth in a year. We convert it into a string value using the `str()` function to pass it as the value for the `text` parameter in the `annotate()` function. \n",
        "\n",
        "- Using the `get_x()` function, we get the x-coordinate of the bar to specify the horizontal position of the label to be placed.\n",
        "\n",
        "- Using the `get_height()` function again, we get the height of the bar which we use to specify the vertical position of the label to be placed.\n",
        "\n",
        "- Using the `get_width()` function, we get the width of the bar which we have added to the value returned by the `get_x()` function to adjust the horizontal position of the label to be placed. The horizontal and vertical positions are passed as the values of the `xy` parameter.\n",
        "\n",
        "- We have further adjusted the position of the label to be placed using the `ha` and `va` parameters.\n",
        "\n",
        "You should play with the `xy`, `ha`, and `va` parameters by changing their values to truly understand the alignment behavior of an annotation (or label).\n",
        "\n",
        "Now, let's annotate a histogram created using the `displot()` function of the `seaborn` module."
      ]
    },
    {
      "cell_type": "markdown",
      "metadata": {
        "id": "tXO47iQ3Fo-8"
      },
      "source": [
        "---"
      ]
    },
    {
      "cell_type": "markdown",
      "metadata": {
        "id": "x1sGC6kWFpqI"
      },
      "source": [
        "#### Task 4: Annotating `seaborn` Histogram\n",
        "\n",
        "For a histogram created using the `seaborn` module, the same process is followed. Recall that to create a histogram using the `seaborn` module, you need to use the `distplot()` function with the `kde` parameter set equal to `False`:"
      ]
    },
    {
      "cell_type": "code",
      "metadata": {
        "id": "G11OqO90z0ei",
        "colab": {
          "base_uri": "https://localhost:8080/",
          "height": 388
        },
        "outputId": "fde7e448-e353-4bb4-ba41-a95dcf3260a8"
      },
      "source": [
        "# S4.1: Annotate a histogram created using the 'distplot()' function.\n",
        "plt.figure(figsize=(10, 6))\n",
        "dp = sns.distplot(correct_lat_long_df.loc[(correct_lat_long_df['year'] >= 1970) & (correct_lat_long_df['year'] < 2001), 'year'], bins=6, kde=False)\n",
        "plt.grid()\n",
        "\n",
        "for i in dp.patches:\n",
        "  dp.annotate(str(i.get_height()),xy=(i.get_x()+ i.get_width()/2,i.get_height()),ha='center',va='bottom')"
      ],
      "execution_count": null,
      "outputs": [
        {
          "output_type": "display_data",
          "data": {
            "image/png": "[encoded data removed]",
            "text/plain": [
              "<Figure size 720x432 with 1 Axes>"
            ]
          },
          "metadata": {
            "needs_background": "light"
          }
        }
      ]
    },
    {
      "cell_type": "markdown",
      "metadata": {
        "id": "A4n2s76eqi-d"
      },
      "source": [
        "Therefore, \n",
        "\n",
        "- 846 meteorites fell on Earth from 1970 to 1975 (excluding 1975).\n",
        "\n",
        "- 4116 meteorites fell on Earth from 1975 to 1980 (excluding 1980).\n",
        "\n",
        "- 1708 meteorites fell on Earth from 1980 to 1985 (excluding 1985).\n",
        "\n",
        "- 5098 meteorites fell on Earth from 1985 to 1990 (excluding 1990).\n",
        "\n",
        "- 4448 meteorites fell on Earth from 1990 to 1995 (excluding 1995).\n",
        "\n",
        "- 6152 meteorites fell on Earth from 1995 to 2000 (**including** 2000).\n",
        "\n",
        "\n",
        "The values in the annotations are floating-point values converted to the string values. Let's first convert them into integer values before converting them to string values to avoid `0` after the decimal point. "
      ]
    },
    {
      "cell_type": "code",
      "metadata": {
        "id": "OYvwnzyTZxjG",
        "colab": {
          "base_uri": "https://localhost:8080/",
          "height": 388
        },
        "outputId": "ff049dd5-a2d3-46d4-fc19-a3f6d8354b28"
      },
      "source": [
        "# S4.2: Convert the height values to integer values before converting them to the string values in the above histogram.\n",
        "plt.figure(figsize=(10, 6))\n",
        "dp = sns.distplot(correct_lat_long_df.loc[(correct_lat_long_df['year'] >= 1970) & (correct_lat_long_df['year'] < 2001), 'year'], bins=6, kde=False)\n",
        "plt.grid()\n",
        "\n",
        "for i in dp.patches:\n",
        "  dp.annotate(str(int(i.get_height())),xy=(i.get_x()+ i.get_width()/2,i.get_height()),ha='center',va='bottom')"
      ],
      "execution_count": null,
      "outputs": [
        {
          "output_type": "display_data",
          "data": {
            "image/png": "[encoded data removed]",
            "text/plain": [
              "<Figure size 720x432 with 1 Axes>"
            ]
          },
          "metadata": {
            "needs_background": "light"
          }
        }
      ]
    },
    {
      "cell_type": "markdown",
      "metadata": {
        "id": "aDt4JC4_0ddR"
      },
      "source": [
        "Thus, we created the histogram using `seaborn` the module and annoatated with integer values. "
      ]
    },
    {
      "cell_type": "markdown",
      "metadata": {
        "id": "S_Zjx-qtF1fy"
      },
      "source": [
        "---"
      ]
    },
    {
      "cell_type": "markdown",
      "metadata": {
        "id": "WJD9Kl36wl83"
      },
      "source": [
        "#### Task 5: Annotating `matplotlib.pyplot` Histogram\n",
        "\n",
        "The annotation of a histogram is created using the `hist()` function which exists in the `matplotlib.pyplot` module is slightly different. Let's jump in right away without going too much into the theory.\n",
        "\n",
        "Let's create a histogram for the meteorites fallen on Earth between 1970 to 2000 (both inclusive) using the `hist()` function and store it in a variable. Let's keep the bin size 6 because we want to compare this histogram with the one created using the `distplot()` function:"
      ]
    },
    {
      "cell_type": "code",
      "metadata": {
        "id": "rMlhLP2KfiJb",
        "colab": {
          "base_uri": "https://localhost:8080/",
          "height": 374
        },
        "outputId": "51bd17aa-4788-4874-c819-08b2aee883c5"
      },
      "source": [
        "# S5.1: Using the 'hist()' function, create a histogram for the meteorites fallen on Earth between 1970 & 2000 (both inclusive)\n",
        "# Store the histogram in a variable.\n",
        "plt.figure(figsize=(10, 6))\n",
        "hs = plt.hist(correct_lat_long_df.loc[(correct_lat_long_df['year'] >= 1970) & (correct_lat_long_df['year'] < 2001), 'year'], bins=6)\n",
        "plt.grid()\n",
        "# Keep the bin  6 because we want to compare the histogram with the one created using the 'distplot()' function.\n",
        "plt.show()\n",
        "\n"
      ],
      "execution_count": null,
      "outputs": [
        {
          "output_type": "display_data",
          "data": {
            "image/png": "[encoded data removed]",
            "text/plain": [
              "<Figure size 720x432 with 1 Axes>"
            ]
          },
          "metadata": {
            "needs_background": "light"
          }
        }
      ]
    },
    {
      "cell_type": "markdown",
      "metadata": {
        "id": "TXh1plZ_Hbuo"
      },
      "source": [
        "The `plt.hist()` function returns a tuple containing 3 items. Therefore, the value stored in the `hgram` variable is a tuple containing 3 items. They are:\n",
        "\n",
        "1. The height of the bars in the histogram.\n",
        "\n",
        "2. The $x-$coordinates on the $x-$axis of the histogram.\n",
        "\n",
        "3. The attributes for each bar (or rectangle) in the histogram."
      ]
    },
    {
      "cell_type": "code",
      "metadata": {
        "id": "pUlvFvjEhASB",
        "colab": {
          "base_uri": "https://localhost:8080/"
        },
        "outputId": "2ab54c7e-bda3-4d2b-dc85-57991e928138"
      },
      "source": [
        "# S5.2: Verify whether the 'hgram' variable stores a tuple or not. Also, print the items of the tuple stored in the 'hgram' variable. \n",
        "type(hs)\n",
        "print(len(hs))\n",
        "print(hs)\n"
      ],
      "execution_count": null,
      "outputs": [
        {
          "output_type": "stream",
          "name": "stdout",
          "text": [
            "3\n",
            "(array([ 846., 4116., 1708., 5098., 4448., 6152.]), array([1970., 1975., 1980., 1985., 1990., 1995., 2000.]), <a list of 6 Patch objects>)\n"
          ]
        }
      ]
    },
    {
      "cell_type": "markdown",
      "metadata": {
        "id": "dJXR4fQKundn"
      },
      "source": [
        "As you can see, the `hgram` variable indeed stores a tuple.\n",
        "\n",
        "The list containing the attributes of rectangles (or bars) such as width, height, $x$, and $y$ coordinates, in the histogram exists at index 2 of the tuple contained in the `hgram` variable. Let's print these rectangle attributes:"
      ]
    },
    {
      "cell_type": "code",
      "metadata": {
        "id": "L8tTv48OtZXl",
        "colab": {
          "base_uri": "https://localhost:8080/"
        },
        "outputId": "0e71ac78-0ab7-4ac6-b6a1-1d87dbc0cb96"
      },
      "source": [
        "# S5.3: Print the rectangle (or bar) attributes of the histogram stored in the 'hgram' variable.\n",
        "for i in hs[2]:\n",
        "  print(i.get_height(),i.get_width())"
      ],
      "execution_count": null,
      "outputs": [
        {
          "output_type": "stream",
          "name": "stdout",
          "text": [
            "846.0 5.0\n",
            "4116.0 5.0\n",
            "1708.0 5.0\n",
            "5098.0 5.0\n",
            "4448.0 5.0\n",
            "6152.0 5.0\n"
          ]
        }
      ]
    },
    {
      "cell_type": "markdown",
      "metadata": {
        "id": "CnBiM33XqaVE"
      },
      "source": [
        "Now, let's annotate the `matplotlib.pyplot` histogram using the `annotate()` function:"
      ]
    },
    {
      "cell_type": "code",
      "metadata": {
        "id": "kjYC5DshvY-L",
        "colab": {
          "base_uri": "https://localhost:8080/",
          "height": 374
        },
        "outputId": "513b3b2e-e112-4311-8e2f-2a3619cbba04"
      },
      "source": [
        "# S5.4: Annotate the histogram stored in the 'hgram' variable.\n",
        "# S5.1: Using the 'hist()' function, create a histogram for the meteorites fallen on Earth between 1970 & 2000 (both inclusive)\n",
        "# Store the histogram in a variable.\n",
        "plt.figure(figsize=(10, 6))\n",
        "hs = plt.hist(correct_lat_long_df.loc[(correct_lat_long_df['year'] >= 1970) & (correct_lat_long_df['year'] < 2001), 'year'], bins=6)\n",
        "plt.grid()\n",
        "\n",
        "for i in hs[2]:\n",
        "  plt.annotate(str(i.get_height()),xy=(i.get_x()+i.get_width()/2,i.get_height()),ha='center',va='bottom')\n",
        "  "
      ],
      "execution_count": null,
      "outputs": [
        {
          "output_type": "display_data",
          "data": {
            "image/png": "[encoded data removed]",
            "text/plain": [
              "<Figure size 720x432 with 1 Axes>"
            ]
          },
          "metadata": {
            "needs_background": "light"
          }
        }
      ]
    },
    {
      "cell_type": "markdown",
      "metadata": {
        "id": "ep2E2q3aTUvQ"
      },
      "source": [
        "The count of the meteorites fallen, in the above histogram are float values. Let's convert them first into integer values and then convert them into string values:"
      ]
    },
    {
      "cell_type": "code",
      "metadata": {
        "id": "eNz1dVX5TeOr",
        "colab": {
          "base_uri": "https://localhost:8080/",
          "height": 374
        },
        "outputId": "d6efeb23-5cf7-4b62-e544-c829fd3e8a28"
      },
      "source": [
        "# S5.5: Convert the count values into the integer values.\n",
        "plt.figure(figsize=(10, 6))\n",
        "hs = plt.hist(correct_lat_long_df.loc[(correct_lat_long_df['year'] >= 1970) & (correct_lat_long_df['year'] < 2001), 'year'], bins=6)\n",
        "plt.grid()\n",
        "\n",
        "for i in hs[2]:\n",
        "  plt.annotate(str(int(i.get_height())),xy=(i.get_x()+i.get_width()/2,i.get_height()),ha='center',va='bottom')\n",
        "  "
      ],
      "execution_count": null,
      "outputs": [
        {
          "output_type": "display_data",
          "data": {
            "image/png": "[encoded data removed]",
            "text/plain": [
              "<Figure size 720x432 with 1 Axes>"
            ]
          },
          "metadata": {
            "needs_background": "light"
          }
        }
      ]
    },
    {
      "cell_type": "markdown",
      "metadata": {
        "id": "rANxgCfyA_69"
      },
      "source": [
        "As you can see, now we have integer values annotated to the bars in the histogram.\n",
        "\n",
        "So this is all about bar graphs and histograms. In the next class, we will learn the fundamentals of the Python dictionaries."
      ]
    },
    {
      "cell_type": "markdown",
      "metadata": {
        "id": "GVPZ6pWI3tvS"
      },
      "source": [
        "---"
      ]
    }
  ]
}