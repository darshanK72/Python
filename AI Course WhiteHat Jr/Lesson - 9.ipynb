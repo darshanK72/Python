{
  "nbformat": 4,
  "nbformat_minor": 0,
  "metadata": {
    "colab": {
      "name": "Copy of 201-10-22_Darshan_lesson9",
      "provenance": [],
      "collapsed_sections": []
    },
    "kernelspec": {
      "name": "python3",
      "display_name": "Python 3"
    }
  },
  "cells": [
    {
      "cell_type": "markdown",
      "metadata": {
        "id": "7LlG_PPFjJUz"
      },
      "source": [
        "# Lesson 9 - Python Lists III"
      ]
    },
    {
      "cell_type": "markdown",
      "metadata": {
        "id": "ufJSmLTQs3O3"
      },
      "source": [
        "---"
      ]
    },
    {
      "cell_type": "markdown",
      "metadata": {
        "id": "bQWxe7FVzpnK"
      },
      "source": [
        "#### Task 1: Multiple Data Types\n",
        "\n",
        "A Python list can store values of different types. Recall that in one of the previous lesson, we created 4 different variables to store the attributes of a planet.  \n",
        "\n",
        "(*Learned in Lesson : Variables and Data Types*)\n",
        "\n",
        "||Mercury|\n",
        "|-|-|\n",
        "|Diameter (km)|4879|\n",
        "|Gravity ($m/s^2$)|3.7|\n",
        "|Ring|No|\n",
        "\n",
        "\n",
        "\n",
        "\n",
        "**Q:** Do you remember the different data types in python?\n",
        "\n",
        "**A:** There are four different data types. They are:\n",
        "1. `int`: A numeric value without a digit after the decimal point. \n",
        "For example: `13, -244`, etc. \n",
        "\n",
        "2. `float`: A numeric value with a digit after the decimal point. \n",
        "For example: `2.71, -3.14898`, etc.\n",
        "\n",
        "    **Note:** Both the `int` and `float` values can be positive or negative or `0`.\n",
        "\n",
        "3. `str` (stands for string): Any value enclosed within single (`' '`) or double (`\" \"`) quotes. For example: `'Windows 10', '15 August 1947'`, etc.\n",
        "\n",
        "4. `bool` (stands for boolean): Either `True` or `False`.\n",
        "\n",
        "Let's store the name of the planet, its diameter, gravity, and whether it has a ring or not in a Python list:\n"
      ]
    },
    {
      "cell_type": "code",
      "metadata": {
        "id": "Zh7dKWu3zvgS"
      },
      "source": [
        "# S1.1: Create a list that contains \"Mercury\", its diameter, gravity, and whether it has a ring or not.\n",
        "planet = ['Mercury',4879,3.7,False]"
      ],
      "execution_count": null,
      "outputs": []
    },
    {
      "cell_type": "markdown",
      "metadata": {
        "id": "jAL58hNHVupQ"
      },
      "source": [
        "Hence, we can notice that a Python list is capable of storing items having different data types. Let us learn how to determine the number of items stored in a list."
      ]
    },
    {
      "cell_type": "markdown",
      "metadata": {
        "id": "HCSXokBQzz_M"
      },
      "source": [
        "---"
      ]
    },
    {
      "cell_type": "markdown",
      "metadata": {
        "id": "b449Ffvhz0-D"
      },
      "source": [
        "#### Task 2: List Length\n",
        "To see how many items are stored in a list, you can use a function called `len()`.\n",
        "\n",
        "\n",
        "\n",
        "**Syntax:** `len(list_name)`\n",
        "\n",
        "Let us find out the number of items stored in the `planet` list:"
      ]
    },
    {
      "cell_type": "code",
      "metadata": {
        "id": "QmAry8Iyz3hM",
        "colab": {
          "base_uri": "https://localhost:8080/"
        },
        "outputId": "589e39e5-7aca-4a4e-a428-83eb4ad0119b"
      },
      "source": [
        "# S2.1: Find the number of items stored in the 'planet' list.\n",
        "len(planet)"
      ],
      "execution_count": null,
      "outputs": [
        {
          "output_type": "execute_result",
          "data": {
            "text/plain": [
              "4"
            ]
          },
          "metadata": {},
          "execution_count": 2
        }
      ]
    },
    {
      "cell_type": "markdown",
      "metadata": {
        "id": "-pA-oZtiVsMk"
      },
      "source": [
        "Thus, the `len()` function returns the total number of items in the list. Let us learn how to access individual items of a list."
      ]
    },
    {
      "cell_type": "markdown",
      "metadata": {
        "id": "VrrdIxJjzja0"
      },
      "source": [
        "---"
      ]
    },
    {
      "cell_type": "markdown",
      "metadata": {
        "id": "h-foVuZpz9cq"
      },
      "source": [
        "#### Task 3: List Indexing\n",
        "\n",
        "Imagine a multi-story building. When you enter into the lift, you can see such buttons.\n",
        "\n",
        "\n",
        "\n",
        "<img src=\"https://s3-whjr-v2-prod-bucket.whjr.online/da5ce5fe-b6e6-4625-9fdd-77305142334a.gif\" />\n",
        "\n",
        "- To move to the 2nd floor, you need to press **2**. \n",
        "- To move to the 5th floor, you need to press **5**.\n",
        "- To come back to the ground floor, you need to press the **0** or **G** button.\n",
        "\n",
        "So the floor number always starts with **0** and **G**. \n",
        "\n",
        "Similarly, in a list, the index which indicates the location of the element always starts with **0** and **not 1**. This is called as **Zero-Based Indexing.**\n",
        "\n",
        "\n",
        "A list index is also similar to your roll number in your class in the school. But here's a catch: The roll number of the first student will be `1`. On the other hand, the roll number of the first item in a Python list is `0`. \n",
        "\n",
        "For example: In the `planet` list, the first item is `\"Mercury\"` so its index is `0`.\n",
        "\n",
        "To get an item located at each index in a list, just write the list name followed by the square brackets `[], ` and inside the brackets, enter the index number.\n",
        "\n",
        "**Syntax:** `list_name[index_number]`\n",
        "\n"
      ]
    },
    {
      "cell_type": "code",
      "metadata": {
        "id": "-5IyZLF2z-Uz",
        "colab": {
          "base_uri": "https://localhost:8080/"
        },
        "outputId": "83129439-508e-4a5f-a6ba-11e73d7d0438"
      },
      "source": [
        "# S3.1: Print the items at each index in the 'planet' list.\n",
        "print(planet[0])"
      ],
      "execution_count": null,
      "outputs": [
        {
          "output_type": "stream",
          "name": "stdout",
          "text": [
            "Mercury\n"
          ]
        }
      ]
    },
    {
      "cell_type": "markdown",
      "metadata": {
        "id": "50X_qVLV4LIL"
      },
      "source": [
        "Imagine that you have a list containing `100` items. Getting each item of that list using this method will not be feasible. In such cases, you can retrieve every item using a loop called as `for` loop.\n",
        "Let's first learn the `for` loop. "
      ]
    },
    {
      "cell_type": "markdown",
      "metadata": {
        "id": "RzPVnLT04NbD"
      },
      "source": [
        "---"
      ]
    },
    {
      "cell_type": "markdown",
      "metadata": {
        "id": "JOpx4Gje0BkH"
      },
      "source": [
        "#### Task 4: The `for` Loop\n",
        "\n",
        "\n",
        "The `for` loop is used to repeat or iterate a set of statements for a fixed number of times. \n",
        "\n",
        "**For e.g:** If we want to print the first `5` natural numbers using `for` loop.\n",
        "First, we will use a ready-made function called `range()` inside `for` loop which generates consecutive natural numbers between two specific numbers.\n",
        "\n",
        "```python\n",
        "for i in range(1, 6):\n",
        "  print(i)\n",
        "```\n",
        "\n",
        "\n",
        "The above code can be read as *for every number in the range of `1` to `6` and except `6`, print a number.* So, in the range of `1` to `6` and except `6`, there are `5` numbers starting from `1` to `5`. So, all these numbers in this range will get printed one by one. \n",
        "\n",
        "<img src=\"https://curriculum.whitehatjr.com/APT+Asset/Untitled-1.gif\" width=600/>\n",
        "\n",
        "**The range function:**\n",
        "\n",
        "It is used to generate a range of numbers. \n",
        "\n",
        "**Syntax:** `range(start, end)`\n",
        "\n",
        "Where,\n",
        "\n",
        "- `start` (optional):  An integer that specifies from which position to start. Default is 0.\n",
        "- `end` (required): An integer that specifies at which position to stop. This number is not included in the range.\n",
        "\n",
        "**For e.g:**\n",
        "1. `range(0,6)` $\\Rightarrow$ Generates numbers from 0 to 5.\n",
        "2.`range(6)` $\\Rightarrow$ Generates numbers from 0 to 5.\n",
        "3. `range(1,11)` $\\Rightarrow$ Generates numbers from 1 to 10.\n",
        "4. `range(11)` $\\Rightarrow$ Generates numbers from 0 to 10.\n",
        "\n",
        "\n"
      ]
    },
    {
      "cell_type": "markdown",
      "metadata": {
        "id": "9Ox6XpAb0Exy"
      },
      "source": [
        "\n",
        "\n",
        "Now, let's retrieve all the values of the `planet` list using the `for` loop:"
      ]
    },
    {
      "cell_type": "code",
      "metadata": {
        "id": "C-CoERDG0LUN",
        "colab": {
          "base_uri": "https://localhost:8080/"
        },
        "outputId": "1fac6635-2456-4e19-d665-bfdc608262fe"
      },
      "source": [
        "# S4.1: Using 'for' loop, print each element of the 'planet' list.\n",
        "# 1. First, find out how many items are there in the 'planet' list and store it in the variable called num_items.\n",
        "l = len(planet)\n",
        "\n",
        "# 2. Now iterate through each item using the for loop.\n",
        "for i in range(l):\n",
        "\n",
        "  # 3. Now, write the print() function with 'i' and 'planet[i]' as inputs.\n",
        "  print(planet[i])"
      ],
      "execution_count": null,
      "outputs": [
        {
          "output_type": "stream",
          "name": "stdout",
          "text": [
            "Mercury\n",
            "4879\n",
            "3.7\n",
            "False\n"
          ]
        }
      ]
    },
    {
      "cell_type": "markdown",
      "metadata": {
        "id": "0UnmVNi80NR5"
      },
      "source": [
        "Here:\n",
        "\n",
        "- The value of `num_items` is `4` because the length of the `planet` list is `4` as it contains `4` items. \n",
        "\n",
        "- The `range()` function, takes `4` as input and generates numbers from `0` to `3`. The number `4` is excluded.\n",
        "\n",
        "- The value of `i` also goes from `0` to `3`. Hence, `planet[i]` goes from `planet[0]` to `planet[3]`. Essentially, the variable `i` stores the values generated by the `range()` function, but only one value at-a-time.\n",
        "\n",
        "- So, for every value of `i` the `print()` function takes `planet[i]` as input and prints each item contained in the planet list.\n",
        "\n",
        "There is another way to get all the items from a Python list using a for loop:\n"
      ]
    },
    {
      "cell_type": "code",
      "metadata": {
        "id": "9FBF_dDp0V-b",
        "colab": {
          "base_uri": "https://localhost:8080/"
        },
        "outputId": "b4e792cb-6ef8-4ee9-ca1a-bb62fa7099a9"
      },
      "source": [
        "# S4.2: Demonstrate another way of getting all the items from a list using the 'for' loop.\n",
        "for ele in planet:\n",
        "  print(ele)"
      ],
      "execution_count": null,
      "outputs": [
        {
          "output_type": "stream",
          "name": "stdout",
          "text": [
            "Mercury\n",
            "4879\n",
            "3.7\n",
            "False\n"
          ]
        }
      ]
    },
    {
      "cell_type": "markdown",
      "metadata": {
        "id": "aSMbRQAF0ZLW"
      },
      "source": [
        "Here, the variable `i` does not take the numeric value because the `range()` function is not used here. So, the value of `i` goes from the first item of the `planet` list till the last item in the `planet` list.\n",
        "\n",
        "**What if you want to print items of a list in reverse order?**\n",
        "\n",
        "This can be achieved using **Negative Indexing**.\n",
        "\n",
        "---"
      ]
    },
    {
      "cell_type": "markdown",
      "metadata": {
        "id": "2mfUa8mDx1t-"
      },
      "source": [
        "#### Task 5: Negative Indexing\n",
        "\n",
        "You can also use negative indices to get items from a list. They help to retrieve items from a list in reverse order.\n",
        "\n",
        "The negative indices begin with `-1` and go till `-n` where `n` is the number of items in a list.\n",
        "\n",
        "- The last item in the list is located at the `-1` index.\n",
        "- The first item in the list is located at the `-n` index.\n",
        "\n",
        "\n",
        "<img src='https://curriculum.whitehatjr.com/APT+Asset/APT+C6+images/whj-python-list-apt-c8.gif' height=400>\n",
        "\n",
        "Let us retrieve all the items of `planet` list using negative indexing.\n"
      ]
    },
    {
      "cell_type": "code",
      "metadata": {
        "id": "eNow53vbeVyj",
        "colab": {
          "base_uri": "https://localhost:8080/"
        },
        "outputId": "781ae3b4-867f-4319-e8b2-aadab6607362"
      },
      "source": [
        "# S5.1: Use the negative indices to retrieve all the items from the 'planet' list.\n",
        "print(planet[-4])"
      ],
      "execution_count": null,
      "outputs": [
        {
          "output_type": "stream",
          "name": "stdout",
          "text": [
            "Mercury\n"
          ]
        }
      ]
    },
    {
      "cell_type": "markdown",
      "metadata": {
        "id": "cXtWzL-lYDtv"
      },
      "source": [
        "Similarly, let us retrieve all the items from the `planet` list in the reverse order using `for` loop and neagtive indexing:"
      ]
    },
    {
      "cell_type": "code",
      "metadata": {
        "id": "bDQ_d0F5fEdn",
        "colab": {
          "base_uri": "https://localhost:8080/"
        },
        "outputId": "c77df937-5695-497f-c8b0-b357213b037e"
      },
      "source": [
        "# S5.2: Using the 'for' loop and negative indices, retrieve all the items from the 'planet' list in the reverse order.\n",
        "for i in range(-1,-5,-1):\n",
        "  print(planet[i])\n",
        "\n",
        "for i in range(1,5):\n",
        "  print(planet[-i])"
      ],
      "execution_count": null,
      "outputs": [
        {
          "output_type": "stream",
          "name": "stdout",
          "text": [
            "False\n",
            "3.7\n",
            "4879\n",
            "Mercury\n",
            "False\n",
            "3.7\n",
            "4879\n",
            "Mercury\n"
          ]
        }
      ]
    },
    {
      "cell_type": "markdown",
      "metadata": {
        "id": "MfTs0p63z8fE"
      },
      "source": [
        "---"
      ]
    },
    {
      "cell_type": "markdown",
      "metadata": {
        "id": "ZAylC_zL6ugR"
      },
      "source": [
        "#### Task  4: List Slicing\n",
        "\n",
        "Suppose that I have a list of `10` cars that I own.\n",
        "\n",
        "`my_cars = ['Chrysler', 'Lamborghini', 'Bugatti', 'Porsche', 'Ford', 'Rolls Royce', 'Suzuki', 'Bentley', 'Lexus', 'Tesla']`\n",
        "\n",
        "\n",
        "\n",
        "Let's say, I want to see a list of only the first five cars, then I can use the concept of **list slicing**. \n",
        "\n",
        "To slice a list, write the name of the list followed by square brackets, and inside the square brackets, enter the **starting point** (in this case it is zero) followed by a colon sign (`:`) and the **ending point**.\n",
        "\n",
        "**Syntax:** `list_name[start_index:end_index]`\n",
        "\n",
        "\n",
        "\n",
        "\n",
        "\n",
        "Note that the item at the `end-index` will not be a part of the sub-list:"
      ]
    },
    {
      "cell_type": "code",
      "metadata": {
        "id": "AQ_0cIRS0yPB"
      },
      "source": [
        "# S4.1: Retrieve the items from a list using the slicing method by mentioning both the starting and ending indices.\n",
        "my_cars = ['Chrysler', 'Lamborghini', 'Bugatti', 'Porsche', 'Ford', 'Rolls Royce', 'Suzuki', 'Bentley', 'Lexus', 'Tesla']"
      ],
      "execution_count": null,
      "outputs": []
    },
    {
      "cell_type": "markdown",
      "metadata": {
        "id": "lJ9Hizr40RPE"
      },
      "source": [
        "In `my_cars[0:5]` sub-list, the item at index `5` will not be included in the sub-list. The sub-list will contain the items ranging from indices `0` to `4` from the parent list.\n",
        "\n",
        "If you do not specify the starting point, then Python assumes that you want to get the items starting from the first item of the list:"
      ]
    },
    {
      "cell_type": "code",
      "metadata": {
        "id": "c0z7tD64pwDg",
        "colab": {
          "base_uri": "https://localhost:8080/"
        },
        "outputId": "8a65f93c-ccfc-4b70-d48b-8ef6476eca3f"
      },
      "source": [
        "# S4.2: Retrieve the first 5 items from the 'my_cars' Python list without mentioning the starting index.\n",
        "my_cars[0:5]"
      ],
      "execution_count": null,
      "outputs": [
        {
          "output_type": "execute_result",
          "data": {
            "text/plain": [
              "['Chrysler', 'Lamborghini', 'Bugatti', 'Porsche', 'Ford']"
            ]
          },
          "metadata": {},
          "execution_count": 13
        }
      ]
    },
    {
      "cell_type": "markdown",
      "metadata": {
        "id": "L0EkhHikprK5"
      },
      "source": [
        "Now, using the list slicing concept, you print all the cars stored in the `my_cars` list starting from `'Lamborghini'` to `'Bentley'`:"
      ]
    },
    {
      "cell_type": "code",
      "metadata": {
        "id": "iEiOH3rGCIHb",
        "colab": {
          "base_uri": "https://localhost:8080/"
        },
        "outputId": "75927f9f-88f4-43cc-ea45-b64112f96ea8"
      },
      "source": [
        "# S4.3: Write a code to see all the cars in the list starting from 'Lamborghini' to 'Bentley'.\n",
        "my_cars[1:8]"
      ],
      "execution_count": null,
      "outputs": [
        {
          "output_type": "execute_result",
          "data": {
            "text/plain": [
              "['Lamborghini',\n",
              " 'Bugatti',\n",
              " 'Porsche',\n",
              " 'Ford',\n",
              " 'Rolls Royce',\n",
              " 'Suzuki',\n",
              " 'Bentley']"
            ]
          },
          "metadata": {},
          "execution_count": 14
        }
      ]
    },
    {
      "cell_type": "markdown",
      "metadata": {
        "id": "ex4bN7z7s8Zd"
      },
      "source": [
        "\n",
        "To retrieve all the items from a list in the reverse order, you can also use the list slicing method with a negative index `-1` after the second colon (`:`) sign: "
      ]
    },
    {
      "cell_type": "code",
      "metadata": {
        "id": "1b50S7aptGxL",
        "colab": {
          "base_uri": "https://localhost:8080/"
        },
        "outputId": "925177f2-a394-471c-ac8d-aa29a0c50bb0"
      },
      "source": [
        "# S4.3: Retrieve all the items from the 'my_cars' list in reverse order.\n",
        "print(my_cars[::-1])"
      ],
      "execution_count": null,
      "outputs": [
        {
          "output_type": "stream",
          "name": "stdout",
          "text": [
            "['Tesla', 'Lexus', 'Bentley', 'Suzuki', 'Rolls Royce', 'Ford', 'Porsche', 'Bugatti', 'Lamborghini', 'Chrysler']\n"
          ]
        }
      ]
    },
    {
      "cell_type": "markdown",
      "metadata": {
        "id": "cVWbgqvjYoKW"
      },
      "source": [
        "As you can see in the output, the `my_cars` list is printed in the reverse order. Thus, we can use list slicing to obtain our desired list from an existing list.\n",
        "\n"
      ]
    },
    {
      "cell_type": "markdown",
      "metadata": {
        "id": "QFmDbPBs0ye8"
      },
      "source": [
        "---"
      ]
    },
    {
      "cell_type": "markdown",
      "metadata": {
        "id": "R5OAAjHrD-N-"
      },
      "source": [
        "#### Task 5: Index of an Item\n",
        "\n",
        "Suppose that you want to find the index of `Ford` in the `my_cars` list, then you can use the `index()` function.\n",
        "\n",
        "To find an index of an item, write the name of the list followed by the dot `(.)` operator followed by the `index()` function. Inside the `index()` function, enter the item whose index you wish to find.\n",
        "\n",
        "**Syntax:** `list_name.index(item)`\n",
        "\n",
        "**For example:**  `my_cars.index('Chrysler')` $\\Rightarrow$ returns `0` as index of `'Chrysler'` is `0`."
      ]
    },
    {
      "cell_type": "code",
      "metadata": {
        "id": "ZNCl8haaDgfZ",
        "colab": {
          "base_uri": "https://localhost:8080/"
        },
        "outputId": "005d62d8-afff-47c5-f664-2b39d0ad7a01"
      },
      "source": [
        "# S5.1: Find the index of 'Ford'.\n",
        "my_cars.index('Ford')"
      ],
      "execution_count": null,
      "outputs": [
        {
          "output_type": "execute_result",
          "data": {
            "text/plain": [
              "4"
            ]
          },
          "metadata": {},
          "execution_count": 18
        }
      ]
    },
    {
      "cell_type": "markdown",
      "metadata": {
        "id": "DGeWh7-DJE0h"
      },
      "source": [
        "So, the item `'Ford'` exists at the `index = 4` in the `my_cars` list."
      ]
    },
    {
      "cell_type": "markdown",
      "metadata": {
        "id": "-5Y_OPoBGTwZ"
      },
      "source": [
        "---"
      ]
    },
    {
      "cell_type": "markdown",
      "metadata": {
        "id": "Z5pRYBB0CedN"
      },
      "source": [
        "#### Task 6: Removing an Item\n",
        "\n",
        "Let's say you sold your `'Bentley'` car to your friend. So, you will have to remove it from the list of your cars. \n",
        "\n",
        "To remove an item from a list, use the `remove()` function followed by the item that you wish to remove:\n",
        "\n",
        "\n",
        "**Syntax:** `list_name.remove(item)`\n",
        "\n",
        "\n"
      ]
    },
    {
      "cell_type": "code",
      "metadata": {
        "id": "u_tvV0GzC4Nn",
        "colab": {
          "base_uri": "https://localhost:8080/"
        },
        "outputId": "2a0cf236-1039-4139-c300-61ffedde0461"
      },
      "source": [
        "# S6.1: Remove 'Bentley' from the 'my_cars' list.\n",
        "my_cars.remove('Ford')\n",
        "print(my_cars)"
      ],
      "execution_count": null,
      "outputs": [
        {
          "output_type": "stream",
          "name": "stdout",
          "text": [
            "['Chrysler', 'Lamborghini', 'Bugatti', 'Porsche', 'Rolls Royce', 'Suzuki', 'Bentley', 'Lexus', 'Tesla']\n"
          ]
        }
      ]
    },
    {
      "cell_type": "markdown",
      "metadata": {
        "id": "TdMqCMvbDQ7v"
      },
      "source": [
        "Now, `'Bentley'` is not part of `my_cars` list anymore."
      ]
    },
    {
      "cell_type": "code",
      "metadata": {
        "colab": {
          "base_uri": "https://localhost:8080/",
          "height": 38
        },
        "id": "AvXioaLDZ3RT",
        "outputId": "523fb41d-fad5-498b-de3b-32d9e4f35a5e"
      },
      "source": [
        "my_cars.pop(5)"
      ],
      "execution_count": null,
      "outputs": [
        {
          "output_type": "execute_result",
          "data": {
            "application/vnd.google.colaboratory.intrinsic+json": {
              "type": "string"
            },
            "text/plain": [
              "'Suzuki'"
            ]
          },
          "metadata": {},
          "execution_count": 21
        }
      ]
    },
    {
      "cell_type": "markdown",
      "metadata": {
        "id": "WxeRaXtGD3D8"
      },
      "source": [
        "---"
      ]
    },
    {
      "cell_type": "markdown",
      "metadata": {
        "id": "6MbJIuLm2mru"
      },
      "source": [
        "#### Task 7: Item Replacement\n",
        "\n",
        "You can replace an existing item in a list with a new item. Suppose I exchanged my `Suzuki` car with a `McLaren` car. So, I need to update `my_cars` list accordingly.\n",
        "\n",
        "To replace an item, first get the index of that item. Then using the list indexing method, replace the existing item with the new one.\n",
        "\n",
        "**Syntax:** `list_name[list_name.index('current_item')] = new_item`\n",
        "\n",
        "**For example:** Replace the item `Suzuki` with `McLaren` in the `my_cars` list.\n"
      ]
    },
    {
      "cell_type": "code",
      "metadata": {
        "id": "rUdiT9wr3lXk"
      },
      "source": [
        "# S7.1: Replace 'Suzuki' with 'McLaren' in the 'my_cars' list.\n",
        "ind = my_cars.index('Lexus')\n",
        "my_cars[ind] = 'McLaren'"
      ],
      "execution_count": null,
      "outputs": []
    },
    {
      "cell_type": "markdown",
      "metadata": {
        "id": "U853vHUg4IG4"
      },
      "source": [
        "As you can see, the `'Suzuki'` car has been replaced by `'McLaren'` using the list indexing method.\n",
        "\n",
        "\n",
        "We will stop here. In the next class, we will learn about nested Python lists."
      ]
    },
    {
      "cell_type": "code",
      "metadata": {
        "colab": {
          "base_uri": "https://localhost:8080/"
        },
        "id": "c8iU7a0TaVlc",
        "outputId": "e18d0e39-e6cf-4ade-ff0d-94f85b3d57de"
      },
      "source": [
        "print(my_cars)"
      ],
      "execution_count": null,
      "outputs": [
        {
          "output_type": "stream",
          "name": "stdout",
          "text": [
            "['Chrysler', 'Lamborghini', 'Bugatti', 'Porsche', 'Rolls Royce', 'Bentley', 'McLaren', 'Tesla']\n"
          ]
        }
      ]
    },
    {
      "cell_type": "markdown",
      "metadata": {
        "id": "Y_pSI5rb8a7y"
      },
      "source": [
        "---"
      ]
    },
    {
      "cell_type": "code",
      "metadata": {
        "colab": {
          "base_uri": "https://localhost:8080/"
        },
        "id": "grhlgDVpahj0",
        "outputId": "cdc636ba-3262-44e0-cbbf-2e5858c5a46f"
      },
      "source": [
        "num = int(input())\n",
        "\n",
        "for i in range(1,11):\n",
        "  print(num,'x',i,'=',i*num)"
      ],
      "execution_count": null,
      "outputs": [
        {
          "output_type": "stream",
          "name": "stdout",
          "text": [
            "12\n",
            "12 x 1 = 12\n",
            "12 x 2 = 24\n",
            "12 x 3 = 36\n",
            "12 x 4 = 48\n",
            "12 x 5 = 60\n",
            "12 x 6 = 72\n",
            "12 x 7 = 84\n",
            "12 x 8 = 96\n",
            "12 x 9 = 108\n",
            "12 x 10 = 120\n"
          ]
        }
      ]
    },
    {
      "cell_type": "code",
      "metadata": {
        "colab": {
          "base_uri": "https://localhost:8080/"
        },
        "id": "kHdIRikYa7JD",
        "outputId": "5f157ec9-34c1-48cd-d091-0859ba91c156"
      },
      "source": [
        "hei = int(input())\n",
        "\n",
        "for i in range(hei+1):\n",
        "  for j in range(hei):\n",
        "    print(' ',end=' ')\n",
        "  for k in range(i):\n",
        "    print('*',end=' ')\n",
        "  for l in range():\n",
        "    print(' ',end=' ')\n",
        "  print()"
      ],
      "execution_count": null,
      "outputs": [
        {
          "output_type": "stream",
          "name": "stdout",
          "text": [
            "5\n",
            "        \n",
            "  *   \n",
            "* * \n",
            "* * * \n",
            "* * * * \n",
            "* * * * * \n"
          ]
        }
      ]
    },
    {
      "cell_type": "code",
      "metadata": {
        "colab": {
          "base_uri": "https://localhost:8080/"
        },
        "id": "dTCYG_nAbSyl",
        "outputId": "18f336d5-adc4-40bd-cbd7-31e74ad04c35"
      },
      "source": [
        "n = int(input())\n",
        "fact = 1\n",
        "for i in range(1,n+1):\n",
        "  fact *= i\n",
        "print(fact)"
      ],
      "execution_count": null,
      "outputs": [
        {
          "output_type": "stream",
          "name": "stdout",
          "text": [
            "5\n",
            "120\n"
          ]
        }
      ]
    },
    {
      "cell_type": "code",
      "metadata": {
        "colab": {
          "base_uri": "https://localhost:8080/"
        },
        "id": "U_vgeBTDcuqx",
        "outputId": "4523a5a8-5e8a-458b-c841-85310520975b"
      },
      "source": [
        "le = int(input())\n",
        "first = 1\n",
        "second = 1\n",
        "third = first+second\n",
        "print(first,' ',second,' ')\n",
        "for i in range(2,le+1):\n",
        "  print(third,end=' ')\n",
        "  first = second\n",
        "  second = third\n",
        "  third = first+second"
      ],
      "execution_count": null,
      "outputs": [
        {
          "output_type": "stream",
          "name": "stdout",
          "text": [
            "10\n",
            "1   1  \n",
            "2 3 5 8 13 21 34 55 89 "
          ]
        }
      ]
    },
    {
      "cell_type": "code",
      "metadata": {
        "colab": {
          "base_uri": "https://localhost:8080/"
        },
        "id": "te4PRjSXdUoq",
        "outputId": "82dc0779-6081-4621-8145-9b2155192475"
      },
      "source": [
        "number = int(input())\n",
        "\n",
        "rev = 0\n",
        "while number > 0:\n",
        "  rev = rev*10 + number%10\n",
        "  number = number//10\n",
        "print(rev)"
      ],
      "execution_count": null,
      "outputs": [
        {
          "output_type": "stream",
          "name": "stdout",
          "text": [
            "45922\n",
            "22954\n"
          ]
        }
      ]
    },
    {
      "cell_type": "code",
      "metadata": {
        "id": "ZqcwIhZkd1Jx"
      },
      "source": [
        ""
      ],
      "execution_count": null,
      "outputs": []
    }
  ]
}