{
  "nbformat": 4,
  "nbformat_minor": 0,
  "metadata": {
    "colab": {
      "name": "Copy of Darshan_Lesson 26 -  Python Dictionary I",
      "provenance": [],
      "collapsed_sections": []
    },
    "kernelspec": {
      "name": "python3",
      "display_name": "Python 3"
    }
  },
  "cells": [
    {
      "cell_type": "markdown",
      "metadata": {
        "id": "reRBe_cVB1Kq"
      },
      "source": [
        "# Lesson 26: Python Dictionary I\n",
        "\n"
      ]
    },
    {
      "cell_type": "markdown",
      "metadata": {
        "id": "9lVn1jLjIJC9"
      },
      "source": [
        "---"
      ]
    },
    {
      "cell_type": "markdown",
      "metadata": {
        "id": "NAvjWIuwe-A9"
      },
      "source": [
        "### Teacher-Student Tasks\n",
        "\n",
        "In the previous classes, you have used a CSV file to explore data, clean it and analyze it for the respective problem statements. Today, you will learn how you can create a CSV using Pandas DataFrame. Later you use the same CSV file to do your work either in Google Sheets or Microsoft Excel or in some other spreadsheet processing software. In the process, we will also learn another data structure called Python dictionaries which becomes an integral data structure in the domain of data engineering (to acquire the raw data in real-time or non-real-time and make it usable by structuring and organizing it) and data analysis.\n",
        "\n",
        "So far, you have learned about Python lists in detail and Python tuples very briefly. From this class onwards, you will learn about a Python dictionary and its usefulness in terms of data storage."
      ]
    },
    {
      "cell_type": "markdown",
      "metadata": {
        "id": "MxZGned78BUo"
      },
      "source": [
        "---"
      ]
    },
    {
      "cell_type": "markdown",
      "metadata": {
        "id": "a56GqbMXlwRU"
      },
      "source": [
        "#### Task 1: Python Dictionary\n",
        "\n",
        "Let's quickly create a CSV file from a Python dictionary. Then, we will learn it in detail. The CSV file should contain five columns namely `\"linear\", \"squared\", \"cubed\",` and `\"power_of_two\"`. Each of these columns should contain the corresponding values between 1 to 100 such that:\n",
        "\n",
        "- The `\"linear\"` column contains the first 100 natural numbers.\n",
        "\n",
        "- The `\"squared\"` column contains the squares of the first 100 natural numbers.\n",
        "\n",
        "- The `\"cubed\"` column contains the cubes of the first 100 natural numbers.\n",
        "\n",
        "- The `\"power_of_two\"` column contains the values which are two raised to the power of the first 100 natural numbers.\n",
        "\n",
        " "
      ]
    },
    {
      "cell_type": "code",
      "metadata": {
        "id": "znDLWJ3UmQCe"
      },
      "source": [
        "# S1.1: Write the codes as directed below. \n",
        "new_dict = {\n",
        "    \"linear\" : [i for i in range(1, 101)], # Create a Python list containing the first 100 natural numbers.\n",
        "    \"squared\" : [i ** 2 for i in range(1, 101)], # Create a Python list containing the squares of the first 100 natural numbers.\n",
        "    \"cubed\" : [i ** 3 for i in range(1, 101)], # Create a Python list containing the cubes of the first 100 natural numbers\n",
        "    \"power_of_two\" : [2 ** i for i in range(1, 101)] # Create a Python list containing the powers of the two of the first 100 natural numbers\n",
        "}"
      ],
      "execution_count": null,
      "outputs": []
    },
    {
      "cell_type": "markdown",
      "metadata": {
        "id": "RsSQ8sMD7uhL"
      },
      "source": [
        "**Note:** The above code will not display any output.\n",
        "\n",
        "Thus, we created a dictionary having 5 keys that will serve as the 5 columns for the CSV file."
      ]
    },
    {
      "cell_type": "markdown",
      "metadata": {
        "id": "we219QOyDBU5"
      },
      "source": [
        "---"
      ]
    },
    {
      "cell_type": "markdown",
      "metadata": {
        "id": "kNj4Z0ppDCHW"
      },
      "source": [
        "#### Task 2: The `from_dict()` Function\n",
        "\n",
        "Now, let's convert the above dictionary into a Pandas DataFrame using the `from_dict()` function. To apply this function, you have to use the following syntax:\n",
        "\n",
        "**Syntax:** `pd.DataFrame.from_dict(some_dictionary)`"
      ]
    },
    {
      "cell_type": "code",
      "metadata": {
        "id": "t0mLxCI9mZjv",
        "colab": {
          "base_uri": "https://localhost:8080/",
          "height": 424
        },
        "outputId": "d847ffd9-fee4-40a4-e230-5afa338b821e"
      },
      "source": [
        "# S2.1: Create a Pandas DataFrame using the 'new_dict' dictionary by applying the 'from_dict()' function.\n",
        "# Import the 'pandas' module\n",
        "import pandas as pd\n",
        "new_df = pd.DataFrame.from_dict(new_dict)\n",
        "new_df"
      ],
      "execution_count": null,
      "outputs": [
        {
          "output_type": "execute_result",
          "data": {
            "text/html": [
              "<div>\n",
              "<style scoped>\n",
              "    .dataframe tbody tr th:only-of-type {\n",
              "        vertical-align: middle;\n",
              "    }\n",
              "\n",
              "    .dataframe tbody tr th {\n",
              "        vertical-align: top;\n",
              "    }\n",
              "\n",
              "    .dataframe thead th {\n",
              "        text-align: right;\n",
              "    }\n",
              "</style>\n",
              "<table border=\"1\" class=\"dataframe\">\n",
              "  <thead>\n",
              "    <tr style=\"text-align: right;\">\n",
              "      <th></th>\n",
              "      <th>linear</th>\n",
              "      <th>squared</th>\n",
              "      <th>cubed</th>\n",
              "      <th>power_of_two</th>\n",
              "    </tr>\n",
              "  </thead>\n",
              "  <tbody>\n",
              "    <tr>\n",
              "      <th>0</th>\n",
              "      <td>1</td>\n",
              "      <td>1</td>\n",
              "      <td>1</td>\n",
              "      <td>2</td>\n",
              "    </tr>\n",
              "    <tr>\n",
              "      <th>1</th>\n",
              "      <td>2</td>\n",
              "      <td>4</td>\n",
              "      <td>8</td>\n",
              "      <td>4</td>\n",
              "    </tr>\n",
              "    <tr>\n",
              "      <th>2</th>\n",
              "      <td>3</td>\n",
              "      <td>9</td>\n",
              "      <td>27</td>\n",
              "      <td>8</td>\n",
              "    </tr>\n",
              "    <tr>\n",
              "      <th>3</th>\n",
              "      <td>4</td>\n",
              "      <td>16</td>\n",
              "      <td>64</td>\n",
              "      <td>16</td>\n",
              "    </tr>\n",
              "    <tr>\n",
              "      <th>4</th>\n",
              "      <td>5</td>\n",
              "      <td>25</td>\n",
              "      <td>125</td>\n",
              "      <td>32</td>\n",
              "    </tr>\n",
              "    <tr>\n",
              "      <th>...</th>\n",
              "      <td>...</td>\n",
              "      <td>...</td>\n",
              "      <td>...</td>\n",
              "      <td>...</td>\n",
              "    </tr>\n",
              "    <tr>\n",
              "      <th>95</th>\n",
              "      <td>96</td>\n",
              "      <td>9216</td>\n",
              "      <td>884736</td>\n",
              "      <td>79228162514264337593543950336</td>\n",
              "    </tr>\n",
              "    <tr>\n",
              "      <th>96</th>\n",
              "      <td>97</td>\n",
              "      <td>9409</td>\n",
              "      <td>912673</td>\n",
              "      <td>158456325028528675187087900672</td>\n",
              "    </tr>\n",
              "    <tr>\n",
              "      <th>97</th>\n",
              "      <td>98</td>\n",
              "      <td>9604</td>\n",
              "      <td>941192</td>\n",
              "      <td>316912650057057350374175801344</td>\n",
              "    </tr>\n",
              "    <tr>\n",
              "      <th>98</th>\n",
              "      <td>99</td>\n",
              "      <td>9801</td>\n",
              "      <td>970299</td>\n",
              "      <td>633825300114114700748351602688</td>\n",
              "    </tr>\n",
              "    <tr>\n",
              "      <th>99</th>\n",
              "      <td>100</td>\n",
              "      <td>10000</td>\n",
              "      <td>1000000</td>\n",
              "      <td>1267650600228229401496703205376</td>\n",
              "    </tr>\n",
              "  </tbody>\n",
              "</table>\n",
              "<p>100 rows × 4 columns</p>\n",
              "</div>"
            ],
            "text/plain": [
              "    linear  squared    cubed                     power_of_two\n",
              "0        1        1        1                                2\n",
              "1        2        4        8                                4\n",
              "2        3        9       27                                8\n",
              "3        4       16       64                               16\n",
              "4        5       25      125                               32\n",
              "..     ...      ...      ...                              ...\n",
              "95      96     9216   884736    79228162514264337593543950336\n",
              "96      97     9409   912673   158456325028528675187087900672\n",
              "97      98     9604   941192   316912650057057350374175801344\n",
              "98      99     9801   970299   633825300114114700748351602688\n",
              "99     100    10000  1000000  1267650600228229401496703205376\n",
              "\n",
              "[100 rows x 4 columns]"
            ]
          },
          "metadata": {},
          "execution_count": 3
        }
      ]
    },
    {
      "cell_type": "markdown",
      "metadata": {
        "id": "XL938TlADqwZ"
      },
      "source": [
        "As you can see, a new DataFrame is created. It is stored in the `new_df` variable. It has 100 rows having indices `0` to `99`. It also has the four required columns.\n",
        "\n",
        "**Note:** Unlike a Python list, the dictionary does not store values in the ordered form. It means that you can't retrieve an item from a dictionary using indices."
      ]
    },
    {
      "cell_type": "markdown",
      "metadata": {
        "id": "zwGWK1Z2Etx9"
      },
      "source": [
        "---"
      ]
    },
    {
      "cell_type": "markdown",
      "metadata": {
        "id": "y_jkf2SjEukY"
      },
      "source": [
        "#### Task 3: The `orient` Parameter\n",
        "\n",
        "In the above DataFrame created from a Python dictionary, you can label `\"linear\", \"squared\", \"cubed\",` and `\"power_of_two\"` as row indices. Consequently, the values `0` to `99` will become columns. This can be done by passing `'index'` as the value to the `orient` parameter inside the `from_dict()` function. Here's the syntax of `from_dict()` function:\n",
        "\n",
        "**Syntax:** `pd.DataFrame.from_dict(some_dictionary, orient='index')`"
      ]
    },
    {
      "cell_type": "code",
      "metadata": {
        "id": "63TkzljRmetB",
        "colab": {
          "base_uri": "https://localhost:8080/",
          "height": 224
        },
        "outputId": "c843c981-4e2e-490c-911f-14c07ca71cc1"
      },
      "source": [
        "# S3.1: Create another Pandas DataFrom using the 'new_dict' having \"linear\", \"squared\", \"cubed\" and \"power_of_two\" as row indices.\n",
        "other_df = pd.DataFrame.from_dict(new_dict,orient='index')\n",
        "other_df"
      ],
      "execution_count": null,
      "outputs": [
        {
          "output_type": "execute_result",
          "data": {
            "text/html": [
              "<div>\n",
              "<style scoped>\n",
              "    .dataframe tbody tr th:only-of-type {\n",
              "        vertical-align: middle;\n",
              "    }\n",
              "\n",
              "    .dataframe tbody tr th {\n",
              "        vertical-align: top;\n",
              "    }\n",
              "\n",
              "    .dataframe thead th {\n",
              "        text-align: right;\n",
              "    }\n",
              "</style>\n",
              "<table border=\"1\" class=\"dataframe\">\n",
              "  <thead>\n",
              "    <tr style=\"text-align: right;\">\n",
              "      <th></th>\n",
              "      <th>0</th>\n",
              "      <th>1</th>\n",
              "      <th>2</th>\n",
              "      <th>3</th>\n",
              "      <th>4</th>\n",
              "      <th>5</th>\n",
              "      <th>6</th>\n",
              "      <th>7</th>\n",
              "      <th>8</th>\n",
              "      <th>9</th>\n",
              "      <th>10</th>\n",
              "      <th>11</th>\n",
              "      <th>12</th>\n",
              "      <th>13</th>\n",
              "      <th>14</th>\n",
              "      <th>15</th>\n",
              "      <th>16</th>\n",
              "      <th>17</th>\n",
              "      <th>18</th>\n",
              "      <th>19</th>\n",
              "      <th>20</th>\n",
              "      <th>21</th>\n",
              "      <th>22</th>\n",
              "      <th>23</th>\n",
              "      <th>24</th>\n",
              "      <th>25</th>\n",
              "      <th>26</th>\n",
              "      <th>27</th>\n",
              "      <th>28</th>\n",
              "      <th>29</th>\n",
              "      <th>30</th>\n",
              "      <th>31</th>\n",
              "      <th>32</th>\n",
              "      <th>33</th>\n",
              "      <th>34</th>\n",
              "      <th>35</th>\n",
              "      <th>36</th>\n",
              "      <th>37</th>\n",
              "      <th>38</th>\n",
              "      <th>39</th>\n",
              "      <th>...</th>\n",
              "      <th>60</th>\n",
              "      <th>61</th>\n",
              "      <th>62</th>\n",
              "      <th>63</th>\n",
              "      <th>64</th>\n",
              "      <th>65</th>\n",
              "      <th>66</th>\n",
              "      <th>67</th>\n",
              "      <th>68</th>\n",
              "      <th>69</th>\n",
              "      <th>70</th>\n",
              "      <th>71</th>\n",
              "      <th>72</th>\n",
              "      <th>73</th>\n",
              "      <th>74</th>\n",
              "      <th>75</th>\n",
              "      <th>76</th>\n",
              "      <th>77</th>\n",
              "      <th>78</th>\n",
              "      <th>79</th>\n",
              "      <th>80</th>\n",
              "      <th>81</th>\n",
              "      <th>82</th>\n",
              "      <th>83</th>\n",
              "      <th>84</th>\n",
              "      <th>85</th>\n",
              "      <th>86</th>\n",
              "      <th>87</th>\n",
              "      <th>88</th>\n",
              "      <th>89</th>\n",
              "      <th>90</th>\n",
              "      <th>91</th>\n",
              "      <th>92</th>\n",
              "      <th>93</th>\n",
              "      <th>94</th>\n",
              "      <th>95</th>\n",
              "      <th>96</th>\n",
              "      <th>97</th>\n",
              "      <th>98</th>\n",
              "      <th>99</th>\n",
              "    </tr>\n",
              "  </thead>\n",
              "  <tbody>\n",
              "    <tr>\n",
              "      <th>linear</th>\n",
              "      <td>1</td>\n",
              "      <td>2</td>\n",
              "      <td>3</td>\n",
              "      <td>4</td>\n",
              "      <td>5</td>\n",
              "      <td>6</td>\n",
              "      <td>7</td>\n",
              "      <td>8</td>\n",
              "      <td>9</td>\n",
              "      <td>10</td>\n",
              "      <td>11</td>\n",
              "      <td>12</td>\n",
              "      <td>13</td>\n",
              "      <td>14</td>\n",
              "      <td>15</td>\n",
              "      <td>16</td>\n",
              "      <td>17</td>\n",
              "      <td>18</td>\n",
              "      <td>19</td>\n",
              "      <td>20</td>\n",
              "      <td>21</td>\n",
              "      <td>22</td>\n",
              "      <td>23</td>\n",
              "      <td>24</td>\n",
              "      <td>25</td>\n",
              "      <td>26</td>\n",
              "      <td>27</td>\n",
              "      <td>28</td>\n",
              "      <td>29</td>\n",
              "      <td>30</td>\n",
              "      <td>31</td>\n",
              "      <td>32</td>\n",
              "      <td>33</td>\n",
              "      <td>34</td>\n",
              "      <td>35</td>\n",
              "      <td>36</td>\n",
              "      <td>37</td>\n",
              "      <td>38</td>\n",
              "      <td>39</td>\n",
              "      <td>40</td>\n",
              "      <td>...</td>\n",
              "      <td>61</td>\n",
              "      <td>62</td>\n",
              "      <td>63</td>\n",
              "      <td>64</td>\n",
              "      <td>65</td>\n",
              "      <td>66</td>\n",
              "      <td>67</td>\n",
              "      <td>68</td>\n",
              "      <td>69</td>\n",
              "      <td>70</td>\n",
              "      <td>71</td>\n",
              "      <td>72</td>\n",
              "      <td>73</td>\n",
              "      <td>74</td>\n",
              "      <td>75</td>\n",
              "      <td>76</td>\n",
              "      <td>77</td>\n",
              "      <td>78</td>\n",
              "      <td>79</td>\n",
              "      <td>80</td>\n",
              "      <td>81</td>\n",
              "      <td>82</td>\n",
              "      <td>83</td>\n",
              "      <td>84</td>\n",
              "      <td>85</td>\n",
              "      <td>86</td>\n",
              "      <td>87</td>\n",
              "      <td>88</td>\n",
              "      <td>89</td>\n",
              "      <td>90</td>\n",
              "      <td>91</td>\n",
              "      <td>92</td>\n",
              "      <td>93</td>\n",
              "      <td>94</td>\n",
              "      <td>95</td>\n",
              "      <td>96</td>\n",
              "      <td>97</td>\n",
              "      <td>98</td>\n",
              "      <td>99</td>\n",
              "      <td>100</td>\n",
              "    </tr>\n",
              "    <tr>\n",
              "      <th>squared</th>\n",
              "      <td>1</td>\n",
              "      <td>4</td>\n",
              "      <td>9</td>\n",
              "      <td>16</td>\n",
              "      <td>25</td>\n",
              "      <td>36</td>\n",
              "      <td>49</td>\n",
              "      <td>64</td>\n",
              "      <td>81</td>\n",
              "      <td>100</td>\n",
              "      <td>121</td>\n",
              "      <td>144</td>\n",
              "      <td>169</td>\n",
              "      <td>196</td>\n",
              "      <td>225</td>\n",
              "      <td>256</td>\n",
              "      <td>289</td>\n",
              "      <td>324</td>\n",
              "      <td>361</td>\n",
              "      <td>400</td>\n",
              "      <td>441</td>\n",
              "      <td>484</td>\n",
              "      <td>529</td>\n",
              "      <td>576</td>\n",
              "      <td>625</td>\n",
              "      <td>676</td>\n",
              "      <td>729</td>\n",
              "      <td>784</td>\n",
              "      <td>841</td>\n",
              "      <td>900</td>\n",
              "      <td>961</td>\n",
              "      <td>1024</td>\n",
              "      <td>1089</td>\n",
              "      <td>1156</td>\n",
              "      <td>1225</td>\n",
              "      <td>1296</td>\n",
              "      <td>1369</td>\n",
              "      <td>1444</td>\n",
              "      <td>1521</td>\n",
              "      <td>1600</td>\n",
              "      <td>...</td>\n",
              "      <td>3721</td>\n",
              "      <td>3844</td>\n",
              "      <td>3969</td>\n",
              "      <td>4096</td>\n",
              "      <td>4225</td>\n",
              "      <td>4356</td>\n",
              "      <td>4489</td>\n",
              "      <td>4624</td>\n",
              "      <td>4761</td>\n",
              "      <td>4900</td>\n",
              "      <td>5041</td>\n",
              "      <td>5184</td>\n",
              "      <td>5329</td>\n",
              "      <td>5476</td>\n",
              "      <td>5625</td>\n",
              "      <td>5776</td>\n",
              "      <td>5929</td>\n",
              "      <td>6084</td>\n",
              "      <td>6241</td>\n",
              "      <td>6400</td>\n",
              "      <td>6561</td>\n",
              "      <td>6724</td>\n",
              "      <td>6889</td>\n",
              "      <td>7056</td>\n",
              "      <td>7225</td>\n",
              "      <td>7396</td>\n",
              "      <td>7569</td>\n",
              "      <td>7744</td>\n",
              "      <td>7921</td>\n",
              "      <td>8100</td>\n",
              "      <td>8281</td>\n",
              "      <td>8464</td>\n",
              "      <td>8649</td>\n",
              "      <td>8836</td>\n",
              "      <td>9025</td>\n",
              "      <td>9216</td>\n",
              "      <td>9409</td>\n",
              "      <td>9604</td>\n",
              "      <td>9801</td>\n",
              "      <td>10000</td>\n",
              "    </tr>\n",
              "    <tr>\n",
              "      <th>cubed</th>\n",
              "      <td>1</td>\n",
              "      <td>8</td>\n",
              "      <td>27</td>\n",
              "      <td>64</td>\n",
              "      <td>125</td>\n",
              "      <td>216</td>\n",
              "      <td>343</td>\n",
              "      <td>512</td>\n",
              "      <td>729</td>\n",
              "      <td>1000</td>\n",
              "      <td>1331</td>\n",
              "      <td>1728</td>\n",
              "      <td>2197</td>\n",
              "      <td>2744</td>\n",
              "      <td>3375</td>\n",
              "      <td>4096</td>\n",
              "      <td>4913</td>\n",
              "      <td>5832</td>\n",
              "      <td>6859</td>\n",
              "      <td>8000</td>\n",
              "      <td>9261</td>\n",
              "      <td>10648</td>\n",
              "      <td>12167</td>\n",
              "      <td>13824</td>\n",
              "      <td>15625</td>\n",
              "      <td>17576</td>\n",
              "      <td>19683</td>\n",
              "      <td>21952</td>\n",
              "      <td>24389</td>\n",
              "      <td>27000</td>\n",
              "      <td>29791</td>\n",
              "      <td>32768</td>\n",
              "      <td>35937</td>\n",
              "      <td>39304</td>\n",
              "      <td>42875</td>\n",
              "      <td>46656</td>\n",
              "      <td>50653</td>\n",
              "      <td>54872</td>\n",
              "      <td>59319</td>\n",
              "      <td>64000</td>\n",
              "      <td>...</td>\n",
              "      <td>226981</td>\n",
              "      <td>238328</td>\n",
              "      <td>250047</td>\n",
              "      <td>262144</td>\n",
              "      <td>274625</td>\n",
              "      <td>287496</td>\n",
              "      <td>300763</td>\n",
              "      <td>314432</td>\n",
              "      <td>328509</td>\n",
              "      <td>343000</td>\n",
              "      <td>357911</td>\n",
              "      <td>373248</td>\n",
              "      <td>389017</td>\n",
              "      <td>405224</td>\n",
              "      <td>421875</td>\n",
              "      <td>438976</td>\n",
              "      <td>456533</td>\n",
              "      <td>474552</td>\n",
              "      <td>493039</td>\n",
              "      <td>512000</td>\n",
              "      <td>531441</td>\n",
              "      <td>551368</td>\n",
              "      <td>571787</td>\n",
              "      <td>592704</td>\n",
              "      <td>614125</td>\n",
              "      <td>636056</td>\n",
              "      <td>658503</td>\n",
              "      <td>681472</td>\n",
              "      <td>704969</td>\n",
              "      <td>729000</td>\n",
              "      <td>753571</td>\n",
              "      <td>778688</td>\n",
              "      <td>804357</td>\n",
              "      <td>830584</td>\n",
              "      <td>857375</td>\n",
              "      <td>884736</td>\n",
              "      <td>912673</td>\n",
              "      <td>941192</td>\n",
              "      <td>970299</td>\n",
              "      <td>1000000</td>\n",
              "    </tr>\n",
              "    <tr>\n",
              "      <th>power_of_two</th>\n",
              "      <td>2</td>\n",
              "      <td>4</td>\n",
              "      <td>8</td>\n",
              "      <td>16</td>\n",
              "      <td>32</td>\n",
              "      <td>64</td>\n",
              "      <td>128</td>\n",
              "      <td>256</td>\n",
              "      <td>512</td>\n",
              "      <td>1024</td>\n",
              "      <td>2048</td>\n",
              "      <td>4096</td>\n",
              "      <td>8192</td>\n",
              "      <td>16384</td>\n",
              "      <td>32768</td>\n",
              "      <td>65536</td>\n",
              "      <td>131072</td>\n",
              "      <td>262144</td>\n",
              "      <td>524288</td>\n",
              "      <td>1048576</td>\n",
              "      <td>2097152</td>\n",
              "      <td>4194304</td>\n",
              "      <td>8388608</td>\n",
              "      <td>16777216</td>\n",
              "      <td>33554432</td>\n",
              "      <td>67108864</td>\n",
              "      <td>134217728</td>\n",
              "      <td>268435456</td>\n",
              "      <td>536870912</td>\n",
              "      <td>1073741824</td>\n",
              "      <td>2147483648</td>\n",
              "      <td>4294967296</td>\n",
              "      <td>8589934592</td>\n",
              "      <td>17179869184</td>\n",
              "      <td>34359738368</td>\n",
              "      <td>68719476736</td>\n",
              "      <td>137438953472</td>\n",
              "      <td>274877906944</td>\n",
              "      <td>549755813888</td>\n",
              "      <td>1099511627776</td>\n",
              "      <td>...</td>\n",
              "      <td>2305843009213693952</td>\n",
              "      <td>4611686018427387904</td>\n",
              "      <td>9223372036854775808</td>\n",
              "      <td>18446744073709551616</td>\n",
              "      <td>36893488147419103232</td>\n",
              "      <td>73786976294838206464</td>\n",
              "      <td>147573952589676412928</td>\n",
              "      <td>295147905179352825856</td>\n",
              "      <td>590295810358705651712</td>\n",
              "      <td>1180591620717411303424</td>\n",
              "      <td>2361183241434822606848</td>\n",
              "      <td>4722366482869645213696</td>\n",
              "      <td>9444732965739290427392</td>\n",
              "      <td>18889465931478580854784</td>\n",
              "      <td>37778931862957161709568</td>\n",
              "      <td>75557863725914323419136</td>\n",
              "      <td>151115727451828646838272</td>\n",
              "      <td>302231454903657293676544</td>\n",
              "      <td>604462909807314587353088</td>\n",
              "      <td>1208925819614629174706176</td>\n",
              "      <td>2417851639229258349412352</td>\n",
              "      <td>4835703278458516698824704</td>\n",
              "      <td>9671406556917033397649408</td>\n",
              "      <td>19342813113834066795298816</td>\n",
              "      <td>38685626227668133590597632</td>\n",
              "      <td>77371252455336267181195264</td>\n",
              "      <td>154742504910672534362390528</td>\n",
              "      <td>309485009821345068724781056</td>\n",
              "      <td>618970019642690137449562112</td>\n",
              "      <td>1237940039285380274899124224</td>\n",
              "      <td>2475880078570760549798248448</td>\n",
              "      <td>4951760157141521099596496896</td>\n",
              "      <td>9903520314283042199192993792</td>\n",
              "      <td>19807040628566084398385987584</td>\n",
              "      <td>39614081257132168796771975168</td>\n",
              "      <td>79228162514264337593543950336</td>\n",
              "      <td>158456325028528675187087900672</td>\n",
              "      <td>316912650057057350374175801344</td>\n",
              "      <td>633825300114114700748351602688</td>\n",
              "      <td>1267650600228229401496703205376</td>\n",
              "    </tr>\n",
              "  </tbody>\n",
              "</table>\n",
              "<p>4 rows × 100 columns</p>\n",
              "</div>"
            ],
            "text/plain": [
              "              0   ...                               99\n",
              "linear         1  ...                              100\n",
              "squared        1  ...                            10000\n",
              "cubed          1  ...                          1000000\n",
              "power_of_two   2  ...  1267650600228229401496703205376\n",
              "\n",
              "[4 rows x 100 columns]"
            ]
          },
          "metadata": {},
          "execution_count": 4
        }
      ]
    },
    {
      "cell_type": "markdown",
      "metadata": {
        "id": "ZuGYRpp4GQco"
      },
      "source": [
        "As you can see, a new DataFrame is created. It is stored in the `another_df` variable. It has 4 rows having indices `\"linear\", \"squared\", \"cubed\",` and `\"power_of_two\"` as desired. It has 100 columns as well."
      ]
    },
    {
      "cell_type": "markdown",
      "metadata": {
        "id": "UGMsfDIBGCEs"
      },
      "source": [
        "---"
      ]
    },
    {
      "cell_type": "markdown",
      "metadata": {
        "id": "QN1vXnRMGC1w"
      },
      "source": [
        "#### Task 4: Creating a CSV File from a Python Dictionary\n",
        "\n",
        "To create a `CSV` file from a Python dictionary, we need to use the following code:\n",
        "\n",
        "```\n",
        "from google.colab import files\n",
        "csv_file = data_frame.to_csv(index=True)\n",
        "\n",
        "with open('filename.csv', 'w') as f:\n",
        "  f.write(csv_file)\n",
        "\n",
        "files.download('filename.csv')\n",
        "```\n",
        "\n",
        "Where, \n",
        "\n",
        "- `data_frame` is a variable storing a Pandas DataFrame from which a `CSV` file needs to be created.\n",
        "\n",
        "- `filename.csv` is the name of the required CSV file that needs to be downloaded once created.\n",
        "\n",
        "Let's create a CSV file from the `new_df` DataFrame and name the file as `data.csv`. \n",
        "\n",
        "**Note:** After running the code below, a new dialogue box will appear prompting you to save the file on your computer.\n"
      ]
    },
    {
      "cell_type": "code",
      "metadata": {
        "id": "JotEz08gmqNE",
        "colab": {
          "base_uri": "https://localhost:8080/",
          "height": 17
        },
        "outputId": "46de2a16-cbaf-4960-df08-67a2f18b910f"
      },
      "source": [
        "# S4.1: Run the code below.\n",
        "from google.colab import files\n",
        "csv_file = new_df.to_csv(index=True)\n",
        "\n",
        "with open('csvfile.csv','w') as f:\n",
        "  f.write(csv_file)\n",
        "\n",
        "\n",
        "files.download('csvfile.csv')\n",
        "\n"
      ],
      "execution_count": null,
      "outputs": [
        {
          "output_type": "display_data",
          "data": {
            "application/javascript": [
              "\n",
              "    async function download(id, filename, size) {\n",
              "      if (!google.colab.kernel.accessAllowed) {\n",
              "        return;\n",
              "      }\n",
              "      const div = document.createElement('div');\n",
              "      const label = document.createElement('label');\n",
              "      label.textContent = `Downloading \"${filename}\": `;\n",
              "      div.appendChild(label);\n",
              "      const progress = document.createElement('progress');\n",
              "      progress.max = size;\n",
              "      div.appendChild(progress);\n",
              "      document.body.appendChild(div);\n",
              "\n",
              "      const buffers = [];\n",
              "      let downloaded = 0;\n",
              "\n",
              "      const channel = await google.colab.kernel.comms.open(id);\n",
              "      // Send a message to notify the kernel that we're ready.\n",
              "      channel.send({})\n",
              "\n",
              "      for await (const message of channel.messages) {\n",
              "        // Send a message to notify the kernel that we're ready.\n",
              "        channel.send({})\n",
              "        if (message.buffers) {\n",
              "          for (const buffer of message.buffers) {\n",
              "            buffers.push(buffer);\n",
              "            downloaded += buffer.byteLength;\n",
              "            progress.value = downloaded;\n",
              "          }\n",
              "        }\n",
              "      }\n",
              "      const blob = new Blob(buffers, {type: 'application/binary'});\n",
              "      const a = document.createElement('a');\n",
              "      a.href = window.URL.createObjectURL(blob);\n",
              "      a.download = filename;\n",
              "      div.appendChild(a);\n",
              "      a.click();\n",
              "      div.remove();\n",
              "    }\n",
              "  "
            ],
            "text/plain": [
              "<IPython.core.display.Javascript object>"
            ]
          },
          "metadata": {}
        },
        {
          "output_type": "display_data",
          "data": {
            "application/javascript": [
              "download(\"download_8e721881-4c0a-4f80-bca3-5568ee3b9624\", \"csvfile.csv\", 3364)"
            ],
            "text/plain": [
              "<IPython.core.display.Javascript object>"
            ]
          },
          "metadata": {}
        }
      ]
    },
    {
      "cell_type": "markdown",
      "metadata": {
        "id": "zkXJysGYfabI"
      },
      "source": [
        "**Note:** The above code will not display any output.\n",
        "\n",
        "So, as you can see we have created a CSV file using a Python dictionary. Now, let's learn it in detail."
      ]
    },
    {
      "cell_type": "markdown",
      "metadata": {
        "id": "C0hqaR3bMAB-"
      },
      "source": [
        "---"
      ]
    },
    {
      "cell_type": "markdown",
      "metadata": {
        "id": "s2pZAC4BWtxM"
      },
      "source": [
        "#### Task 5: Python Dictionary\n",
        "\n",
        "Similar to a Python list, a Python dictionary is also a data structure, i.e., it stores multiple values in it. **A python dictionary is a collection of key-value pairs** where each key-value pair collectively constitutes an item stored in it.\n",
        "\n",
        "An example of a key-value pair would be a specification of a smart-phone, as shown in the table below: \n",
        "\n",
        "|Key         |Value                  |\n",
        "|------------|-----------------------|\n",
        "|Front Camera|16 MP                  |\n",
        "|Battery     |3300 mAh               |\n",
        "|Processor   |Qualcomm Snapdragon 845|\n",
        "|Display     |6.28 inches            |\n",
        "|RAM         |6 GB                   |\n",
        "|Rear Camera |16 MP + 20 MP          |\n",
        "|Price (INR) |28990                  |\n",
        "|Fast Charge |True                   |\n",
        "\n",
        "Using the example shown in the table here, let's create a dictionary as a collection of key-value pairs. \n",
        "\n",
        "A dictionary is created using curly brackets (`{}`). A key and its corresponding value are mapped using the colon (`:`) sign and each key-value pair is separated by a comma. "
      ]
    },
    {
      "cell_type": "code",
      "metadata": {
        "id": "evWpWkrlo7v4",
        "colab": {
          "base_uri": "https://localhost:8080/"
        },
        "outputId": "1c43324d-a2e2-489e-99ab-5757fdcd14a3"
      },
      "source": [
        "# S5.1: Create a dictionary as a collection of key-value pairs containing the items shown in the table above.\n",
        "my_dict = {'front camera':'16 MP','battery':'3300 mAh','Processor':'Qualcomm Snapdragon 845',\n",
        "           'Display':'6.28 inches','RAM':'6 GB','Rear Camera':'16 MP + 20 MP',\n",
        "           'Price (INR)':28990,'Fast Charge':True}\n",
        "\n",
        "my_dict"
      ],
      "execution_count": null,
      "outputs": [
        {
          "output_type": "execute_result",
          "data": {
            "text/plain": [
              "{'Display': '6.28 inches',\n",
              " 'Fast Charge': True,\n",
              " 'Price (INR)': 28990,\n",
              " 'Processor': 'Qualcomm Snapdragon 845',\n",
              " 'RAM': '6 GB',\n",
              " 'Rear Camera': '16 MP + 20 MP',\n",
              " 'battery': '3300 mAh',\n",
              " 'front camera': '16 MP'}"
            ]
          },
          "metadata": {},
          "execution_count": 8
        }
      ]
    },
    {
      "cell_type": "markdown",
      "metadata": {
        "id": "uDPbMO0Sq1FG"
      },
      "source": [
        "In the above code, we have created a Python dictionary and stored it in the `my_dict` variable. The dictionary contains 8 key-value pairs separated by a comma. The keys are of `string` data type and the values are a mix of `string`, `int`, and `bool` data types. \n",
        "\n",
        "---\n",
        "\n",
        "\n",
        "\n",
        "**Note:** Even though you store an item (a key-value pair) in a specific order, a Python dictionary disregards the order. Hence, unlike a Python list, a Python dictionary is a data structure containing an **unordered** collection of items.\n",
        "\n",
        "If you print the dictionary, again and again, you will notice that the orders of the items keep on changing."
      ]
    },
    {
      "cell_type": "markdown",
      "metadata": {
        "id": "5o7rWylMhnpL"
      },
      "source": [
        "---"
      ]
    },
    {
      "cell_type": "markdown",
      "metadata": {
        "id": "mmOu2XWWhoZN"
      },
      "source": [
        "#### Task 6: Empty Python Dictionary\n",
        "\n",
        "You can also create an empty dictionary$—$a dictionary that does not have any key-value pair$—$by simply writing curly brackets `{}` only."
      ]
    },
    {
      "cell_type": "code",
      "metadata": {
        "id": "uU_TcNO7TxQy",
        "colab": {
          "base_uri": "https://localhost:8080/"
        },
        "outputId": "e819971e-4efb-4575-9997-96bcd7838a51"
      },
      "source": [
        "# S6.1: Create an empty dictionary.\n",
        "empty_dict = {}\n",
        "empty_dict"
      ],
      "execution_count": null,
      "outputs": [
        {
          "output_type": "execute_result",
          "data": {
            "text/plain": [
              "{}"
            ]
          },
          "metadata": {},
          "execution_count": 10
        }
      ]
    },
    {
      "cell_type": "markdown",
      "metadata": {
        "id": "mlP16hWpXgd3"
      },
      "source": [
        "In the above code, we have created an empty Python dictionary and stored it in the `empty_dict` variable.\n",
        "\n",
        "To verify whether a data structure is a Python dictionary  or not, you can use the `type()` function:"
      ]
    },
    {
      "cell_type": "code",
      "metadata": {
        "id": "uYRMrXEaXe51",
        "colab": {
          "base_uri": "https://localhost:8080/"
        },
        "outputId": "d7a1b777-bdb3-498f-ac9f-a0c0194e0b65"
      },
      "source": [
        "# S6.2: Verify that the data structure stored in the 'empty_dict' variable is a Python dictionary.\n",
        "type(empty_dict)"
      ],
      "execution_count": null,
      "outputs": [
        {
          "output_type": "execute_result",
          "data": {
            "text/plain": [
              "dict"
            ]
          },
          "metadata": {},
          "execution_count": 11
        }
      ]
    },
    {
      "cell_type": "markdown",
      "metadata": {
        "id": "YiIAzbVIY0Hq"
      },
      "source": [
        "The `type()` function returns `dict` as an output which verifies that the value stored in the `empty_dict` variable is indeed a dictionary."
      ]
    },
    {
      "cell_type": "markdown",
      "metadata": {
        "id": "XV9GyuzxaRxk"
      },
      "source": [
        "---"
      ]
    },
    {
      "cell_type": "markdown",
      "metadata": {
        "id": "1w_VCH1hMeRj"
      },
      "source": [
        "#### Task 7: Important Points about Python Dictionary\n",
        "\n",
        "Here are some of the important points about a Python dictionary:\n",
        "\n",
        "1. A key in a Python dictionary can be a `str` (string), `int` (integer), `float` (a floating-point number), and a `bool` (boolean) data type. Additionally, it can also be a tuple. In general, any immutable Python object can be a key in a Python dictionary. The term **immutable** means **unchangeable**.\n",
        "\n",
        "2. Any Python object (whether mutable or immutable) or a data type can be a value in a Python dictionary.\n",
        "\n",
        "Let's go through a few examples for keys and values in a Python dictionary.\n",
        "\n",
        "**Booleans as keys**"
      ]
    },
    {
      "cell_type": "code",
      "metadata": {
        "id": "QgysZmVYMlBf",
        "colab": {
          "base_uri": "https://localhost:8080/"
        },
        "outputId": "ede0507e-49b7-411d-dae5-2a5ad8ffb308"
      },
      "source": [
        "# S7.1: Create a Python dictionary whose keys are 'True' and 'False'. You can assign them any values.\n",
        "bo_dict = {True:'Yes',False:'No'}\n",
        "bo_dict"
      ],
      "execution_count": null,
      "outputs": [
        {
          "output_type": "execute_result",
          "data": {
            "text/plain": [
              "{False: 'No', True: 'Yes'}"
            ]
          },
          "metadata": {},
          "execution_count": 12
        }
      ]
    },
    {
      "cell_type": "markdown",
      "metadata": {
        "id": "KLyYUQloNDbm"
      },
      "source": [
        "**Float-point numbers as keys**"
      ]
    },
    {
      "cell_type": "code",
      "metadata": {
        "id": "Lvln1LueNEAl",
        "colab": {
          "base_uri": "https://localhost:8080/"
        },
        "outputId": "fde1cc87-2939-4fed-be22-f9a8990e4243"
      },
      "source": [
        "# S7.2: Create a Python dictionary whose keys are some floating-point numbers. You can assign them any values.\n",
        "flo_dict = {3.143:'Pie',2.71:'two'}\n",
        "flo_dict"
      ],
      "execution_count": null,
      "outputs": [
        {
          "output_type": "execute_result",
          "data": {
            "text/plain": [
              "{2.71: 'two', 3.143: 'Pie'}"
            ]
          },
          "metadata": {},
          "execution_count": 13
        }
      ]
    },
    {
      "cell_type": "markdown",
      "metadata": {
        "id": "hUPhZrCuNPBf"
      },
      "source": [
        "**Integers as keys**"
      ]
    },
    {
      "cell_type": "code",
      "metadata": {
        "id": "n8hEcX31NMMb",
        "colab": {
          "base_uri": "https://localhost:8080/"
        },
        "outputId": "72a53b65-ef20-4223-a351-10ec0234cc12"
      },
      "source": [
        "# S7.3: Create a Python dictionary whose keys are integer values. You can assign them any values.\n",
        "int_dict = {1:'Composit Number',2:'even No'}\n",
        "int_dict"
      ],
      "execution_count": null,
      "outputs": [
        {
          "output_type": "execute_result",
          "data": {
            "text/plain": [
              "{1: 'Composit Number', 2: 'even No'}"
            ]
          },
          "metadata": {},
          "execution_count": 14
        }
      ]
    },
    {
      "cell_type": "markdown",
      "metadata": {
        "id": "KZfgcSgTNQPc"
      },
      "source": [
        "**Tuples as keys**"
      ]
    },
    {
      "cell_type": "code",
      "metadata": {
        "id": "a_cP7ej7NUrd",
        "colab": {
          "base_uri": "https://localhost:8080/"
        },
        "outputId": "84e04420-7c3e-42e8-8477-a58a5a055864"
      },
      "source": [
        "# S7.4: Create a Python dictionary whose keys are some tuples. You can assign them any values.\n",
        "tup_dict = {(1,3):'Prime Numbers',(2,4):'composite Numbers'}\n",
        "tup_dict"
      ],
      "execution_count": null,
      "outputs": [
        {
          "output_type": "execute_result",
          "data": {
            "text/plain": [
              "{(1, 3): 'Prime Numbers', (2, 4): 'composite Numbers'}"
            ]
          },
          "metadata": {},
          "execution_count": 15
        }
      ]
    },
    {
      "cell_type": "markdown",
      "metadata": {
        "id": "wCjwng15NaLp"
      },
      "source": [
        "**Lists as values**"
      ]
    },
    {
      "cell_type": "code",
      "metadata": {
        "id": "2Z90nsMNNa2B",
        "colab": {
          "base_uri": "https://localhost:8080/"
        },
        "outputId": "9c6c52ad-db99-4388-af6d-523a519d1d4c"
      },
      "source": [
        "# S7.5: Create a Python dictionary whose values are some lists.\n",
        "list_dict = {'Natural Numbers':[1,2],'Whole Numbers':[0,1,2]}\n",
        "list_dict"
      ],
      "execution_count": null,
      "outputs": [
        {
          "output_type": "execute_result",
          "data": {
            "text/plain": [
              "{'Natural Numbers': [1, 2], 'Whole Numbers': [0, 1, 2]}"
            ]
          },
          "metadata": {},
          "execution_count": 16
        }
      ]
    },
    {
      "cell_type": "markdown",
      "metadata": {
        "id": "VpJMLu59NfeC"
      },
      "source": [
        "**Dictionaries as values**"
      ]
    },
    {
      "cell_type": "code",
      "metadata": {
        "id": "xnSjbQugNgBX",
        "colab": {
          "base_uri": "https://localhost:8080/"
        },
        "outputId": "9d44acb3-92ef-4e4a-ee18-6454ebf33d9f"
      },
      "source": [
        "# S7.6: Create a Python dictionary whose values are some other dictionaries.\n",
        "dict_dict = {'product':{'color1':'Red','color2':'Black','color3':'Blue'},'Specification':my_dict}\n",
        "dict_dict"
      ],
      "execution_count": null,
      "outputs": [
        {
          "output_type": "execute_result",
          "data": {
            "text/plain": [
              "{'Specification': {'Display': '6.28 inches',\n",
              "  'Fast Charge': True,\n",
              "  'Price (INR)': 28990,\n",
              "  'Processor': 'Qualcomm Snapdragon 845',\n",
              "  'RAM': '6 GB',\n",
              "  'Rear Camera': '16 MP + 20 MP',\n",
              "  'battery': '3300 mAh',\n",
              "  'front camera': '16 MP'},\n",
              " 'product': {'color1': 'Red', 'color2': 'Black', 'color3': 'Blue'}}"
            ]
          },
          "metadata": {},
          "execution_count": 19
        }
      ]
    },
    {
      "cell_type": "markdown",
      "metadata": {
        "id": "7knd5IaTNmYK"
      },
      "source": [
        "**Tuples as values**\n",
        "\n",
        "You will learn about tuples in detail in the upcoming classes."
      ]
    },
    {
      "cell_type": "code",
      "metadata": {
        "id": "2vnuhu8ONliv",
        "colab": {
          "base_uri": "https://localhost:8080/"
        },
        "outputId": "421e4a3e-df2e-4bb8-a987-35b3a9526e46"
      },
      "source": [
        "# S7.7: Create a Python dictionary whose values are tuples.\n",
        "tup_dict = {'prime':(2,3,5,7),'composit':(2,4,6)}\n",
        "tup_dict"
      ],
      "execution_count": null,
      "outputs": [
        {
          "output_type": "execute_result",
          "data": {
            "text/plain": [
              "{'composit': (2, 4, 6), 'prime': (2, 3, 5, 7)}"
            ]
          },
          "metadata": {},
          "execution_count": 20
        }
      ]
    },
    {
      "cell_type": "markdown",
      "metadata": {
        "id": "L20L60oENq6y"
      },
      "source": [
        "**Note:** a key in a dictionary must be unique. In other words, two items in a dictionary cannot have the same key. If a dictionary contains two items having the same key, then the item at the higher index will be accepted by the dictionary and the item at the lower index will be discarded.\n"
      ]
    },
    {
      "cell_type": "code",
      "metadata": {
        "id": "X8uuoiS7Numn",
        "colab": {
          "base_uri": "https://localhost:8080/"
        },
        "outputId": "720cdbb8-5456-4ad3-e88b-7e5181da3c0d"
      },
      "source": [
        "# S7.8: Create a dictionary having two identical keys but different values. \n",
        "dict1= {'super':'man','hot':'chocklet','super':'women'}\n",
        "dict1"
      ],
      "execution_count": null,
      "outputs": [
        {
          "output_type": "execute_result",
          "data": {
            "text/plain": [
              "{'hot': 'chocklet', 'super': 'women'}"
            ]
          },
          "metadata": {},
          "execution_count": 21
        }
      ]
    },
    {
      "cell_type": "markdown",
      "metadata": {
        "id": "vPS6tLnvN0BG"
      },
      "source": [
        "As you can see, the latest value for a key overrides its previous value.\n",
        "\n",
        "**Note:** Two different keys in a dictionary can have the same value. "
      ]
    },
    {
      "cell_type": "code",
      "metadata": {
        "id": "ioxsPx6pN3VH",
        "colab": {
          "base_uri": "https://localhost:8080/"
        },
        "outputId": "6d154301-4897-4432-941a-94893e37f620"
      },
      "source": [
        "# S7.9: Create a dictionary having two identical values but different keys. \n",
        "dict2 = {'super':'man','hot':'chocklet','bat':'man'}\n",
        "dict2"
      ],
      "execution_count": null,
      "outputs": [
        {
          "output_type": "execute_result",
          "data": {
            "text/plain": [
              "{'bat': 'man', 'hot': 'chocklet', 'super': 'man'}"
            ]
          },
          "metadata": {},
          "execution_count": 22
        }
      ]
    },
    {
      "cell_type": "markdown",
      "metadata": {
        "id": "RshzlhzwN_Ne"
      },
      "source": [
        "Lastly, to convert the lists returned by the `keys(), values()`, `items()` function to conventional Python lists, you can apply the `list()` function on top of them:"
      ]
    },
    {
      "cell_type": "code",
      "metadata": {
        "id": "XHm-JPyNN_q3",
        "colab": {
          "base_uri": "https://localhost:8080/"
        },
        "outputId": "9d910cab-37d7-4d33-fc23-05ede17de33c"
      },
      "source": [
        "# S7.10: Apply the 'list()' functions on top of the lists returned by the 'keys()', 'values()' & 'items()'. Print them as well.\n",
        "print('Keys:',list(my_dict.keys()))\n",
        "print('Values : ',list(my_dict.values()))\n",
        "print('key:value',list(my_dict.items()))"
      ],
      "execution_count": null,
      "outputs": [
        {
          "output_type": "stream",
          "name": "stdout",
          "text": [
            "Keys: ['front camera', 'battery', 'Processor', 'Display', 'RAM', 'Rear Camera', 'Price (INR)', 'Fast Charge']\n",
            "Values :  ['16 MP', '3300 mAh', 'Qualcomm Snapdragon 845', '6.28 inches', '6 GB', '16 MP + 20 MP', 28990, True]\n",
            "key:value [('front camera', '16 MP'), ('battery', '3300 mAh'), ('Processor', 'Qualcomm Snapdragon 845'), ('Display', '6.28 inches'), ('RAM', '6 GB'), ('Rear Camera', '16 MP + 20 MP'), ('Price (INR)', 28990), ('Fast Charge', True)]\n"
          ]
        }
      ]
    },
    {
      "cell_type": "markdown",
      "metadata": {
        "id": "aVAFv-lyMhVG"
      },
      "source": [
        "Thus, we explored different types of keys and values that can be used in a Python dictionary.\n",
        " \n",
        " Let's pause here. In the next class, we will learn more about Python dictionaries."
      ]
    },
    {
      "cell_type": "markdown",
      "metadata": {
        "id": "cj8-Aj-9MdWN"
      },
      "source": [
        "---"
      ]
    }
  ]
}