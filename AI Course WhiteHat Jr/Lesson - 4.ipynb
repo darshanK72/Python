{
  "nbformat": 4,
  "nbformat_minor": 0,
  "metadata": {
    "colab": {
      "name": "2021-10-14_Darshan_Lesson4",
      "provenance": [],
      "collapsed_sections": []
    },
    "kernelspec": {
      "name": "python3",
      "display_name": "Python 3"
    }
  },
  "cells": [
    {
      "cell_type": "markdown",
      "metadata": {
        "id": "mFDyd3uB4WBx"
      },
      "source": [
        "# Lesson 4: Variables and Data Types\n"
      ]
    },
    {
      "cell_type": "markdown",
      "metadata": {
        "id": "JPG2olCaGYH9"
      },
      "source": [
        "---"
      ]
    },
    {
      "cell_type": "markdown",
      "metadata": {
        "id": "2mRs675tV9i8"
      },
      "source": [
        "### Teacher-Student Tasks\n",
        "\n",
        "\n",
        "Before creating the actual algorithm for the Mind Reader game, let's try to build a very simple algorithm in which a computer randomly predicts a player's next move. In the subsequent classes, we will learn the actual algorithm.\n",
        "\n",
        "In the very simple version of the Mind Reader game algorithm, a computer randomly predicts Heads or Tails for every player input.\n",
        "\n",
        "**What is an Algorithm?**\n",
        "- An algorithm is a well-defined and well-structured logic written in very clear and concise steps.\n",
        "- It is not specific to a computer programming language.\n",
        "- It is just a logic that can be implemented in any computer programming language.\n",
        "\n",
        "\n",
        "\n",
        "In the case of the Mind Reader game, we want the computer to **randomly** predict the player's inputs.\n",
        "\n",
        "Therefore, the very simple version of the Mind Reader game algorithm should implement the following steps:\n",
        "\n",
        "<img src=\"https://s3-whjr-v2-prod-bucket.whjr.online/655ef30b-499e-4aa2-a4d0-fff6bc223c27.png\"/>\n"
      ]
    },
    {
      "cell_type": "markdown",
      "metadata": {
        "id": "QEV4jQkV4MDR"
      },
      "source": [
        "---"
      ]
    },
    {
      "cell_type": "markdown",
      "metadata": {
        "id": "95EjFl8fYThf"
      },
      "source": [
        "#### Task 1: The `print()` Function\n",
        "\n",
        "As part of the algorithm, we need to print two messages to the player of the Mind Reader game. They are:\n",
        "- `\"You entered\"`\n",
        "- `\"Computer predicted\"`\n",
        "\n",
        "Let's learn how to do that. In Python, you can print anything using the **`print()`** function.\n",
        "\n",
        "**What is a Function?**\n",
        ">- A function is a named block of code that performs some specific tasks.\n",
        "- It is like a device that takes some input and produces some output.\n",
        "- For e.g: a **juicer** is a device that takes fruit as input and produces the juice of that fruit as an output. We will learn about functions in detail in the subsequent classes.\n",
        "\n",
        "\n",
        "<center>\n",
        "<img src=\"https://curriculum.whitehatjr.com/APT+Asset/APT+C1+storyboard+images/input+output.gif\" height=300 width=300/>\n",
        "\n",
        "<img src=\"https://curriculum.whitehatjr.com/APT+Asset/APT+C1+storyboard+images/juicer.gif\"  height=300 width=300/>\n",
        "\n",
        "</center>\n",
        "\n",
        "\n",
        "Let's print the `\"You entered\"` message using the `print()` function. The text `\"You entered\"` is an input to the `print()` function. The output would also be the same.\n",
        "\n",
        "When using the `print()` function, enclose the text that you need to print either in the single-quotes (`''`) or in double-quotes (`\"\"`). \n",
        "\n",
        "**Note:** To run the code, either click on the `Play` button on the left-hand side of the code cell or press the `shift` and `enter` keys together while you are active in the code cell."
      ]
    },
    {
      "cell_type": "code",
      "metadata": {
        "id": "LOuPp_5WVLKM",
        "colab": {
          "base_uri": "https://localhost:8080/"
        },
        "outputId": "393499f5-c466-405a-ceed-dbfec45f916f"
      },
      "source": [
        "# S1.1: Print the \"You entered\" message to a player using the 'print()' function.\n",
        "print(\"You entered\")"
      ],
      "execution_count": null,
      "outputs": [
        {
          "output_type": "stream",
          "name": "stdout",
          "text": [
            "You entered\n"
          ]
        }
      ]
    },
    {
      "cell_type": "markdown",
      "metadata": {
        "id": "vKDJiweDwn2e"
      },
      "source": [
        "So, we have printed `\"You entered\"`. \n",
        "\n",
        "**Note:** The text is written after the hash (`#`) symbol. These texts are called **comments**.\n",
        "\n",
        "**What are the comments?**\n",
        "\n",
        "-  A comment is a plain text in a program's code that is not meant to be executed.\n",
        "- It is just an explanation added by the coder to briefly explain what is happening in the code.\n",
        "- In python, comments are added after putting the hash (`#`) symbol.\n",
        "\n",
        "Now you print the `\"Computer predicted\"` message using the `print()` function:"
      ]
    },
    {
      "cell_type": "code",
      "metadata": {
        "id": "OUCYA-WXXDwd",
        "colab": {
          "base_uri": "https://localhost:8080/"
        },
        "outputId": "3fe3515a-5c04-40fe-a42c-a7b1bad00423"
      },
      "source": [
        "# S1.2: Print \"Computer predicted\" message to a player using the 'print()' function.\n",
        "print(\"Computer predicted\")"
      ],
      "execution_count": null,
      "outputs": [
        {
          "output_type": "stream",
          "name": "stdout",
          "text": [
            "Computer predicted\n"
          ]
        }
      ]
    },
    {
      "cell_type": "markdown",
      "metadata": {
        "id": "bJQj-C0FmBCw"
      },
      "source": [
        "In the above code, we enclosed the text to be printed in double quotes (`\"\"`). Thus, in this way, the `print()` function is used to print the required statements on the screen."
      ]
    },
    {
      "cell_type": "markdown",
      "metadata": {
        "id": "eC5-Kf5ne1ON"
      },
      "source": [
        "---"
      ]
    },
    {
      "cell_type": "markdown",
      "metadata": {
        "id": "Ww9Zh65UZ-M3"
      },
      "source": [
        "#### Task 2: Variables and Data Types\n",
        "\n",
        "\n",
        "As part of the algorithm, the Mind Reader game should take input (either `0` or `1` where `0` indicates `Heads` and `1` indicates `Tails`) from a player and store it somewhere so that we can use the input value later. To store a value, we need to create a variable.\n",
        "\n",
        "**What is a variable?**\n",
        "\n",
        "- A variable is like a container. \n",
        "- It stores a *value*.\n",
        "- You can assign a new value to a variable whenever needed.\n",
        "\n",
        "<img src=\"https://curriculum.whitehatjr.com/APT+Asset/APT+C1+storyboard+images/variable.png\" height=200 width=300/>\n",
        "\n",
        "\n",
        "\n",
        "**For example:**\n",
        "\n",
        "\n",
        "- <img src=\"https://curriculum.whitehatjr.com/APT+Asset/APT+C1+storyboard+images/cofee.jpg\" height=70 width=70 />Here, the `mug` is a variable and `coffee` is its value. We can use this `mug` to drink tea as well. Thus, `tea` will be the new value of the variable `mug`.  \n",
        "<br/>\n",
        "\n",
        "- <img src=\"https://curriculum.whitehatjr.com/APT+Asset/APT+C1+storyboard+images/tiffin.jpg\" height=100 width=100/> Here, the `lunchbox` is the variable and the `sandwich` is its value.\n",
        "\n",
        "\n",
        "In simple words, a variable is a storage space having a unique name or label which will identify them. We are going to use them a lot throughout our course — for example, to hold the player's input or to keep track of the current score of all the players.\n",
        "\n",
        "\n",
        "**What are data types in Python?**\n",
        "\n",
        "\n",
        "<img src=\"https://s3-whjr-v2-prod-bucket.whjr.online/8f97bbfb-3642-4e4a-ac48-07b99e5e28c2.PNG\" />\n",
        "\n",
        "\n",
        "**Note:**\n",
        "The `T` in `True` and `F` in `False` must be capital because Python is case-sensitive.</li>\n",
        "\n",
        "\n",
        "Now, let's practice Python variables by storing the various information about Mercury and Saturn planets in variables.\n",
        "\n",
        "<center>\n",
        "<img src=\"https://curriculum.whitehatjr.com/APT+Asset/Final+C1+images/boy_reading.png\" /></center>\n",
        "\n",
        "Let us first store the information about Mercury planet in four different variables and print the value of those variables:"
      ]
    },
    {
      "cell_type": "code",
      "metadata": {
        "id": "h-abfjmcA1c6"
      },
      "source": [
        "# S2.1: Create 4 different variables and store the planet name, diameter, gravity, and ring values of the first planet in the variables.\n",
        "# 1. Store a string value in a variable\n",
        "planet_name = \"Mercury\"\n",
        "\n",
        "# 2. Store an integer value in a variable.\n",
        "diameter = 4879\n",
        "\n",
        "# 3. Store a float-point number in a variable.\n",
        "gravity = 3.7\n",
        "\n",
        "# 4. Store a boolean value in a number.\n",
        "ring = False\n",
        "# Python can also store a boolean value, i.e., either True or False. \n",
        "# The 'Yes' or 'No' values are generally represented as True or False in Python. It cannot understand Yes or No.\n",
        "\n",
        "\n",
        "# If we run the code cell, we won't get any output. But the values will be assigned to these 4 variables."
      ],
      "execution_count": null,
      "outputs": []
    },
    {
      "cell_type": "markdown",
      "metadata": {
        "id": "ZAxW4fIcQPNn"
      },
      "source": [
        "So far we have stored 4 different types of values in 4 different variables. Now, let's print the values stored in these variables using the `print()` function."
      ]
    },
    {
      "cell_type": "code",
      "metadata": {
        "id": "YZWNWc9cQNLl",
        "colab": {
          "base_uri": "https://localhost:8080/"
        },
        "outputId": "c935c05d-c756-4568-bea6-dcdd0e3c992b"
      },
      "source": [
        "# S2.2: Print the values stored in all the 4 variables.\n",
        "print(planet_name)\n",
        "print(diameter)\n",
        "print(gravity)\n",
        "print(ring)"
      ],
      "execution_count": null,
      "outputs": [
        {
          "output_type": "stream",
          "name": "stdout",
          "text": [
            "Mercury\n",
            "4879\n",
            "3.7\n",
            "False\n"
          ]
        }
      ]
    },
    {
      "cell_type": "markdown",
      "metadata": {
        "id": "3KoCO6gacmav"
      },
      "source": [
        "As a good practice, name a variable in such a way that it reflects the nature of the value stored in it. In this case, the value that needs to be stored is the diameter of a planet. So, we have named a variable `planet1_dia` suggesting that the value stored in it is indeed the diameter of a planet.\n",
        "\n",
        "This is just good practice. It is NOT compulsory to name a variable in this manner.  \n",
        "\n",
        "**NOTE:**\n",
        "1. The first letter of a variable must be lowercase. Otherwise, your variable name may clash with the existing predefined Python functions and objects. For e.g:\n",
        "  - `Diameter = 4879` <img src=\"https://s3-whjr-v2-prod-bucket.whjr.online/959ecbf5-1b95-413b-8f0d-602d551c01f8.jpg\"/>\n",
        "\n",
        "  - `diameter = 4879` <img src=\"https://s3-whjr-v2-prod-bucket.whjr.online/2af50a47-33ea-4331-a92d-6111e0aaca90.png\"/>\n",
        "\n",
        "2. Never name a variable beginning with a number. For e.g:\n",
        "   - `1st_prize_winner`<img src=\"https://s3-whjr-v2-prod-bucket.whjr.online/959ecbf5-1b95-413b-8f0d-602d551c01f8.jpg\"/>\n",
        "   - `first_prize_winner`<img src=\"https://s3-whjr-v2-prod-bucket.whjr.online/2af50a47-33ea-4331-a92d-6111e0aaca90.png\"/>\n",
        " \n",
        "\n",
        "3. Never provide spaces between two or more letters or words because Python will consider them as different variables. For e.g:\n",
        "  -  `planet1 dia` <img src=\"https://s3-whjr-v2-prod-bucket.whjr.online/959ecbf5-1b95-413b-8f0d-602d551c01f8.jpg\"/>\n",
        "  - `planet1_dia` <img src=\"https://s3-whjr-v2-prod-bucket.whjr.online/2af50a47-33ea-4331-a92d-6111e0aaca90.png\"/>\n",
        "\n",
        "\n",
        "\n",
        "\n",
        "\n",
        "\n",
        "Now, it's your turn to write the code. Store the  information about Saturn planet in four different variables and print the value of those variables:"
      ]
    },
    {
      "cell_type": "code",
      "metadata": {
        "id": "oGvlD4fb7KGx",
        "colab": {
          "base_uri": "https://localhost:8080/"
        },
        "outputId": "1739c859-cd54-428f-cc44-03db126ab079"
      },
      "source": [
        "# S2.3: Create 4 different variables and store the planet name, diameter, gravity, and ring values of the second planet in them.\n",
        "# 1. Create a variable and name it 'planet2_name'. Store the value \"Saturn\" in it.\n",
        "planet2_name = \"Saturn\"\n",
        "\n",
        "# 2. Create a variable and name it 'planet2_dia'. Store the diameter value of Saturn in it.\n",
        "planet2_dia = 120536\n",
        "\n",
        "# 3. Create a variable and name it 'planet2_gravity. Store the gravity value of Saturn in it.\n",
        "planet2_gravity = 9.0\n",
        "\n",
        "# 4. Create a variable and name it 'planet2_has_ring'. Store True in it.\n",
        "planet2_ring = True\n",
        "\n",
        "# Print the values stored in all the 4 variables.\n",
        "print('\\n',planet2_name,'\\n',planet2_dia,'\\n',planet2_gravity,'\\n',planet2_ring)"
      ],
      "execution_count": null,
      "outputs": [
        {
          "output_type": "stream",
          "name": "stdout",
          "text": [
            "\n",
            " Saturn \n",
            " 120536 \n",
            " 9.0 \n",
            " True\n"
          ]
        }
      ]
    },
    {
      "cell_type": "markdown",
      "metadata": {
        "id": "ZFlx26pK8EPr"
      },
      "source": [
        "So in this way, we can store some information (or data) in a variable and print their values using the `print()` function.\n"
      ]
    },
    {
      "cell_type": "markdown",
      "metadata": {
        "id": "dN-Mc4dg7xvt"
      },
      "source": [
        "---"
      ]
    },
    {
      "cell_type": "markdown",
      "metadata": {
        "id": "9uje_j6zditR"
      },
      "source": [
        "#### Task 3: The `input()` Function\n",
        "\n",
        "As part of the algorithm, the Mind Reader game needs to ask a player to enter either `0` or `1` where `0` denotes `Heads` and `1` denotes `Tails`.\n",
        " \n",
        "To take input from a user in Python, you can use another function called `input()`.\n",
        "<center>\n",
        "<img src=\"https://curriculum.whitehatjr.com/APT+Asset/Final+C1+images/user_input.png\"/>\n",
        "</center>\n",
        "\n",
        " Inside the `input()` function, you can also write a message to the player to display the message before taking the required input.\n",
        "\n",
        "**For Example:**\n",
        "\n",
        "<center>\n",
        "<img src=\"https://curriculum.whitehatjr.com/APT+Asset/Final+C1+images/input_new_ex.png\" /></center>\n",
        "\n",
        "Let's ask the player of the Mind Reader game to enter either `0` or `1` and store it in the `player_input` variable. \n",
        "\n",
        "Also, print the value stored in the `player_input` variable:\n",
        "\n"
      ]
    },
    {
      "cell_type": "code",
      "metadata": {
        "id": "-dpOB_mse2kx",
        "colab": {
          "base_uri": "https://localhost:8080/"
        },
        "outputId": "875b89a1-b477-4e64-9ff0-d335a259310d"
      },
      "source": [
        "# S3.1: Take input from a user and store it in the 'player_input' variable.\n",
        "player_input = int(input(\"Enter 0 or 1 : \"))\n",
        "print(player_input)"
      ],
      "execution_count": null,
      "outputs": [
        {
          "output_type": "stream",
          "name": "stdout",
          "text": [
            "Enter 0 or 1 : 1\n",
            "1\n"
          ]
        }
      ]
    },
    {
      "cell_type": "markdown",
      "metadata": {
        "id": "dnqIGlzzeSda"
      },
      "source": [
        "Here, using the `print()` function, we printed a message `\"You entered\"` along with the value stored in the `player_input` variable. The message and the `player_input` are separated by a comma. \n",
        "\n",
        "**Note:** You can print multiple entities using the `print()` function by separating them with a comma.\n",
        "\n",
        "Now, you ask a player to enter their name using the `input()` function,  display the `\"Enter your name: \"` message while taking the input, and store the name entered by the player in the `player_name` variable. Then print the following message using the `print()` function.\n",
        "\n",
        "`\"Hello, player_name! Welcome to the Mind Reader Game.\"` \n",
        "\n",
        "Where `player_name` is the name entered by the player."
      ]
    },
    {
      "cell_type": "code",
      "metadata": {
        "id": "5LD6mU8GtwOK",
        "colab": {
          "base_uri": "https://localhost:8080/"
        },
        "outputId": "c2f94026-ca16-4d89-c3ae-1c08cbc20b8c"
      },
      "source": [
        "# S3.2: Write a code to take input from a player and then print the \"Hello, player_name ! Welcome to the Mind Reader Game\" message.\n",
        "# Create a variable and name it 'player_name'. Take input from the player using the 'input()' function.\n",
        "player_name = input(\"Enter Player Name : \")\n",
        "\n",
        "# Print \"Hello, player_name ! Welcome to the Mind Reader Game.\"\n",
        "print(\"Hello, \",player_name,\" ! Welcome to the Mind Reader Game.\")"
      ],
      "execution_count": null,
      "outputs": [
        {
          "output_type": "stream",
          "name": "stdout",
          "text": [
            "Enter Player Name : Darshan\n",
            "Hello,  Darshan  ! Welcome to the Mind Reader Game.\n"
          ]
        }
      ]
    },
    {
      "cell_type": "markdown",
      "metadata": {
        "id": "faTX4j4_nQCR"
      },
      "source": [
        "---"
      ]
    },
    {
      "cell_type": "markdown",
      "metadata": {
        "id": "NhWXS7kufHgs"
      },
      "source": [
        "#### Task 4: Importing a Module\n",
        "\n",
        "\n",
        "So far we have completed the following first two steps of creating the Mind Reader game algorithm:  \n",
        "\n",
        "*   Taking input from the player. \n",
        "*   Printing the input given by the player.\n",
        "\n",
        "\n",
        "For the next step, we need the computer to predict `0` or `1` randomly where `0` denotes `Heads` and `1` denotes `Tails`. \n",
        "\n",
        "For this step, we need a function called `randint()` which returns a random integer between two integers. In our case, it must return either `0` or `1` randomly.\n",
        "\n",
        "However, we can't use this function directly like the `print()` and `input()` functions. We first need to import a module called `random`.\n",
        "\n",
        "Some functions in Python cannot be used directly. To use such a function, you first need to import a module in which that function exists and then use the required function. \n",
        "\n",
        "**For all practical purposes, a module is a collection of some special functions which are used occasionally.**\n",
        "\n",
        "<center>\n",
        "<img src=\"https://s3-whjr-v2-prod-bucket.whjr.online/47de419a-b5a0-43a0-bae6-e9b452a05c93.png\"/>\n",
        "</center>\n",
        "\n",
        "\n",
        "\n",
        "The **syntax** for using a special function that exists in a module is as follows:\n",
        "\n",
        "`import module_name`    \n",
        "\n",
        "`module_name.function_name`\n",
        "\n",
        "**Note:** \n",
        "\n",
        "<ol><li>\n",
        " The syntax is like a grammar of a programing language. It is a standard protocol that must be following while writing code.</li>\n",
        "\n",
        "<li>Always import a module at the very beginning of your code.</li> \n",
        "\n",
        "<li> A module needs to be imported only once. However, both the student and the teacher have to import a module at least once at their respective ends.</li>\n",
        "\n",
        "<li>The dot (`.`) operator is used to call a function from a module.</li>\n",
        "</ol>\n",
        "\n",
        "</font>\n",
        "\n",
        "Let's try to generate a random number between `1` and `6` using the `randint()` function. It will return either `1, 2, 3, 4, 5,` or `6`. In case you have noticed, this is a simulation of a die roll.\n",
        "\n",
        "\n",
        "<img src=\"https://curriculum.whitehatjr.com/APT+Asset/Final+C2+images/WHJ_dice_APT-C2.gif\"/>\n",
        "\n",
        "For this, perform the following steps:\n",
        "1. Import `random` module.\n",
        "2. Generate a random integer between `1` and `6` using `randint()` function. Store it in a variable `die_roll`.\n",
        "3. Print the value of the `die_roll` variable.\n"
      ]
    },
    {
      "cell_type": "code",
      "metadata": {
        "id": "a4iQ512__59G",
        "colab": {
          "base_uri": "https://localhost:8080/"
        },
        "outputId": "be3379df-97b4-4895-ebdd-2c7d462af129"
      },
      "source": [
        "# S4.1: Import the 'random' module to use the 'randint()' function to generate an integer between 1 and 6 randomly.\n",
        "import random\n",
        "x = random.randint(1,6)\n",
        "print(x)"
      ],
      "execution_count": null,
      "outputs": [
        {
          "output_type": "stream",
          "name": "stdout",
          "text": [
            "3\n"
          ]
        }
      ]
    },
    {
      "cell_type": "markdown",
      "metadata": {
        "id": "2O07tCjUu3BL"
      },
      "source": [
        "In the above code,\n",
        "\n",
        "- We have first imported the `random` module.\n",
        "\n",
        "- Then we have generated an integer between `1` and `6` and stored it in a variable called `die_roll`.\n",
        "\n",
        "- Then, we have printed the value stored in the `die_roll` variable using the `print()` function.\n",
        "\n",
        "**Note:** You may get a different number as an output every time you run the above code. </b>\n",
        "\n",
        "Now, using the `randint()` function, you need to: \n",
        "\n",
        "1. Generate `0` or `1` randomly and store it in a variable called `predict`.\n",
        "\n",
        "2. Print the value stored in the `predict` variable using the `print()` function."
      ]
    },
    {
      "cell_type": "code",
      "metadata": {
        "id": "WIjr_zTyHxhQ",
        "colab": {
          "base_uri": "https://localhost:8080/"
        },
        "outputId": "b3704356-58dd-4161-c0a7-91056ccb01ca"
      },
      "source": [
        "# S4.2: Using the 'randint()' function, generate 0 or 1 randomly.\n",
        "# 1. Import the 'random' module.\n",
        "import random\n",
        "# 2. Generate 0 or 1 randomly and then store the value obtained in the 'predict' variable.\n",
        "predict = random.randint(0,1)\n",
        "\n",
        "# 3. Print the value stored in the 'predict' variable.\n",
        "print(predict)"
      ],
      "execution_count": null,
      "outputs": [
        {
          "output_type": "stream",
          "name": "stdout",
          "text": [
            "1\n"
          ]
        }
      ]
    },
    {
      "cell_type": "markdown",
      "metadata": {
        "id": "9ed6iMjYvOtd"
      },
      "source": [
        "**Note:** We have to import a module just once before using its functions. We don't have to import it again and again.</font>\n",
        "\n"
      ]
    },
    {
      "cell_type": "markdown",
      "metadata": {
        "id": "cOTsGjXEAAlM"
      },
      "source": [
        "---"
      ]
    },
    {
      "cell_type": "code",
      "metadata": {
        "id": "iQOxTH7VQ-WV"
      },
      "source": [
        ""
      ],
      "execution_count": null,
      "outputs": []
    },
    {
      "cell_type": "markdown",
      "metadata": {
        "id": "yGBbg3WNveFT"
      },
      "source": [
        "#### Task 5: A very simple Mind Reader Algorithm\n",
        "\n",
        "Now, we have completed all the steps of creating a very simple Mind Reader game algorithm. Let's put all the steps together in one place to run the algorithm.\n",
        "\n",
        "\n",
        "We have to do the following:\n",
        "\n",
        "1. Take input from the player using the `input()` function and store it in the `player_input` variable. With the `input()` function, print the `\"Enter either 0 or 1: \"` message.\n",
        "\n",
        "2. Print the `\"You entered\"` message along with the value stored in the `player_input` variable, using the `print()` function.\n",
        "\n",
        "3. Create a variable and name it `predict`. Store the value returned by the `randint(0, 1)` function in the `predict` variable.\n",
        "\n",
        "4. Print the `\"Computer predicted\"` message along with the value stored in the `predict` variable.\n",
        "\n",
        "And voila! We have our algorithm ready."
      ]
    },
    {
      "cell_type": "code",
      "metadata": {
        "id": "yvas4G2yAKLJ",
        "colab": {
          "base_uri": "https://localhost:8080/"
        },
        "outputId": "d697edb7-ae1e-4c26-a811-00a19283908a"
      },
      "source": [
        "# S5.1: Put all the steps of creating the Mind Reader game algorithm in one place to run it.\n",
        "# 1. Take input from the player using input() function.\n",
        "# Create 'player_input' variable and store the input given by the player in it.\n",
        "player_input = int(input(\"Enter 0 or 1 : \"))\n",
        "\n",
        "# 2. Print the \"You entered\" message along with the value stored in the 'player_input' variable.\n",
        "print(\"you entered : \",player_input)\n",
        "\n",
        "# 3. Create a variable called 'predict' and store the value returned by the 'randint(0, 1)' function inside the variable.\n",
        "predict = random.randint(0,1)\n",
        "\n",
        "# 4. Print the \"Computer predicted\" message along with the value stored in the 'predict' variable.\n",
        "print(\"Computer predicted : \",predict)"
      ],
      "execution_count": null,
      "outputs": [
        {
          "output_type": "stream",
          "name": "stdout",
          "text": [
            "Enter 0 or 1 : 1\n",
            "you entered :  1\n",
            "Computer predicted :  0\n"
          ]
        }
      ]
    },
    {
      "cell_type": "markdown",
      "metadata": {
        "id": "nyhzrlAJ1ImW"
      },
      "source": [
        "So we have created a very simple algorithm in which a player enters either `0` or `1` and the computer predicts `0` and `1` randomly. Our program is making random predictions for now. \n",
        "\n",
        "But in the subsequent classes, we will learn how to enable the computer to make accurate predictions  based on the previous inputs entered by a player in the game.\n",
        "\n",
        "\n"
      ]
    },
    {
      "cell_type": "markdown",
      "metadata": {
        "id": "Pu86T_jToJ2z"
      },
      "source": [
        "---"
      ]
    },
    {
      "cell_type": "markdown",
      "metadata": {
        "id": "Og5x-0qmoK8D"
      },
      "source": [
        "### Fun Fact\n",
        "\n",
        "One of the cool things about the Jupyter notebook is that you don't always have to use the `print()` function to get an output. Let's say you want to print the value stored in a variable without using the `print()` function, then you simply have to write the variable at the end of the code in a code cell:"
      ]
    },
    {
      "cell_type": "code",
      "metadata": {
        "id": "zO3rA3M5lf0d"
      },
      "source": [
        "# Create a variable called 'game_name' and store the value 'Mind Reader Game' in it. \n",
        "# Print the value stored in the 'game_name' variable without using the 'print()' function.\n"
      ],
      "execution_count": null,
      "outputs": []
    },
    {
      "cell_type": "markdown",
      "metadata": {
        "id": "0PIfbKuHl1qX"
      },
      "source": [
        "This functionality is not available in any other software for writing Python codes."
      ]
    },
    {
      "cell_type": "code",
      "metadata": {
        "colab": {
          "base_uri": "https://localhost:8080/"
        },
        "id": "qCAXh8tYQ_bU",
        "outputId": "26a09d36-69b3-45f0-c0ba-4adc8f69ffea"
      },
      "source": [
        "a = int(input(\"Enter 1st number : \"))\n",
        "b = int(input(\"Enter 2nd number : \"))\n",
        "c = int(input(\"Enter 3rd number : \"))\n",
        "print(a+b+c)"
      ],
      "execution_count": null,
      "outputs": [
        {
          "output_type": "stream",
          "name": "stdout",
          "text": [
            "Enter 1st number : 8\n",
            "Enter 2nd number : 6\n",
            "Enter 3rd number : 2\n",
            "16\n"
          ]
        }
      ]
    },
    {
      "cell_type": "code",
      "metadata": {
        "colab": {
          "base_uri": "https://localhost:8080/"
        },
        "id": "_kPRflYkRgHt",
        "outputId": "ef53b324-1973-4cf3-fbaa-2a3183a6bdc7"
      },
      "source": [
        "n1 = int(input())\n",
        "n2 = int(input())\n",
        "n3 = int(input())\n",
        "\n",
        "if(n1<0 or n2<0 or n3<0):\n",
        "  print(\"Invalid Numbers, Input again\")\n",
        "else:\n",
        "  if(n1 > n2 and n1 > n3):\n",
        "    print(\"Maximum : \",n1)\n",
        "  elif(n2 > n1 and n2 > n3):\n",
        "    print(\"Maximum : \", n2)\n",
        "  else:\n",
        "    print(\"Maximum : \",n3)"
      ],
      "execution_count": null,
      "outputs": [
        {
          "output_type": "stream",
          "name": "stdout",
          "text": [
            "-1\n",
            "20\n",
            "50\n",
            "Invalid Numbers, Input again\n"
          ]
        }
      ]
    },
    {
      "cell_type": "code",
      "metadata": {
        "id": "8fL3LmcjTXPT"
      },
      "source": [
        ""
      ],
      "execution_count": null,
      "outputs": []
    },
    {
      "cell_type": "code",
      "metadata": {
        "id": "3C6Ai4vSTXHv"
      },
      "source": [
        ""
      ],
      "execution_count": null,
      "outputs": []
    },
    {
      "cell_type": "markdown",
      "metadata": {
        "id": "mBZsIflh5viR"
      },
      "source": [
        "---"
      ]
    },
    {
      "cell_type": "code",
      "metadata": {
        "id": "pkhHq2-8RzCp"
      },
      "source": [
        ""
      ],
      "execution_count": null,
      "outputs": []
    }
  ]
}