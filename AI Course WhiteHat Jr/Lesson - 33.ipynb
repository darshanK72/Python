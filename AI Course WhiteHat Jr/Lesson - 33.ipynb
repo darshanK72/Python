{
  "cells": [
    {
      "cell_type": "markdown",
      "metadata": {
        "id": "LHMNPeUke3VC"
      },
      "source": [
        "# Lesson 33: String Operations III"
      ]
    },
    {
      "cell_type": "markdown",
      "metadata": {
        "id": "d0RqwmGHOaUo"
      },
      "source": [
        "### Teacher-Student Tasks\n",
        "\n",
        "\n",
        "In this class, we will learn the remaining string operations/functions in Python."
      ]
    },
    {
      "cell_type": "markdown",
      "metadata": {
        "id": "1ndsjaU3X0V7"
      },
      "source": [
        "---"
      ]
    },
    {
      "cell_type": "markdown",
      "metadata": {
        "id": "CFg0CuZyh1o5"
      },
      "source": [
        "#### Task 1: The `strip(), lstrip()`, `rstrip()` Functions\n",
        "\n",
        "The `strip()` function removes any unwanted item from a string present at both ends of a string. By default it removes the whitespaces unless otherwise specified.\n",
        "\n",
        "The string below contains many `#` symbols, whitespaces, and commas`:\n",
        "\n",
        "`' #food, #foodie, #yummy, #delicious, #foodislife ## '`\n",
        "\n",
        "Let's remove the whitespaces and `#` symbols from both ends of the string using the `strip()` function:\n",
        "\n",
        "**Syntax of `strip()` function:** `string.strip(character)`\n",
        "\n",
        "Where `character` is the character to be removed from both ends of a string."
      ]
    },
    {
      "cell_type": "code",
      "execution_count": null,
      "metadata": {
        "colab": {
          "base_uri": "https://localhost:8080/"
        },
        "id": "mxbTH791h0cD",
        "outputId": "52fd80af-9523-4053-d27e-6376a0a9192a"
      },
      "outputs": [
        {
          "name": "stdout",
          "output_type": "stream",
          "text": [
            "#food, #foodie, #yummy, #delicious, #foodislife ##\n"
          ]
        }
      ],
      "source": [
        "# S1.1: Remove whitespaces from both ends of the given string.\n",
        "s1 = ' #food, #foodie, #yummy, #delicious, #foodislife ## '\n",
        "s2 = s1.strip()\n",
        "print(s2)"
      ]
    },
    {
      "cell_type": "code",
      "execution_count": null,
      "metadata": {
        "colab": {
          "base_uri": "https://localhost:8080/"
        },
        "id": "pYt-Qka3eHsM",
        "outputId": "b98fefa7-1c5e-4500-c62c-aa4a3f2b69d4"
      },
      "outputs": [
        {
          "name": "stdout",
          "output_type": "stream",
          "text": [
            "food, #foodie, #yummy, #delicious, #foodislife\n"
          ]
        }
      ],
      "source": [
        "# S1.2: Strip whitespaces and '#' symbols from both ends of the given string.\n",
        "s3 = s1.strip('# ')\n",
        "print(s3)\n"
      ]
    },
    {
      "cell_type": "markdown",
      "metadata": {
        "id": "aoY0M97aokd_"
      },
      "source": [
        "If you want to remove some character only from the rightmost end side of a string, then you can use the `rstrip()` function.\n",
        "\n",
        "**Syntax of `rstrip()` function:**  `string.rstrip(character)`\n",
        "\n",
        "Where `character` is the character to be removed from the rightmost end of a string."
      ]
    },
    {
      "cell_type": "code",
      "execution_count": null,
      "metadata": {
        "colab": {
          "base_uri": "https://localhost:8080/"
        },
        "id": "n0TMCqhlleeb",
        "outputId": "0e70ad68-152a-4bf7-f298-68d10776b143"
      },
      "outputs": [
        {
          "name": "stdout",
          "output_type": "stream",
          "text": [
            " #food, #foodie, #yummy, #delicious, #foodislife\n"
          ]
        }
      ],
      "source": [
        "# S1.3: Strip whitespaces and '#' symbols from the rightmost end of the given string.\n",
        "s4 = s1.rstrip('# ')\n",
        "print(s4)"
      ]
    },
    {
      "cell_type": "markdown",
      "metadata": {
        "id": "GoYtEnCRuklj"
      },
      "source": [
        "If you want to remove some character only from the leftmost end side of a string, then you can use the `lstrip()` function.\n",
        "\n",
        "**Syntax of `lstrip()` function:**  `string.lstrip(character)`\n",
        "\n",
        "Where `character` is the character to be removed from the leftmost end of a string."
      ]
    },
    {
      "cell_type": "code",
      "execution_count": null,
      "metadata": {
        "colab": {
          "base_uri": "https://localhost:8080/"
        },
        "id": "cJpIOHAspGhN",
        "outputId": "42f06432-3e44-40a1-984f-caffc64141e3"
      },
      "outputs": [
        {
          "name": "stdout",
          "output_type": "stream",
          "text": [
            "food, #foodie, #yummy, #delicious, #foodislife ## \n"
          ]
        }
      ],
      "source": [
        "# S1.4: Strip whitespaces and '#' symbols from the leftmost end of the given string.\n",
        "s5 = s1.lstrip(' #')\n",
        "print(s5)"
      ]
    },
    {
      "cell_type": "markdown",
      "metadata": {
        "id": "yCZ_uXveu-fz"
      },
      "source": [
        "---"
      ]
    },
    {
      "cell_type": "markdown",
      "metadata": {
        "id": "ZiFoVm3Iu_v6"
      },
      "source": [
        "#### Task 2: The `split()` Function\n",
        "\n",
        "The `split()` function splits a string and returns a list of splitted strings.\n",
        "\n",
        "For example, the `split()` function will split the string `' #food, #foodie, #yummy, #delicious, #foodislife ## '` and will return a list containing its fragments as items."
      ]
    },
    {
      "cell_type": "code",
      "execution_count": null,
      "metadata": {
        "colab": {
          "base_uri": "https://localhost:8080/"
        },
        "id": "XYMb7xHPu_Hu",
        "outputId": "409f9d5e-92d1-4998-e158-405ad9a6c2fc"
      },
      "outputs": [
        {
          "name": "stdout",
          "output_type": "stream",
          "text": [
            "['#food,', '#foodie,', '#yummy,', '#delicious,', '#foodislife', '##']\n"
          ]
        }
      ],
      "source": [
        "# S2.1: Apply the 'split()' function without passing any input to it on the given string.\n",
        "l = s1.split()\n",
        "print(l)"
      ]
    },
    {
      "cell_type": "markdown",
      "metadata": {
        "id": "wVMLyWJzvqGu"
      },
      "source": [
        "By default, the `split()` function splits a string about whitespace. If you want to split a string about a particular item, then you have to specify that item as an input to the `split()` function.\n",
        "\n",
        "Let's split the string `' #food, #foodie, #yummy, #delicious, #foodislife ## '` about the comma and whitespace."
      ]
    },
    {
      "cell_type": "code",
      "execution_count": null,
      "metadata": {
        "colab": {
          "base_uri": "https://localhost:8080/"
        },
        "id": "Fa6QhswjdeLX",
        "outputId": "89aaffa6-21e4-4276-c77b-8fc074c32a8a"
      },
      "outputs": [
        {
          "name": "stdout",
          "output_type": "stream",
          "text": [
            "[' #food', '#foodie', '#yummy', '#delicious', '#foodislife ## ']\n"
          ]
        }
      ],
      "source": [
        "# S2.2: Split the string ' #food, #foodie, #yummy, #delicious, #foodislife ## ' about the whitespace and comma.\n",
        "l1 = s1.split(', ')\n",
        "print(l1)"
      ]
    },
    {
      "cell_type": "code",
      "execution_count": null,
      "metadata": {
        "colab": {
          "base_uri": "https://localhost:8080/"
        },
        "id": "vzj5y1FbvojZ",
        "outputId": "5b873198-e64a-4644-9918-350c468b78d5"
      },
      "outputs": [
        {
          "name": "stdout",
          "output_type": "stream",
          "text": [
            "['food', 'foodie', 'yummy', 'delicious', 'foodislife']\n"
          ]
        }
      ],
      "source": [
        "# S2.3: Remove the hash symbols and whitespaces from all the items contained in the above list. Store the cleaned items in a new list.\n",
        "l3 = []\n",
        "for e in l1:\n",
        "  l3.append(e.strip(' #'))\n",
        "\n",
        "print(l3)"
      ]
    },
    {
      "cell_type": "markdown",
      "metadata": {
        "id": "Q0bB5qCCwQ5G"
      },
      "source": [
        "---"
      ]
    },
    {
      "cell_type": "markdown",
      "metadata": {
        "id": "4cDLkzOHwbeY"
      },
      "source": [
        "#### Task 3: The `join()` Function\n",
        "\n",
        "To join the items contained in a list to form a string, you can use the `join()` function. \n",
        "\n",
        "**Syntax of `join()` function:**  `joining_character.join(list)`\n",
        "\n",
        "\n",
        "**Note:** This function works on the lists containing only the string items.\n"
      ]
    },
    {
      "cell_type": "code",
      "execution_count": null,
      "metadata": {
        "colab": {
          "base_uri": "https://localhost:8080/"
        },
        "id": "Cs48MLoFvU6_",
        "outputId": "781c6216-bb34-45ab-8423-7b9d00a8bf31"
      },
      "outputs": [
        {
          "name": "stdout",
          "output_type": "stream",
          "text": [
            "food foodie yummy delicious foodislife\n"
          ]
        }
      ],
      "source": [
        "# S3.1: Create a new string by joining the items of the above list (containing clean items) about whitespace.\n",
        "l4 = ' '.join(l3)\n",
        "print(l4)"
      ]
    },
    {
      "cell_type": "markdown",
      "metadata": {
        "id": "Ve4pjwAKkx6I"
      },
      "source": [
        "Let's write a code to create a 12 character long password containing a combination of lowercase & uppercase English letters numbers and special characters.\n",
        "\n",
        "For this exercise, we have to import the `string` module that contains the following string constants.\n",
        "\n",
        "1. `string.ascii_lowercase`: A constant string of lowercase letters, i.e.,`'abcdefghijklmnopqrstuvwxyz'`\n",
        "\n",
        "2. `string.ascii_uppercase`: A constant string of uppercase letters, i.e., `'ABCDEFGHIJKLMNOPQRSTUVWXYZ'`\n",
        "\n",
        "3. `string.ascii_letters`: A constant string containing the concatenation of the `ascii_lowercase` and `ascii_uppercase` constants, i.e., `'abcdefghijklmnopqrstuvwxyzABCDEFGHIJKLMNOPQRSTUVWXYZ'`\n",
        "\n",
        "4. `string.digits`: A constant string of the digits, i.e, `'0123456789'`\n",
        "\n",
        "5. `string.punctuation`: A constant string of ASCII characters which are considered as punctuation characters, i.e., ``!\"#$%&'()*+,-./:;<=>?@[\\]^_`{|}~``\n",
        "\n",
        "The constants are those values which are universally true. E.g., value of `pi = 3.141` etc.\n",
        "\n",
        "Of course, you can create all of the above on your own by typing them individually. But then your life will become miserable."
      ]
    },
    {
      "cell_type": "code",
      "execution_count": null,
      "metadata": {
        "colab": {
          "base_uri": "https://localhost:8080/"
        },
        "id": "l7UvAgLqthax",
        "outputId": "fd010fe5-cd99-4c09-ff7e-193e22488b9a"
      },
      "outputs": [
        {
          "name": "stdout",
          "output_type": "stream",
          "text": [
            "Alphanemuric String is : abcdefghijklmnopqrstuvwxyzABCDEFGHIJKLMNOPQRSTUVWXYZ0123456789!\"#$%&'()*+,-./:;<=>?@[\\]^_`{|}~\n",
            "The length of string is : 94\n",
            "Password : fK!nkV/~bXHG\n"
          ]
        }
      ],
      "source": [
        "# S3.2: Write a code to generate a 12 character long random password containing a combination of lowercase & \n",
        "# uppercase English letters numbers and special characters.\n",
        "import random\n",
        "import string\n",
        "all = string.ascii_letters + string.digits + string.punctuation\n",
        "print(f\"Alphanemuric String is : {all}\\nThe length of string is : {len(all)}\")\n",
        "\n",
        "ch = [all[random.randint(0,len(all)-1)] for i in range(12)]\n",
        "password = ''.join(ch)\n",
        "print(f\"Password : {password}\")"
      ]
    },
    {
      "cell_type": "markdown",
      "metadata": {
        "id": "VqSTUpO-o-8X"
      },
      "source": [
        "In the above code:\n",
        "\n",
        "- An alphanumeric string is created by concatenating the `string.ascii_letters, string.digits, string.punctuation` constants.\n",
        "\n",
        "- A list is created using the list comprehension method: \n",
        "\n",
        "    - By first generating 12 random integers between `0` and `93`. They act as indices for any 12 items of the alphanumeric string.\n",
        "\n",
        "    - Then, by adding the items to the list that are retrieved from the alphanumeric string.\n",
        "\n",
        "- The `join()` function joins the items of the above list about an empty string."
      ]
    },
    {
      "cell_type": "markdown",
      "metadata": {
        "id": "ASoiuhx3yPzV"
      },
      "source": [
        "---"
      ]
    },
    {
      "cell_type": "markdown",
      "metadata": {
        "id": "JEnaq7CeyQ9Q"
      },
      "source": [
        "#### Task 4: The `capitalize(), lower(), upper()` & `title()` Functions\n",
        "\n",
        "The `capitalize()` function, capitalizes only the item at `index = 0` provided that the item is a lowercase English letter. The syntax is `string.capitalize()`."
      ]
    },
    {
      "cell_type": "code",
      "execution_count": null,
      "metadata": {
        "colab": {
          "base_uri": "https://localhost:8080/"
        },
        "id": "ln7sQZkV9h-_",
        "outputId": "41dc911a-1729-480b-b591-82e760a64623"
      },
      "outputs": [
        {
          "name": "stdout",
          "output_type": "stream",
          "text": [
            "Tell me i forget. teach me i remember. involve me i learn\n"
          ]
        }
      ],
      "source": [
        "# S4.1: Create a string having the first item as a lowercase English letter. Then, apply the 'capitalize()' function on it.\n",
        "q = \"tell me i forget. teach me i remember. involve me i learn\"\n",
        "c = q.capitalize()\n",
        "print(c)"
      ]
    },
    {
      "cell_type": "markdown",
      "metadata": {
        "id": "CyONvRyCJCB-"
      },
      "source": [
        "The `lower()` function converts all the uppercase English letters to the lowercase letters. The syntax is `string.lower()`"
      ]
    },
    {
      "cell_type": "code",
      "execution_count": null,
      "metadata": {
        "colab": {
          "base_uri": "https://localhost:8080/",
          "height": 38
        },
        "id": "2nFS5jxiw0Kt",
        "outputId": "8f5f1046-5d6b-45e4-d70a-e35d049a232e"
      },
      "outputs": [
        {
          "data": {
            "application/vnd.google.colaboratory.intrinsic+json": {
              "type": "string"
            },
            "text/plain": [
              "'tell me i forget. teach me i remember. involve me i learn'"
            ]
          },
          "execution_count": 22,
          "metadata": {},
          "output_type": "execute_result"
        }
      ],
      "source": [
        "# S4.2: Apply the 'lower()' function on the above capitalized string.\n",
        "l = c.lower()\n",
        "l"
      ]
    },
    {
      "cell_type": "markdown",
      "metadata": {
        "id": "l-z_bvzIJoXo"
      },
      "source": [
        "The `upper()` function converts all the lowercase English letters to the uppercase letters. The syntax is `string.upper()`"
      ]
    },
    {
      "cell_type": "code",
      "execution_count": null,
      "metadata": {
        "colab": {
          "base_uri": "https://localhost:8080/",
          "height": 38
        },
        "id": "sbVqMkPCZxpv",
        "outputId": "07d1281e-f5dc-45cd-85d4-c5acc21a7474"
      },
      "outputs": [
        {
          "data": {
            "application/vnd.google.colaboratory.intrinsic+json": {
              "type": "string"
            },
            "text/plain": [
              "'TELL ME I FORGET. TEACH ME I REMEMBER. INVOLVE ME I LEARN'"
            ]
          },
          "execution_count": 24,
          "metadata": {},
          "output_type": "execute_result"
        }
      ],
      "source": [
        "# S4.3: Apply the 'upper()' function on the above lowercase string.\n",
        "u = q.upper()\n",
        "u"
      ]
    },
    {
      "cell_type": "markdown",
      "metadata": {
        "id": "trc26JlyK9Fk"
      },
      "source": [
        "The `title()` function capitalizes the first English letter of every word in a string provided that the words are separated in some way. The syntax is `string.title()`"
      ]
    },
    {
      "cell_type": "code",
      "execution_count": null,
      "metadata": {
        "colab": {
          "base_uri": "https://localhost:8080/",
          "height": 38
        },
        "id": "G3NPpHQPZwMK",
        "outputId": "f8f2e05c-827a-47ca-bbcf-87a597d82bdf"
      },
      "outputs": [
        {
          "data": {
            "application/vnd.google.colaboratory.intrinsic+json": {
              "type": "string"
            },
            "text/plain": [
              "'Tell Me I Forget. Teach Me I Remember. Involve Me I Learn'"
            ]
          },
          "execution_count": 25,
          "metadata": {},
          "output_type": "execute_result"
        }
      ],
      "source": [
        "# S4.4: Apply the 'title()' function on the above uppercase string.\n",
        "t = q.title()\n",
        "t"
      ]
    },
    {
      "cell_type": "markdown",
      "metadata": {
        "id": "jw7jMsa2NQ1q"
      },
      "source": [
        "---"
      ]
    },
    {
      "cell_type": "markdown",
      "metadata": {
        "id": "DtKI0JeVN9U5"
      },
      "source": [
        "#### Task 5: The `isupper(), islower()` & `istitle()` Functions\n",
        "\n",
        "The `istitle()` function returns `True` if the words in a string are in a title case. Otherwise, it returns `False`."
      ]
    },
    {
      "cell_type": "code",
      "execution_count": null,
      "metadata": {
        "colab": {
          "base_uri": "https://localhost:8080/"
        },
        "id": "9Rg7h5KHNipJ",
        "outputId": "b519eff9-7f2a-46a8-aa32-e3bf0cf5c9b0"
      },
      "outputs": [
        {
          "name": "stdout",
          "output_type": "stream",
          "text": [
            "True\n"
          ]
        }
      ],
      "source": [
        "# S5.1: Apply the 'istitle()' function on the string that is in the title case.\n",
        "print(t.istitle())"
      ]
    },
    {
      "cell_type": "markdown",
      "metadata": {
        "id": "FXNvpkRgPQto"
      },
      "source": [
        "While applying the `istitle()` function on each English letter one-by-one, it returns `True` if the letter is in uppercase. Otherwise, it returns `False`."
      ]
    },
    {
      "cell_type": "code",
      "execution_count": null,
      "metadata": {
        "colab": {
          "base_uri": "https://localhost:8080/"
        },
        "id": "soYffnhONsmM",
        "outputId": "bd351ff7-bbef-4338-af95-80d64aa3dfac"
      },
      "outputs": [
        {
          "name": "stdout",
          "output_type": "stream",
          "text": [
            "Character is : T\n",
            "Result is : True\n",
            "Character is : e\n",
            "Result is : False\n",
            "Character is : l\n",
            "Result is : False\n",
            "Character is : l\n",
            "Result is : False\n",
            "Character is :  \n",
            "Result is : False\n",
            "Character is : M\n",
            "Result is : True\n",
            "Character is : e\n",
            "Result is : False\n",
            "Character is :  \n",
            "Result is : False\n",
            "Character is : I\n",
            "Result is : True\n",
            "Character is :  \n",
            "Result is : False\n"
          ]
        }
      ],
      "source": [
        "# S5.2: Iterate through the first 10 items in the title cased string and also apply the 'istitle()' function.\n",
        "for c in t[:10]:\n",
        "  print(f\"Character is : {c}\\nResult is : {c.istitle()}\")"
      ]
    },
    {
      "cell_type": "markdown",
      "metadata": {
        "id": "Mcn0DPyIQK4h"
      },
      "source": [
        "Similarly, the `isupper()` function returns `True` if an English letter is in uppercase and the `islower()` function returns `True` if an English letter is in lowercase. Otherwise, they return `False`."
      ]
    },
    {
      "cell_type": "markdown",
      "metadata": {
        "id": "UChMXLiTaWe3"
      },
      "source": [
        "---"
      ]
    },
    {
      "cell_type": "markdown",
      "metadata": {
        "id": "FppweQm1RI-U"
      },
      "source": [
        "#### Task 6: The `ljust(), rjust()` & `center()` Functions\n",
        "\n",
        "The `ljust()` function returns a fixed-length string padded with some special character and justifies (or aligns) it on the left-hand side of the output console. The syntax is `string.ljust(length, character)`\n",
        "\n",
        "Let's write a code to get the following output using the `ljust()` function.\n",
        "\n",
        "```\n",
        "1000\n",
        "2000\n",
        "3000\n",
        "4000\n",
        "5000\n",
        "```\n",
        "\n",
        "Each item in the above output is a string of length `4` padded with `0` and left justified.\n"
      ]
    },
    {
      "cell_type": "code",
      "execution_count": null,
      "metadata": {
        "colab": {
          "base_uri": "https://localhost:8080/"
        },
        "id": "cuyFG-I2VaBP",
        "outputId": "9b0b3413-5881-463c-e903-5c7080ec4f74"
      },
      "outputs": [
        {
          "name": "stdout",
          "output_type": "stream",
          "text": [
            "1000\n",
            "2000\n",
            "3000\n",
            "4000\n",
            "5000\n"
          ]
        }
      ],
      "source": [
        "# S6.1: Write a code to get the above output using the 'ljust()' function.\n",
        "for i in range(1,6):\n",
        "  print(f\"{i}\".ljust(4,'0'))"
      ]
    },
    {
      "cell_type": "markdown",
      "metadata": {
        "id": "ZXwRU3aaWjxQ"
      },
      "source": [
        "**The `rjust()` function** returns a fixed-length string padded with some special character and justifies (or aligns) it on the right-hand side of the output console. The syntax is `string.rjust(length, character)`\n",
        "\n",
        "Now, write a code to get the following output using the `rjust()` function.\n",
        "\n",
        "```\n",
        "00001\n",
        "00002\n",
        "00003\n",
        "00004\n",
        "00005\n",
        "```\n",
        "\n",
        "Each item in the above output is a string of length `5` padded with `0` and right justified."
      ]
    },
    {
      "cell_type": "code",
      "execution_count": null,
      "metadata": {
        "colab": {
          "base_uri": "https://localhost:8080/"
        },
        "id": "19-SPOeqW-tj",
        "outputId": "7eed6174-924c-42d0-ff4e-25aa6a250c5e"
      },
      "outputs": [
        {
          "name": "stdout",
          "output_type": "stream",
          "text": [
            "00001\n",
            "00002\n",
            "00003\n",
            "00004\n",
            "00005\n"
          ]
        }
      ],
      "source": [
        "# S6.2: Write a code to get the above output using the 'rjust()' function.\n",
        "for i in range(1,6):\n",
        "  print(f\"{i}\".rjust(5,'0'))"
      ]
    },
    {
      "cell_type": "markdown",
      "metadata": {
        "id": "BC-_dts8XKQ5"
      },
      "source": [
        "**The `center()` function** returns a fixed-length string padded with some special character and justifies (or aligns) it at the center of the output console. The syntax is `string.center(length, character)`\n",
        "\n",
        "Now, write a code to get the following output.\n",
        "\n",
        "```\n",
        "-------#-------\n",
        "------###------\n",
        "-----#####-----\n",
        "----#######----\n",
        "---#########---\n",
        "--###########--\n",
        "-#############-\n",
        "###############\n",
        "```\n",
        "\n",
        "Each item in the above output is a string of length `15` padded with `-` and centre justified."
      ]
    },
    {
      "cell_type": "code",
      "execution_count": null,
      "metadata": {
        "colab": {
          "base_uri": "https://localhost:8080/"
        },
        "id": "8rd5mmeMXfqu",
        "outputId": "c383bfb4-da2b-48ea-a061-18247786157c"
      },
      "outputs": [
        {
          "name": "stdout",
          "output_type": "stream",
          "text": [
            "-------#-------\n",
            "------###------\n",
            "-----#####-----\n",
            "----#######----\n",
            "---#########---\n",
            "--###########--\n",
            "-#############-\n",
            "###############\n"
          ]
        }
      ],
      "source": [
        "# S6.3: Write a code to get the above output using the 'center()' function.\n",
        "j = 1\n",
        "for i in range(1,9):\n",
        "  print(f\"{'#'*j}\".center(15,'-'))\n",
        "  j +=2"
      ]
    },
    {
      "cell_type": "markdown",
      "metadata": {
        "id": "1gvWPJgHZY2R"
      },
      "source": [
        "**Note:** If the `character` value is not defined in the `ljust(), rjust()` and `center()` functions, then they take whitespace as the default character."
      ]
    },
    {
      "cell_type": "markdown",
      "metadata": {
        "id": "BXxvHiMXZHyC"
      },
      "source": [
        "---"
      ]
    },
    {
      "cell_type": "markdown",
      "metadata": {
        "id": "Wql1_zNhFaYO"
      },
      "source": [
        "#### Task 7: The `replace()` Function\n",
        "\n",
        "If you want to replace an item in a string with some other item, then you can use the `replace()` function.\n",
        "\n",
        "**Syntax of `replace()` function:** `string.replace(item_to_be_replaced, new_item)`\n",
        "\n",
        "Let's learn this concept with the help of an example. Consider the text below.\n",
        "\n",
        "*Who invented the sole? How can we scientifically prove that a sole exists? If the sole is an energy, then what kind of energy it is? The laws of physics state that energy can neither be created nor be destroyed. So, if the sole is an energy, then how does it transfer from one form to another after the death of a person? We know that the laws of physics are universally true. So, it means either the sole is not an energy or it doesn't exist.*\n",
        "\n",
        "The word *soul* has been mistakenly reported as *sole* by a machine because they are *homophone*. Two or more words having the same pronunciation are called *homophone*. \n",
        "\n",
        "We can replace the word *sole* with *soul* using the `replace()` function:"
      ]
    },
    {
      "cell_type": "code",
      "execution_count": null,
      "metadata": {
        "colab": {
          "base_uri": "https://localhost:8080/"
        },
        "id": "-SSWzWCWFzQX",
        "outputId": "833753c6-f0b2-4efc-f71a-731d4c751d8c"
      },
      "outputs": [
        {
          "name": "stdout",
          "output_type": "stream",
          "text": [
            "\n",
            "Who invented the soul? How can we scientifically prove that a soul exists? \n",
            "If the soul is an energy, then what kind of energy it is? \n",
            "The laws of physics state that energy can neither be created nor be destroyed. \n",
            "So, if the soul is an energy, then how does it transfer from one form to another after the death of a person?\n",
            "We know that the laws of physics are universally true. So, it means either the soul is not an energy or it doesn't exist.\n",
            "\n"
          ]
        }
      ],
      "source": [
        "# S7.1: Replace the word 'sole' with 'soul' in the given paragraph.\n",
        "par = \"\"\"\n",
        "Who invented the sole? How can we scientifically prove that a sole exists? \n",
        "If the sole is an energy, then what kind of energy it is? \n",
        "The laws of physics state that energy can neither be created nor be destroyed. \n",
        "So, if the sole is an energy, then how does it transfer from one form to another after the death of a person?\n",
        "We know that the laws of physics are universally true. So, it means either the sole is not an energy or it doesn't exist.\n",
        "\"\"\"\n",
        "changed = par.replace('sole','soul')\n",
        "print(changed)"
      ]
    },
    {
      "cell_type": "markdown",
      "metadata": {
        "id": "IRf9TEYTZryM"
      },
      "source": [
        "**Note:** If you print a multiline string without using the `print()` function, then you will get a single-line string containing the newline `\\n` character. In fact, this is how all the multiline strings are stored in Python."
      ]
    },
    {
      "cell_type": "code",
      "execution_count": null,
      "metadata": {
        "colab": {
          "base_uri": "https://localhost:8080/",
          "height": 89
        },
        "id": "Ej-CGR7yFBYT",
        "outputId": "44f0d719-bca6-4d6a-eaa5-b2a9d965a539"
      },
      "outputs": [
        {
          "data": {
            "application/vnd.google.colaboratory.intrinsic+json": {
              "type": "string"
            },
            "text/plain": [
              "\"\\nWho invented the soul? How can we scientifically prove that a soul exists? \\nIf the soul is an energy, then what kind of energy it is? \\nThe laws of physics state that energy can neither be created nor be destroyed. \\nSo, if the soul is an energy, then how does it transfer from one form to another after the death of a person?\\nWe know that the laws of physics are universally true. So, it means either the soul is not an energy or it doesn't exist.\\n\""
            ]
          },
          "execution_count": 41,
          "metadata": {},
          "output_type": "execute_result"
        }
      ],
      "source": [
        "# S7.2: Print the above modified multiline string without using the 'print()' function.\n",
        "changed"
      ]
    },
    {
      "cell_type": "markdown",
      "metadata": {
        "id": "LJIdIS5Zaa-Z"
      },
      "source": [
        "Let's split the above string about the newline character."
      ]
    },
    {
      "cell_type": "code",
      "execution_count": null,
      "metadata": {
        "colab": {
          "base_uri": "https://localhost:8080/"
        },
        "id": "qnZHgVG1CDwS",
        "outputId": "7e5a1cb3-4abc-4668-a1f4-69be365a87ed"
      },
      "outputs": [
        {
          "data": {
            "text/plain": [
              "['Who invented the soul? How can we scientifically prove that a soul exists? ',\n",
              " 'If the soul is an energy, then what kind of energy it is? ',\n",
              " 'The laws of physics state that energy can neither be created nor be destroyed. ',\n",
              " 'So, if the soul is an energy, then how does it transfer from one form to another after the death of a person?',\n",
              " \"We know that the laws of physics are universally true. So, it means either the soul is not an energy or it doesn't exist.\"]"
            ]
          },
          "execution_count": 45,
          "metadata": {},
          "output_type": "execute_result"
        }
      ],
      "source": [
        "# S7.3: Split the above string about the newline character.\n",
        "para_list = changed.split('\\n')\n",
        "para_list.remove(para_list[0])\n",
        "para_list.remove(para_list[-1])\n",
        "para_list"
      ]
    },
    {
      "cell_type": "markdown",
      "metadata": {
        "id": "cFqmonOnatLL"
      },
      "source": [
        "The output is a list containing several single-line strings without having the newline character.\n",
        "\n",
        "Now, right justify the strings in the above list such that each string length is equal to the length of the longest string. But before that remove any unwanted strings from the list using the `remove()` function."
      ]
    },
    {
      "cell_type": "code",
      "execution_count": null,
      "metadata": {
        "id": "xLl67ztwbc_y"
      },
      "outputs": [],
      "source": [
        "# S7.4: Remove the unwanted strings from the above list. \n",
        "# Note: This exercise may not be required depending on how you indent a multiline string.\n"
      ]
    },
    {
      "cell_type": "code",
      "execution_count": null,
      "metadata": {
        "colab": {
          "base_uri": "https://localhost:8080/"
        },
        "id": "clb2lNO-Sdh4",
        "outputId": "9cea9cdb-59aa-4fdc-9bb2-f539102d19ac"
      },
      "outputs": [
        {
          "name": "stdout",
          "output_type": "stream",
          "text": [
            "                                               Who invented the soul? How can we scientifically prove that a soul exists?\n",
            "                                                                If the soul is an energy, then what kind of energy it is?\n",
            "                                           The laws of physics state that energy can neither be created nor be destroyed.\n",
            "            So, if the soul is an energy, then how does it transfer from one form to another after the death of a person?\n",
            "We know that the laws of physics are universally true. So, it means either the soul is not an energy or it doesn't exist.\n"
          ]
        }
      ],
      "source": [
        "# S7.5: Right justify the strings in the above list such that each string length is equal to the length of the longest string.\n",
        "for i in para_list:\n",
        "  i = i.strip(' ')\n",
        "  print(i.rjust(len(para_list[-1]),' '))"
      ]
    },
    {
      "cell_type": "code",
      "execution_count": null,
      "metadata": {
        "colab": {
          "base_uri": "https://localhost:8080/"
        },
        "id": "IB4QPuapDjKY",
        "outputId": "dbde757f-b214-44a5-afb2-6fc4d54fbb59"
      },
      "outputs": [
        {
          "name": "stdout",
          "output_type": "stream",
          "text": [
            "                       Who invented the soul? How can we scientifically prove that a soul exists?                        \n",
            "                                If the soul is an energy, then what kind of energy it is?                                \n",
            "                     The laws of physics state that energy can neither be created nor be destroyed.                      \n",
            "      So, if the soul is an energy, then how does it transfer from one form to another after the death of a person?      \n",
            "We know that the laws of physics are universally true. So, it means either the soul is not an energy or it doesn't exist.\n"
          ]
        }
      ],
      "source": [
        "# S7.6: Center justify the strings in the above list such that each string length is equal to the length of the longest string.\n",
        "for i in para_list:\n",
        "  print(i.center(len(para_list[-1]),' '))"
      ]
    },
    {
      "cell_type": "markdown",
      "metadata": {
        "id": "g7Ke-E7hpwS8"
      },
      "source": [
        "---"
      ]
    },
    {
      "cell_type": "markdown",
      "metadata": {
        "id": "WZuh0OGvpxqo"
      },
      "source": [
        "#### Task 8: The Escape Character (`\\`)\n",
        "\n",
        "Sometimes you might have to create a string which would contain a combination of single quotes (`''`), double quotes (`\"\"`) or an apostrophe (`'`). In such cases, Python will terminate the string before it is complete. To create such strings, you can use the **escape character** represented by backslash sign (`\\`).\n",
        "\n",
        "Let's create the following string using the escape character.\n",
        "\n",
        "`\"She just said 'That should work' and walked out the door\", he clarified.`\n",
        "\n",
        "To create the above string using double-quotes, you will have to put one backslash before `\"She...` as shown below.\n",
        "\n",
        "`\\\"She...`\n",
        "\n",
        "and one backslash before `\", he...` as shown below\n",
        "\n",
        "`\\\", he...`\n"
      ]
    },
    {
      "cell_type": "code",
      "execution_count": null,
      "metadata": {
        "colab": {
          "base_uri": "https://localhost:8080/"
        },
        "id": "1fm0xW6ip2_V",
        "outputId": "dcf5f845-0b24-441e-970f-a010cd340112"
      },
      "outputs": [
        {
          "name": "stdout",
          "output_type": "stream",
          "text": [
            "\"She just said 'That should work' and walked out the door\", he clarified.\n"
          ]
        }
      ],
      "source": [
        "# S8.1: Create the above string using double quotes and the escape character.\n",
        "s1 = \"\\\"She just said 'That should work' and walked out the door\\\", he clarified.\"\n",
        "print(s1)"
      ]
    },
    {
      "cell_type": "markdown",
      "metadata": {
        "id": "g15ezx0gdLHR"
      },
      "source": [
        "To create the given string using single-quotes, you will have to put one backslash before `'That...` as shown below\n",
        "\n",
        "`\\'That...`\n",
        "\n",
        "and one backslash before `' and...\"` as shown below\n",
        "\n",
        "`\\' and...'`"
      ]
    },
    {
      "cell_type": "code",
      "execution_count": null,
      "metadata": {
        "colab": {
          "base_uri": "https://localhost:8080/"
        },
        "id": "T8mbYWCedAuY",
        "outputId": "00c60dbe-3ce0-443a-d599-80aa77c2996a"
      },
      "outputs": [
        {
          "name": "stdout",
          "output_type": "stream",
          "text": [
            "\"She just said 'That should work' and walked out the door\", he clarified.\n"
          ]
        }
      ],
      "source": [
        "# S8.2: Create the given string using single quotes and the escape character.\n",
        "s2 = '\"She just said \\'That should work\\' and walked out the door\", he clarified.'\n",
        "print(s2)"
      ]
    },
    {
      "cell_type": "markdown",
      "metadata": {
        "id": "ncUKXmHXsalK"
      },
      "source": [
        "If you create the above string without putting the escape character, then Python will throw a `SyntaxError`."
      ]
    },
    {
      "cell_type": "code",
      "execution_count": null,
      "metadata": {
        "id": "NQhTFa9OsgrW"
      },
      "outputs": [],
      "source": [
        "# S8.3: Create the above string without putting the escape character.\n",
        "#s3 = \"She just said 'That should work' and walked out the door\", he clarified.\n",
        "#print(s3)"
      ]
    },
    {
      "cell_type": "markdown",
      "metadata": {
        "id": "sNreCXeMfx02"
      },
      "source": [
        "We have covered pretty much everything about the string operations that we need. \n",
        "\n",
        "In the next class, we will learn how to work with `datetime` values, i.e., how to extract date, time, day, month and year from a `datetime` value.\n",
        "\n",
        "\n",
        "\n",
        "\n",
        "\n",
        "\n"
      ]
    },
    {
      "cell_type": "markdown",
      "metadata": {
        "id": "tzBGoUi1_vIj"
      },
      "source": [
        "---"
      ]
    }
  ],
  "metadata": {
    "colab": {
      "collapsed_sections": [],
      "name": "Copy of Copy of Lesson 33 - String Operations III - Class Copy.ipynb",
      "provenance": []
    },
    "kernelspec": {
      "display_name": "Python 3",
      "language": "python",
      "name": "python3"
    },
    "language_info": {
      "name": "python",
      "version": "3.10.1 (tags/v3.10.1:2cd268a, Dec  6 2021, 19:10:37) [MSC v.1929 64 bit (AMD64)]"
    },
    "vscode": {
      "interpreter": {
        "hash": "68d9ee2d6506037d46bb9f9453832f417650a598f262a5f9c9d171213762fa4c"
      }
    }
  },
  "nbformat": 4,
  "nbformat_minor": 0
}
