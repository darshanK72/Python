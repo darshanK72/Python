{
  "nbformat": 4,
  "nbformat_minor": 0,
  "metadata": {
    "colab": {
      "name": "Copy of Copy of Lesson 28 - Python Dictionary III - Class Copy.ipynb",
      "provenance": [],
      "collapsed_sections": []
    },
    "kernelspec": {
      "name": "python3",
      "display_name": "Python 3"
    }
  },
  "cells": [
    {
      "cell_type": "markdown",
      "metadata": {
        "id": "reRBe_cVB1Kq"
      },
      "source": [
        "# Lesson 28: Python Dictionary III"
      ]
    },
    {
      "cell_type": "markdown",
      "metadata": {
        "id": "6nGaroy1OBbx"
      },
      "source": [
        "---"
      ]
    },
    {
      "cell_type": "markdown",
      "metadata": {
        "id": "EB1Cu4jn2NoS"
      },
      "source": [
        "### Teacher-Student Tasks\n",
        "\n",
        "Let's continue the discussion on Python dictionaries. In this class, we will learn how to perform various tasks on Python dictionary such as adding, removing, and updating an item in a dictionary and how to check whether an item exists in a dictionary.\n",
        "\n",
        "Let's quickly create the `my_dict` dictionary again and continue this class from **Task 1: Adding New Item** section."
      ]
    },
    {
      "cell_type": "markdown",
      "metadata": {
        "id": "DuEpC8s_2Mpj"
      },
      "source": [
        "---"
      ]
    },
    {
      "cell_type": "markdown",
      "metadata": {
        "id": "MjEaQMNF6sv6"
      },
      "source": [
        "#### Recap\n",
        "\n",
        "**A Python dictionary is a collection of key-value pairs.** \n",
        "\n",
        "|Key         |Value                  |\n",
        "|------------|-----------------------|\n",
        "|Front Camera|16 MP                  |\n",
        "|Battery     |3300 mAh               |\n",
        "|Processor   |Qualcomm Snapdragon 845|\n",
        "|Display     |6.28 inches            |\n",
        "|RAM         |6 GB                   |\n",
        "|Rear Camera |16 MP + 20 MP          |\n",
        "|Price (INR) |28990                  |\n",
        "|Fast Charge |True                   |\n",
        "\n",
        "Collectively, both a key and its corresponding value constitute an item stored in a dictionary. \n",
        "\n",
        "A dictionary is created using curly brackets (`{}`). A key and its corresponding value are mapped using the colon (`:`) sign and each key-value pair are separated by a comma: "
      ]
    },
    {
      "cell_type": "code",
      "metadata": {
        "id": "uWigmBpR8VBW",
        "colab": {
          "base_uri": "https://localhost:8080/"
        },
        "outputId": "3b60b2f2-7e5a-4a3b-ab44-affc7c4a81ff"
      },
      "source": [
        "# Create a dictionary as a collection of key-value pairs containing the items shown in the table above.\n",
        "my_dict = {'Front Camera' : '16 MP', # First key-value pair \n",
        "           'Battery' : '3300 mAh', # Second key-value pair\n",
        "           'Processor' : 'Qualcomm Snapdragon 845', # Third key-value pair\n",
        "           'Display' : '6.28 inches', # Fourth key-value pair\n",
        "           'RAM' : '6 GB', # Fifth key-value pair\n",
        "           'Rear Camera' : '16 MP + 20 MP', # Sixth key-value pair\n",
        "           'Price' : 28990, # Seventh key-value pair\n",
        "           'Fast Charge' : True} # Eighth key-value pair\n",
        "\n",
        "my_dict"
      ],
      "execution_count": null,
      "outputs": [
        {
          "output_type": "execute_result",
          "data": {
            "text/plain": [
              "{'Battery': '3300 mAh',\n",
              " 'Display': '6.28 inches',\n",
              " 'Fast Charge': True,\n",
              " 'Front Camera': '16 MP',\n",
              " 'Price': 28990,\n",
              " 'Processor': 'Qualcomm Snapdragon 845',\n",
              " 'RAM': '6 GB',\n",
              " 'Rear Camera': '16 MP + 20 MP'}"
            ]
          },
          "metadata": {},
          "execution_count": 1
        }
      ]
    },
    {
      "cell_type": "markdown",
      "metadata": {
        "id": "V7ySO9Mw8eeO"
      },
      "source": [
        "**Note** that the output will not always display the key-value pairs in the same order in which you entered the pairs in the dictionary."
      ]
    },
    {
      "cell_type": "markdown",
      "metadata": {
        "id": "DQCN05Iu6sKi"
      },
      "source": [
        "---"
      ]
    },
    {
      "cell_type": "markdown",
      "metadata": {
        "id": "gLsIDUXaxQtu"
      },
      "source": [
        "#### Task 1: Adding New Item\n",
        "\n",
        "Let's also add the storage capacity of the smartphone to the `my_dict` dictionary. So the new item is `Memory` and the corresponding value is `'128 GB'`.\n",
        "\n",
        "To add a new item to a dictionary, you simply have to use the square brackets as shown in the syntax below:\n",
        "\n",
        "**Syntax:** `dictionary_name[key] = value`\n",
        "\n",
        "Where `dictionary_name` is some variable storing a dictionary."
      ]
    },
    {
      "cell_type": "code",
      "metadata": {
        "id": "CMM1DD7Vu9MB",
        "colab": {
          "base_uri": "https://localhost:8080/"
        },
        "outputId": "5dcdbfef-3da9-40ef-a015-75d1c05ad794"
      },
      "source": [
        "# S1.1: Add 'Memory' and '128 GB' as keys and values respectively to the 'my_dict' dictionary.\n",
        "my_dict['Memory'] = '128 GB'\n",
        "my_dict"
      ],
      "execution_count": null,
      "outputs": [
        {
          "output_type": "execute_result",
          "data": {
            "text/plain": [
              "{'Battery': '3300 mAh',\n",
              " 'Display': '6.28 inches',\n",
              " 'Fast Charge': True,\n",
              " 'Front Camera': '16 MP',\n",
              " 'Memory': '128 GB',\n",
              " 'Price': 28990,\n",
              " 'Processor': 'Qualcomm Snapdragon 845',\n",
              " 'RAM': '6 GB',\n",
              " 'Rear Camera': '16 MP + 20 MP'}"
            ]
          },
          "metadata": {},
          "execution_count": 2
        }
      ]
    },
    {
      "cell_type": "markdown",
      "metadata": {
        "id": "wqpzOZkXyNLC"
      },
      "source": [
        "As you can see, a new key-value pair, `'Memory' : '128 GB'` has been added to the `my_dict` dictionary.\n",
        "\n",
        "**Note:** The new key-value pair will not necessarily get inserted as the last pair in the dictionary."
      ]
    },
    {
      "cell_type": "markdown",
      "metadata": {
        "id": "WYvjalPzou0g"
      },
      "source": [
        "---"
      ]
    },
    {
      "cell_type": "markdown",
      "metadata": {
        "id": "fpiX_GCR2c4x"
      },
      "source": [
        "#### Task 2: The `zip()` Function\n",
        "\n",
        "Sometimes you may require to create a dictionary from two Python lists. Consider the two lists shown below:\n",
        "\n",
        "```\n",
        "car_companies = ['Maruti Suzuki', 'Honda', 'Hyundai', 'Ford', 'Volkswagen']\n",
        "car_models = [\n",
        "                ['Baleno', 'Vitara Brezza', 'Ciaz'], \n",
        "                'City', \n",
        "                ['Verna', 'Creta'], \n",
        "                ['Figo', 'EcoSport', 'Aspire'], \n",
        "                ['Polo', 'Tiguan', 'Vento']\n",
        "              ]\n",
        "```\n",
        "\n",
        "The `car_companies` list contains the name of the car manufacturers. The `car_models` list contains the models of cars manufactured by them.\n",
        "\n",
        "Let's create a dictionary that maps every car model to its corresponding manufacturer. Let's store it in the `cars_dict`.\n",
        "\n",
        "To create a dictionary from two lists, use the `zip()` and `dict()` function using the following syntax:\n",
        "\n",
        "**Syntax:** `dictionary_name = dict(zip(list1, list2))`\n",
        "\n",
        "Where the `zip()` function joins the lists `list1` and `list2` but the `dict()` function converts the resulting object into a dictionary."
      ]
    },
    {
      "cell_type": "code",
      "metadata": {
        "id": "9b2Kpf8532G1",
        "colab": {
          "base_uri": "https://localhost:8080/"
        },
        "outputId": "bedbecd5-2f71-4812-f447-495a732ac24b"
      },
      "source": [
        "# S2.1: Create a new dictionary by joining the 'car_companies' & 'car_models' lists. Store it in the 'cars_dict' variable.\n",
        "car_companies = ['Maruti Suzuki', 'Honda', 'Hyundai', 'Ford', 'Volkswagen']\n",
        "car_models = [\n",
        "                ['Baleno', 'Vitara Brezza', 'Ciaz'], \n",
        "                'City', \n",
        "                ['Verna', 'Creta'], \n",
        "                ['Figo', 'EcoSport', 'Aspire'], \n",
        "                ['Polo', 'Tiguan', 'Vento']\n",
        "              ]\n",
        "\n",
        "car_dict = dict(zip(car_companies,car_models))\n",
        "car_dict"
      ],
      "execution_count": null,
      "outputs": [
        {
          "output_type": "execute_result",
          "data": {
            "text/plain": [
              "{'Ford': ['Figo', 'EcoSport', 'Aspire'],\n",
              " 'Honda': 'City',\n",
              " 'Hyundai': ['Verna', 'Creta'],\n",
              " 'Maruti Suzuki': ['Baleno', 'Vitara Brezza', 'Ciaz'],\n",
              " 'Volkswagen': ['Polo', 'Tiguan', 'Vento']}"
            ]
          },
          "metadata": {},
          "execution_count": 3
        }
      ]
    },
    {
      "cell_type": "markdown",
      "metadata": {
        "id": "Cd62Z0sZ4O8m"
      },
      "source": [
        "As you can see, a new dictionary called `cars_dict` has been created using the `zip()` and `dict()` functions. \n",
        "\n",
        "The `zip()` function maps items of the first list with the items of the second list such that the former become **keys** and the latter become the corresponding **values** of the keys.\n",
        "\n",
        "**Note:** The first item contained in the first list becomes **key** for the first item in the second list and the second item in the first list becomes **key** for the second item in the second list and so on.\n",
        "\n",
        "Instead of using the `dict()` function, if you use the `list()` function on top of the `zip()` function, you will get a Python list containing the items of the two lists as a collection of key-value pairs in tuples: \n"
      ]
    },
    {
      "cell_type": "code",
      "metadata": {
        "id": "7WtNy6Tg4MLp",
        "colab": {
          "base_uri": "https://localhost:8080/"
        },
        "outputId": "c7a059ca-ea70-4bc3-8aee-fa9f83402189"
      },
      "source": [
        "# S2.2: Create a new list by joining the 'car_companies' & 'car_models' lists. Store it in the 'cars_list' variable.\n",
        "car_new = list(zip(car_companies,car_models))\n",
        "car_new"
      ],
      "execution_count": null,
      "outputs": [
        {
          "output_type": "execute_result",
          "data": {
            "text/plain": [
              "[('Maruti Suzuki', ['Baleno', 'Vitara Brezza', 'Ciaz']),\n",
              " ('Honda', 'City'),\n",
              " ('Hyundai', ['Verna', 'Creta']),\n",
              " ('Ford', ['Figo', 'EcoSport', 'Aspire']),\n",
              " ('Volkswagen', ['Polo', 'Tiguan', 'Vento'])]"
            ]
          },
          "metadata": {},
          "execution_count": 4
        }
      ]
    },
    {
      "cell_type": "markdown",
      "metadata": {
        "id": "cUNElrS-5igB"
      },
      "source": [
        "As you can see, the `zip()` function has clubbed the items of the `car_companies` and `car_models` as a key-value pair in a tuple, and the `list()` function has created a list containing tuples."
      ]
    },
    {
      "cell_type": "markdown",
      "metadata": {
        "id": "AGegRjBNCzL8"
      },
      "source": [
        "---"
      ]
    },
    {
      "cell_type": "markdown",
      "metadata": {
        "id": "fzB2DstZCzzJ"
      },
      "source": [
        "#### Task 3: List Comprehension for Dictionaries\n",
        "\n",
        "You can also use the list comprehension method to create a Python dictionary.\n",
        "\n",
        "Let's again map all the `car_models` items to the `car_companies` items by creating a new dictionary using the `zip()` function and the list comprehension method:"
      ]
    },
    {
      "cell_type": "code",
      "metadata": {
        "id": "j0R8zYnHDN4Y",
        "colab": {
          "base_uri": "https://localhost:8080/"
        },
        "outputId": "bf74d096-68e5-4a6f-c8b3-823d338c25c1"
      },
      "source": [
        "# S3.1: Create a new dictionary using the list comprehension method to map all the 'car_models' items to the car_companies items.\n",
        "new_car_dict = {i:j for i,j in zip(car_companies,car_models)}\n",
        "new_car_dict"
      ],
      "execution_count": null,
      "outputs": [
        {
          "output_type": "execute_result",
          "data": {
            "text/plain": [
              "{'Ford': ['Figo', 'EcoSport', 'Aspire'],\n",
              " 'Honda': 'City',\n",
              " 'Hyundai': ['Verna', 'Creta'],\n",
              " 'Maruti Suzuki': ['Baleno', 'Vitara Brezza', 'Ciaz'],\n",
              " 'Volkswagen': ['Polo', 'Tiguan', 'Vento']}"
            ]
          },
          "metadata": {},
          "execution_count": 5
        }
      ]
    },
    {
      "cell_type": "markdown",
      "metadata": {
        "id": "zNrhvG8vDlsE"
      },
      "source": [
        "The above list comprehension should be read as \"*For every key & value in the object returned by the `zip()` function, add them to the dictionary*\". To add the key-value pair, you simply need to write `key` followed by the colon (`:`) sign, followed by `value`: \n",
        "\n",
        "**Syntax:** `{key : value for key, value in zip(list1, list2)}`\n",
        "\n",
        "The variables `key` and `value` are dummy variables. You can use any variable in their places: \n",
        "\n",
        "E.g., `{x : y for x, y in zip(list1, list2)}, {p : q for p, q in zip(list1, list2)}` etc."
      ]
    },
    {
      "cell_type": "code",
      "metadata": {
        "id": "R5v29Mc9EtD3",
        "colab": {
          "base_uri": "https://localhost:8080/"
        },
        "outputId": "0c50950e-150a-4b86-f5ab-f4d28a1ceea7"
      },
      "source": [
        "# Run the code below.\n",
        "new_cars_dict1 = {x : y for x, y in zip(car_companies, car_models)}\n",
        "new_cars_dict1"
      ],
      "execution_count": null,
      "outputs": [
        {
          "output_type": "execute_result",
          "data": {
            "text/plain": [
              "{'Ford': ['Figo', 'EcoSport', 'Aspire'],\n",
              " 'Honda': 'City',\n",
              " 'Hyundai': ['Verna', 'Creta'],\n",
              " 'Maruti Suzuki': ['Baleno', 'Vitara Brezza', 'Ciaz'],\n",
              " 'Volkswagen': ['Polo', 'Tiguan', 'Vento']}"
            ]
          },
          "metadata": {},
          "execution_count": 6
        }
      ]
    },
    {
      "cell_type": "code",
      "metadata": {
        "id": "jaqMMf79E6Gt",
        "colab": {
          "base_uri": "https://localhost:8080/"
        },
        "outputId": "e524b9b3-91c2-42f7-e86f-e2eabfb7e6bd"
      },
      "source": [
        "# S3.2: Run the code below.\n",
        "new_cars_dict2 = {p : q for p, q in zip(car_companies, car_models)}\n",
        "new_cars_dict2"
      ],
      "execution_count": null,
      "outputs": [
        {
          "output_type": "execute_result",
          "data": {
            "text/plain": [
              "{'Ford': ['Figo', 'EcoSport', 'Aspire'],\n",
              " 'Honda': 'City',\n",
              " 'Hyundai': ['Verna', 'Creta'],\n",
              " 'Maruti Suzuki': ['Baleno', 'Vitara Brezza', 'Ciaz'],\n",
              " 'Volkswagen': ['Polo', 'Tiguan', 'Vento']}"
            ]
          },
          "metadata": {},
          "execution_count": 7
        }
      ]
    },
    {
      "cell_type": "markdown",
      "metadata": {
        "id": "YbKEiNb3lPkO"
      },
      "source": [
        "As you can see, we are getting the same output no matter whichever dummy variables are used. In this way, we can use list comprehension to create a Python dictionary more conveniently."
      ]
    },
    {
      "cell_type": "markdown",
      "metadata": {
        "id": "Dgc-gAEr0YwE"
      },
      "source": [
        "---"
      ]
    },
    {
      "cell_type": "markdown",
      "metadata": {
        "id": "Gha1iu2O6LBD"
      },
      "source": [
        "#### Task 4: Removing Item from Dictionary\n",
        "\n",
        "To remove an item from a dictionary, you can use the `pop()` function. Inside the `pop()` function, you have to provide the key for which the key-value pair must be removed from the dictionary.\n",
        "\n",
        "Let's remove the item `'Battery' : '3300 mAh'` from the `my_dict` dictionary, using the `pop()` function:"
      ]
    },
    {
      "cell_type": "code",
      "metadata": {
        "id": "ypB9Evth5HKH",
        "colab": {
          "base_uri": "https://localhost:8080/"
        },
        "outputId": "cd3e94c7-73fb-4450-a24e-e9ca45e1d62d"
      },
      "source": [
        "# S4.1: Remove the item 'Battery' : '3300 mAh' from the 'my_dict' dictionary.\n",
        "my_dict.pop('Battery')\n",
        "my_dict"
      ],
      "execution_count": null,
      "outputs": [
        {
          "output_type": "execute_result",
          "data": {
            "text/plain": [
              "{'Display': '6.28 inches',\n",
              " 'Fast Charge': True,\n",
              " 'Front Camera': '16 MP',\n",
              " 'Memory': '128 GB',\n",
              " 'Price': 28990,\n",
              " 'Processor': 'Qualcomm Snapdragon 845',\n",
              " 'RAM': '6 GB',\n",
              " 'Rear Camera': '16 MP + 20 MP'}"
            ]
          },
          "metadata": {},
          "execution_count": 8
        }
      ]
    },
    {
      "cell_type": "markdown",
      "metadata": {
        "id": "BwhK5JtH66Va"
      },
      "source": [
        "As you can see, the `pop()` function has removed the `'Battery' : '3300 mAh'` item from the `my_dict` dictionary.\n",
        "\n",
        "**Note:** The `pop()` function for a Python dictionary is different from the `pop()` function in the Python list. In the case of the dictionary, it takes the key of a key-value pair to remove the pair. \n",
        "\n",
        "**Syntax:** `python_dictionary.pop(key)`\n",
        "\n",
        "There is another function called the `popitem()` to remove an item from a dictionary. However, it removes only the last item from a dictionary."
      ]
    },
    {
      "cell_type": "code",
      "metadata": {
        "id": "Rq41rO9VqfxF",
        "colab": {
          "base_uri": "https://localhost:8080/"
        },
        "outputId": "15ec4072-4adc-4432-bd5b-37f29c60b85b"
      },
      "source": [
        "# S4.2: Remove the last item from the dictionary.\n",
        "my_dict.popitem()"
      ],
      "execution_count": null,
      "outputs": [
        {
          "output_type": "execute_result",
          "data": {
            "text/plain": [
              "('Memory', '128 GB')"
            ]
          },
          "metadata": {},
          "execution_count": 9
        }
      ]
    },
    {
      "cell_type": "markdown",
      "metadata": {
        "id": "387aGRu0rimJ"
      },
      "source": [
        "The item removed is returned as a key-value pair in a tuple."
      ]
    },
    {
      "cell_type": "markdown",
      "metadata": {
        "id": "GQ_1YaWR7Y96"
      },
      "source": [
        "---"
      ]
    },
    {
      "cell_type": "markdown",
      "metadata": {
        "id": "PJaqkLfk7cSX"
      },
      "source": [
        "#### Task 5: Update Dictionary Item\n",
        "\n",
        "Let's say the price of the smartphone, whose specifications are listed in the `my_dict` dictionary, changes to INR 25000. So, the `'Price': 28990` items in the `my_dict` dictionary must be updated.\n",
        "\n",
        "To update an item in a dictionary, you need to enclose the key for that item in square brackets followed by the equals to sign, followed by the updated value as shown in the following syntax:\n",
        "\n",
        "**Syntax:** `dictionary_name[key] = new_value` "
      ]
    },
    {
      "cell_type": "code",
      "metadata": {
        "id": "cXk13ZOR64Li",
        "colab": {
          "base_uri": "https://localhost:8080/"
        },
        "outputId": "89bd157a-70bf-49cb-b528-175579d5708f"
      },
      "source": [
        "# S5.1: Update the price of the smartphone in the 'my_dict' dictionary.\n",
        "my_dict['Price'] = 10000\n",
        "my_dict"
      ],
      "execution_count": null,
      "outputs": [
        {
          "output_type": "execute_result",
          "data": {
            "text/plain": [
              "{'Display': '6.28 inches',\n",
              " 'Fast Charge': True,\n",
              " 'Front Camera': '16 MP',\n",
              " 'Price': 10000,\n",
              " 'Processor': 'Qualcomm Snapdragon 845',\n",
              " 'RAM': '6 GB',\n",
              " 'Rear Camera': '16 MP + 20 MP'}"
            ]
          },
          "metadata": {},
          "execution_count": 10
        }
      ]
    },
    {
      "cell_type": "markdown",
      "metadata": {
        "id": "uLtC_rI08Dff"
      },
      "source": [
        "As you can see, the value corresponding to the `'Price'` is changed to `25000`."
      ]
    },
    {
      "cell_type": "markdown",
      "metadata": {
        "id": "f_0ozJJZ8iFC"
      },
      "source": [
        "---"
      ]
    },
    {
      "cell_type": "markdown",
      "metadata": {
        "id": "cI72YLG98teC"
      },
      "source": [
        "#### Task 6: The `in` and `not in` Keywords\n",
        "\n",
        "To check whether a key exists in a dictionary or not, you can use the `in` keyword. If a key exists in the dictionary, then the `in` keyword will return `True`, else it will return `False`. Similarly, if a key exists in the dictionary, then the `not in` keyword will return `False`, else it will return `True`.\n",
        "\n",
        "You have already used them in `for` loops many times.\n",
        "\n",
        "**Syntax of `in` keyword:** `key in dictionary_name`\n",
        "\n",
        "**Syntax of `not in` keyword:** `key not in dictionary_name`\n",
        "\n",
        "Let's find out whether the keys, `'Honda'` and `'Audi'` exist in the `cars_dict` or not:"
      ]
    },
    {
      "cell_type": "code",
      "metadata": {
        "id": "fncaZ5cJ8Bna",
        "colab": {
          "base_uri": "https://localhost:8080/"
        },
        "outputId": "f73f25cc-b579-4674-c529-b544188b4117"
      },
      "source": [
        "# S6.1: Check whether the item 'Honda' exists in the 'cars_dict' dictionary using the 'in' keyword.\n",
        "'Honda' in car_dict"
      ],
      "execution_count": null,
      "outputs": [
        {
          "output_type": "execute_result",
          "data": {
            "text/plain": [
              "True"
            ]
          },
          "metadata": {},
          "execution_count": 11
        }
      ]
    },
    {
      "cell_type": "code",
      "metadata": {
        "id": "n_eQpnNK9Ypt",
        "colab": {
          "base_uri": "https://localhost:8080/"
        },
        "outputId": "3807adca-4863-48d9-cad0-977ca262fc0a"
      },
      "source": [
        "# S6.1: Check whether the item 'Audi' exists in the 'cars_dict' dictionary using the 'in' keyword.\n",
        "'Audi' not in car_dict"
      ],
      "execution_count": null,
      "outputs": [
        {
          "output_type": "execute_result",
          "data": {
            "text/plain": [
              "True"
            ]
          },
          "metadata": {},
          "execution_count": 12
        }
      ]
    },
    {
      "cell_type": "markdown",
      "metadata": {
        "id": "uXkH3bU0oF0q"
      },
      "source": [
        "As you can see, we can use both `in` and `not in` keyword favourably to check for the presence of a specific element in the dictionary."
      ]
    },
    {
      "cell_type": "markdown",
      "metadata": {
        "id": "HSFyfWCixII2"
      },
      "source": [
        "---"
      ]
    },
    {
      "cell_type": "markdown",
      "metadata": {
        "id": "kTI9sh0MxJ8F"
      },
      "source": [
        "#### Task 7: The `update()` Function\n",
        "\n",
        "\n",
        "The `update()` function is applied to a dictionary and its input is another dictionary wherein both the dictionary may or may not contain the same keys. The `update()` function performs two operations:\n",
        "\n",
        "1. It updates the existing key-value pair in a dictionary if a key exists. \n",
        "\n",
        "2. It adds the key-value pairs which do not exist in a dictionary.\n",
        "\n",
        "Consider the two dictionaries:\n",
        "\n",
        "```\n",
        "cars_dict = {'Ford': ['Figo', 'EcoSport', 'Aspire'],\n",
        "              'Honda': 'City',\n",
        "              'Hyundai': ['Verna', 'Creta'],\n",
        "              'Maruti Suzuki': ['Baleno', 'Vitara Brezza', 'Ciaz'],\n",
        "              'Volkswagen': ['Polo', 'Tiguan', 'Vento']}\n",
        "\n",
        "supercars = {\"Ford\": \"Mustang GT\",\n",
        "             \"Lamborghini\": [\"Huracan\", \"Aventador\", \"Elemento\"],\n",
        "             \"Koenigsegg\": [\"Agera\", \"Gemera\", \"Regera\"],\n",
        "             \"Bugatti\": \"Veyron\"}\n",
        "```\n",
        "\n",
        "When the `update()` function is applied on the `cars_dict` dictionary with the `supercars` dictionary as input, it updates the value of the `Ford` key and adds the other key-value pairs of the `supercars` dictionary to the `car_dict` dictionary:"
      ]
    },
    {
      "cell_type": "code",
      "metadata": {
        "id": "yXKYodGnxKlg",
        "colab": {
          "base_uri": "https://localhost:8080/"
        },
        "outputId": "55a4212b-d7a6-4cf6-a29c-7ec201ade683"
      },
      "source": [
        "# S7.1: Create the 'supercars' dictionary and update the 'cars_dict' dictionary with the key-value pairs of the 'supercars' dictionary.\n",
        "supercars = {\"Ford\": \"Mustang GT\",\n",
        "             \"Lamborghini\": [\"Huracan\", \"Aventador\", \"Elemento\"],\n",
        "             \"Koenigsegg\": [\"Agera\", \"Gemera\", \"Regera\"],\n",
        "             \"Bugatti\": \"Veyron\"}\n",
        "car_dict.update(supercars)\n",
        "car_dict"
      ],
      "execution_count": null,
      "outputs": [
        {
          "output_type": "execute_result",
          "data": {
            "text/plain": [
              "{'Bugatti': 'Veyron',\n",
              " 'Ford': 'Mustang GT',\n",
              " 'Honda': 'City',\n",
              " 'Hyundai': ['Verna', 'Creta'],\n",
              " 'Koenigsegg': ['Agera', 'Gemera', 'Regera'],\n",
              " 'Lamborghini': ['Huracan', 'Aventador', 'Elemento'],\n",
              " 'Maruti Suzuki': ['Baleno', 'Vitara Brezza', 'Ciaz'],\n",
              " 'Volkswagen': ['Polo', 'Tiguan', 'Vento']}"
            ]
          },
          "metadata": {},
          "execution_count": 14
        }
      ]
    },
    {
      "cell_type": "markdown",
      "metadata": {
        "id": "7Ny0W_tbpIKX"
      },
      "source": [
        "From the output, you may observe that the value of the `Ford` key has been updated and the other key-value pairs of the `supercars` dictionary are added to the `car_dict` dictionary."
      ]
    },
    {
      "cell_type": "markdown",
      "metadata": {
        "id": "v5DkeL326Khx"
      },
      "source": [
        "---"
      ]
    },
    {
      "cell_type": "markdown",
      "metadata": {
        "id": "czjZdLZm6LJF"
      },
      "source": [
        "#### Task 8: The `JSON` Objects\n",
        "\n",
        "JSON stands for **J**ava**S**cript **O**bject **N**otation. It is a way of storing data and exchanging it on the web across multiple servers. The information is stored using JSON on a webpage of a website. \n",
        "\n",
        "- Go to any website. E.g., [IMDb](https://www.imdb.com/?ref_=nv_home)\n",
        "\n",
        "- Right-click on a space. A list of action items will appear\n",
        "\n",
        "- Click on the **View Page Source** option. The webpage will open in a new tab in HTML view.\n",
        "\n",
        "- Hit *Command + F* keys (on Mac) or *Ctrl + F* keys (on other) computers to initiate a search. Then in the search box type **json** and hit the return or enter key. You should be able to see **json** or **JSON** at least once in the searches.\n",
        "\n",
        "A **JSON** object is much alike a Python dictionary. The only difference being:\n",
        "\n",
        "1. The boolean values in a JSON object are stored as `true` or `false`\n",
        "\n",
        "2. The unavailable/missing values are stored as `null` whereas in Python (excluding Pandas or NumPy) they are stored as `None`.\n",
        "\n",
        "Consider a sample `JSON` object below that is stored in a `movies_info` variable:\n",
        "\n",
        "```\n",
        "movies_info = \"\"\"\n",
        "{\"hollywood\":[\n",
        "    {\"year\": 2014,\n",
        "      \"title\": \"X-Men: Days of Future Past\",\n",
        "      \"info\": {\n",
        "        \"directors\": [\"Bryan Singer\"],\n",
        "        \"release_date\": \"2014-05-21T00:00:00Z\",\n",
        "        \"genres\": [\"Action\", \"Adventure\", \"Fantasy\", \"Sci-Fi\"],\n",
        "        \"rank\": 9,\n",
        "        \"actors\": [\"Jennifer Lawrence\", \"Hugh Jackman\", \"Michael Fassbender\"],\n",
        "        \"english\": true\n",
        "        }\n",
        "    },\n",
        "    {\"year\": 2014,\n",
        "      \"title\": \"Transformers: Age of Extinction\",\n",
        "      \"info\": {\n",
        "        \"directors\": [\"Michael Bay\"],\n",
        "        \"release_date\": \"2014-06-25T00:00:00Z\",\n",
        "        \"genres\": [\"Action\", \"Adventure\", \"Sci-Fi\"],\n",
        "        \"rank\": 10,\n",
        "        \"actors\": [\"Mark Wahlberg\", \"Nicola Peltz\", \"Jack Reynor\"],\n",
        "        \"english\": true\n",
        "        }\n",
        "    }\n",
        "  ],\n",
        " \"bollywood\":[\n",
        "    {\"year\": 2020,\n",
        "      \"title\": \"Angrezi Medium\",\n",
        "      \"info\": {\n",
        "        \"directors\": [\"Homi Adajania\"],\n",
        "        \"release_date\": \"2030-03-13\",\n",
        "        \"genres\": [\"Comdey\", \"Drama\"],\n",
        "        \"rank\": null,\n",
        "        \"actors\": [\"Irrfan Khan\", \"Radhika Madan\", \"Kareena Kapoor\"],\n",
        "        \"english\": false\n",
        "        }\n",
        "    }\n",
        "  ]\n",
        "}\n",
        "\"\"\"\n",
        "```\n",
        "\n",
        "The above `JSON` object is essentially a Python dictionary having two key-value pairs wherein each key is a string containing a list as a value. The list further contains dictionaries whose keys are `year, title`, and `info`. The `info` key further contains a dictionary having 6 key-value pairs.\n",
        "\n",
        "Notice the values of the `english` keys. They are boolean values reported as `true` or `false`. The `rank` key holds numeric values for the first two occurrences and a `null` value for the last occurrence.\n",
        "\n",
        "To load a `JSON` object as a Python dictionary you have to import the `json` module. Then use the `json.loads()` function whose input is a `json` object stored in a variable. \n",
        "\n",
        "**Note:** The above `json` object is stored as a string enclosed between three double quotes, i.e., (`\"\"\" \"\"\"`). This is called a multiline string which you will learn in the upcoming classes.\n",
        "\n",
        "At the moment, let's convert the above `JSON` object into a Python dictionary and check whether the boolean values are converted into Python booleans and the `null` value is converted into `None`."
      ]
    },
    {
      "cell_type": "code",
      "metadata": {
        "id": "FlVtLvkjA-zY",
        "colab": {
          "base_uri": "https://localhost:8080/"
        },
        "outputId": "f48f80de-8aa9-4c1f-b8b1-643403699d9b"
      },
      "source": [
        "# S8.1: Convert the above JSON object into a Python dictionary.\n",
        "\n",
        "import json \n",
        "\n",
        "movies_info = \"\"\"\n",
        "{\"hollywood\":[\n",
        "    {\"year\": 2014,\n",
        "      \"title\": \"X-Men: Days of Future Past\",\n",
        "      \"info\": {\n",
        "        \"directors\": [\"Bryan Singer\"],\n",
        "        \"release_date\": \"2014-05-21T00:00:00Z\",\n",
        "        \"genres\": [\"Action\", \"Adventure\", \"Fantasy\", \"Sci-Fi\"],\n",
        "        \"rank\": 9,\n",
        "        \"actors\": [\"Jennifer Lawrence\", \"Hugh Jackman\", \"Michael Fassbender\"],\n",
        "        \"english\": true\n",
        "        }\n",
        "    },\n",
        "    {\"year\": 2014,\n",
        "      \"title\": \"Transformers: Age of Extinction\",\n",
        "      \"info\": {\n",
        "        \"directors\": [\"Michael Bay\"],\n",
        "        \"release_date\": \"2014-06-25T00:00:00Z\",\n",
        "        \"genres\": [\"Action\", \"Adventure\", \"Sci-Fi\"],\n",
        "        \"rank\": 10,\n",
        "        \"actors\": [\"Mark Wahlberg\", \"Nicola Peltz\", \"Jack Reynor\"],\n",
        "        \"english\": true\n",
        "        }\n",
        "    }\n",
        "  ],\n",
        " \"bollywood\":[\n",
        "    {\"year\": 2020,\n",
        "      \"title\": \"Angrezi Medium\",\n",
        "      \"info\": {\n",
        "        \"directors\": [\"Homi Adajania\"],\n",
        "        \"release_date\": \"2030-03-13\",\n",
        "        \"genres\": [\"Comdey\", \"Drama\"],\n",
        "        \"rank\": null,\n",
        "        \"actors\": [\"Irrfan Khan\", \"Radhika Madan\", \"Kareena Kapoor\"],\n",
        "        \"english\": false\n",
        "        }\n",
        "    }\n",
        "  ]\n",
        "}\n",
        "\"\"\"\n",
        "\n",
        "movies_dict = json.loads(movies_info)\n",
        "movies_dict"
      ],
      "execution_count": null,
      "outputs": [
        {
          "output_type": "execute_result",
          "data": {
            "text/plain": [
              "{'bollywood': [{'info': {'actors': ['Irrfan Khan',\n",
              "     'Radhika Madan',\n",
              "     'Kareena Kapoor'],\n",
              "    'directors': ['Homi Adajania'],\n",
              "    'english': False,\n",
              "    'genres': ['Comdey', 'Drama'],\n",
              "    'rank': None,\n",
              "    'release_date': '2030-03-13'},\n",
              "   'title': 'Angrezi Medium',\n",
              "   'year': 2020}],\n",
              " 'hollywood': [{'info': {'actors': ['Jennifer Lawrence',\n",
              "     'Hugh Jackman',\n",
              "     'Michael Fassbender'],\n",
              "    'directors': ['Bryan Singer'],\n",
              "    'english': True,\n",
              "    'genres': ['Action', 'Adventure', 'Fantasy', 'Sci-Fi'],\n",
              "    'rank': 9,\n",
              "    'release_date': '2014-05-21T00:00:00Z'},\n",
              "   'title': 'X-Men: Days of Future Past',\n",
              "   'year': 2014},\n",
              "  {'info': {'actors': ['Mark Wahlberg', 'Nicola Peltz', 'Jack Reynor'],\n",
              "    'directors': ['Michael Bay'],\n",
              "    'english': True,\n",
              "    'genres': ['Action', 'Adventure', 'Sci-Fi'],\n",
              "    'rank': 10,\n",
              "    'release_date': '2014-06-25T00:00:00Z'},\n",
              "   'title': 'Transformers: Age of Extinction',\n",
              "   'year': 2014}]}"
            ]
          },
          "metadata": {},
          "execution_count": 15
        }
      ]
    },
    {
      "cell_type": "code",
      "metadata": {
        "id": "lUwdkogqBT5L",
        "colab": {
          "base_uri": "https://localhost:8080/"
        },
        "outputId": "d29fbdbf-6f67-4db2-8070-9338058cf2ce"
      },
      "source": [
        "# S8.2: Verify whether the JSON object is converted into a Python dictionary or not.\n",
        "type(movies_dict)"
      ],
      "execution_count": null,
      "outputs": [
        {
          "output_type": "execute_result",
          "data": {
            "text/plain": [
              "dict"
            ]
          },
          "metadata": {},
          "execution_count": 16
        }
      ]
    },
    {
      "cell_type": "markdown",
      "metadata": {
        "id": "Jf9D7UyAqOyX"
      },
      "source": [
        "You may observe that the `movies_info` which is a JSON object is converted into a Python dictionary `movies_dict` using `json.loads()` function."
      ]
    },
    {
      "cell_type": "markdown",
      "metadata": {
        "id": "f_El5f04D9nl"
      },
      "source": [
        "---"
      ]
    },
    {
      "cell_type": "markdown",
      "metadata": {
        "id": "A0_wuVs6EBzJ"
      },
      "source": [
        "#### Task 9: The `clear()` Function\n",
        "\n",
        "\n",
        "The `clear()` function simply clears or deletes all the key-value pairs from a dictionary:"
      ]
    },
    {
      "cell_type": "code",
      "metadata": {
        "id": "M43N32aXD-OH",
        "colab": {
          "base_uri": "https://localhost:8080/"
        },
        "outputId": "beaaada9-8906-4d53-9100-c316d6223b37"
      },
      "source": [
        "# S9.1: Clear the contents of the 'movies_dict' dictionary.\n",
        "movies_dict.clear()\n",
        "movies_dict"
      ],
      "execution_count": null,
      "outputs": [
        {
          "output_type": "execute_result",
          "data": {
            "text/plain": [
              "{}"
            ]
          },
          "metadata": {},
          "execution_count": 17
        }
      ]
    },
    {
      "cell_type": "markdown",
      "metadata": {
        "id": "dVwld6tXCGq6"
      },
      "source": [
        "That's it! We have covered everything we need about Python dictionaries. In the next class, we will learn about Python tuples.\n"
      ]
    },
    {
      "cell_type": "markdown",
      "metadata": {
        "id": "xIyHcGKnOr_s"
      },
      "source": [
        "---"
      ]
    }
  ]
}