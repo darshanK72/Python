{
  "nbformat": 4,
  "nbformat_minor": 0,
  "metadata": {
    "colab": {
      "name": "Copy of 2021-11-25_Darshan_Lesson27",
      "provenance": [],
      "collapsed_sections": []
    },
    "kernelspec": {
      "name": "python3",
      "display_name": "Python 3"
    }
  },
  "cells": [
    {
      "cell_type": "markdown",
      "metadata": {
        "id": "reRBe_cVB1Kq"
      },
      "source": [
        "# Lesson 27: Python Dictionary II\n",
        "\n"
      ]
    },
    {
      "cell_type": "markdown",
      "metadata": {
        "id": "194rz9vfVxe6"
      },
      "source": [
        "\n",
        "\n",
        "|Particulars|Description|\n",
        "|-|-|\n",
        "|**Topics Covered**|Dictionary Length|\n",
        "||The `keys` Function|\n",
        "||Getting a Value for a Key|\n",
        "||The `values()` Function|\n",
        "||The `items()` Function|\n",
        "|||\n",
        "|**Lesson Description**|A student will learn to calculate the length of the dictionary and will retrieve key-value pairs.|\n",
        "|||\n",
        "|**Lesson Duration**|45 minutes|\n",
        "|||\n",
        "|**Learning Outcomes**|Calculate the length of a Python dictionary.|\n",
        "||Retrieve all the keys from a dictionary.|\n",
        "||Retrieve all the values from a dictionary.|\n",
        "||Retrieve all the key-value pairs together from a dictionary.|\n",
        "\n",
        "\n",
        "\n",
        "\n",
        "\n",
        "\n",
        "\n"
      ]
    },
    {
      "cell_type": "markdown",
      "metadata": {
        "id": "p-3VbOl6WS2v"
      },
      "source": [
        "---"
      ]
    },
    {
      "cell_type": "markdown",
      "metadata": {
        "id": "56M0uYkbVI2g"
      },
      "source": [
        "### Teacher-Student Tasks\n",
        "\n",
        "Let's take forward our discussion on Python dictionaries. In this class, we will learn to retrieve items from Python dictionaries. We will first learn to find the number of items stored in a dictionary, then how to retrieve only keys, then only values, and then how to retrieve both of them together as a pair.\n",
        "\n",
        "Let's quickly create the `my_dict` dictionary again and continue this class from **Task 1: Dictionary Length** section."
      ]
    },
    {
      "cell_type": "markdown",
      "metadata": {
        "id": "cwkGNCBre1_w"
      },
      "source": [
        "---"
      ]
    },
    {
      "cell_type": "markdown",
      "metadata": {
        "id": "s2pZAC4BWtxM"
      },
      "source": [
        "#### Recap\n",
        "\n",
        "**A Python dictionary is a collection of key-value pairs.** \n",
        "\n",
        "|Key         |Value                  |\n",
        "|------------|-----------------------|\n",
        "|Front Camera|16 MP                  |\n",
        "|Battery     |3300 mAh               |\n",
        "|Processor   |Qualcomm Snapdragon 845|\n",
        "|Display     |6.28 inches            |\n",
        "|RAM         |6 GB                   |\n",
        "|Rear Camera |16 MP + 20 MP          |\n",
        "|Price (INR) |28990                  |\n",
        "|Fast Charge |True                   |\n",
        "\n",
        "Collectively, both a key and its corresponding value constitute an item stored in a dictionary. \n",
        "\n",
        "A dictionary is created using curly brackets (`{}`). A key and its corresponding value are mapped using the colon (`:`) sign and each key-value pair are separated by a comma: "
      ]
    },
    {
      "cell_type": "code",
      "metadata": {
        "id": "evWpWkrlo7v4",
        "colab": {
          "base_uri": "https://localhost:8080/"
        },
        "outputId": "0d86537f-8cd6-4a3a-dce3-1f6ad1262815"
      },
      "source": [
        "# Create a dictionary as a collection of key-value pairs containing the items shown in the table above.\n",
        "my_dict = {'Front Camera' : '16 MP', # First key-value pair \n",
        "           'Battery' : '3300 mAh', # Second key-value pair\n",
        "           'Processor' : 'Qualcomm Snapdragon 845', # Third key-value pair\n",
        "           'Display' : '6.28 inches', # Fourth key-value pair\n",
        "           'RAM' : '6 GB', # Fifth key-value pair\n",
        "           'Rear Camera' : '16 MP + 20 MP', # Sixth key-value pair\n",
        "           'Price' : 28990, # Seventh key-value pair\n",
        "           'Fast Charge' : True} # Eighth key-value pair\n",
        "\n",
        "my_dict"
      ],
      "execution_count": null,
      "outputs": [
        {
          "output_type": "execute_result",
          "data": {
            "text/plain": [
              "{'Battery': '3300 mAh',\n",
              " 'Display': '6.28 inches',\n",
              " 'Fast Charge': True,\n",
              " 'Front Camera': '16 MP',\n",
              " 'Price': 28990,\n",
              " 'Processor': 'Qualcomm Snapdragon 845',\n",
              " 'RAM': '6 GB',\n",
              " 'Rear Camera': '16 MP + 20 MP'}"
            ]
          },
          "metadata": {},
          "execution_count": 1
        }
      ]
    },
    {
      "cell_type": "markdown",
      "metadata": {
        "id": "uDPbMO0Sq1FG"
      },
      "source": [
        "**Note** that the output will not always display the key-value pairs in the same order in which you entered the pairs in the dictionary."
      ]
    },
    {
      "cell_type": "markdown",
      "metadata": {
        "id": "5o7rWylMhnpL"
      },
      "source": [
        "---"
      ]
    },
    {
      "cell_type": "markdown",
      "metadata": {
        "id": "gCe9LYbXaSvI"
      },
      "source": [
        "#### Task 1: Dictionary Length\n",
        "The length of a dictionary or dictionary length is the number of key-value pairs contained in the dictionary. The `my_dict` has eight key-value pairs. So, the length of `my_dict` is 8.\n",
        "\n",
        "To calculate the length of a dictionary (or a number of key-value pairs contained in a dictionary), you can use the `len()`  function:"
      ]
    },
    {
      "cell_type": "code",
      "metadata": {
        "id": "J-Z09gTba5Gt",
        "colab": {
          "base_uri": "https://localhost:8080/"
        },
        "outputId": "923eb778-6c4e-42ac-8255-3da795fcec68"
      },
      "source": [
        "# S1.1: Calculate the length of the 'my_dict' dictionary.\n",
        "len(my_dict)"
      ],
      "execution_count": null,
      "outputs": [
        {
          "output_type": "execute_result",
          "data": {
            "text/plain": [
              "8"
            ]
          },
          "metadata": {},
          "execution_count": 2
        }
      ]
    },
    {
      "cell_type": "markdown",
      "metadata": {
        "id": "WuND4hQYa7Lw"
      },
      "source": [
        "As you can see, the `len()` function when applied on `my_dict` returns a numeric value `8` signifying that the dictionary stored in the `my_dict` variable has `8` key-value pairs."
      ]
    },
    {
      "cell_type": "markdown",
      "metadata": {
        "id": "XveK9Hlq1FJ8"
      },
      "source": [
        "---"
      ]
    },
    {
      "cell_type": "markdown",
      "metadata": {
        "id": "-zt8rlVq1GZ2"
      },
      "source": [
        "#### Task 2: The `keys()` Function\n",
        "To get a list of all the keys in a dictionary, you can use the `keys()` function using the `dictionary_name.keys()` method.\n",
        "\n",
        "Refer to the code shown below:"
      ]
    },
    {
      "cell_type": "code",
      "metadata": {
        "id": "1ZzL1vPh1l4x",
        "colab": {
          "base_uri": "https://localhost:8080/"
        },
        "outputId": "22f1e365-b798-478e-b8a4-1c8410e9d162"
      },
      "source": [
        "# S2.1: Get the list of all the keys contained in the 'my_dict' dictionary.\n",
        "my_dict.keys()"
      ],
      "execution_count": null,
      "outputs": [
        {
          "output_type": "execute_result",
          "data": {
            "text/plain": [
              "dict_keys(['Front Camera', 'Battery', 'Processor', 'Display', 'RAM', 'Rear Camera', 'Price', 'Fast Charge'])"
            ]
          },
          "metadata": {},
          "execution_count": 3
        }
      ]
    },
    {
      "cell_type": "markdown",
      "metadata": {
        "id": "YWuUG13w1o3N"
      },
      "source": [
        "As you can see, the `keys()` function has returned a list of all the keys contained in the `my_dict` dictionary.\n",
        "\n",
        "**Note:** The list returned by the `keys()` function is not the same as a Python list. It behaves differently as compared to a conventional Python list. \n",
        "\n",
        "You can also use a `for` loop to print all the keys of a dictionary one after the other:\n"
      ]
    },
    {
      "cell_type": "code",
      "metadata": {
        "id": "7779cZ6_aVte",
        "colab": {
          "base_uri": "https://localhost:8080/"
        },
        "outputId": "27d82748-adac-4110-cbdc-d53dd77c1163"
      },
      "source": [
        "# S2.2: Get the list of all the keys contained in the 'my_dict' dictionary using the 'for' loop.\n",
        "for i in my_dict.keys():\n",
        "  print(i)"
      ],
      "execution_count": null,
      "outputs": [
        {
          "output_type": "stream",
          "name": "stdout",
          "text": [
            "Front Camera\n",
            "Battery\n",
            "Processor\n",
            "Display\n",
            "RAM\n",
            "Rear Camera\n",
            "Price\n",
            "Fast Charge\n"
          ]
        }
      ]
    },
    {
      "cell_type": "markdown",
      "metadata": {
        "id": "LLFdNjdeZ1HR"
      },
      "source": [
        "Even if you don't use the `keys()` function, you can retrieve all the keys from a Python dictionary using a `for` loop. Let's retrieve all the keys from the `my_dict` dictionary without using the `keys()` function:"
      ]
    },
    {
      "cell_type": "code",
      "metadata": {
        "id": "pSm5-vrcZ_nH",
        "colab": {
          "base_uri": "https://localhost:8080/"
        },
        "outputId": "de52e635-021d-42d0-f894-5a03baf9ff49"
      },
      "source": [
        "# S2.3: Retrieve all the keys present in the 'my_dict' dictionary without using the 'keys()' function but using the 'for' loop.\n",
        "for i in my_dict:\n",
        "  print(i)"
      ],
      "execution_count": null,
      "outputs": [
        {
          "output_type": "stream",
          "name": "stdout",
          "text": [
            "Front Camera\n",
            "Battery\n",
            "Processor\n",
            "Display\n",
            "RAM\n",
            "Rear Camera\n",
            "Price\n",
            "Fast Charge\n"
          ]
        }
      ]
    },
    {
      "cell_type": "markdown",
      "metadata": {
        "id": "6BqRCfFVGxeU"
      },
      "source": [
        "As you can see, we can obtain a list of all the keys contained in the `my_dict` dictionary without using the `keys()` function."
      ]
    },
    {
      "cell_type": "markdown",
      "metadata": {
        "id": "axkkh0lFbN9m"
      },
      "source": [
        "---"
      ]
    },
    {
      "cell_type": "markdown",
      "metadata": {
        "id": "zX2UYla-ZZr7"
      },
      "source": [
        "#### Task 3: Getting a Value for a Key\n",
        "\n",
        "Now let's learn how to retrieve a value for a key from a Python dictionary. There are two methods to do this. They are:\n",
        "\n",
        "1. The square brackets \n",
        "\n",
        "2. The `get()` function\n",
        "\n",
        "\n",
        "**Method I: The Square Brackets**\n",
        "\n",
        "For a key, in a dictionary, you can retrieve its corresponding value by using the `dictionary_name[key]` method where `dictionary_name` is the variable storing a Python dictionary and `key` is the key stored in the dictionary:\n"
      ]
    },
    {
      "cell_type": "code",
      "metadata": {
        "id": "r9YReDgvYbnJ",
        "colab": {
          "base_uri": "https://localhost:8080/"
        },
        "outputId": "8b2f8f38-78f2-4054-d690-5a9e33db6e72"
      },
      "source": [
        "# S3.1: Print the corresponding values to each key contained in the 'my_dict' dictionary.\n",
        "print(my_dict['Front Camera'])"
      ],
      "execution_count": null,
      "outputs": [
        {
          "output_type": "stream",
          "name": "stdout",
          "text": [
            "16 MP\n"
          ]
        }
      ]
    },
    {
      "cell_type": "markdown",
      "metadata": {
        "id": "b4je-GXVgeC2"
      },
      "source": [
        "Instead of retrieving all the values one-by-one, you can get them using a `for` loop along with keys enclosed in square brackets:"
      ]
    },
    {
      "cell_type": "code",
      "metadata": {
        "id": "Quj1UIqZvr4y",
        "colab": {
          "base_uri": "https://localhost:8080/"
        },
        "outputId": "1d0eb1b4-dfc7-46b8-b12d-2c5badc96b03"
      },
      "source": [
        "# S3.2: Print all the values contained in the 'my_dict' dictionary using a 'for' loop, 'keys()' function & square brackets. \n",
        "for i in my_dict.keys():\n",
        "  print(my_dict[i])"
      ],
      "execution_count": null,
      "outputs": [
        {
          "output_type": "stream",
          "name": "stdout",
          "text": [
            "16 MP\n",
            "3300 mAh\n",
            "Qualcomm Snapdragon 845\n",
            "6.28 inches\n",
            "6 GB\n",
            "16 MP + 20 MP\n",
            "28990\n",
            "True\n"
          ]
        }
      ]
    },
    {
      "cell_type": "markdown",
      "metadata": {
        "id": "cyiIYc04n-dr"
      },
      "source": [
        "The `my_dict.keys()` code returns a list of all the keys in a dictionary. In this case the list of keys is \n",
        "\n",
        "`dict_keys(['Front Camera', 'Battery', 'Processor', 'Display', 'RAM', 'Rear Camera', 'Price', 'Fast Charge'])`\n",
        "\n",
        "- Next, `for` loop iterates through each key in the above list and stores them in the `key` variable one-by-one. \n",
        "\n",
        "- Then, `my_dict[key]` returns a value for the key stored in the `key` variable.\n",
        "\n",
        "- Finally, the `print()` function prints the value for each `key`, as you can see in the output.\n",
        "\n",
        "You don't necessarily have to use the `keys()` function to retrieve all the values from a dictionary:"
      ]
    },
    {
      "cell_type": "code",
      "metadata": {
        "id": "SI_Eiwvlndcz",
        "colab": {
          "base_uri": "https://localhost:8080/"
        },
        "outputId": "11defead-5449-4d19-c7f1-93681a296c6c"
      },
      "source": [
        "# S3.3: Print all the values stored in the 'my_dict' dictionary using 'for' loop and the square brackets.\n",
        "for i in my_dict:\n",
        "  print(my_dict[i])"
      ],
      "execution_count": null,
      "outputs": [
        {
          "output_type": "stream",
          "name": "stdout",
          "text": [
            "16 MP\n",
            "3300 mAh\n",
            "Qualcomm Snapdragon 845\n",
            "6.28 inches\n",
            "6 GB\n",
            "16 MP + 20 MP\n",
            "28990\n",
            "True\n"
          ]
        }
      ]
    },
    {
      "cell_type": "markdown",
      "metadata": {
        "id": "d5v0XkTloRql"
      },
      "source": [
        "**Note:** In a way, the keys act like indices for a Python dictionary. Unlike a Python list, a Python dictionary does not have indices of its own because a dictionary is an **unordered** collection of items. An only ordered collection of items have indices. Also, since a Python dictionary does not have indices, it is best to use `for` loop over `while` loop to iterate through each item that is stored in a dictionary."
      ]
    },
    {
      "cell_type": "markdown",
      "metadata": {
        "id": "_Rv7qabdcnoD"
      },
      "source": [
        "**Method II: The `get()` Function**\n",
        "\n",
        "You can also use the `get()` function to get a value of a key by using the `dictionary_name.get(key)` method:\n"
      ]
    },
    {
      "cell_type": "code",
      "metadata": {
        "id": "oV_NMDsjgS86",
        "colab": {
          "base_uri": "https://localhost:8080/",
          "height": 38
        },
        "outputId": "3258aad6-810f-4b77-fb37-0e241db91fe0"
      },
      "source": [
        "# S3.4: Print the corresponding values to each key contained in the 'my_dict' dictionary using the 'get()' function.\n",
        "my_dict.get('Battery')"
      ],
      "execution_count": null,
      "outputs": [
        {
          "output_type": "execute_result",
          "data": {
            "application/vnd.google.colaboratory.intrinsic+json": {
              "type": "string"
            },
            "text/plain": [
              "'3300 mAh'"
            ]
          },
          "metadata": {},
          "execution_count": 10
        }
      ]
    },
    {
      "cell_type": "markdown",
      "metadata": {
        "id": "A9GPlohcvxU7"
      },
      "source": [
        "The `my_dict.keys()` code returns a list of all the keys in a dictionary. In this case the list of keys is \n",
        "\n",
        "`dict_keys(['Front Camera', 'Battery', 'Processor', 'Display', 'RAM', 'Rear Camera', 'Price', 'Fast Charge'])`\n",
        "\n",
        "1. Initiate a `for` loop which iterates through each key in the above list and store them in the `key` variable one-by-one. \n",
        "\n",
        "2. Print the value for each `key` using the `get()` function with `for` loop or using `my_dict[key]`."
      ]
    },
    {
      "cell_type": "code",
      "metadata": {
        "id": "dOQoESx4wmOr",
        "colab": {
          "base_uri": "https://localhost:8080/"
        },
        "outputId": "47b6889a-c0fe-460e-a4ee-01cb4820d9ab"
      },
      "source": [
        "# S3.5: Print all the values contained in the 'my_dict' dictionary using 'for' loop and the 'get()' function. \n",
        "for i in my_dict.keys():\n",
        "  print(my_dict.get(i))"
      ],
      "execution_count": null,
      "outputs": [
        {
          "output_type": "stream",
          "name": "stdout",
          "text": [
            "16 MP\n",
            "3300 mAh\n",
            "Qualcomm Snapdragon 845\n",
            "6.28 inches\n",
            "6 GB\n",
            "16 MP + 20 MP\n",
            "28990\n",
            "True\n"
          ]
        }
      ]
    },
    {
      "cell_type": "markdown",
      "metadata": {
        "id": "sYV3l7iRwrn8"
      },
      "source": [
        "In the code above, `for` loop iterates through each key in the list generated by the `keys()` function. Then, the `get()` function returns the value for a key. Finally, the `print()` function prints the corresponding value for each key."
      ]
    },
    {
      "cell_type": "markdown",
      "metadata": {
        "id": "M2XeNqgIGHjy"
      },
      "source": [
        "---"
      ]
    },
    {
      "cell_type": "markdown",
      "metadata": {
        "id": "qRMpE6OVGLic"
      },
      "source": [
        "#### Task 4: The `values()` Function\n",
        "\n",
        "Let's learn how to get the collection of all the values contained in a Python dictionary. You can do this by using the `values()` function:\n",
        "\n",
        "**Syntax:** `dictionary_name.values()`\n"
      ]
    },
    {
      "cell_type": "code",
      "metadata": {
        "id": "lDEhrMF_F4By",
        "colab": {
          "base_uri": "https://localhost:8080/"
        },
        "outputId": "3392a378-3681-4971-db14-fc75aad364c1"
      },
      "source": [
        "# S4.1: Retrieve a collection of all the values stored in the 'my_dict' dictionary using the 'values()' function.\n",
        "my_dict.values()"
      ],
      "execution_count": null,
      "outputs": [
        {
          "output_type": "execute_result",
          "data": {
            "text/plain": [
              "dict_values(['16 MP', '3300 mAh', 'Qualcomm Snapdragon 845', '6.28 inches', '6 GB', '16 MP + 20 MP', 28990, True])"
            ]
          },
          "metadata": {},
          "execution_count": 12
        }
      ]
    },
    {
      "cell_type": "markdown",
      "metadata": {
        "id": "syJQsIZkGIP9"
      },
      "source": [
        "As you can see, the `values()` function has returned a list of all the values contained in the `my_dict` dictionary.\n",
        "\n",
        "**Note:** The list returned by the `values()` function is not the same as a Python list. This list behaves differently as compared to a conventional Python list. \n",
        "\n",
        "You can also use a `for` loop to print each item contained in the list returned by the `values()` function:"
      ]
    },
    {
      "cell_type": "code",
      "metadata": {
        "id": "Ldj_PTapG4Gb",
        "colab": {
          "base_uri": "https://localhost:8080/"
        },
        "outputId": "1b791514-15e0-42ee-a6ec-2ec0f71385d9"
      },
      "source": [
        "# S4.2: Using 'for' loop, print each item contained in the list returned by the 'values()' function.\n",
        "for i in my_dict.values():\n",
        "  print(i)"
      ],
      "execution_count": null,
      "outputs": [
        {
          "output_type": "stream",
          "name": "stdout",
          "text": [
            "16 MP\n",
            "3300 mAh\n",
            "Qualcomm Snapdragon 845\n",
            "6.28 inches\n",
            "6 GB\n",
            "16 MP + 20 MP\n",
            "28990\n",
            "True\n"
          ]
        }
      ]
    },
    {
      "cell_type": "markdown",
      "metadata": {
        "id": "O2nwQyCkG8_L"
      },
      "source": [
        "As you can see, in the `for` loop, the `value` variable iterates through every value contained in the list, \n",
        "\n",
        "`dict_values(['16 MP', '3300 mAh', 'Qualcomm Snapdragon 845', '6.28 inches', '6 GB', '16 MP + 20 MP', 28990, True])`\n",
        "\n",
        "Then, the `print()` function prints the value stored in the `value` variable."
      ]
    },
    {
      "cell_type": "markdown",
      "metadata": {
        "id": "GjesGxsJEmnT"
      },
      "source": [
        "---"
      ]
    },
    {
      "cell_type": "markdown",
      "metadata": {
        "id": "Gl6PMYFzdcuY"
      },
      "source": [
        "#### Task 5: The `items()` Function\n",
        "\n",
        "You can also retrieve all the key-value pairs from a dictionary as a collection of tuples by using the `items()` function.\n",
        "\n",
        "**Syntax:** `dictionary_name.items()` method.\n"
      ]
    },
    {
      "cell_type": "code",
      "metadata": {
        "id": "g4St23LCckp5",
        "colab": {
          "base_uri": "https://localhost:8080/"
        },
        "outputId": "8631caf6-8045-4be1-a67d-0d107c309471"
      },
      "source": [
        "# S5.1: Retrieve all the items stored in the 'my_dict' dictionary as a collection of tuples.\n",
        "my_dict.items()"
      ],
      "execution_count": null,
      "outputs": [
        {
          "output_type": "execute_result",
          "data": {
            "text/plain": [
              "dict_items([('Front Camera', '16 MP'), ('Battery', '3300 mAh'), ('Processor', 'Qualcomm Snapdragon 845'), ('Display', '6.28 inches'), ('RAM', '6 GB'), ('Rear Camera', '16 MP + 20 MP'), ('Price', 28990), ('Fast Charge', True)])"
            ]
          },
          "metadata": {},
          "execution_count": 14
        }
      ]
    },
    {
      "cell_type": "markdown",
      "metadata": {
        "id": "5D2Ibq31fKvA"
      },
      "source": [
        "As you can see, the `items()` function has returned a list of key-value pairs contained in the `my_dict` dictionary. Each key-value pair is a tuple because a pair is written inside the common brackets, i.e., `()`. \n",
        "\n",
        "**Note:** The list returned by the `items()` function is not the same as a Python list. This list behaves differently as compared to a conventional Python list. \n",
        "\n",
        "You can also use a `for` loop to print each item contained in the list returned by the `items()` function: \n"
      ]
    },
    {
      "cell_type": "code",
      "metadata": {
        "id": "568a8Stm_u8s",
        "colab": {
          "base_uri": "https://localhost:8080/"
        },
        "outputId": "2a18ba0a-069c-4095-8928-c4b4e104c0a2"
      },
      "source": [
        "# S5.2: Loop through each item stored in the list returned by the 'items()' function.\n",
        "for i in my_dict.items():\n",
        "  print(i)"
      ],
      "execution_count": null,
      "outputs": [
        {
          "output_type": "stream",
          "name": "stdout",
          "text": [
            "('Front Camera', '16 MP')\n",
            "('Battery', '3300 mAh')\n",
            "('Processor', 'Qualcomm Snapdragon 845')\n",
            "('Display', '6.28 inches')\n",
            "('RAM', '6 GB')\n",
            "('Rear Camera', '16 MP + 20 MP')\n",
            "('Price', 28990)\n",
            "('Fast Charge', True)\n"
          ]
        }
      ]
    },
    {
      "cell_type": "markdown",
      "metadata": {
        "id": "tuA8xI7dl4kT"
      },
      "source": [
        "As you can see, using `for` loop, we have retrieved every tuple containing a key-value pair, from the `my_dict` dictionary.\n",
        "\n",
        "You can also simultaneously iterate through each key-value contained in the list returned by the `items()` function: "
      ]
    },
    {
      "cell_type": "code",
      "metadata": {
        "id": "lMH9ZUKBDDE8",
        "colab": {
          "base_uri": "https://localhost:8080/"
        },
        "outputId": "74c54900-9250-4641-ec49-f03a5a4d26a9"
      },
      "source": [
        "# S5.3: Simultaneously iterate through each key-value pair contained in the list returned by the 'items()' function.\n",
        "for i,j in my_dict.items():\n",
        "  print(i,':',j)"
      ],
      "execution_count": null,
      "outputs": [
        {
          "output_type": "stream",
          "name": "stdout",
          "text": [
            "Front Camera : 16 MP\n",
            "Battery : 3300 mAh\n",
            "Processor : Qualcomm Snapdragon 845\n",
            "Display : 6.28 inches\n",
            "RAM : 6 GB\n",
            "Rear Camera : 16 MP + 20 MP\n",
            "Price : 28990\n",
            "Fast Charge : True\n"
          ]
        }
      ]
    },
    {
      "cell_type": "markdown",
      "metadata": {
        "id": "xx5v38qXDWoW"
      },
      "source": [
        "As you can see, in the `for` loop, the `key` variable iterates through each key in each item and the `value` variable iterates through each value in each item contained in the list, \n",
        "\n",
        "`dict_items([('Front Camera', '16 MP'), ('Battery', '3300 mAh'), ('Processor', 'Qualcomm Snapdragon 845'), ('Display', '6.28 inches'), ('RAM', '6 GB'), ('Rear Camera', '16 MP + 20 MP'), ('Price', 28990), ('Fast Charge', True)])`\n",
        "\n",
        "Then, the `print()` function prints the values stored in the `key` and `value` variables.\n",
        "\n",
        "If you apply the same method of retrieving key-value pairs simultaneously directly from the `my_dict` dictionary, then you will get `ValueError`:"
      ]
    },
    {
      "cell_type": "code",
      "metadata": {
        "id": "gXr9YOhVhDIG"
      },
      "source": [
        "# S5.4: Simultaneously retrieve all the key-value pairs directly from the 'my_dict' dictionary.\n",
        "#for i,j in my_dict:\n",
        " # print(i,':',j)"
      ],
      "execution_count": null,
      "outputs": []
    },
    {
      "cell_type": "markdown",
      "metadata": {
        "id": "GvX5Y3Ojhmmr"
      },
      "source": [
        "Hence, to simultaneously iterate through multiple items (or key-value pairs), it is best to have each item (or key-value pair) as a collection of tuples. You will learn about tuples in detail in the upcoming classes.\n",
        "\n",
        "Let's take a pause here and continue the discussion on Python dictionaries in the next lesson.\n"
      ]
    },
    {
      "cell_type": "markdown",
      "metadata": {
        "id": "34tM0N5Pl4gc"
      },
      "source": [
        "---"
      ]
    }
  ]
}