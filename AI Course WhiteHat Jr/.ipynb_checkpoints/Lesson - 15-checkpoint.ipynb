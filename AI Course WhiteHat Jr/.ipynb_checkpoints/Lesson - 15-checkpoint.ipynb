{
 "cells": [
  {
   "cell_type": "markdown",
   "metadata": {
    "id": "7LlG_PPFjJUz"
   },
   "source": [
    "# Lesson 15: NumPy Arrays II\n"
   ]
  },
  {
   "cell_type": "markdown",
   "metadata": {
    "id": "2EIUxlofnO_G"
   },
   "source": [
    "---"
   ]
  },
  {
   "cell_type": "markdown",
   "metadata": {
    "id": "3rJJF2_hNmmS"
   },
   "source": [
    "### Teacher-Student Tasks\n",
    "\n",
    "In the previous lesson, we learned how to create Claude Shannon's Mind Reader game algorithm which can make accurate predictions. \n",
    "\n",
    "In this lesson, we are going to learn a few of the mathematical operations that can be done on a NumPy array. We will also compare the performance of a NumPy array with a Python list."
   ]
  },
  {
   "cell_type": "markdown",
   "metadata": {
    "id": "IFaexN7T8zWE"
   },
   "source": [
    "---"
   ]
  },
  {
   "cell_type": "markdown",
   "metadata": {
    "id": "dsf9vA3JEQEa"
   },
   "source": [
    "#### Problem Statement\n",
    "\n",
    "\n",
    "Consider that you are a smartphone retailer and you have few smartphones in your inventory.\n",
    "\n",
    "|Smartphone Model|Price (INR)|# Units Available|\n",
    "|-|-|-|\n",
    "|Samsung Galaxy M30S|\t13999|\t9|\n",
    "Realme C2| 6298| 8|\n",
    "Xiaomi Redmi Note 7 Pro| 10999| 9|\n",
    "Xiaomi Redmi Note 8 Pro| 14999| 9|\n",
    "Realme C2 3GB RAM| 7298| 8|\n",
    "Realme C2 2GB RAM | 6385| 8|\n",
    "Realme 5| 8999| 9|\n",
    "Xiaomi Redmi Note 7S 64GB| 9999| 6|\n",
    "Xiaomi Redmi Note 8| 9999| 5|\n",
    "Vivo Z1 Pro| 13868| 7|\n",
    "\n",
    "Suppose you decided to do some analysis of your inventory. In the process, you want to find answers to the following questions:\n",
    "\n",
    "1. What is the total monetary value of the inventory?\n",
    "\n",
    "2. What is the average (or mean) price of a smartphone?\n",
    "\n",
    "3. What is the price of the cheapest smartphone in the inventory?\n",
    "\n",
    "4. What is the price of the most expensive smartphone in the inventory?\n",
    "\n",
    "5. What is the median price of a smartphone? \n",
    "\n",
    "6. What is the most commonly occurring price of a smartphone?"
   ]
  },
  {
   "cell_type": "markdown",
   "metadata": {
    "id": "b9bSGj5mEa12"
   },
   "source": [
    "---"
   ]
  },
  {
   "cell_type": "markdown",
   "metadata": {
    "id": "qkZj_ZVTiHz9"
   },
   "source": [
    "#### Task 1: Descriptive Statistics\n",
    "\n",
    "Using NumPy arrays, we can easily do some statistical calculations.\n",
    "\n",
    "\n",
    "You can answer all questions mentioned in the above problem statement in a few seconds by creating NumPy arrays and by applying the `sum(), mean(), median(), min()`, and `max()` functions.\n",
    "\n",
    "**Note**: A median value is a middle value in an array when the values are arranged in increasing order. Consider the five numbers `6, 1 , 5, 32,` and `13`.\n",
    "\n",
    "**How to find the median value?**\n",
    "\n",
    "To find the median value, follow two steps:\n",
    "\n",
    "1. First, arrange all the numbers in increasing order, i.e., `1, 5, 6, 13, 32`.\n",
    "\n",
    "2. Look for the middle value which in this case is `6`. So, the required median value is `6`.\n",
    "\n",
    "In general, let $n$ be the number of numbers in a set. \n",
    "\n",
    "1. If $n$ is odd, the median value lies at the \n",
    "$\\left(\\frac{n + 1}{2}\\right)^{th}$ \n",
    "position after arranging the numbers in ascending order.\n",
    "\n",
    "2. If $n$ is even, the median value is the mean (or average) of the values at the \n",
    "$\\left(\\frac{n}{2}\\right)^{th}$ \n",
    "and \n",
    "$\\left(\\frac{n}{2} + 1\\right)^{th}$ \n",
    "positions.\n",
    "\n",
    "Let's say we want to find the median of the numbers `34, 12, 8, 7, 21, 19`.\n",
    "\n",
    "1. First, arrange the numbers in increasing order, i.e., `7, 8, 12, 19, 21, 24`.\n",
    "\n",
    "2. There are 6 numbers, so the middle values are `12` and `19`. Their mean (or average) is \n",
    "$\\frac{12+19}{2}$ \n",
    "`= 15.5`.\n",
    "So, the required median value is `15.5`\n",
    "\n",
    "Let's first create a NumPy array for the phone data given above, then find the answers to these questions one-by-one:\n"
   ]
  },
  {
   "cell_type": "code",
   "execution_count": null,
   "metadata": {
    "id": "t8FrljUgoUTQ"
   },
   "outputs": [],
   "source": [
    "# S1.1: Create two NumPy arrays: one for the smartphone prices and another for the number of units available.\n",
    "import numpy as np\n",
    "\n",
    "prices = np.array([13999,6298,10999,14999,7298,6385,8999,9999,9999,13868])\n",
    "units = np.array([9,8,9,9,8,8,9,6,5,7])"
   ]
  },
  {
   "cell_type": "markdown",
   "metadata": {
    "id": "ljuEdRWDp41V"
   },
   "source": [
    "Now, let's answer the first question. To find the total monetary value of the inventory, you have to multiply each smartphone price with its corresponding number of units available and then add all the products of the multiplications.\n",
    "\n",
    "The total monetary value will be: \n",
    "\n",
    "$M = p_1 \\times u_1 + p_2 \\times u_2 + p_3 \\times u_3 + \\dots + p_n \\times u_n$\n",
    "\n",
    "Where,\n",
    "\n",
    "- $M$: The total monetary value.\n",
    "- $p$: The price of a smartphone.\n",
    "- $u$: The number of units available.\n",
    "- $n$: The varieties of smartphones.\n",
    "\n",
    "Therefore, we have to multiply the `prices` array values with the `units_available` array values to get a new array containing total prices for each smartphone. Then using the `sum()` function, we will add all the values of the new array:"
   ]
  },
  {
   "cell_type": "code",
   "execution_count": null,
   "metadata": {
    "colab": {
     "base_uri": "https://localhost:8080/"
    },
    "id": "Wwjrkh75pDQZ",
    "outputId": "fb2eb9c6-ab5f-4f7b-ea2c-ce550075cfb1"
   },
   "outputs": [
    {
     "name": "stdout",
     "output_type": "stream",
     "text": [
      "807877\n"
     ]
    }
   ],
   "source": [
    "# S1.2: Compute the total monetary value of the inventory.\n",
    "new_arr = prices*units\n",
    "# Create an array containing total price for each smartphone.\n",
    "\n",
    "monetary = new_arr.sum()\n",
    "# Calculate the total monetary value.\n",
    "print(monetary)"
   ]
  },
  {
   "cell_type": "markdown",
   "metadata": {
    "id": "1PF75230rVO_"
   },
   "source": [
    "**Note:** We cannot add, subtract, multiply, and divide two Python lists like NumPy arrays.\n",
    "\n",
    "Now, using the `mean()` function, compute the average price of a smartphone:"
   ]
  },
  {
   "cell_type": "code",
   "execution_count": null,
   "metadata": {
    "colab": {
     "base_uri": "https://localhost:8080/"
    },
    "id": "HOVg5kWlsLyO",
    "outputId": "33173668-0355-4bc7-ef1c-9856cb86d67a"
   },
   "outputs": [
    {
     "name": "stdout",
     "output_type": "stream",
     "text": [
      "10284.3\n"
     ]
    }
   ],
   "source": [
    "# S1.3: Compute the average price of a smartphone.\n",
    "mean = np.mean(prices)\n",
    "print(mean)"
   ]
  },
  {
   "cell_type": "markdown",
   "metadata": {
    "id": "RKjJufyVsYU2"
   },
   "source": [
    "Now, using the `min()` function, compute the price of the cheapest smartphone:"
   ]
  },
  {
   "cell_type": "code",
   "execution_count": null,
   "metadata": {
    "colab": {
     "base_uri": "https://localhost:8080/"
    },
    "id": "5Owx2KmysuPk",
    "outputId": "614c9436-05ba-4590-c0a9-d615d5934798"
   },
   "outputs": [
    {
     "name": "stdout",
     "output_type": "stream",
     "text": [
      "6298\n"
     ]
    }
   ],
   "source": [
    "# S1.4: Using the 'min()' function, compute the lowest price of a smartphone.\n",
    "minm = np.min(prices)\n",
    "print(minm)"
   ]
  },
  {
   "cell_type": "markdown",
   "metadata": {
    "id": "dTC1iDGvs5sc"
   },
   "source": [
    "Now, using the `max()` function, compute the price of the expensive smartphone:"
   ]
  },
  {
   "cell_type": "code",
   "execution_count": null,
   "metadata": {
    "colab": {
     "base_uri": "https://localhost:8080/"
    },
    "id": "XK4SfK97tCSa",
    "outputId": "d91f2c60-90fc-4ae4-c9dd-1a41033fb987"
   },
   "outputs": [
    {
     "name": "stdout",
     "output_type": "stream",
     "text": [
      "14999\n"
     ]
    }
   ],
   "source": [
    "# S1.5: Using the 'max()' function, compute the highest price of a smartphone.\n",
    "maxm = np.max(prices)\n",
    "print(maxm)"
   ]
  },
  {
   "cell_type": "markdown",
   "metadata": {
    "id": "O6PyAgR4tK0P"
   },
   "source": [
    "Now, using the `median()` function, compute the median price of a smartphone:"
   ]
  },
  {
   "cell_type": "code",
   "execution_count": null,
   "metadata": {
    "colab": {
     "base_uri": "https://localhost:8080/"
    },
    "id": "q-7oX4kOtSSe",
    "outputId": "f0162be3-1043-492c-a63b-ecac4967f8a8"
   },
   "outputs": [
    {
     "name": "stdout",
     "output_type": "stream",
     "text": [
      "9999.0\n"
     ]
    }
   ],
   "source": [
    "# S1.6: Using the 'median()' function, compute the median price of a smartphone.\n",
    "med = np.median(prices)\n",
    "print(med)"
   ]
  },
  {
   "cell_type": "markdown",
   "metadata": {
    "id": "d64CX_uctqpC"
   },
   "source": [
    "Now, let's compute the most commonly occurring price of a smartphone. If you look at the dataset, the most commonly occurring price is `9999` because it occurs twice. The rest of the prices occur only once.\n",
    "\n",
    "The value which occurs the most number of times is called the **modal** value or simply **mode**. \n",
    "\n",
    "Unfortunately, the `numpy` module does not have a function to calculate the modal value. So, either we can create our function which is a very complicated process or we can use the `mode()` function from the `scipy` library.\n",
    "\n",
    "For the time being, we will choose the second option. At the end of the class, we will create our version of the `mode()` function.\n",
    "\n",
    "In the `scipy` library, there is a module called `stats` which contains the `mode()` function. So we have to import the `stats` module from the `scipy` library."
   ]
  },
  {
   "cell_type": "code",
   "execution_count": null,
   "metadata": {
    "colab": {
     "base_uri": "https://localhost:8080/"
    },
    "id": "YwAgYtduxJXq",
    "outputId": "1a835cbb-4533-4cd4-bd95-58be19be18d2"
   },
   "outputs": [
    {
     "name": "stdout",
     "output_type": "stream",
     "text": [
      "ModeResult(mode=array([9999]), count=array([2]))\n"
     ]
    }
   ],
   "source": [
    "# S1.7: Compute the modal value using the 'mode()' function from the 'scipy.stats' module.\n",
    "from scipy import stats\n",
    "mod = stats.mode(prices)\n",
    "print(mod)"
   ]
  },
  {
   "cell_type": "markdown",
   "metadata": {
    "id": "5qUdoLwT0uxW"
   },
   "source": [
    "In the output, you can see that `9999` is the modal value and it occurs twice in the `prices` array.\n",
    "\n",
    "**Note:** `from library_name import module_name` is another way of importing a module. It is also standard practice."
   ]
  },
  {
   "cell_type": "markdown",
   "metadata": {
    "id": "2doxkX1qyC9S"
   },
   "source": [
    "---"
   ]
  },
  {
   "cell_type": "markdown",
   "metadata": {
    "id": "wtaOw65FDEGk"
   },
   "source": [
    "#### Task 2: Few More Operations on a NumPy Array\n",
    "\n",
    "Performing mathematical operations on a NumPy array is easier compared to a Python list.\n",
    "\n",
    "Let's say you have a NumPy array with radii of 20 circles and want to compute the area of every circle. Then you can simply use the double-asterisk (`**`) operator on the NumPy array to square the values. Then multiply the NumPy array with `pi`.\n",
    "\n",
    "**Note:** The area of a circle with the radius \n",
    "$r$ \n",
    "is \n",
    "$\\pi r^{2}$."
   ]
  },
  {
   "cell_type": "code",
   "execution_count": null,
   "metadata": {
    "colab": {
     "base_uri": "https://localhost:8080/"
    },
    "id": "vxc4TQw2DyBP",
    "outputId": "dc72f674-3540-4612-c931-8c627bc6dac4"
   },
   "outputs": [
    {
     "name": "stdout",
     "output_type": "stream",
     "text": [
      "[6, 4, 10, 6, 9, 8, 10, 1, 5, 6, 5, 8, 10, 1, 5, 10, 5, 8, 3, 5]\n",
      "[113.09733553  50.26548246 314.15926536 113.09733553 254.46900494\n",
      " 201.06192983 314.15926536   3.14159265  78.53981634 113.09733553\n",
      "  78.53981634 201.06192983 314.15926536   3.14159265  78.53981634\n",
      " 314.15926536  78.53981634 201.06192983  28.27433388  78.53981634]\n"
     ]
    }
   ],
   "source": [
    "# S2.1: Square the values in a numpy array.\n",
    "import random\n",
    "radii_list = [random.randint(1,11) for i in range(20)]\n",
    "print(radii_list)\n",
    "\n",
    "\n",
    "# 1. First create a Python list having radii of 20 circles where each radii is a random number from 1 to 10.\n",
    "\n",
    "\n",
    "# 2. Convert the list into a NumPy array using the 'array()' function.\n",
    "radii_arr = np.array(radii_list)\n",
    "\n",
    "# 3. Square the elements of NumPy array using the exponent (**) operator. Use can use the 'np.pi' keyword to get the value of 'pi'.\n",
    "radii_arr = (radii_arr**2)*np.pi\n",
    "\n",
    "print(radii_arr)"
   ]
  },
  {
   "cell_type": "markdown",
   "metadata": {
    "id": "TrpQfzfkFd4N"
   },
   "source": [
    "Notice that when you print the values of a NumPy array (in this case `np_radii`) using the `print()` function, the items of the NumPy array are not separated by a comma in the output. For all practical purposes, this is just a different behavior of a NumPy array. Do not worry about it.\n",
    "\n",
    "If you try to square the radii values stored in a Python list using the same process, then Python will throw the `TypeError` error."
   ]
  },
  {
   "cell_type": "code",
   "execution_count": null,
   "metadata": {
    "colab": {
     "base_uri": "https://localhost:8080/",
     "height": 184
    },
    "id": "ooklQ4d-Fk4b",
    "outputId": "9146e51e-21f6-4ee3-abdf-5d96a34849fe"
   },
   "outputs": [
    {
     "ename": "TypeError",
     "evalue": "ignored",
     "output_type": "error",
     "traceback": [
      "\u001b[0;31m---------------------------------------------------------------------------\u001b[0m",
      "\u001b[0;31mTypeError\u001b[0m                                 Traceback (most recent call last)",
      "\u001b[0;32m<ipython-input-16-8ee9c892a42e>\u001b[0m in \u001b[0;36m<module>\u001b[0;34m()\u001b[0m\n\u001b[1;32m      1\u001b[0m \u001b[0;31m# S2.2: Directly apply the exponent (**) operator on a Python list.\u001b[0m\u001b[0;34m\u001b[0m\u001b[0;34m\u001b[0m\u001b[0;34m\u001b[0m\u001b[0m\n\u001b[0;32m----> 2\u001b[0;31m \u001b[0mradii_list\u001b[0m \u001b[0;34m**\u001b[0m\u001b[0;36m2\u001b[0m\u001b[0;34m\u001b[0m\u001b[0;34m\u001b[0m\u001b[0m\n\u001b[0m",
      "\u001b[0;31mTypeError\u001b[0m: unsupported operand type(s) for ** or pow(): 'list' and 'int'"
     ]
    }
   ],
   "source": [
    "# S2.2: Directly apply the exponent (**) operator on a Python list. \n",
    "radii_list **2"
   ]
  },
  {
   "cell_type": "markdown",
   "metadata": {
    "id": "oorQuIB_wbFp"
   },
   "source": [
    "Even if you simply multiply a list containing numeric values with a floating-point number, then also Python will throw the `TypeError` error"
   ]
  },
  {
   "cell_type": "code",
   "execution_count": null,
   "metadata": {
    "id": "unq5Iqlbv94k"
   },
   "outputs": [],
   "source": [
    "# S2.3: Directly multiply a Python list with a number.\n"
   ]
  },
  {
   "cell_type": "markdown",
   "metadata": {
    "id": "-TcTxsAKFpOb"
   },
   "source": [
    "To find the area of the circles whose radii are stored in a Python list, you will have to use a `for` loop:"
   ]
  },
  {
   "cell_type": "code",
   "execution_count": null,
   "metadata": {
    "colab": {
     "base_uri": "https://localhost:8080/"
    },
    "id": "xAZOdQ-AF1Mt",
    "outputId": "e86ab7bf-e4ee-481c-c665-1bec67c6f368"
   },
   "outputs": [
    {
     "name": "stdout",
     "output_type": "stream",
     "text": [
      "[113.09733552923255, 50.26548245743669, 314.1592653589793, 113.09733552923255, 254.46900494077323, 201.06192982974676, 314.1592653589793, 3.141592653589793, 78.53981633974483, 113.09733552923255, 78.53981633974483, 201.06192982974676, 314.1592653589793, 3.141592653589793, 78.53981633974483, 314.1592653589793, 78.53981633974483, 201.06192982974676, 28.274333882308138, 78.53981633974483]\n"
     ]
    }
   ],
   "source": [
    "# S2.4: Square all the items in a Python list.\n",
    "for i in range(len(radii_list)):\n",
    "  radii_list[i] = radii_list[i]**2*np.pi\n",
    "\n",
    "print(radii_list)"
   ]
  },
  {
   "cell_type": "markdown",
   "metadata": {
    "id": "5aXQrRkz6K0r"
   },
   "source": [
    "Now, using the same approach, you create two NumPy arrays: \n",
    "1. NumPy array having radii (numbers from `1` to `10`) of `10` cylinders.\n",
    "2. NumPy array having their corresponding heights (numbers from `11` to `20`).\n",
    "\n",
    "**Note:** The volume of a cylinder is \n",
    "$\\pi r^{2}h$\n",
    ", where \n",
    "$h$ \n",
    "is height of the cylinder and \n",
    "$r$ \n",
    "is the radius of the cylinder."
   ]
  },
  {
   "cell_type": "code",
   "execution_count": null,
   "metadata": {
    "colab": {
     "base_uri": "https://localhost:8080/"
    },
    "id": "VegrJMaAhoJv",
    "outputId": "b9f68f46-220a-48fb-f520-969b44cd51d8"
   },
   "outputs": [
    {
     "name": "stdout",
     "output_type": "stream",
     "text": [
      "[  34.55751919  150.79644737  367.56634047  703.7167544  1178.0972451\n",
      " 1809.55736847 2616.94668044 3619.11473694 4834.91109387 6283.18530718]\n"
     ]
    }
   ],
   "source": [
    "# S2.5: Create two NumPy arrays. One having a radii of 10 cylinders and another having their corresponding heights.\n",
    "# Compute the volume of the 10 cylinders by multiplying the NumPy arrays and store the new NumPy array in the new variable.\n",
    "radiis = np.array([1,2,3,4,5,6,7,8,9,10])\n",
    "heights = np.array([11,12,13,14,15,16,17,18,19,20])\n",
    "\n",
    "volume = radiis*radiis*heights*np.pi\n",
    "print(volume)\n",
    "\n"
   ]
  },
  {
   "cell_type": "code",
   "execution_count": null,
   "metadata": {
    "id": "Ohcmnf6u_sym"
   },
   "outputs": [],
   "source": []
  },
  {
   "cell_type": "markdown",
   "metadata": {
    "id": "XwOCb3OTBxYD"
   },
   "source": [
    "So, here we got an array containing the volumes of the corresponding cylinders."
   ]
  },
  {
   "cell_type": "markdown",
   "metadata": {
    "id": "o0_iHJJ96hGL"
   },
   "source": [
    "---"
   ]
  },
  {
   "cell_type": "markdown",
   "metadata": {
    "id": "Qoc4ydT3yEDx"
   },
   "source": [
    "#### Task 3: Python List and NumPy Array Performance Comparison\n",
    "\n",
    "As we discussed earlier, the execution time for a NumPy array is lesser as compared to a Python list. The difference is most significant when the sizes of lists and arrays are in thousands and above.\n",
    "\n",
    "Let's first create a Python list and a NumPy array both having 100 thousand (or 1 lakh) items. Then let's compute how much time (in seconds) is taken to create the list and the array:"
   ]
  },
  {
   "cell_type": "code",
   "execution_count": null,
   "metadata": {
    "colab": {
     "base_uri": "https://localhost:8080/"
    },
    "id": "MqWJKrzoyB8q",
    "outputId": "9e8d411b-1f94-448b-ae79-abf342059f98"
   },
   "outputs": [
    {
     "name": "stdout",
     "output_type": "stream",
     "text": [
      "0.0073947906494140625\n",
      "0.00028061866760253906\n",
      "26.0\n"
     ]
    }
   ],
   "source": [
    "# S3.1: Run the code shown below to see that NumPy arrays are faster than Python lists.\n",
    "# 1. Import the 'numpy' and 'time' modules\n",
    "import numpy\n",
    "import time\n",
    "# 2. Record the time before creating a Python list.\n",
    "t1 = time.time()\n",
    "\n",
    "# 3. Create a Python list containing 100,000 items from 1 to 100,000.\n",
    "lst = [i for i in range(1,100001)]\n",
    "\n",
    "# 4. Record the time after creating the list.\n",
    "t2 = time.time()\n",
    "\n",
    "# 5. Calculate the time taken to create a Python list by computing the time difference.\n",
    "t0 = t2-t1\n",
    "print(t0)\n",
    "# 6. Record the time before creating a NumPy array.\n",
    "\n",
    "t11 = time.time()\n",
    "arr = np.arange(1,100001,dtype=int)\n",
    "# 7. Create a NumPy array containing just one row and 100,000 items from 1 to 100,000.\n",
    "\n",
    "# 8. Record the time after creating the NumPy array.\n",
    "t22 = time.time()\n",
    "\n",
    "# 9. Calculate the time taken to create a NumPy array by computing the time difference.\n",
    "t00 = t22-t11\n",
    "print(t00)\n",
    "# 10. Calculate the factor by which a NumPy array creation is faster than a Python list creation.\n",
    "\n",
    "print(t0//t00)"
   ]
  },
  {
   "cell_type": "markdown",
   "metadata": {
    "id": "C1_TvZuZyCQf"
   },
   "source": [
    "If you run the above code several times, you will see that almost always NumPy arrays are faster than Python lists by a huge margin."
   ]
  },
  {
   "cell_type": "markdown",
   "metadata": {
    "id": "2kwv0EiQ6lWL"
   },
   "source": [
    "---"
   ]
  },
  {
   "cell_type": "markdown",
   "metadata": {
    "id": "vjz9h-lBLNat"
   },
   "source": [
    "#### Task 4: The User-Defined `mode()` Function\n",
    "\n",
    "Now let's create our version of the `mode()` function. It should take a one-dimensional NumPy array (`input_array`) as an input and should return a pair of the modal value and its count as an output.\n",
    "\n",
    "To create this function:\n",
    "\n",
    "1. First, we will create an empty Python list to store the count of every item in the `input_array`:\n",
    "\n",
    "  ```\n",
    "  counts_list = []\n",
    "  ```\n",
    "\n",
    "2. Next, we will convert the `input_array` to a Python list and store it in the `input_list` variable:\n",
    "\n",
    "  ```\n",
    "  input_list = list(input_array)\n",
    "  ```\n",
    "\n",
    "3. We will iterate through each item in the `input_list` and count its value. Then we will add the counts to the `counts_list` using the `append()` function:\n",
    "\n",
    "  ```\n",
    "  for item in input_list:\n",
    "      item_count = input_list.count(item)\n",
    "      counts_list.append(item_count)\n",
    "  ```\n",
    "\n",
    "4. Then we will convert the `counts_list` into a NumPy array:\n",
    "\n",
    "  ```\n",
    "  counts_array = np.array(counts_list)\n",
    "  ```\n",
    "\n",
    "5. Next, we will compute the maximum count value in the `counts_array` using the `count()` function:\n",
    "\n",
    "  ```\n",
    "  max_count = np.max(counts_array)\n",
    "  ```\n",
    "\n",
    "6. Then, we will find the index of the `max_count` value using the `index()` function:\n",
    "\n",
    "  ```\n",
    "  max_count_index = counts_list.index(max_count)\n",
    "  ```\n",
    "\n",
    "7. Finally, we will find the modal value using the list indexing method:\n",
    "  \n",
    "  ```\n",
    "  mode = input_list[max_count_index]\n",
    "  ```\n",
    "\n",
    "**Note:** There could be other ways to create the `mode()` function. You are free to explore them in your own time."
   ]
  },
  {
   "cell_type": "code",
   "execution_count": null,
   "metadata": {
    "colab": {
     "base_uri": "https://localhost:8080/"
    },
    "id": "_fCdTIyI-zqL",
    "outputId": "24b137c5-6fcc-4c4e-8382-d57874ce190f"
   },
   "outputs": [
    {
     "name": "stdout",
     "output_type": "stream",
     "text": [
      "(9999, 2)\n"
     ]
    }
   ],
   "source": [
    "# S4.1: Create the 'mode()' function which takes a 1D NumPy array as an input and returns the modal value and its count as an output.\n",
    "def mode(item_array):\n",
    "  count_lst = []\n",
    "  inp_list = list(item_array)\n",
    "  for ele in inp_list:\n",
    "    countt = inp_list.count(ele)\n",
    "    count_lst.append(countt)\n",
    "  \n",
    "  count_array = np.array(count_lst)\n",
    "  max_count = np.max(count_array)\n",
    "  max_index = count_lst.index(max_count)\n",
    "\n",
    "  mode = inp_list[max_index]\n",
    "  return mode,max_count\n",
    "\n",
    "\n",
    "out_lst = mode(prices)\n",
    "\n",
    "print(out_lst)\n",
    "\n",
    "\n",
    "\n"
   ]
  },
  {
   "cell_type": "markdown",
   "metadata": {
    "id": "eprcVQyBRvKJ"
   },
   "source": [
    "So, in this way, we can create the `mode()` function which takes a one-dimensional array as an input and returns a pair of the modal value and its count as an output.\n",
    "\n",
    "In the next class, we will learn about the Pandas series and Pandas DataFrame."
   ]
  },
  {
   "cell_type": "markdown",
   "metadata": {
    "id": "tYfqpd06TrIq"
   },
   "source": [
    "---"
   ]
  }
 ],
 "metadata": {
  "colab": {
   "collapsed_sections": [],
   "name": "Copy of 2021-11-03_Lesson15_Darshan",
   "provenance": []
  },
  "kernelspec": {
   "display_name": "Python 3",
   "language": "python",
   "name": "python3"
  },
  "language_info": {
   "codemirror_mode": {
    "name": "ipython",
    "version": 3
   },
   "file_extension": ".py",
   "mimetype": "text/x-python",
   "name": "python",
   "nbconvert_exporter": "python",
   "pygments_lexer": "ipython3",
   "version": "3.8.5"
  }
 },
 "nbformat": 4,
 "nbformat_minor": 1
}
