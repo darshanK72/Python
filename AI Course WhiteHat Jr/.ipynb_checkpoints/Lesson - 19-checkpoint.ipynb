{
 "cells": [
  {
   "cell_type": "markdown",
   "metadata": {
    "id": "aMbswDYFUt_1"
   },
   "source": [
    "# Lesson 19: Box Plots"
   ]
  },
  {
   "cell_type": "markdown",
   "metadata": {
    "id": "nVX667u_f1qP"
   },
   "source": [
    "---"
   ]
  },
  {
   "cell_type": "markdown",
   "metadata": {
    "id": "dmruqgPqb9BH"
   },
   "source": [
    "### Overview\n",
    "\n",
    "To learn the process of data cleaning, we will use NASA's meteorite landings dataset. But before that, let's learn about a meteoroid, meteor, and meteorite to properly interpret the meteorite landings dataset.\n",
    "\n",
    "**What is a meteoroid?**\n",
    "\n",
    "A meteoroid is a solid rock-like object that gets separated from its parent body in outer space mostly due collision of asteroids which are humongous in size. It travels through the solar system and comes close to Earth. It's also referred to as a near-Earth object. \n",
    "\n",
    "**What is a meteor?**\n",
    "\n",
    "A meteor, otherwise known as a shooting star or fireball, is a meteoroid that fires up and radiates energy when enters Earth's atmosphere.\n",
    "\n",
    "**What is a meteorite?**\n",
    "\n",
    "A meteorite is a meteor that falls on the earth's surface or ground. \n",
    "\n",
    "Refer to the image shown below to understand the difference between the three objects. They are the same object but named differently based on their location.\n",
    "\n",
    "<img src='https://s3-whjr-v2-prod-bucket.whjr.online/33cdf27a-9e15-4a1d-a902-dab387a97e01.jpg'>\n",
    "\n",
    "\n",
    "\n",
    "**Why are meteorites important to scientists**?\n",
    "\n",
    "Some of the meteorites called chondrites contain chondrules. A chondrule is a mineral grain and spherical. They were formed at the time of the birth of the solar system. Studying chondrules will help us understand the formation of the solar system. Hence, meteorites are important to scientists. The image below shows chondrules on a microscopic scale.\n",
    "\n",
    "<img src='https://student-datasets-bucket.s3.ap-south-1.amazonaws.com/images/chondrules.png'>\n",
    "\n",
    "*Image source: https://www.researchgate.net/profile/Fernando_Ortega-Gutierrez/publication/262623341/figure/fig5/AS:667618792976395@1536184132327/Photographs-of-chondrules-microscopic-observations-with-crossed-nicols-a-Barred.png*\n",
    "\n",
    "\n"
   ]
  },
  {
   "cell_type": "markdown",
   "metadata": {
    "id": "pIFde4V1cVEu"
   },
   "source": [
    "**Note:** On the left-bottom corner, in the image above, you could see a\n",
    "$200 \\mu m$ \n",
    "scale. The Greek letter\n",
    "$\\mu$ \n",
    "is read as **micro** meaning \n",
    "$10^{-6}$\n",
    "and \n",
    "$m$\n",
    "stands for meters. Hence, the scale of these four images is \n",
    "$200$\n",
    "micrometers or \n",
    "$200 \\times 10^{-6}$\n",
    "meters.\n"
   ]
  },
  {
   "cell_type": "markdown",
   "metadata": {
    "id": "YDte8N_bFhUZ"
   },
   "source": [
    "---"
   ]
  },
  {
   "cell_type": "markdown",
   "metadata": {
    "id": "YHzxtxnaFiAY"
   },
   "source": [
    "#### The Data\n",
    "\n",
    "The [Meteoritical Society](https://meteoritical.org/) collects data on meteorites that have fallen to Earth from outer space. The dataset contains the following variables for over 45,000 meteorites that have struck our planet:\n",
    "\n",
    "1. `name`: The name of the place where a meteorite was found or observed.\n",
    "\n",
    "2. `id`: A unique identifier for a meteorite.\n",
    "\n",
    "3. `nametype`: One of the following:\n",
    "    \n",
    "    - `valid`: A typical meteorite.\n",
    "    \n",
    "    - `relict`: A meteorite that has been highly degraded by the weather on Earth.\n",
    "\n",
    "4. `recclass`: The class of the meteorite; one of a large number of classes based on physical, chemical, and other characteristics. You can read this [Wikipedia article](https://en.wikipedia.org/wiki/Meteorite_classification) to learn about the meteorite classification.\n",
    "\n",
    "  - Meteorite Type 1: Iron and Stony-iron meteorites. You can read about them in your free time after the class.\n",
    "\n",
    "    <img src='https://student-datasets-bucket.s3.ap-south-1.amazonaws.com/images/lesson-19/types-of-meteorite-1.jpg'>\n",
    "\n",
    "    *Image source: https://spacecentre.co.uk/blog-post/edible-meteorites/*\n",
    "\n",
    "  - Meteorite Type 2: Stony meteorites. You can read about them in your free time after the class.\n",
    "\n",
    "    <img src='https://student-datasets-bucket.s3.ap-south-1.amazonaws.com/images/lesson-19/types-of-meteorite-2.jpg'>\n",
    "\n",
    "    *Image source: https://spacecentre.co.uk/blog-post/edible-meteorites/*\n",
    "\n",
    "5. `mass:` The mass of the meteorite, in grams.\n",
    "\n",
    "6. `fall`: Whether the meteorite was seen falling, or was discovered after its impact; one of the following:\n",
    "\n",
    "    - `Fell`: The meteorite's fall was observed.\n",
    "    \n",
    "    - `Found`: The meteorite's fall was not observed.\n",
    "\n",
    "7. `year`: The year the meteorite fell, or the year it was found (depending on the value of the fell).\n",
    "\n",
    "8. `reclat`: The latitude of the meteorite's landing.\n",
    "\n",
    "9. `reclong`: The longitude of the meteorite's landing.\n",
    "\n",
    "10. `GeoLocation`: A parentheses-enclose, comma-separated tuple that combines reclat and reclong.\n",
    "\n",
    "You don't have to memorize this list of variables. You can refer to it whenever you want to.\n",
    "\n",
    "#### Acknowledgments\n",
    "\n",
    "This dataset was downloaded from [NASA's Data Portal](https://data.nasa.gov/Space-Science/Meteorite-Landings/gh4g-9sfh)  (the link may take more time to open), and is based on [The Meteoritical Society's Meteoritical Bulletin Database](https://www.lpi.usra.edu/meteor/). The latter database provides additional information such as meteorite images, links to primary sources, etc."
   ]
  },
  {
   "cell_type": "markdown",
   "metadata": {
    "id": "dWjVpY_LHOZZ"
   },
   "source": [
    "---"
   ]
  },
  {
   "cell_type": "markdown",
   "metadata": {
    "id": "BExrazxZHVJt"
   },
   "source": [
    "#### Notes on Missing or Incorrect Data Points\n",
    "\n",
    "The columns such as `recclass`, `reclat`, `reclong` begin with the `rec` keyword. It's a shorthand for *recommended*. They are the recommended values of the classes, latitudes, and longitudes variables for the meteorites according to the Meteoritical Society. \n",
    "\n",
    "A few values in the `year` column were incorrectly entered into the dataset. Any year less than 860 or greater than 2016 is incorrect. It must be removed from the dataset. \n",
    "\n",
    "A few entries have latitude and longitude of `0N/0E` (off the western coast of Africa, where it would be quite difficult to recover meteorites). Many of these were actually discovered in Antarctica, but exact coordinates were not given. \n"
   ]
  },
  {
   "cell_type": "markdown",
   "metadata": {
    "id": "MCci2f6OHZ1n"
   },
   "source": [
    "---"
   ]
  },
  {
   "cell_type": "markdown",
   "metadata": {
    "id": "OgEBq526HKbw"
   },
   "source": [
    "### Teacher-Student Tasks\n",
    "\n",
    "Throughout this project we will answer the following questions:\n",
    "\n",
    "1. How does the geographical distribution of observed falls differ from that of found meteorites? \n",
    "\n",
    "2. What class of meteorites fall on Earth in abundance? Ideally, we want the chondrites to be larger in numbers because they contain chondrules.\n",
    "\n",
    "In this class, we will learn to create a boxplot."
   ]
  },
  {
   "cell_type": "markdown",
   "metadata": {
    "id": "YzEn7PiP9Q9w"
   },
   "source": [
    "---"
   ]
  },
  {
   "cell_type": "markdown",
   "metadata": {
    "id": "DoShzic97iBl"
   },
   "source": [
    "#### Task 1: Loading the Dataset\n",
    "\n",
    "Let's create a DataFrame for the meteorite landings dataset. Here's the link to the CSV file (don't click on it):\n",
    "\n",
    "https://student-datasets-bucket.s3.ap-south-1.amazonaws.com/whitehat-ds-datasets/meteorite-landings/meteorite-landings.csv\n",
    "\n",
    "**Dataset Credits:** https://www.kaggle.com/nasa/meteorite-landings\n"
   ]
  },
  {
   "cell_type": "code",
   "execution_count": null,
   "metadata": {
    "id": "ThLLbqIzUd9f"
   },
   "outputs": [],
   "source": [
    "# S1.1: Import the 'numpy', 'pandas' & 'matplotlib.pyplot' modules. Create a Pandas DataFrame. Display the first 5 rows of the DataFrame.\n",
    "import numpy as np\n",
    "import pandas as pd\n",
    "import matplotlib.pyplot as plt"
   ]
  },
  {
   "cell_type": "code",
   "execution_count": null,
   "metadata": {
    "colab": {
     "base_uri": "https://localhost:8080/",
     "height": 422
    },
    "id": "ErR9tKrV7l1R",
    "outputId": "bbaa2b98-9e34-4bcd-e64d-6b7df76a8341"
   },
   "outputs": [
    {
     "data": {
      "text/html": [
       "<div>\n",
       "<style scoped>\n",
       "    .dataframe tbody tr th:only-of-type {\n",
       "        vertical-align: middle;\n",
       "    }\n",
       "\n",
       "    .dataframe tbody tr th {\n",
       "        vertical-align: top;\n",
       "    }\n",
       "\n",
       "    .dataframe thead th {\n",
       "        text-align: right;\n",
       "    }\n",
       "</style>\n",
       "<table border=\"1\" class=\"dataframe\">\n",
       "  <thead>\n",
       "    <tr style=\"text-align: right;\">\n",
       "      <th></th>\n",
       "      <th>name</th>\n",
       "      <th>id</th>\n",
       "      <th>nametype</th>\n",
       "      <th>recclass</th>\n",
       "      <th>mass</th>\n",
       "      <th>fall</th>\n",
       "      <th>year</th>\n",
       "      <th>reclat</th>\n",
       "      <th>reclong</th>\n",
       "      <th>GeoLocation</th>\n",
       "    </tr>\n",
       "  </thead>\n",
       "  <tbody>\n",
       "    <tr>\n",
       "      <th>0</th>\n",
       "      <td>Aachen</td>\n",
       "      <td>1</td>\n",
       "      <td>Valid</td>\n",
       "      <td>L5</td>\n",
       "      <td>21.0</td>\n",
       "      <td>Fell</td>\n",
       "      <td>1880.0</td>\n",
       "      <td>50.77500</td>\n",
       "      <td>6.08333</td>\n",
       "      <td>(50.775000, 6.083330)</td>\n",
       "    </tr>\n",
       "    <tr>\n",
       "      <th>1</th>\n",
       "      <td>Aarhus</td>\n",
       "      <td>2</td>\n",
       "      <td>Valid</td>\n",
       "      <td>H6</td>\n",
       "      <td>720.0</td>\n",
       "      <td>Fell</td>\n",
       "      <td>1951.0</td>\n",
       "      <td>56.18333</td>\n",
       "      <td>10.23333</td>\n",
       "      <td>(56.183330, 10.233330)</td>\n",
       "    </tr>\n",
       "    <tr>\n",
       "      <th>2</th>\n",
       "      <td>Abee</td>\n",
       "      <td>6</td>\n",
       "      <td>Valid</td>\n",
       "      <td>EH4</td>\n",
       "      <td>107000.0</td>\n",
       "      <td>Fell</td>\n",
       "      <td>1952.0</td>\n",
       "      <td>54.21667</td>\n",
       "      <td>-113.00000</td>\n",
       "      <td>(54.216670, -113.000000)</td>\n",
       "    </tr>\n",
       "    <tr>\n",
       "      <th>3</th>\n",
       "      <td>Acapulco</td>\n",
       "      <td>10</td>\n",
       "      <td>Valid</td>\n",
       "      <td>Acapulcoite</td>\n",
       "      <td>1914.0</td>\n",
       "      <td>Fell</td>\n",
       "      <td>1976.0</td>\n",
       "      <td>16.88333</td>\n",
       "      <td>-99.90000</td>\n",
       "      <td>(16.883330, -99.900000)</td>\n",
       "    </tr>\n",
       "    <tr>\n",
       "      <th>4</th>\n",
       "      <td>Achiras</td>\n",
       "      <td>370</td>\n",
       "      <td>Valid</td>\n",
       "      <td>L6</td>\n",
       "      <td>780.0</td>\n",
       "      <td>Fell</td>\n",
       "      <td>1902.0</td>\n",
       "      <td>-33.16667</td>\n",
       "      <td>-64.95000</td>\n",
       "      <td>(-33.166670, -64.950000)</td>\n",
       "    </tr>\n",
       "    <tr>\n",
       "      <th>...</th>\n",
       "      <td>...</td>\n",
       "      <td>...</td>\n",
       "      <td>...</td>\n",
       "      <td>...</td>\n",
       "      <td>...</td>\n",
       "      <td>...</td>\n",
       "      <td>...</td>\n",
       "      <td>...</td>\n",
       "      <td>...</td>\n",
       "      <td>...</td>\n",
       "    </tr>\n",
       "    <tr>\n",
       "      <th>45711</th>\n",
       "      <td>Zillah 002</td>\n",
       "      <td>31356</td>\n",
       "      <td>Valid</td>\n",
       "      <td>Eucrite</td>\n",
       "      <td>172.0</td>\n",
       "      <td>Found</td>\n",
       "      <td>1990.0</td>\n",
       "      <td>29.03700</td>\n",
       "      <td>17.01850</td>\n",
       "      <td>(29.037000, 17.018500)</td>\n",
       "    </tr>\n",
       "    <tr>\n",
       "      <th>45712</th>\n",
       "      <td>Zinder</td>\n",
       "      <td>30409</td>\n",
       "      <td>Valid</td>\n",
       "      <td>Pallasite, ungrouped</td>\n",
       "      <td>46.0</td>\n",
       "      <td>Found</td>\n",
       "      <td>1999.0</td>\n",
       "      <td>13.78333</td>\n",
       "      <td>8.96667</td>\n",
       "      <td>(13.783330, 8.966670)</td>\n",
       "    </tr>\n",
       "    <tr>\n",
       "      <th>45713</th>\n",
       "      <td>Zlin</td>\n",
       "      <td>30410</td>\n",
       "      <td>Valid</td>\n",
       "      <td>H4</td>\n",
       "      <td>3.3</td>\n",
       "      <td>Found</td>\n",
       "      <td>1939.0</td>\n",
       "      <td>49.25000</td>\n",
       "      <td>17.66667</td>\n",
       "      <td>(49.250000, 17.666670)</td>\n",
       "    </tr>\n",
       "    <tr>\n",
       "      <th>45714</th>\n",
       "      <td>Zubkovsky</td>\n",
       "      <td>31357</td>\n",
       "      <td>Valid</td>\n",
       "      <td>L6</td>\n",
       "      <td>2167.0</td>\n",
       "      <td>Found</td>\n",
       "      <td>2003.0</td>\n",
       "      <td>49.78917</td>\n",
       "      <td>41.50460</td>\n",
       "      <td>(49.789170, 41.504600)</td>\n",
       "    </tr>\n",
       "    <tr>\n",
       "      <th>45715</th>\n",
       "      <td>Zulu Queen</td>\n",
       "      <td>30414</td>\n",
       "      <td>Valid</td>\n",
       "      <td>L3.7</td>\n",
       "      <td>200.0</td>\n",
       "      <td>Found</td>\n",
       "      <td>1976.0</td>\n",
       "      <td>33.98333</td>\n",
       "      <td>-115.68333</td>\n",
       "      <td>(33.983330, -115.683330)</td>\n",
       "    </tr>\n",
       "  </tbody>\n",
       "</table>\n",
       "<p>45716 rows × 10 columns</p>\n",
       "</div>"
      ],
      "text/plain": [
       "             name     id  ...    reclong               GeoLocation\n",
       "0          Aachen      1  ...    6.08333     (50.775000, 6.083330)\n",
       "1          Aarhus      2  ...   10.23333    (56.183330, 10.233330)\n",
       "2            Abee      6  ... -113.00000  (54.216670, -113.000000)\n",
       "3        Acapulco     10  ...  -99.90000   (16.883330, -99.900000)\n",
       "4         Achiras    370  ...  -64.95000  (-33.166670, -64.950000)\n",
       "...           ...    ...  ...        ...                       ...\n",
       "45711  Zillah 002  31356  ...   17.01850    (29.037000, 17.018500)\n",
       "45712      Zinder  30409  ...    8.96667     (13.783330, 8.966670)\n",
       "45713        Zlin  30410  ...   17.66667    (49.250000, 17.666670)\n",
       "45714   Zubkovsky  31357  ...   41.50460    (49.789170, 41.504600)\n",
       "45715  Zulu Queen  30414  ... -115.68333  (33.983330, -115.683330)\n",
       "\n",
       "[45716 rows x 10 columns]"
      ]
     },
     "execution_count": 2,
     "metadata": {},
     "output_type": "execute_result"
    }
   ],
   "source": [
    "# S1.2: Find the number of rows and columns in the DataFrame. \n",
    "met_df = pd.read_csv(\"https://student-datasets-bucket.s3.ap-south-1.amazonaws.com/whitehat-ds-datasets/meteorite-landings/meteorite-landings.csv\")\n",
    "met_df"
   ]
  },
  {
   "cell_type": "markdown",
   "metadata": {
    "id": "3vg7BI8z8Ujm"
   },
   "source": [
    "---"
   ]
  },
  {
   "cell_type": "markdown",
   "metadata": {
    "id": "ik1XEt3q3reW"
   },
   "source": [
    "#### Task 2: Tuples\n",
    "\n",
    "The output of the `shape` keyword is another Python data structure called a **tuple**. Similar to a Python list, a tuple also stores multiple values separated by a comma. To create a tuple, use the common brackets `()`. To get a value in a tuple, you can use the **indexing** method that you also use in the case of a Python list.\n",
    "\n",
    "For example, to get the number of rows in the `met_df` DataFrame, you can simply write `met_df.shape[0]` which will give you the value at the `index=0`."
   ]
  },
  {
   "cell_type": "code",
   "execution_count": null,
   "metadata": {
    "colab": {
     "base_uri": "https://localhost:8080/"
    },
    "id": "hOQY203S7xDx",
    "outputId": "b902c241-fd9b-4ce4-8335-ed970a759cce"
   },
   "outputs": [
    {
     "data": {
      "text/plain": [
       "45716"
      ]
     },
     "execution_count": 4,
     "metadata": {},
     "output_type": "execute_result"
    }
   ],
   "source": [
    "# S2.1: Get the number of rows in the 'met_df' DataFrame using the 'shape' keyword.\n",
    "met_df.shape[0]"
   ]
  },
  {
   "cell_type": "markdown",
   "metadata": {
    "id": "WVTfVjJR79Ov"
   },
   "source": [
    "Similarly, you can also get the number of columns in the `met_df` DataFrame using the `shape` keyword."
   ]
  },
  {
   "cell_type": "code",
   "execution_count": null,
   "metadata": {
    "colab": {
     "base_uri": "https://localhost:8080/"
    },
    "id": "cJWSy0qT8Dy_",
    "outputId": "520fc06e-a667-4006-b525-d048079b0e6a"
   },
   "outputs": [
    {
     "data": {
      "text/plain": [
       "10"
      ]
     },
     "execution_count": 5,
     "metadata": {},
     "output_type": "execute_result"
    }
   ],
   "source": [
    "# S2.2: Get the number of columns in the 'met_df' DataFrame using the 'shape' keyword.\n",
    "met_df.shape[1]"
   ]
  },
  {
   "cell_type": "markdown",
   "metadata": {
    "id": "Q4lUBOAV8YXs"
   },
   "source": [
    "We will learn more about tuples as we go on in this course."
   ]
  },
  {
   "cell_type": "markdown",
   "metadata": {
    "id": "ApNGI6uQ8Tfc"
   },
   "source": [
    "---"
   ]
  },
  {
   "cell_type": "markdown",
   "metadata": {
    "id": "moQmsWpc7rNy"
   },
   "source": [
    "#### Task 3: The `describe()` Function\n",
    "\n",
    "As mentioned in the data description, the dataset contains few `year` values which are less than `860`, and a few `year` values which are greater than `2016`. We need to remove all of them because they were reported wrongly in the Meteorites Landings dataset.\n",
    "\n",
    "But before that, we first need to check the range of values in the `year` column in the `met_df` DataFrame. For this exercise, we can use the `describe()` function. It returns all the necessary values such as the `count`, `min`, `max`, `mean`, `median`, etc. for a series."
   ]
  },
  {
   "cell_type": "markdown",
   "metadata": {
    "id": "HSPAFJR1Kwiv"
   },
   "source": []
  },
  {
   "cell_type": "code",
   "execution_count": null,
   "metadata": {
    "colab": {
     "base_uri": "https://localhost:8080/"
    },
    "id": "BtLbRrJw6tig",
    "outputId": "264db7e8-5387-45aa-83a0-02370e70b4a0"
   },
   "outputs": [
    {
     "data": {
      "text/plain": [
       "count    45428.000000\n",
       "mean      1991.772189\n",
       "std         27.181247\n",
       "min        301.000000\n",
       "25%       1987.000000\n",
       "50%       1998.000000\n",
       "75%       2003.000000\n",
       "max       2501.000000\n",
       "Name: year, dtype: float64"
      ]
     },
     "execution_count": 6,
     "metadata": {},
     "output_type": "execute_result"
    }
   ],
   "source": [
    "# S3.1: Get the descriptive statistics for the 'year' values in the 'met_df' DataFrame. \n",
    "met_df['year'].describe()"
   ]
  },
  {
   "cell_type": "markdown",
   "metadata": {
    "id": "mMxhOMeoOPh0"
   },
   "source": [
    "As you can see, we have got the summary of descriptive statistics for the `met_df['year']` series. You can also spot some of the values against the `25%, 50%`, and `75%` parameters. They are called percentiles (or quartiles). Let's learn each of them one-by-one. Let's start with `25%`.\n",
    "\n",
    "**Percentiles (or Quartiles)**\n",
    "\n",
    "`25%` refers to the \n",
    "$25^{th}$ \n",
    "percentile value. It is also called the **first quartile** value. *The first quartile is defined as the middle number between the smallest number and the median of the dataset.* \n",
    "\n",
    "Let's understand this concept through an example. Consider the following series of numbers:\n",
    "\n",
    "$3, 9, 6, 10, 7, 9, 7, 6, 1$.\n",
    "\n",
    "After arranging them in increasing order, we have the following series:\n",
    "\n",
    "$1, 3, 6, 6, 7, 7, 9, 9, 10$.\n",
    "\n",
    "The median value of the series is \n",
    "$7$ \n",
    "because it is the middle value. So, the \n",
    "$25^{th}$ \n",
    "percentile (or first quartile) value will be the median of the following values:\n",
    "\n",
    "$1, 3, 6, 6, 7$.\n",
    "\n",
    "Therefore, the first quartile or \n",
    "$Q1 = 6$ \n",
    "because \n",
    "$6$ \n",
    "is the median of the above sub-series.\n",
    "\n",
    "**Note:** The median value is also referred to as the **second quartile** (or \n",
    "$50^{th}$ \n",
    "percentile) value.\n",
    "\n",
    "Similarly, `75%` refers to the \n",
    "$75^{th}$ \n",
    "percentile value. It is also called the **third quartile** value. *The third quartile is the middle value between the median and the highest value of the dataset.*\n",
    "\n",
    "So, the $75^{th}$ \n",
    "percentile (or third quartile) value will be the median of the following values:\n",
    "\n",
    "$7, 7, 9, 9, 10$.\n",
    "\n",
    "Therefore, the third quartile or \n",
    "$Q3 = 9$ \n",
    "because \n",
    "$9$ \n",
    "is the median of the above sub-series.\n",
    "\n",
    "*The first, second, and third quartile values together tell the spread of the data. If a majority of the data points are spread apart from each other, then there will be a significantly large difference between the three quartile values whereas if a majority of the data points are close to each other, then all three quartile values will also be close to each other.*\n",
    "\n",
    "In the $3, 9, 6, 10, 7, 9, 7, 6, 1$ series, the first, second, and third quartile values are \n",
    "$Q1=6, Q2=7$, and $Q3=9$ respectively. This means the majority of the data points are quite close to each other which is quite evident from the series.\n",
    "\n",
    "Similarly, in the case of the `year` column in the `met_df` DataFrame, the three quartile values are \n",
    "$Q1=1987, Q2=1998$, and $Q3=2003$\n",
    ". This also suggests that the majority of the `year` values are quite close to each other. \n",
    "\n",
    "In the next class, we will learn how to visualize the spread of the data. For the time being, let's learn what is the standard deviation or `std` which is the next value in the descriptive statistics for the `year` column.\n",
    "\n",
    "\n",
    "**Standard Deviation (or `std`)**\n",
    "\n",
    "*The standard deviation is the square root of the mean of squared deviations.* It tells us how far away a data point is from the mean value. Larger the standard deviation, the farther the data point from the mean value.\n",
    "\n",
    "For the above series, the mean value\n",
    "$(\\mu)$\n",
    "is \n",
    "\n",
    "$\\mu = \\frac{3+9+6+10+7+9+7+6+1}{9} = 6.44$\n",
    "\n",
    "The **deviation** is the difference between the mean value and the individual data points in a series, i.e., \n",
    "\n",
    "$(3 - 6.44), (9 - 6.44), (6 - 6.44), (10 - 6.44), (7 - 6.44), (9 - 6.44), (7 - 6.44), (6 - 6.44), (1 - 6.44)$\n",
    "\n",
    "are the deviations in the series. \n",
    "\n",
    "The **squared deviation** is the square of deviations, i.e., \n",
    "\n",
    "$(3 - 6.44)^2, (9 - 6.44)^2, (6 - 6.44)^2, (10 - 6.44)^2, (7 - 6.44)^2, (9 - 6.44)^2, (7 - 6.44)^2, (6 - 6.44)^2, (1 - 6.44)^2$\n",
    "\n",
    "These are the squared deviations in the series.\n",
    "\n",
    "The **mean of squared deviations (or MSD)** is a sum of all the squared deviations divided by the number number of values, i.e., \n",
    "\n",
    "$\\frac{(3 - 6.44)^2 + (9 - 6.44)^2 + (6 - 6.44)^2 + (10 - 6.44)^2 + (7 - 6.44)^2 + (9 - 6.44)^2 + (7 - 6.44)^2 + (6 - 6.44)^2 + (1 - 6.44)^2}{9}$\n",
    "\n",
    "So, the standard deviation (or \n",
    "$std$\n",
    ") is\n",
    "\n",
    "$\\sqrt{\\frac{(3 - 6.44)^2 + (9 - 6.44)^2 + (6 - 6.44)^2 + (10 - 6.44)^2 + (7 - 6.44)^2 + (9 - 6.44)^2 + (7 - 6.44)^2 + (6 - 6.44)^2 + (1 - 6.44)^2}{9}}$\n",
    "\n",
    "$\\Rightarrow std = 2.92$\n",
    "\n",
    "The significance of the standard deviation is that the numbers, \n",
    "$9, 6, 7, 9, 7, 6$\n",
    ", from the series, lie in the range \n",
    "$(mean - std)$\n",
    "and\n",
    "$(mean + std)$\n",
    ", i.e., \n",
    "$6.44 - 2.92 = 3.52$\n",
    "and\n",
    "$6.44 + 2.92 = 9.36$\n",
    "\n",
    "So, these numbers are closest to the mean value.\n",
    "\n",
    "The remaining three numbers, \n",
    "$1, 3$,\n",
    "and\n",
    "$10$\n",
    "lies in the range\n",
    "$(mean - 2\\times std)$\n",
    "and\n",
    "$(mean + 2\\times std)$. So, these three numbers are farthest from the mean value.\n",
    "\n",
    "We can verify the above calculations by first creating a Pandas series using the `pd.Series()` function and then by applying the `describe()` function on the \n",
    "$3, 9, 6, 10, 7, 9, 7, 6, 1$ \n",
    "series.\n",
    "\n",
    "**Note:** The MSD is also called **variance**. Therefore, \n",
    "$variance = \\sigma^2$\n",
    "where \n",
    "$\\sigma$ \n",
    "is the standard deviation."
   ]
  },
  {
   "cell_type": "code",
   "execution_count": null,
   "metadata": {
    "colab": {
     "base_uri": "https://localhost:8080/"
    },
    "id": "rEIKu7-ArfSu",
    "outputId": "b0bea45c-3b7f-4a43-ca2f-aacf00375239"
   },
   "outputs": [
    {
     "data": {
      "text/plain": [
       "count     9.000000\n",
       "mean      6.444444\n",
       "std       2.920236\n",
       "min       1.000000\n",
       "25%       6.000000\n",
       "50%       7.000000\n",
       "75%       9.000000\n",
       "max      10.000000\n",
       "dtype: float64"
      ]
     },
     "execution_count": 7,
     "metadata": {},
     "output_type": "execute_result"
    }
   ],
   "source": [
    "# S3.2: Create a Pandas series for the [3, 9, 6, 10, 7, 9, 7, 6, 1] list and then get its descriptive statistics.\n",
    "ser = pd.Series([3, 9, 6, 10, 7, 9, 7, 6, 1])\n",
    "ser.describe()"
   ]
  },
  {
   "cell_type": "markdown",
   "metadata": {
    "id": "FP4hgAckFKL2"
   },
   "source": [
    "Hence, we can use `describe()` function to obtain descriptive statistics of any series or column of Pandas DataFrame. Descriptive statistics helps to summarise or describe the characteristics of data using measures like mean and standard deviation.\n"
   ]
  },
  {
   "cell_type": "markdown",
   "metadata": {
    "id": "LpqppvoTciQc"
   },
   "source": [
    "---"
   ]
  },
  {
   "cell_type": "markdown",
   "metadata": {
    "id": "J7e4X3l_cjWL"
   },
   "source": [
    "#### Task 4: The Boxplot\n",
    "\n",
    "Let's visualize the spread of the values in the `year` \n",
    "column in the `met_df` DataFrame. For this, we will create a boxplot. It plots the minimum, first quartile, second quartile, third quartile, and maximum values in the form of a box. \n",
    "\n",
    "<img src='https://student-datasets-bucket.s3.ap-south-1.amazonaws.com/images/boxplot_description.png' width='800'>\n",
    "\n",
    "In a boxplot:\n",
    "\n",
    "1. The leftmost vertical line denotes the \n",
    "$Q1 - 1.5 \\times IQR$ \n",
    "value. Where, \n",
    "    \n",
    "    - $IQR$ \n",
    "      stands for *inter-quartile range*. Its value is equal to \n",
    "      $Q3 - Q1$.\n",
    "\n",
    "    - $Q1$ \n",
    "      denotes the first quartile value.\n",
    "\n",
    "    - $Q3$ \n",
    "      denotes the third quartile value.\n",
    "\n",
    "2. The left edge of the rectangle denotes the first quartile\n",
    "   $(Q1)$\n",
    "   value.\n",
    "\n",
    "3. The middle edge in the rectangle denotes the median \n",
    "   $(Q2)$ \n",
    "   value.\n",
    "\n",
    "4. The right edge of the rectangle denotes the third quartile \n",
    "   $(Q3)$ \n",
    "   value.\n",
    "\n",
    "5. The rightmost vertical line denotes the \n",
    "   $Q3 + 1.5 \\times IQR$ \n",
    "   value in the series.\n",
    "\n",
    "6. The two horizontal lines are called whiskers. The length of these whiskers represents the number of values lying between the \n",
    "$Q1$ and $Q1 - 1.5 \\times IQR$ \n",
    "values and the \n",
    "$Q3$ \n",
    "and \n",
    "$Q3 + 1.5 \\times IQR$ \n",
    "values. **The smaller the length, the number of values will be few. The larger the length, the number of values will be more.**\n",
    "\n",
    "\n",
    "\n",
    "7. The length of the rectangle also represents the number of values lying between the first and third quartile values.\n",
    "\n",
    "8. The filled circles beyond the vertical lines denote the **outliers**. The outliers in a dataset are those values that are unusually too large or too small. For example in the series: \n",
    "\n",
    "$$1, 5, 2, 6, 4, 8, 5, 7, 9, 3, 121109, 459882$$\n",
    "\n",
    "   The numbers $121109, 459882$ are unusually high values compared to the majority of values.\n",
    "\n",
    "To create a boxplot, we will use the `boxplot()` function from the `seaborn` library. The `seaborn` is another library for data visualization. It is built on top of the `matplotlib.pyplot` library. For all practical purposes, the `seaborn` library is an extension to the `matplotlib.pyplot` library. "
   ]
  },
  {
   "cell_type": "code",
   "execution_count": null,
   "metadata": {
    "colab": {
     "base_uri": "https://localhost:8080/",
     "height": 208
    },
    "id": "VCd9bBm_eF3C",
    "outputId": "31282452-7442-4067-a642-f017019c19e4"
   },
   "outputs": [
    {
     "name": "stderr",
     "output_type": "stream",
     "text": [
      "/usr/local/lib/python3.7/dist-packages/seaborn/_decorators.py:43: FutureWarning: Pass the following variable as a keyword arg: x. From version 0.12, the only valid positional argument will be `data`, and passing other arguments without an explicit keyword will result in an error or misinterpretation.\n",
      "  FutureWarning\n"
     ]
    },
    {
     "data": {
      "image/png": "[encoded data removed]",
      "text/plain": [
       "<Figure size 1440x144 with 1 Axes>"
      ]
     },
     "metadata": {
      "needs_background": "light"
     },
     "output_type": "display_data"
    }
   ],
   "source": [
    "# S4.1: Create a boxplot for the 'pd_series'.\n",
    "# Import the 'seaborn' library. \n",
    "import seaborn as sns\n",
    "plt.figure(figsize=(20,2))\n",
    "sns.boxplot(ser)\n",
    "plt.show()"
   ]
  },
  {
   "cell_type": "markdown",
   "metadata": {
    "id": "kWVB2hmQedQH"
   },
   "source": [
    "As you can see, the boxplot helps us in knowing the spread of the data. Now, you create a boxplot for the `year` column in the `met_df` DataFrame to see the spread of the `year` values:"
   ]
  },
  {
   "cell_type": "code",
   "execution_count": null,
   "metadata": {
    "colab": {
     "base_uri": "https://localhost:8080/",
     "height": 222
    },
    "id": "WG15gn0LdDvd",
    "outputId": "09ffef94-855d-4a8a-e7dc-656ead043c4f"
   },
   "outputs": [
    {
     "name": "stderr",
     "output_type": "stream",
     "text": [
      "/usr/local/lib/python3.7/dist-packages/seaborn/_decorators.py:43: FutureWarning: Pass the following variable as a keyword arg: x. From version 0.12, the only valid positional argument will be `data`, and passing other arguments without an explicit keyword will result in an error or misinterpretation.\n",
      "  FutureWarning\n"
     ]
    },
    {
     "data": {
      "image/png": "[encoded data removed]",
      "text/plain": [
       "<Figure size 1440x144 with 1 Axes>"
      ]
     },
     "metadata": {
      "needs_background": "light"
     },
     "output_type": "display_data"
    }
   ],
   "source": [
    " # S4.2: Create a boxplot for the 'year' values.\n",
    "plt.figure(figsize=(20,2))\n",
    "sns.boxplot(met_df['year'])\n",
    "plt.show()"
   ]
  },
  {
   "cell_type": "markdown",
   "metadata": {
    "id": "kPzgOYZLd7qD"
   },
   "source": [
    "As you can see, the boxplot for the `year` column in the `met_df` DataFrame is tightly squeezed. It shows that most of the year values are very close to each other. Specifically, most of the year values are roughly around the year `2000`.\n",
    "\n",
    "Similarly, you create a boxplot for the `mass` column in the `met_df` DataFrame to observe the spread of the values:"
   ]
  },
  {
   "cell_type": "code",
   "execution_count": null,
   "metadata": {
    "colab": {
     "base_uri": "https://localhost:8080/",
     "height": 222
    },
    "id": "_xxHFK0XVPqD",
    "outputId": "8fb0b053-1d3e-4e20-de64-be25d92868d1"
   },
   "outputs": [
    {
     "name": "stderr",
     "output_type": "stream",
     "text": [
      "/usr/local/lib/python3.7/dist-packages/seaborn/_decorators.py:43: FutureWarning: Pass the following variable as a keyword arg: x. From version 0.12, the only valid positional argument will be `data`, and passing other arguments without an explicit keyword will result in an error or misinterpretation.\n",
      "  FutureWarning\n"
     ]
    },
    {
     "data": {
      "image/png": "[encoded data removed]",
      "text/plain": [
       "<Figure size 1440x144 with 1 Axes>"
      ]
     },
     "metadata": {
      "needs_background": "light"
     },
     "output_type": "display_data"
    }
   ],
   "source": [
    "# S4.3: Create a boxplot for the 'mass' column in the 'met_df' DataFrame.\n",
    "plt.figure(figsize=(20,2))\n",
    "sns.boxplot(met_df['mass'])\n",
    "plt.show()"
   ]
  },
  {
   "cell_type": "markdown",
   "metadata": {
    "id": "V_eOOohaVfdx"
   },
   "source": [
    "From the plot, we can infer that most of the `mass` values are extremely squeezed around zero because the box has practically become a vertical line. Create a descriptive statistics summary for the `mass` column to further observe the variation in the `mass` values."
   ]
  },
  {
   "cell_type": "code",
   "execution_count": null,
   "metadata": {
    "colab": {
     "base_uri": "https://localhost:8080/"
    },
    "id": "SEAPaZBZWF8C",
    "outputId": "1e047678-8299-46dc-f3ca-da328405e34a"
   },
   "outputs": [
    {
     "data": {
      "text/plain": [
       "count    4.558500e+04\n",
       "mean     1.327808e+04\n",
       "std      5.749889e+05\n",
       "min      0.000000e+00\n",
       "25%      7.200000e+00\n",
       "50%      3.260000e+01\n",
       "75%      2.026000e+02\n",
       "max      6.000000e+07\n",
       "Name: mass, dtype: float64"
      ]
     },
     "execution_count": 12,
     "metadata": {},
     "output_type": "execute_result"
    }
   ],
   "source": [
    "# S4.4: Create a descriptive statistics summary for the 'mass' column.\n",
    "met_df['mass'].describe()"
   ]
  },
  {
   "cell_type": "markdown",
   "metadata": {
    "id": "fSyrQH3eWZLm"
   },
   "source": [
    "As you can see, the `min = 0` grams, `25% = 7.2` grams, `50% = 32.6` grams, and `75% = 202.6` grams. These values are not so close to each other. But because the other `mass` values are very high (especially the maximum mass value is `60,000` kg which is a lot compared to most of the `mass` values), the boxplot is extremely squeezed.\n",
    "\n",
    "In the next class, we will learn how to slice a DataFrame to get a specific set of rows."
   ]
  },
  {
   "cell_type": "markdown",
   "metadata": {
    "id": "3qQvU1vDd643"
   },
   "source": [
    "---"
   ]
  }
 ],
 "metadata": {
  "colab": {
   "collapsed_sections": [],
   "name": "Copy of 2021-11-11_Darshan_Lesson19",
   "provenance": []
  },
  "kernelspec": {
   "display_name": "Python 3",
   "language": "python",
   "name": "python3"
  },
  "language_info": {
   "codemirror_mode": {
    "name": "ipython",
    "version": 3
   },
   "file_extension": ".py",
   "mimetype": "text/x-python",
   "name": "python",
   "nbconvert_exporter": "python",
   "pygments_lexer": "ipython3",
   "version": "3.8.5"
  }
 },
 "nbformat": 4,
 "nbformat_minor": 1
}
