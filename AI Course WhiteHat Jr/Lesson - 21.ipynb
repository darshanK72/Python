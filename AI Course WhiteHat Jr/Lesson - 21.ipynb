{
  "nbformat": 4,
  "nbformat_minor": 0,
  "metadata": {
    "colab": {
      "name": "Copy of 2021-11-15_Darshan_Lesson21",
      "provenance": [],
      "collapsed_sections": []
    },
    "kernelspec": {
      "name": "python3",
      "display_name": "Python 3"
    }
  },
  "cells": [
    {
      "cell_type": "markdown",
      "metadata": {
        "id": "aMbswDYFUt_1"
      },
      "source": [
        "# Lesson 21: Treating Missing Values"
      ]
    },
    {
      "cell_type": "markdown",
      "metadata": {
        "id": "wR7MjEMiPcQ7"
      },
      "source": [
        "\n",
        "|Particulars|Description|\n",
        "|-|-|\n",
        "|**Topics Covered**|Checking Missing Values|\n",
        "||The `index` keyword|\n",
        "||The `loc[]` function|\n",
        "|||\n",
        "|**Lesson Description**|In this class, a student will learn to treat the missing values in a DataFrame.|\n",
        "|||\n",
        "|**Lesson Duration**|45 minutes|\n",
        "|||\n",
        "|**Learning Outcomes**|Find the columns or rows containing the missing values.|\n",
        "||Compute the appropriate value to replace it with the missing values.|\n",
        "||Verify that the replaced value(s) do not disrupt the data.|\n",
        "\n",
        "\n",
        "\n",
        "\n"
      ]
    },
    {
      "cell_type": "markdown",
      "metadata": {
        "id": "nvsYrS_0P_Jl"
      },
      "source": [
        "---"
      ]
    },
    {
      "cell_type": "markdown",
      "metadata": {
        "id": "dmruqgPqb9BH"
      },
      "source": [
        "### Teacher-Student Tasks\n",
        "\n",
        "In the previous class, we learned how to slice a DataFrame by some logical conditions and also by using the Ampersand logical operator to combine two conditions as part of the data cleaning step. In this class, we will continue with the data cleaning process so that later we can make cartograms and distribution plots.\n",
        "\n",
        "While treating the missing values we need to keep in mind two things:\n",
        "\n",
        "1. Whether it is required to replace the missing values with some new most appropriate value. In some specific problem statements, the missing values themselves act as a critical value. \n",
        "\n",
        "2. The replaced value should not disrupt the original data otherwise, the actual results will get altered. Our logic of replacing the missing values with a new value must be consistent with the problem statement.\n",
        "\n",
        "Let's quickly rush through the activities we covered in the previous class and begin this class from **Task 1: Check the Missing Values** section.\n",
        "\n"
      ]
    },
    {
      "cell_type": "markdown",
      "metadata": {
        "id": "0btx_ehOLDK5"
      },
      "source": [
        "---"
      ]
    },
    {
      "cell_type": "markdown",
      "metadata": {
        "id": "f9Nj91YqGsNf"
      },
      "source": [
        "#### The Dataset Variables\n",
        "\n",
        "The dataset contains the following variables:\n",
        "\n",
        "1. `name`: The name of the place where a meteorite was found or observed.\n",
        "\n",
        "2. `id`: A unique identifier for a meteorite.\n",
        "\n",
        "3. `nametype`: One of the following:\n",
        "    \n",
        "    - `valid`: A typical meteorite.\n",
        "    \n",
        "    - `relict`: A meteorite that has been highly degraded by the weather on Earth.\n",
        "\n",
        "4. `recclass`: The class of the meteorite; one of a large number of classes based on physical, chemical, and other characteristics. \n",
        "\n",
        "5. `mass:` The mass of the meteorite, in grams.\n",
        "\n",
        "6. `fall`: Whether the meteorite was seen falling, or was discovered after its impact; one of the following:\n",
        "\n",
        "    - `Fell`: The meteorite's fall was observed.\n",
        "    \n",
        "    - `Found`: The meteorite's fall was not observed.\n",
        "\n",
        "7. `year`: The year the meteorite fell, or the year it was found (depending on the value of fell).\n",
        "\n",
        "8. `reclat`: The latitude of the meteorite's landing.\n",
        "\n",
        "9. `reclong`: The longitude of the meteorite's landing.\n",
        "\n",
        "10. `GeoLocation`: A parentheses-enclose, comma-separated tuple that combines reclat and reclong.\n"
      ]
    },
    {
      "cell_type": "markdown",
      "metadata": {
        "id": "VAwbB-dJGriU"
      },
      "source": [
        "---"
      ]
    },
    {
      "cell_type": "markdown",
      "metadata": {
        "id": "DoShzic97iBl"
      },
      "source": [
        "#### Loading the Dataset\n",
        "\n",
        "Dataset link: https://student-datasets-bucket.s3.ap-south-1.amazonaws.com/whitehat-ds-datasets/meteorite-landings/meteorite-landings.csv\n",
        "\n",
        "**Dataset Credits:** https://www.kaggle.com/nasa/meteorite-landings"
      ]
    },
    {
      "cell_type": "code",
      "metadata": {
        "id": "ThLLbqIzUd9f",
        "colab": {
          "base_uri": "https://localhost:8080/",
          "height": 205
        },
        "outputId": "3a7b9996-c6de-49a3-9592-5a89d0322b0b"
      },
      "source": [
        "# Import the necessary libraries for this class and create a DataFrame.\n",
        "import numpy as np\n",
        "import pandas as pd\n",
        "import matplotlib.pyplot as plt\n",
        "\n",
        "met_df = pd.read_csv('https://student-datasets-bucket.s3.ap-south-1.amazonaws.com/whitehat-ds-datasets/meteorite-landings/meteorite-landings.csv')\n",
        "met_df.head()"
      ],
      "execution_count": null,
      "outputs": [
        {
          "output_type": "execute_result",
          "data": {
            "text/html": [
              "<div>\n",
              "<style scoped>\n",
              "    .dataframe tbody tr th:only-of-type {\n",
              "        vertical-align: middle;\n",
              "    }\n",
              "\n",
              "    .dataframe tbody tr th {\n",
              "        vertical-align: top;\n",
              "    }\n",
              "\n",
              "    .dataframe thead th {\n",
              "        text-align: right;\n",
              "    }\n",
              "</style>\n",
              "<table border=\"1\" class=\"dataframe\">\n",
              "  <thead>\n",
              "    <tr style=\"text-align: right;\">\n",
              "      <th></th>\n",
              "      <th>name</th>\n",
              "      <th>id</th>\n",
              "      <th>nametype</th>\n",
              "      <th>recclass</th>\n",
              "      <th>mass</th>\n",
              "      <th>fall</th>\n",
              "      <th>year</th>\n",
              "      <th>reclat</th>\n",
              "      <th>reclong</th>\n",
              "      <th>GeoLocation</th>\n",
              "    </tr>\n",
              "  </thead>\n",
              "  <tbody>\n",
              "    <tr>\n",
              "      <th>0</th>\n",
              "      <td>Aachen</td>\n",
              "      <td>1</td>\n",
              "      <td>Valid</td>\n",
              "      <td>L5</td>\n",
              "      <td>21.0</td>\n",
              "      <td>Fell</td>\n",
              "      <td>1880.0</td>\n",
              "      <td>50.77500</td>\n",
              "      <td>6.08333</td>\n",
              "      <td>(50.775000, 6.083330)</td>\n",
              "    </tr>\n",
              "    <tr>\n",
              "      <th>1</th>\n",
              "      <td>Aarhus</td>\n",
              "      <td>2</td>\n",
              "      <td>Valid</td>\n",
              "      <td>H6</td>\n",
              "      <td>720.0</td>\n",
              "      <td>Fell</td>\n",
              "      <td>1951.0</td>\n",
              "      <td>56.18333</td>\n",
              "      <td>10.23333</td>\n",
              "      <td>(56.183330, 10.233330)</td>\n",
              "    </tr>\n",
              "    <tr>\n",
              "      <th>2</th>\n",
              "      <td>Abee</td>\n",
              "      <td>6</td>\n",
              "      <td>Valid</td>\n",
              "      <td>EH4</td>\n",
              "      <td>107000.0</td>\n",
              "      <td>Fell</td>\n",
              "      <td>1952.0</td>\n",
              "      <td>54.21667</td>\n",
              "      <td>-113.00000</td>\n",
              "      <td>(54.216670, -113.000000)</td>\n",
              "    </tr>\n",
              "    <tr>\n",
              "      <th>3</th>\n",
              "      <td>Acapulco</td>\n",
              "      <td>10</td>\n",
              "      <td>Valid</td>\n",
              "      <td>Acapulcoite</td>\n",
              "      <td>1914.0</td>\n",
              "      <td>Fell</td>\n",
              "      <td>1976.0</td>\n",
              "      <td>16.88333</td>\n",
              "      <td>-99.90000</td>\n",
              "      <td>(16.883330, -99.900000)</td>\n",
              "    </tr>\n",
              "    <tr>\n",
              "      <th>4</th>\n",
              "      <td>Achiras</td>\n",
              "      <td>370</td>\n",
              "      <td>Valid</td>\n",
              "      <td>L6</td>\n",
              "      <td>780.0</td>\n",
              "      <td>Fell</td>\n",
              "      <td>1902.0</td>\n",
              "      <td>-33.16667</td>\n",
              "      <td>-64.95000</td>\n",
              "      <td>(-33.166670, -64.950000)</td>\n",
              "    </tr>\n",
              "  </tbody>\n",
              "</table>\n",
              "</div>"
            ],
            "text/plain": [
              "       name   id nametype  ...    reclat    reclong               GeoLocation\n",
              "0    Aachen    1    Valid  ...  50.77500    6.08333     (50.775000, 6.083330)\n",
              "1    Aarhus    2    Valid  ...  56.18333   10.23333    (56.183330, 10.233330)\n",
              "2      Abee    6    Valid  ...  54.21667 -113.00000  (54.216670, -113.000000)\n",
              "3  Acapulco   10    Valid  ...  16.88333  -99.90000   (16.883330, -99.900000)\n",
              "4   Achiras  370    Valid  ... -33.16667  -64.95000  (-33.166670, -64.950000)\n",
              "\n",
              "[5 rows x 10 columns]"
            ]
          },
          "metadata": {},
          "execution_count": 1
        }
      ]
    },
    {
      "cell_type": "code",
      "metadata": {
        "id": "ErR9tKrV7l1R",
        "colab": {
          "base_uri": "https://localhost:8080/"
        },
        "outputId": "a656b13d-b833-41ec-b382-680c053de1b7"
      },
      "source": [
        "# Find the number of rows and columns in the DataFrame. \n",
        "met_df.shape"
      ],
      "execution_count": null,
      "outputs": [
        {
          "output_type": "execute_result",
          "data": {
            "text/plain": [
              "(45716, 10)"
            ]
          },
          "metadata": {},
          "execution_count": 2
        }
      ]
    },
    {
      "cell_type": "markdown",
      "metadata": {
        "id": "ApNGI6uQ8Tfc"
      },
      "source": [
        "---"
      ]
    },
    {
      "cell_type": "markdown",
      "metadata": {
        "id": "moQmsWpc7rNy"
      },
      "source": [
        "#### The `describe()` Function\n"
      ]
    },
    {
      "cell_type": "code",
      "metadata": {
        "id": "BtLbRrJw6tig",
        "colab": {
          "base_uri": "https://localhost:8080/"
        },
        "outputId": "323b78bc-8d35-462a-da00-25f869f0ba14"
      },
      "source": [
        "# Descriptive statistics summary of the 'year' values in the 'met_df' DataFrame. \n",
        "met_df['year'].describe()"
      ],
      "execution_count": null,
      "outputs": [
        {
          "output_type": "execute_result",
          "data": {
            "text/plain": [
              "count    45428.000000\n",
              "mean      1991.772189\n",
              "std         27.181247\n",
              "min        301.000000\n",
              "25%       1987.000000\n",
              "50%       1998.000000\n",
              "75%       2003.000000\n",
              "max       2501.000000\n",
              "Name: year, dtype: float64"
            ]
          },
          "metadata": {},
          "execution_count": 3
        }
      ]
    },
    {
      "cell_type": "markdown",
      "metadata": {
        "id": "LpqppvoTciQc"
      },
      "source": [
        "---"
      ]
    },
    {
      "cell_type": "markdown",
      "metadata": {
        "id": "hOHcB-F5Qg1D"
      },
      "source": [
        "#### Slicing a DataFrame and the Ampersand (`&`) Logical Operator\n",
        "\n",
        "**Syntax:** `data_frame[condition1 & condition2 & condition3 ... conditionN]`\n",
        "\n",
        "Where `N` is the total number of conditions to be applied.\n"
      ]
    },
    {
      "cell_type": "code",
      "metadata": {
        "id": "sd2GEYT-PkcH",
        "colab": {
          "base_uri": "https://localhost:8080/",
          "height": 422
        },
        "outputId": "b4a05db0-08ee-4207-bb1d-57b32338d040"
      },
      "source": [
        "# Rows containing the year values less than 860 and greater than 2016.\n",
        "correct_years_df = met_df[(met_df['year'] >= 860) & (met_df['year'] <= 2016)]\n",
        "correct_years_df"
      ],
      "execution_count": null,
      "outputs": [
        {
          "output_type": "execute_result",
          "data": {
            "text/html": [
              "<div>\n",
              "<style scoped>\n",
              "    .dataframe tbody tr th:only-of-type {\n",
              "        vertical-align: middle;\n",
              "    }\n",
              "\n",
              "    .dataframe tbody tr th {\n",
              "        vertical-align: top;\n",
              "    }\n",
              "\n",
              "    .dataframe thead th {\n",
              "        text-align: right;\n",
              "    }\n",
              "</style>\n",
              "<table border=\"1\" class=\"dataframe\">\n",
              "  <thead>\n",
              "    <tr style=\"text-align: right;\">\n",
              "      <th></th>\n",
              "      <th>name</th>\n",
              "      <th>id</th>\n",
              "      <th>nametype</th>\n",
              "      <th>recclass</th>\n",
              "      <th>mass</th>\n",
              "      <th>fall</th>\n",
              "      <th>year</th>\n",
              "      <th>reclat</th>\n",
              "      <th>reclong</th>\n",
              "      <th>GeoLocation</th>\n",
              "    </tr>\n",
              "  </thead>\n",
              "  <tbody>\n",
              "    <tr>\n",
              "      <th>0</th>\n",
              "      <td>Aachen</td>\n",
              "      <td>1</td>\n",
              "      <td>Valid</td>\n",
              "      <td>L5</td>\n",
              "      <td>21.0</td>\n",
              "      <td>Fell</td>\n",
              "      <td>1880.0</td>\n",
              "      <td>50.77500</td>\n",
              "      <td>6.08333</td>\n",
              "      <td>(50.775000, 6.083330)</td>\n",
              "    </tr>\n",
              "    <tr>\n",
              "      <th>1</th>\n",
              "      <td>Aarhus</td>\n",
              "      <td>2</td>\n",
              "      <td>Valid</td>\n",
              "      <td>H6</td>\n",
              "      <td>720.0</td>\n",
              "      <td>Fell</td>\n",
              "      <td>1951.0</td>\n",
              "      <td>56.18333</td>\n",
              "      <td>10.23333</td>\n",
              "      <td>(56.183330, 10.233330)</td>\n",
              "    </tr>\n",
              "    <tr>\n",
              "      <th>2</th>\n",
              "      <td>Abee</td>\n",
              "      <td>6</td>\n",
              "      <td>Valid</td>\n",
              "      <td>EH4</td>\n",
              "      <td>107000.0</td>\n",
              "      <td>Fell</td>\n",
              "      <td>1952.0</td>\n",
              "      <td>54.21667</td>\n",
              "      <td>-113.00000</td>\n",
              "      <td>(54.216670, -113.000000)</td>\n",
              "    </tr>\n",
              "    <tr>\n",
              "      <th>3</th>\n",
              "      <td>Acapulco</td>\n",
              "      <td>10</td>\n",
              "      <td>Valid</td>\n",
              "      <td>Acapulcoite</td>\n",
              "      <td>1914.0</td>\n",
              "      <td>Fell</td>\n",
              "      <td>1976.0</td>\n",
              "      <td>16.88333</td>\n",
              "      <td>-99.90000</td>\n",
              "      <td>(16.883330, -99.900000)</td>\n",
              "    </tr>\n",
              "    <tr>\n",
              "      <th>4</th>\n",
              "      <td>Achiras</td>\n",
              "      <td>370</td>\n",
              "      <td>Valid</td>\n",
              "      <td>L6</td>\n",
              "      <td>780.0</td>\n",
              "      <td>Fell</td>\n",
              "      <td>1902.0</td>\n",
              "      <td>-33.16667</td>\n",
              "      <td>-64.95000</td>\n",
              "      <td>(-33.166670, -64.950000)</td>\n",
              "    </tr>\n",
              "    <tr>\n",
              "      <th>...</th>\n",
              "      <td>...</td>\n",
              "      <td>...</td>\n",
              "      <td>...</td>\n",
              "      <td>...</td>\n",
              "      <td>...</td>\n",
              "      <td>...</td>\n",
              "      <td>...</td>\n",
              "      <td>...</td>\n",
              "      <td>...</td>\n",
              "      <td>...</td>\n",
              "    </tr>\n",
              "    <tr>\n",
              "      <th>45711</th>\n",
              "      <td>Zillah 002</td>\n",
              "      <td>31356</td>\n",
              "      <td>Valid</td>\n",
              "      <td>Eucrite</td>\n",
              "      <td>172.0</td>\n",
              "      <td>Found</td>\n",
              "      <td>1990.0</td>\n",
              "      <td>29.03700</td>\n",
              "      <td>17.01850</td>\n",
              "      <td>(29.037000, 17.018500)</td>\n",
              "    </tr>\n",
              "    <tr>\n",
              "      <th>45712</th>\n",
              "      <td>Zinder</td>\n",
              "      <td>30409</td>\n",
              "      <td>Valid</td>\n",
              "      <td>Pallasite, ungrouped</td>\n",
              "      <td>46.0</td>\n",
              "      <td>Found</td>\n",
              "      <td>1999.0</td>\n",
              "      <td>13.78333</td>\n",
              "      <td>8.96667</td>\n",
              "      <td>(13.783330, 8.966670)</td>\n",
              "    </tr>\n",
              "    <tr>\n",
              "      <th>45713</th>\n",
              "      <td>Zlin</td>\n",
              "      <td>30410</td>\n",
              "      <td>Valid</td>\n",
              "      <td>H4</td>\n",
              "      <td>3.3</td>\n",
              "      <td>Found</td>\n",
              "      <td>1939.0</td>\n",
              "      <td>49.25000</td>\n",
              "      <td>17.66667</td>\n",
              "      <td>(49.250000, 17.666670)</td>\n",
              "    </tr>\n",
              "    <tr>\n",
              "      <th>45714</th>\n",
              "      <td>Zubkovsky</td>\n",
              "      <td>31357</td>\n",
              "      <td>Valid</td>\n",
              "      <td>L6</td>\n",
              "      <td>2167.0</td>\n",
              "      <td>Found</td>\n",
              "      <td>2003.0</td>\n",
              "      <td>49.78917</td>\n",
              "      <td>41.50460</td>\n",
              "      <td>(49.789170, 41.504600)</td>\n",
              "    </tr>\n",
              "    <tr>\n",
              "      <th>45715</th>\n",
              "      <td>Zulu Queen</td>\n",
              "      <td>30414</td>\n",
              "      <td>Valid</td>\n",
              "      <td>L3.7</td>\n",
              "      <td>200.0</td>\n",
              "      <td>Found</td>\n",
              "      <td>1976.0</td>\n",
              "      <td>33.98333</td>\n",
              "      <td>-115.68333</td>\n",
              "      <td>(33.983330, -115.683330)</td>\n",
              "    </tr>\n",
              "  </tbody>\n",
              "</table>\n",
              "<p>45424 rows × 10 columns</p>\n",
              "</div>"
            ],
            "text/plain": [
              "             name     id  ...    reclong               GeoLocation\n",
              "0          Aachen      1  ...    6.08333     (50.775000, 6.083330)\n",
              "1          Aarhus      2  ...   10.23333    (56.183330, 10.233330)\n",
              "2            Abee      6  ... -113.00000  (54.216670, -113.000000)\n",
              "3        Acapulco     10  ...  -99.90000   (16.883330, -99.900000)\n",
              "4         Achiras    370  ...  -64.95000  (-33.166670, -64.950000)\n",
              "...           ...    ...  ...        ...                       ...\n",
              "45711  Zillah 002  31356  ...   17.01850    (29.037000, 17.018500)\n",
              "45712      Zinder  30409  ...    8.96667     (13.783330, 8.966670)\n",
              "45713        Zlin  30410  ...   17.66667    (49.250000, 17.666670)\n",
              "45714   Zubkovsky  31357  ...   41.50460    (49.789170, 41.504600)\n",
              "45715  Zulu Queen  30414  ... -115.68333  (33.983330, -115.683330)\n",
              "\n",
              "[45424 rows x 10 columns]"
            ]
          },
          "metadata": {},
          "execution_count": 4
        }
      ]
    },
    {
      "cell_type": "markdown",
      "metadata": {
        "id": "lqgL71yRkbCu"
      },
      "source": [
        "\n",
        "Hence, we can use the ampersand logical operator (`&`) to specify more than one condition in order to slice a DataFrame."
      ]
    },
    {
      "cell_type": "markdown",
      "metadata": {
        "id": "mAHPBr8hmtGf"
      },
      "source": [
        "---"
      ]
    },
    {
      "cell_type": "markdown",
      "metadata": {
        "id": "1YQ_uZiV9lT6"
      },
      "source": [
        "#### Removing the Invalid `reclong` Values\n"
      ]
    },
    {
      "cell_type": "code",
      "metadata": {
        "id": "PMfE822YJWpc",
        "colab": {
          "base_uri": "https://localhost:8080/",
          "height": 422
        },
        "outputId": "f9089ef7-203f-4f9b-f589-65386785d240"
      },
      "source": [
        "# Rows having the 'reclong' values greater than or equal to -180 degrees and less than or equal to 180 degrees.\n",
        "correct_long_df = correct_years_df[(correct_years_df['reclong'] >= -180) & (correct_years_df['reclong'] <= 180)]\n",
        "correct_long_df"
      ],
      "execution_count": null,
      "outputs": [
        {
          "output_type": "execute_result",
          "data": {
            "text/html": [
              "<div>\n",
              "<style scoped>\n",
              "    .dataframe tbody tr th:only-of-type {\n",
              "        vertical-align: middle;\n",
              "    }\n",
              "\n",
              "    .dataframe tbody tr th {\n",
              "        vertical-align: top;\n",
              "    }\n",
              "\n",
              "    .dataframe thead th {\n",
              "        text-align: right;\n",
              "    }\n",
              "</style>\n",
              "<table border=\"1\" class=\"dataframe\">\n",
              "  <thead>\n",
              "    <tr style=\"text-align: right;\">\n",
              "      <th></th>\n",
              "      <th>name</th>\n",
              "      <th>id</th>\n",
              "      <th>nametype</th>\n",
              "      <th>recclass</th>\n",
              "      <th>mass</th>\n",
              "      <th>fall</th>\n",
              "      <th>year</th>\n",
              "      <th>reclat</th>\n",
              "      <th>reclong</th>\n",
              "      <th>GeoLocation</th>\n",
              "    </tr>\n",
              "  </thead>\n",
              "  <tbody>\n",
              "    <tr>\n",
              "      <th>0</th>\n",
              "      <td>Aachen</td>\n",
              "      <td>1</td>\n",
              "      <td>Valid</td>\n",
              "      <td>L5</td>\n",
              "      <td>21.0</td>\n",
              "      <td>Fell</td>\n",
              "      <td>1880.0</td>\n",
              "      <td>50.77500</td>\n",
              "      <td>6.08333</td>\n",
              "      <td>(50.775000, 6.083330)</td>\n",
              "    </tr>\n",
              "    <tr>\n",
              "      <th>1</th>\n",
              "      <td>Aarhus</td>\n",
              "      <td>2</td>\n",
              "      <td>Valid</td>\n",
              "      <td>H6</td>\n",
              "      <td>720.0</td>\n",
              "      <td>Fell</td>\n",
              "      <td>1951.0</td>\n",
              "      <td>56.18333</td>\n",
              "      <td>10.23333</td>\n",
              "      <td>(56.183330, 10.233330)</td>\n",
              "    </tr>\n",
              "    <tr>\n",
              "      <th>2</th>\n",
              "      <td>Abee</td>\n",
              "      <td>6</td>\n",
              "      <td>Valid</td>\n",
              "      <td>EH4</td>\n",
              "      <td>107000.0</td>\n",
              "      <td>Fell</td>\n",
              "      <td>1952.0</td>\n",
              "      <td>54.21667</td>\n",
              "      <td>-113.00000</td>\n",
              "      <td>(54.216670, -113.000000)</td>\n",
              "    </tr>\n",
              "    <tr>\n",
              "      <th>3</th>\n",
              "      <td>Acapulco</td>\n",
              "      <td>10</td>\n",
              "      <td>Valid</td>\n",
              "      <td>Acapulcoite</td>\n",
              "      <td>1914.0</td>\n",
              "      <td>Fell</td>\n",
              "      <td>1976.0</td>\n",
              "      <td>16.88333</td>\n",
              "      <td>-99.90000</td>\n",
              "      <td>(16.883330, -99.900000)</td>\n",
              "    </tr>\n",
              "    <tr>\n",
              "      <th>4</th>\n",
              "      <td>Achiras</td>\n",
              "      <td>370</td>\n",
              "      <td>Valid</td>\n",
              "      <td>L6</td>\n",
              "      <td>780.0</td>\n",
              "      <td>Fell</td>\n",
              "      <td>1902.0</td>\n",
              "      <td>-33.16667</td>\n",
              "      <td>-64.95000</td>\n",
              "      <td>(-33.166670, -64.950000)</td>\n",
              "    </tr>\n",
              "    <tr>\n",
              "      <th>...</th>\n",
              "      <td>...</td>\n",
              "      <td>...</td>\n",
              "      <td>...</td>\n",
              "      <td>...</td>\n",
              "      <td>...</td>\n",
              "      <td>...</td>\n",
              "      <td>...</td>\n",
              "      <td>...</td>\n",
              "      <td>...</td>\n",
              "      <td>...</td>\n",
              "    </tr>\n",
              "    <tr>\n",
              "      <th>45711</th>\n",
              "      <td>Zillah 002</td>\n",
              "      <td>31356</td>\n",
              "      <td>Valid</td>\n",
              "      <td>Eucrite</td>\n",
              "      <td>172.0</td>\n",
              "      <td>Found</td>\n",
              "      <td>1990.0</td>\n",
              "      <td>29.03700</td>\n",
              "      <td>17.01850</td>\n",
              "      <td>(29.037000, 17.018500)</td>\n",
              "    </tr>\n",
              "    <tr>\n",
              "      <th>45712</th>\n",
              "      <td>Zinder</td>\n",
              "      <td>30409</td>\n",
              "      <td>Valid</td>\n",
              "      <td>Pallasite, ungrouped</td>\n",
              "      <td>46.0</td>\n",
              "      <td>Found</td>\n",
              "      <td>1999.0</td>\n",
              "      <td>13.78333</td>\n",
              "      <td>8.96667</td>\n",
              "      <td>(13.783330, 8.966670)</td>\n",
              "    </tr>\n",
              "    <tr>\n",
              "      <th>45713</th>\n",
              "      <td>Zlin</td>\n",
              "      <td>30410</td>\n",
              "      <td>Valid</td>\n",
              "      <td>H4</td>\n",
              "      <td>3.3</td>\n",
              "      <td>Found</td>\n",
              "      <td>1939.0</td>\n",
              "      <td>49.25000</td>\n",
              "      <td>17.66667</td>\n",
              "      <td>(49.250000, 17.666670)</td>\n",
              "    </tr>\n",
              "    <tr>\n",
              "      <th>45714</th>\n",
              "      <td>Zubkovsky</td>\n",
              "      <td>31357</td>\n",
              "      <td>Valid</td>\n",
              "      <td>L6</td>\n",
              "      <td>2167.0</td>\n",
              "      <td>Found</td>\n",
              "      <td>2003.0</td>\n",
              "      <td>49.78917</td>\n",
              "      <td>41.50460</td>\n",
              "      <td>(49.789170, 41.504600)</td>\n",
              "    </tr>\n",
              "    <tr>\n",
              "      <th>45715</th>\n",
              "      <td>Zulu Queen</td>\n",
              "      <td>30414</td>\n",
              "      <td>Valid</td>\n",
              "      <td>L3.7</td>\n",
              "      <td>200.0</td>\n",
              "      <td>Found</td>\n",
              "      <td>1976.0</td>\n",
              "      <td>33.98333</td>\n",
              "      <td>-115.68333</td>\n",
              "      <td>(33.983330, -115.683330)</td>\n",
              "    </tr>\n",
              "  </tbody>\n",
              "</table>\n",
              "<p>38221 rows × 10 columns</p>\n",
              "</div>"
            ],
            "text/plain": [
              "             name     id  ...    reclong               GeoLocation\n",
              "0          Aachen      1  ...    6.08333     (50.775000, 6.083330)\n",
              "1          Aarhus      2  ...   10.23333    (56.183330, 10.233330)\n",
              "2            Abee      6  ... -113.00000  (54.216670, -113.000000)\n",
              "3        Acapulco     10  ...  -99.90000   (16.883330, -99.900000)\n",
              "4         Achiras    370  ...  -64.95000  (-33.166670, -64.950000)\n",
              "...           ...    ...  ...        ...                       ...\n",
              "45711  Zillah 002  31356  ...   17.01850    (29.037000, 17.018500)\n",
              "45712      Zinder  30409  ...    8.96667     (13.783330, 8.966670)\n",
              "45713        Zlin  30410  ...   17.66667    (49.250000, 17.666670)\n",
              "45714   Zubkovsky  31357  ...   41.50460    (49.789170, 41.504600)\n",
              "45715  Zulu Queen  30414  ... -115.68333  (33.983330, -115.683330)\n",
              "\n",
              "[38221 rows x 10 columns]"
            ]
          },
          "metadata": {},
          "execution_count": 5
        }
      ]
    },
    {
      "cell_type": "markdown",
      "metadata": {
        "id": "VbD-wFGdkgh5"
      },
      "source": [
        "In the above code, we used ampersand (`&`) operator to obtain the rows having the `reclong` values greater than or equal to `-180` degrees and less than or equal to 180 degrees.\n"
      ]
    },
    {
      "cell_type": "markdown",
      "metadata": {
        "id": "RpR93HKtVC24"
      },
      "source": [
        "---"
      ]
    },
    {
      "cell_type": "markdown",
      "metadata": {
        "id": "mgs3YR4dU0LV"
      },
      "source": [
        "#### Removing the Rows Containing `0 N, 0 E` Values\n"
      ]
    },
    {
      "cell_type": "code",
      "metadata": {
        "id": "Vf9m-yqrKvZs",
        "colab": {
          "base_uri": "https://localhost:8080/",
          "height": 422
        },
        "outputId": "479d0898-ba72-46a7-cf6e-a5ee561e8a71"
      },
      "source": [
        "# Rows containing the 0 'reclat' and 0 'reclong' values from the 'correct_long_df'.\n",
        "correct_lat_long_df = correct_long_df[~((correct_long_df['reclat'] == 0 ) & (correct_long_df['reclong'] == 0))]\n",
        "correct_lat_long_df"
      ],
      "execution_count": null,
      "outputs": [
        {
          "output_type": "execute_result",
          "data": {
            "text/html": [
              "<div>\n",
              "<style scoped>\n",
              "    .dataframe tbody tr th:only-of-type {\n",
              "        vertical-align: middle;\n",
              "    }\n",
              "\n",
              "    .dataframe tbody tr th {\n",
              "        vertical-align: top;\n",
              "    }\n",
              "\n",
              "    .dataframe thead th {\n",
              "        text-align: right;\n",
              "    }\n",
              "</style>\n",
              "<table border=\"1\" class=\"dataframe\">\n",
              "  <thead>\n",
              "    <tr style=\"text-align: right;\">\n",
              "      <th></th>\n",
              "      <th>name</th>\n",
              "      <th>id</th>\n",
              "      <th>nametype</th>\n",
              "      <th>recclass</th>\n",
              "      <th>mass</th>\n",
              "      <th>fall</th>\n",
              "      <th>year</th>\n",
              "      <th>reclat</th>\n",
              "      <th>reclong</th>\n",
              "      <th>GeoLocation</th>\n",
              "    </tr>\n",
              "  </thead>\n",
              "  <tbody>\n",
              "    <tr>\n",
              "      <th>0</th>\n",
              "      <td>Aachen</td>\n",
              "      <td>1</td>\n",
              "      <td>Valid</td>\n",
              "      <td>L5</td>\n",
              "      <td>21.0</td>\n",
              "      <td>Fell</td>\n",
              "      <td>1880.0</td>\n",
              "      <td>50.77500</td>\n",
              "      <td>6.08333</td>\n",
              "      <td>(50.775000, 6.083330)</td>\n",
              "    </tr>\n",
              "    <tr>\n",
              "      <th>1</th>\n",
              "      <td>Aarhus</td>\n",
              "      <td>2</td>\n",
              "      <td>Valid</td>\n",
              "      <td>H6</td>\n",
              "      <td>720.0</td>\n",
              "      <td>Fell</td>\n",
              "      <td>1951.0</td>\n",
              "      <td>56.18333</td>\n",
              "      <td>10.23333</td>\n",
              "      <td>(56.183330, 10.233330)</td>\n",
              "    </tr>\n",
              "    <tr>\n",
              "      <th>2</th>\n",
              "      <td>Abee</td>\n",
              "      <td>6</td>\n",
              "      <td>Valid</td>\n",
              "      <td>EH4</td>\n",
              "      <td>107000.0</td>\n",
              "      <td>Fell</td>\n",
              "      <td>1952.0</td>\n",
              "      <td>54.21667</td>\n",
              "      <td>-113.00000</td>\n",
              "      <td>(54.216670, -113.000000)</td>\n",
              "    </tr>\n",
              "    <tr>\n",
              "      <th>3</th>\n",
              "      <td>Acapulco</td>\n",
              "      <td>10</td>\n",
              "      <td>Valid</td>\n",
              "      <td>Acapulcoite</td>\n",
              "      <td>1914.0</td>\n",
              "      <td>Fell</td>\n",
              "      <td>1976.0</td>\n",
              "      <td>16.88333</td>\n",
              "      <td>-99.90000</td>\n",
              "      <td>(16.883330, -99.900000)</td>\n",
              "    </tr>\n",
              "    <tr>\n",
              "      <th>4</th>\n",
              "      <td>Achiras</td>\n",
              "      <td>370</td>\n",
              "      <td>Valid</td>\n",
              "      <td>L6</td>\n",
              "      <td>780.0</td>\n",
              "      <td>Fell</td>\n",
              "      <td>1902.0</td>\n",
              "      <td>-33.16667</td>\n",
              "      <td>-64.95000</td>\n",
              "      <td>(-33.166670, -64.950000)</td>\n",
              "    </tr>\n",
              "    <tr>\n",
              "      <th>...</th>\n",
              "      <td>...</td>\n",
              "      <td>...</td>\n",
              "      <td>...</td>\n",
              "      <td>...</td>\n",
              "      <td>...</td>\n",
              "      <td>...</td>\n",
              "      <td>...</td>\n",
              "      <td>...</td>\n",
              "      <td>...</td>\n",
              "      <td>...</td>\n",
              "    </tr>\n",
              "    <tr>\n",
              "      <th>45711</th>\n",
              "      <td>Zillah 002</td>\n",
              "      <td>31356</td>\n",
              "      <td>Valid</td>\n",
              "      <td>Eucrite</td>\n",
              "      <td>172.0</td>\n",
              "      <td>Found</td>\n",
              "      <td>1990.0</td>\n",
              "      <td>29.03700</td>\n",
              "      <td>17.01850</td>\n",
              "      <td>(29.037000, 17.018500)</td>\n",
              "    </tr>\n",
              "    <tr>\n",
              "      <th>45712</th>\n",
              "      <td>Zinder</td>\n",
              "      <td>30409</td>\n",
              "      <td>Valid</td>\n",
              "      <td>Pallasite, ungrouped</td>\n",
              "      <td>46.0</td>\n",
              "      <td>Found</td>\n",
              "      <td>1999.0</td>\n",
              "      <td>13.78333</td>\n",
              "      <td>8.96667</td>\n",
              "      <td>(13.783330, 8.966670)</td>\n",
              "    </tr>\n",
              "    <tr>\n",
              "      <th>45713</th>\n",
              "      <td>Zlin</td>\n",
              "      <td>30410</td>\n",
              "      <td>Valid</td>\n",
              "      <td>H4</td>\n",
              "      <td>3.3</td>\n",
              "      <td>Found</td>\n",
              "      <td>1939.0</td>\n",
              "      <td>49.25000</td>\n",
              "      <td>17.66667</td>\n",
              "      <td>(49.250000, 17.666670)</td>\n",
              "    </tr>\n",
              "    <tr>\n",
              "      <th>45714</th>\n",
              "      <td>Zubkovsky</td>\n",
              "      <td>31357</td>\n",
              "      <td>Valid</td>\n",
              "      <td>L6</td>\n",
              "      <td>2167.0</td>\n",
              "      <td>Found</td>\n",
              "      <td>2003.0</td>\n",
              "      <td>49.78917</td>\n",
              "      <td>41.50460</td>\n",
              "      <td>(49.789170, 41.504600)</td>\n",
              "    </tr>\n",
              "    <tr>\n",
              "      <th>45715</th>\n",
              "      <td>Zulu Queen</td>\n",
              "      <td>30414</td>\n",
              "      <td>Valid</td>\n",
              "      <td>L3.7</td>\n",
              "      <td>200.0</td>\n",
              "      <td>Found</td>\n",
              "      <td>1976.0</td>\n",
              "      <td>33.98333</td>\n",
              "      <td>-115.68333</td>\n",
              "      <td>(33.983330, -115.683330)</td>\n",
              "    </tr>\n",
              "  </tbody>\n",
              "</table>\n",
              "<p>32036 rows × 10 columns</p>\n",
              "</div>"
            ],
            "text/plain": [
              "             name     id  ...    reclong               GeoLocation\n",
              "0          Aachen      1  ...    6.08333     (50.775000, 6.083330)\n",
              "1          Aarhus      2  ...   10.23333    (56.183330, 10.233330)\n",
              "2            Abee      6  ... -113.00000  (54.216670, -113.000000)\n",
              "3        Acapulco     10  ...  -99.90000   (16.883330, -99.900000)\n",
              "4         Achiras    370  ...  -64.95000  (-33.166670, -64.950000)\n",
              "...           ...    ...  ...        ...                       ...\n",
              "45711  Zillah 002  31356  ...   17.01850    (29.037000, 17.018500)\n",
              "45712      Zinder  30409  ...    8.96667     (13.783330, 8.966670)\n",
              "45713        Zlin  30410  ...   17.66667    (49.250000, 17.666670)\n",
              "45714   Zubkovsky  31357  ...   41.50460    (49.789170, 41.504600)\n",
              "45715  Zulu Queen  30414  ... -115.68333  (33.983330, -115.683330)\n",
              "\n",
              "[32036 rows x 10 columns]"
            ]
          },
          "metadata": {},
          "execution_count": 6
        }
      ]
    },
    {
      "cell_type": "markdown",
      "metadata": {
        "id": "rCuunoNrk9Gu"
      },
      "source": [
        "In the above code, we used tilde  (`~`) and ampersand (`&`) operator to obtain rows containing the 0 `reclat` and 0 `reclong` values from the `correct_long_df` DataFrame."
      ]
    },
    {
      "cell_type": "markdown",
      "metadata": {
        "id": "984Eacm9nsDg"
      },
      "source": [
        "---"
      ]
    },
    {
      "cell_type": "markdown",
      "metadata": {
        "id": "b906CNbhFTOI"
      },
      "source": [
        "#### Task 1: Check the Missing Values\n",
        "\n",
        "So far we have removed all the unwanted values or rows. Now it's time to check whether we have any missing values or not. The missing values are generally reported as `NaN` values. We can find the rows or columns containing the `NaN` values using either the `isnull()` or the `isna()` function. They both return `True` for the `NaN` (or null or missing) values.\n",
        "\n",
        "Let's first check whether any column has a missing value or not: "
      ]
    },
    {
      "cell_type": "code",
      "metadata": {
        "id": "GsQnD29r4Axl",
        "colab": {
          "base_uri": "https://localhost:8080/"
        },
        "outputId": "5c3ce8bb-5884-40f9-d393-8664f75a9ab3"
      },
      "source": [
        "# S1.1: Check whether the 'correct_lat_long_df' DataFrame has missing values or not using the 'isnull()' function.\n",
        "correct_lat_long_df.isnull().sum()"
      ],
      "execution_count": null,
      "outputs": [
        {
          "output_type": "execute_result",
          "data": {
            "text/plain": [
              "name             0\n",
              "id               0\n",
              "nametype         0\n",
              "recclass         0\n",
              "mass           107\n",
              "fall             0\n",
              "year             0\n",
              "reclat           0\n",
              "reclong          0\n",
              "GeoLocation      0\n",
              "dtype: int64"
            ]
          },
          "metadata": {},
          "execution_count": 9
        }
      ]
    },
    {
      "cell_type": "markdown",
      "metadata": {
        "id": "lN01_memSP74"
      },
      "source": [
        "So, there are 107 null values in the `mass` column. Let's also check for the same using the `isna()` function:"
      ]
    },
    {
      "cell_type": "code",
      "metadata": {
        "id": "FUQlyLOTRs7I",
        "colab": {
          "base_uri": "https://localhost:8080/"
        },
        "outputId": "44d537fb-c5d6-4125-c779-08c4f7deb06a"
      },
      "source": [
        "# S1.2: Check whether the 'correct_lat_long_df' DataFrame has missing values or not using the 'isna()' function.\n",
        "correct_lat_long_df.isna().sum()"
      ],
      "execution_count": null,
      "outputs": [
        {
          "output_type": "execute_result",
          "data": {
            "text/plain": [
              "name             0\n",
              "id               0\n",
              "nametype         0\n",
              "recclass         0\n",
              "mass           107\n",
              "fall             0\n",
              "year             0\n",
              "reclat           0\n",
              "reclong          0\n",
              "GeoLocation      0\n",
              "dtype: int64"
            ]
          },
          "metadata": {},
          "execution_count": 11
        }
      ]
    },
    {
      "cell_type": "markdown",
      "metadata": {
        "id": "NGn1mVQGHB2G"
      },
      "source": [
        "Again, we can see that there are 107  missing values in the `correct_lat_long_df` DataFrame. Let's retrieve all the rows containing the missing values. For this: \n",
        "\n",
        "- We will write the name of the variable storing the DataFrame followed by square brackets: \n",
        "\n",
        "    ```\n",
        "    correct_lat_long_df[]\n",
        "    ```\n",
        "\n",
        "- Inside the square brackets, we will use the `isnull()` function to get all the rows in which the `mass` value is `NaN`:\n",
        "\n",
        "    ```\n",
        "    correct_lat_long_df[correct_lat_long_df['mass'].isnull() == True]\n",
        "    ```"
      ]
    },
    {
      "cell_type": "code",
      "metadata": {
        "id": "an9aCkyjHNqx",
        "colab": {
          "base_uri": "https://localhost:8080/",
          "height": 422
        },
        "outputId": "481eb3aa-b183-47af-bf1a-69fa7f288a19"
      },
      "source": [
        "# S1.3: Retrieve all the rows containing the missing 'mass' values in the 'correct_lat_long_df' DataFrame.\n",
        "correct_lat_long_df[correct_lat_long_df['mass'].isnull() == True]"
      ],
      "execution_count": null,
      "outputs": [
        {
          "output_type": "execute_result",
          "data": {
            "text/html": [
              "<div>\n",
              "<style scoped>\n",
              "    .dataframe tbody tr th:only-of-type {\n",
              "        vertical-align: middle;\n",
              "    }\n",
              "\n",
              "    .dataframe tbody tr th {\n",
              "        vertical-align: top;\n",
              "    }\n",
              "\n",
              "    .dataframe thead th {\n",
              "        text-align: right;\n",
              "    }\n",
              "</style>\n",
              "<table border=\"1\" class=\"dataframe\">\n",
              "  <thead>\n",
              "    <tr style=\"text-align: right;\">\n",
              "      <th></th>\n",
              "      <th>name</th>\n",
              "      <th>id</th>\n",
              "      <th>nametype</th>\n",
              "      <th>recclass</th>\n",
              "      <th>mass</th>\n",
              "      <th>fall</th>\n",
              "      <th>year</th>\n",
              "      <th>reclat</th>\n",
              "      <th>reclong</th>\n",
              "      <th>GeoLocation</th>\n",
              "    </tr>\n",
              "  </thead>\n",
              "  <tbody>\n",
              "    <tr>\n",
              "      <th>12</th>\n",
              "      <td>Aire-sur-la-Lys</td>\n",
              "      <td>425</td>\n",
              "      <td>Valid</td>\n",
              "      <td>Unknown</td>\n",
              "      <td>NaN</td>\n",
              "      <td>Fell</td>\n",
              "      <td>1769.0</td>\n",
              "      <td>50.66667</td>\n",
              "      <td>2.33333</td>\n",
              "      <td>(50.666670, 2.333330)</td>\n",
              "    </tr>\n",
              "    <tr>\n",
              "      <th>38</th>\n",
              "      <td>Angers</td>\n",
              "      <td>2301</td>\n",
              "      <td>Valid</td>\n",
              "      <td>L6</td>\n",
              "      <td>NaN</td>\n",
              "      <td>Fell</td>\n",
              "      <td>1822.0</td>\n",
              "      <td>47.46667</td>\n",
              "      <td>-0.55000</td>\n",
              "      <td>(47.466670, -0.550000)</td>\n",
              "    </tr>\n",
              "    <tr>\n",
              "      <th>76</th>\n",
              "      <td>Barcelona (stone)</td>\n",
              "      <td>4944</td>\n",
              "      <td>Valid</td>\n",
              "      <td>OC</td>\n",
              "      <td>NaN</td>\n",
              "      <td>Fell</td>\n",
              "      <td>1704.0</td>\n",
              "      <td>41.36667</td>\n",
              "      <td>2.16667</td>\n",
              "      <td>(41.366670, 2.166670)</td>\n",
              "    </tr>\n",
              "    <tr>\n",
              "      <th>93</th>\n",
              "      <td>Belville</td>\n",
              "      <td>5009</td>\n",
              "      <td>Valid</td>\n",
              "      <td>OC</td>\n",
              "      <td>NaN</td>\n",
              "      <td>Fell</td>\n",
              "      <td>1937.0</td>\n",
              "      <td>-32.33333</td>\n",
              "      <td>-64.86667</td>\n",
              "      <td>(-32.333330, -64.866670)</td>\n",
              "    </tr>\n",
              "    <tr>\n",
              "      <th>172</th>\n",
              "      <td>Castel Berardenga</td>\n",
              "      <td>5292</td>\n",
              "      <td>Valid</td>\n",
              "      <td>Stone-uncl</td>\n",
              "      <td>NaN</td>\n",
              "      <td>Fell</td>\n",
              "      <td>1791.0</td>\n",
              "      <td>43.35000</td>\n",
              "      <td>11.50000</td>\n",
              "      <td>(43.350000, 11.500000)</td>\n",
              "    </tr>\n",
              "    <tr>\n",
              "      <th>...</th>\n",
              "      <td>...</td>\n",
              "      <td>...</td>\n",
              "      <td>...</td>\n",
              "      <td>...</td>\n",
              "      <td>...</td>\n",
              "      <td>...</td>\n",
              "      <td>...</td>\n",
              "      <td>...</td>\n",
              "      <td>...</td>\n",
              "      <td>...</td>\n",
              "    </tr>\n",
              "    <tr>\n",
              "      <th>31097</th>\n",
              "      <td>Palermo</td>\n",
              "      <td>18076</td>\n",
              "      <td>Valid</td>\n",
              "      <td>Unknown</td>\n",
              "      <td>NaN</td>\n",
              "      <td>Found</td>\n",
              "      <td>1966.0</td>\n",
              "      <td>-34.55000</td>\n",
              "      <td>-58.43333</td>\n",
              "      <td>(-34.550000, -58.433330)</td>\n",
              "    </tr>\n",
              "    <tr>\n",
              "      <th>36812</th>\n",
              "      <td>San Luis</td>\n",
              "      <td>23129</td>\n",
              "      <td>Valid</td>\n",
              "      <td>H</td>\n",
              "      <td>NaN</td>\n",
              "      <td>Found</td>\n",
              "      <td>1964.0</td>\n",
              "      <td>-33.33333</td>\n",
              "      <td>-66.38333</td>\n",
              "      <td>(-33.333330, -66.383330)</td>\n",
              "    </tr>\n",
              "    <tr>\n",
              "      <th>38278</th>\n",
              "      <td>Weiyuan</td>\n",
              "      <td>24233</td>\n",
              "      <td>Valid</td>\n",
              "      <td>Mesosiderite</td>\n",
              "      <td>NaN</td>\n",
              "      <td>Found</td>\n",
              "      <td>1978.0</td>\n",
              "      <td>35.26667</td>\n",
              "      <td>104.31667</td>\n",
              "      <td>(35.266670, 104.316670)</td>\n",
              "    </tr>\n",
              "    <tr>\n",
              "      <th>41460</th>\n",
              "      <td>Yamato 792768</td>\n",
              "      <td>28117</td>\n",
              "      <td>Valid</td>\n",
              "      <td>CM2</td>\n",
              "      <td>NaN</td>\n",
              "      <td>Found</td>\n",
              "      <td>1979.0</td>\n",
              "      <td>-71.50000</td>\n",
              "      <td>35.66667</td>\n",
              "      <td>(-71.500000, 35.666670)</td>\n",
              "    </tr>\n",
              "    <tr>\n",
              "      <th>45698</th>\n",
              "      <td>Zapata County</td>\n",
              "      <td>30393</td>\n",
              "      <td>Valid</td>\n",
              "      <td>Iron</td>\n",
              "      <td>NaN</td>\n",
              "      <td>Found</td>\n",
              "      <td>1930.0</td>\n",
              "      <td>27.00000</td>\n",
              "      <td>-99.00000</td>\n",
              "      <td>(27.000000, -99.000000)</td>\n",
              "    </tr>\n",
              "  </tbody>\n",
              "</table>\n",
              "<p>107 rows × 10 columns</p>\n",
              "</div>"
            ],
            "text/plain": [
              "                    name     id  ...    reclong               GeoLocation\n",
              "12       Aire-sur-la-Lys    425  ...    2.33333     (50.666670, 2.333330)\n",
              "38                Angers   2301  ...   -0.55000    (47.466670, -0.550000)\n",
              "76     Barcelona (stone)   4944  ...    2.16667     (41.366670, 2.166670)\n",
              "93              Belville   5009  ...  -64.86667  (-32.333330, -64.866670)\n",
              "172    Castel Berardenga   5292  ...   11.50000    (43.350000, 11.500000)\n",
              "...                  ...    ...  ...        ...                       ...\n",
              "31097            Palermo  18076  ...  -58.43333  (-34.550000, -58.433330)\n",
              "36812           San Luis  23129  ...  -66.38333  (-33.333330, -66.383330)\n",
              "38278            Weiyuan  24233  ...  104.31667   (35.266670, 104.316670)\n",
              "41460      Yamato 792768  28117  ...   35.66667   (-71.500000, 35.666670)\n",
              "45698      Zapata County  30393  ...  -99.00000   (27.000000, -99.000000)\n",
              "\n",
              "[107 rows x 10 columns]"
            ]
          },
          "metadata": {},
          "execution_count": 12
        }
      ]
    },
    {
      "cell_type": "markdown",
      "metadata": {
        "id": "Q2_HXASKHfdZ"
      },
      "source": [
        "Because of the condition `correct_lat_long_df['mass'].isnull() == True`, the `correct_lat_long_df` DataFrame returns all the rows containing the `NaN` mass values.\n",
        "\n",
        "We are not going to remove these rows. Instead, we will replace all the `NaN` values in the `mass` column with the median mass value because most of the `mass` values lie between the first and the third quartile values. The second quartile (or median) is a fair representation of the values lying in the inter-quartile range, i.e., $(Q3 - Q1)$.\n",
        "\n",
        "More importantly, the quartile values remain unaffected by the unusually very high or very low values. In other words, the outliers do not affect the quartile values because they are computed by arranging all the values in increasing order.\n",
        "\n",
        "Now, let's get the descriptive statistics for the `mass` column in the `correct_lat_long_df` DataFrame:"
      ]
    },
    {
      "cell_type": "code",
      "metadata": {
        "id": "K1DHFeY64fYt",
        "colab": {
          "base_uri": "https://localhost:8080/"
        },
        "outputId": "2f2a5f10-ab8a-4514-cf7a-588937d3cd00"
      },
      "source": [
        "# S1.4: Get descriptive statistics for the 'mass' column in the 'correct_lat_long_df' DataFrame.\n",
        "correct_lat_long_df['mass'].describe()"
      ],
      "execution_count": null,
      "outputs": [
        {
          "output_type": "execute_result",
          "data": {
            "text/plain": [
              "count    3.192900e+04\n",
              "mean     1.854289e+04\n",
              "std      6.868495e+05\n",
              "min      0.000000e+00\n",
              "25%      6.500000e+00\n",
              "50%      2.960000e+01\n",
              "75%      2.020000e+02\n",
              "max      6.000000e+07\n",
              "Name: mass, dtype: float64"
            ]
          },
          "metadata": {},
          "execution_count": 13
        }
      ]
    },
    {
      "cell_type": "markdown",
      "metadata": {
        "id": "eRF9WdrfKYMH"
      },
      "source": [
        "The median `mass` value is `29.6` grams. We will replace all `NaN` values in the `mass` column with `29.6`. After replacement, all the above rows in the `mass` column should have a `29.6` value."
      ]
    },
    {
      "cell_type": "markdown",
      "metadata": {
        "id": "oWBoMJG7dRma"
      },
      "source": [
        "---"
      ]
    },
    {
      "cell_type": "markdown",
      "metadata": {
        "id": "XofmhnqWdSQf"
      },
      "source": [
        "#### Task 2: The `index` Keyword\n",
        "\n",
        "Let's create an array containing the indices of the rows having the `NaN` values in the `mass` column. To get an array containing the row indices of a whole DataFrame, use the `index` keyword of the Pandas module:"
      ]
    },
    {
      "cell_type": "code",
      "metadata": {
        "id": "RFnepUUrK8N3",
        "colab": {
          "base_uri": "https://localhost:8080/"
        },
        "outputId": "288403a6-0757-43e2-a72a-774916d9cf7a"
      },
      "source": [
        "# S2.1: Create a list of the indices of above rows.\n",
        "ind_list = correct_lat_long_df[correct_lat_long_df['mass'].isnull() == True].index\n",
        "ind_list"
      ],
      "execution_count": null,
      "outputs": [
        {
          "output_type": "execute_result",
          "data": {
            "text/plain": [
              "Int64Index([   12,    38,    76,    93,   172,   204,   262,   308,   312,\n",
              "              320,\n",
              "            ...\n",
              "            31055, 31056, 31057, 31058, 31059, 31097, 36812, 38278, 41460,\n",
              "            45698],\n",
              "           dtype='int64', length=107)"
            ]
          },
          "metadata": {},
          "execution_count": 14
        }
      ]
    },
    {
      "cell_type": "markdown",
      "metadata": {
        "id": "e2IpZD0KZSk6"
      },
      "source": [
        "So, here we have an array containing the indices of all the rows having the `NaN` mass values. There are 107 such rows."
      ]
    },
    {
      "cell_type": "markdown",
      "metadata": {
        "id": "7-SmAg2cXMFR"
      },
      "source": [
        "---"
      ]
    },
    {
      "cell_type": "markdown",
      "metadata": {
        "id": "MAiOGaLAWVtT"
      },
      "source": [
        "#### Task 3: The `loc[]` Function\n",
        "\n",
        "Now, let's replace the missing `mass` values with the median of `mass` values. For this, we need to use the `loc[]` function from the Pandas library. It is an extension to the `iloc[]` function. The `iloc[]` function takes only the row and column indices as inputs. But in addition to the row and column indices, the `loc[]` function also accepts the array of row indices and column indices as inputs. It also accepts the specific column names as inputs.\n",
        "\n",
        "Let's create a Pandas series containing all the rows having the `NaN` mass values using the `loc[]` function. We will pass `row_indices` array and `mass` column as inputs to the `loc[]` function. Let's store the series obtained in the `missing_mass_values` variable."
      ]
    },
    {
      "cell_type": "code",
      "metadata": {
        "id": "R483DRUUZklF",
        "colab": {
          "base_uri": "https://localhost:8080/"
        },
        "outputId": "c406b0fc-4677-40b6-e594-e40151e95c8b"
      },
      "source": [
        "# S3.1: Retrieve the missing 'mass' values from 'correct_lat_long_df' DataFrame using the 'loc[]' function. \n",
        "miss_values = correct_lat_long_df.loc[ind_list,'mass']\n",
        "miss_values"
      ],
      "execution_count": null,
      "outputs": [
        {
          "output_type": "execute_result",
          "data": {
            "text/plain": [
              "12      NaN\n",
              "38      NaN\n",
              "76      NaN\n",
              "93      NaN\n",
              "172     NaN\n",
              "         ..\n",
              "31097   NaN\n",
              "36812   NaN\n",
              "38278   NaN\n",
              "41460   NaN\n",
              "45698   NaN\n",
              "Name: mass, Length: 107, dtype: float64"
            ]
          },
          "metadata": {},
          "execution_count": 15
        }
      ]
    },
    {
      "cell_type": "markdown",
      "metadata": {
        "id": "LW9U_vLv3JpT"
      },
      "source": [
        "Here, we have a Pandas series that contains all the `NaN` mass values. The length of this series is `107`."
      ]
    },
    {
      "cell_type": "markdown",
      "metadata": {
        "id": "uU2h74tSLGVg"
      },
      "source": [
        "---"
      ]
    },
    {
      "cell_type": "markdown",
      "metadata": {
        "id": "cnAzn9LS3cSN"
      },
      "source": [
        "#### Task 4: Replacing the Missing `mass` Values\n",
        "\n",
        "Now, let's replace the missing `mass` values in the 107 rows with the median of the `mass` values. Again, we will use the `loc[]` function for this exercise.\n",
        "\n",
        "Using the `loc[]` function with `row_indices` and `mass` as inputs, we will get all the `NaN` values in the `mass` column. Then, using the `median()` function, we will get the median value which we are going to assign to the rows having the missing `mass` values in the `correct_lat_long_df`.\n",
        "\n",
        "**Note:** Python will throw some warnings after running the code below. Ignore it!"
      ]
    },
    {
      "cell_type": "code",
      "metadata": {
        "id": "X-8brsrO4FIG",
        "colab": {
          "base_uri": "https://localhost:8080/"
        },
        "outputId": "7e2c3751-9fba-4e04-c046-a42d0817d129"
      },
      "source": [
        "# S4.1: Replace the missing values in the 'mass' column in the 'correct_lat_long_df' DataFrame with median of mass.\n",
        "med_mass = correct_lat_long_df['mass'].median()\n",
        "correct_lat_long_df.loc[ind_list,'mass'] = med_mass"
      ],
      "execution_count": null,
      "outputs": [
        {
          "output_type": "stream",
          "name": "stderr",
          "text": [
            "/usr/local/lib/python3.7/dist-packages/pandas/core/indexing.py:1763: SettingWithCopyWarning: \n",
            "A value is trying to be set on a copy of a slice from a DataFrame.\n",
            "Try using .loc[row_indexer,col_indexer] = value instead\n",
            "\n",
            "See the caveats in the documentation: https://pandas.pydata.org/pandas-docs/stable/user_guide/indexing.html#returning-a-view-versus-a-copy\n",
            "  isetter(loc, value)\n"
          ]
        }
      ]
    },
    {
      "cell_type": "markdown",
      "metadata": {
        "id": "7Tx7dAND4KVi"
      },
      "source": [
        "Now, let's check whether all the missing mass values have been replaced by the median of the mass values or not. We can do this with the help of the `loc[]` function: "
      ]
    },
    {
      "cell_type": "code",
      "metadata": {
        "id": "oY_dMNJyRRuj",
        "colab": {
          "base_uri": "https://localhost:8080/",
          "height": 422
        },
        "outputId": "df45f8ca-29b4-4603-b22c-fd84ebd05ffb"
      },
      "source": [
        "# S4.2: Check whether all the missing mass values have been replaced by the median of the mass values or not.\n",
        "correct_lat_long_df.loc[ind_list,:]"
      ],
      "execution_count": null,
      "outputs": [
        {
          "output_type": "execute_result",
          "data": {
            "text/html": [
              "<div>\n",
              "<style scoped>\n",
              "    .dataframe tbody tr th:only-of-type {\n",
              "        vertical-align: middle;\n",
              "    }\n",
              "\n",
              "    .dataframe tbody tr th {\n",
              "        vertical-align: top;\n",
              "    }\n",
              "\n",
              "    .dataframe thead th {\n",
              "        text-align: right;\n",
              "    }\n",
              "</style>\n",
              "<table border=\"1\" class=\"dataframe\">\n",
              "  <thead>\n",
              "    <tr style=\"text-align: right;\">\n",
              "      <th></th>\n",
              "      <th>name</th>\n",
              "      <th>id</th>\n",
              "      <th>nametype</th>\n",
              "      <th>recclass</th>\n",
              "      <th>mass</th>\n",
              "      <th>fall</th>\n",
              "      <th>year</th>\n",
              "      <th>reclat</th>\n",
              "      <th>reclong</th>\n",
              "      <th>GeoLocation</th>\n",
              "    </tr>\n",
              "  </thead>\n",
              "  <tbody>\n",
              "    <tr>\n",
              "      <th>12</th>\n",
              "      <td>Aire-sur-la-Lys</td>\n",
              "      <td>425</td>\n",
              "      <td>Valid</td>\n",
              "      <td>Unknown</td>\n",
              "      <td>29.6</td>\n",
              "      <td>Fell</td>\n",
              "      <td>1769.0</td>\n",
              "      <td>50.66667</td>\n",
              "      <td>2.33333</td>\n",
              "      <td>(50.666670, 2.333330)</td>\n",
              "    </tr>\n",
              "    <tr>\n",
              "      <th>38</th>\n",
              "      <td>Angers</td>\n",
              "      <td>2301</td>\n",
              "      <td>Valid</td>\n",
              "      <td>L6</td>\n",
              "      <td>29.6</td>\n",
              "      <td>Fell</td>\n",
              "      <td>1822.0</td>\n",
              "      <td>47.46667</td>\n",
              "      <td>-0.55000</td>\n",
              "      <td>(47.466670, -0.550000)</td>\n",
              "    </tr>\n",
              "    <tr>\n",
              "      <th>76</th>\n",
              "      <td>Barcelona (stone)</td>\n",
              "      <td>4944</td>\n",
              "      <td>Valid</td>\n",
              "      <td>OC</td>\n",
              "      <td>29.6</td>\n",
              "      <td>Fell</td>\n",
              "      <td>1704.0</td>\n",
              "      <td>41.36667</td>\n",
              "      <td>2.16667</td>\n",
              "      <td>(41.366670, 2.166670)</td>\n",
              "    </tr>\n",
              "    <tr>\n",
              "      <th>93</th>\n",
              "      <td>Belville</td>\n",
              "      <td>5009</td>\n",
              "      <td>Valid</td>\n",
              "      <td>OC</td>\n",
              "      <td>29.6</td>\n",
              "      <td>Fell</td>\n",
              "      <td>1937.0</td>\n",
              "      <td>-32.33333</td>\n",
              "      <td>-64.86667</td>\n",
              "      <td>(-32.333330, -64.866670)</td>\n",
              "    </tr>\n",
              "    <tr>\n",
              "      <th>172</th>\n",
              "      <td>Castel Berardenga</td>\n",
              "      <td>5292</td>\n",
              "      <td>Valid</td>\n",
              "      <td>Stone-uncl</td>\n",
              "      <td>29.6</td>\n",
              "      <td>Fell</td>\n",
              "      <td>1791.0</td>\n",
              "      <td>43.35000</td>\n",
              "      <td>11.50000</td>\n",
              "      <td>(43.350000, 11.500000)</td>\n",
              "    </tr>\n",
              "    <tr>\n",
              "      <th>...</th>\n",
              "      <td>...</td>\n",
              "      <td>...</td>\n",
              "      <td>...</td>\n",
              "      <td>...</td>\n",
              "      <td>...</td>\n",
              "      <td>...</td>\n",
              "      <td>...</td>\n",
              "      <td>...</td>\n",
              "      <td>...</td>\n",
              "      <td>...</td>\n",
              "    </tr>\n",
              "    <tr>\n",
              "      <th>31097</th>\n",
              "      <td>Palermo</td>\n",
              "      <td>18076</td>\n",
              "      <td>Valid</td>\n",
              "      <td>Unknown</td>\n",
              "      <td>29.6</td>\n",
              "      <td>Found</td>\n",
              "      <td>1966.0</td>\n",
              "      <td>-34.55000</td>\n",
              "      <td>-58.43333</td>\n",
              "      <td>(-34.550000, -58.433330)</td>\n",
              "    </tr>\n",
              "    <tr>\n",
              "      <th>36812</th>\n",
              "      <td>San Luis</td>\n",
              "      <td>23129</td>\n",
              "      <td>Valid</td>\n",
              "      <td>H</td>\n",
              "      <td>29.6</td>\n",
              "      <td>Found</td>\n",
              "      <td>1964.0</td>\n",
              "      <td>-33.33333</td>\n",
              "      <td>-66.38333</td>\n",
              "      <td>(-33.333330, -66.383330)</td>\n",
              "    </tr>\n",
              "    <tr>\n",
              "      <th>38278</th>\n",
              "      <td>Weiyuan</td>\n",
              "      <td>24233</td>\n",
              "      <td>Valid</td>\n",
              "      <td>Mesosiderite</td>\n",
              "      <td>29.6</td>\n",
              "      <td>Found</td>\n",
              "      <td>1978.0</td>\n",
              "      <td>35.26667</td>\n",
              "      <td>104.31667</td>\n",
              "      <td>(35.266670, 104.316670)</td>\n",
              "    </tr>\n",
              "    <tr>\n",
              "      <th>41460</th>\n",
              "      <td>Yamato 792768</td>\n",
              "      <td>28117</td>\n",
              "      <td>Valid</td>\n",
              "      <td>CM2</td>\n",
              "      <td>29.6</td>\n",
              "      <td>Found</td>\n",
              "      <td>1979.0</td>\n",
              "      <td>-71.50000</td>\n",
              "      <td>35.66667</td>\n",
              "      <td>(-71.500000, 35.666670)</td>\n",
              "    </tr>\n",
              "    <tr>\n",
              "      <th>45698</th>\n",
              "      <td>Zapata County</td>\n",
              "      <td>30393</td>\n",
              "      <td>Valid</td>\n",
              "      <td>Iron</td>\n",
              "      <td>29.6</td>\n",
              "      <td>Found</td>\n",
              "      <td>1930.0</td>\n",
              "      <td>27.00000</td>\n",
              "      <td>-99.00000</td>\n",
              "      <td>(27.000000, -99.000000)</td>\n",
              "    </tr>\n",
              "  </tbody>\n",
              "</table>\n",
              "<p>107 rows × 10 columns</p>\n",
              "</div>"
            ],
            "text/plain": [
              "                    name     id  ...    reclong               GeoLocation\n",
              "12       Aire-sur-la-Lys    425  ...    2.33333     (50.666670, 2.333330)\n",
              "38                Angers   2301  ...   -0.55000    (47.466670, -0.550000)\n",
              "76     Barcelona (stone)   4944  ...    2.16667     (41.366670, 2.166670)\n",
              "93              Belville   5009  ...  -64.86667  (-32.333330, -64.866670)\n",
              "172    Castel Berardenga   5292  ...   11.50000    (43.350000, 11.500000)\n",
              "...                  ...    ...  ...        ...                       ...\n",
              "31097            Palermo  18076  ...  -58.43333  (-34.550000, -58.433330)\n",
              "36812           San Luis  23129  ...  -66.38333  (-33.333330, -66.383330)\n",
              "38278            Weiyuan  24233  ...  104.31667   (35.266670, 104.316670)\n",
              "41460      Yamato 792768  28117  ...   35.66667   (-71.500000, 35.666670)\n",
              "45698      Zapata County  30393  ...  -99.00000   (27.000000, -99.000000)\n",
              "\n",
              "[107 rows x 10 columns]"
            ]
          },
          "metadata": {},
          "execution_count": 18
        }
      ]
    },
    {
      "cell_type": "markdown",
      "metadata": {
        "id": "Glrhymd04UJY"
      },
      "source": [
        "Each item in the `mass` column in the above DataFrame of 107 rows is `29.6` grams.\n",
        "\n",
        "Let's confirm it by getting the descriptive statistics for the `mass` column in the above DataFrame using the `describe()` function. Except for the `std` and `count` values, all other values should be `29.6`. The `std` value should be very very close to `0` because every value will be the same as the mean value. The `count` value should be `107`."
      ]
    },
    {
      "cell_type": "code",
      "metadata": {
        "id": "DT6lq4vH41fU",
        "colab": {
          "base_uri": "https://localhost:8080/"
        },
        "outputId": "e62fda1c-a255-4be4-db7a-2cb7c33b5acc"
      },
      "source": [
        "# S4.3: Create a descriptive statistics summary of the 'mass' column in the above DataFrame containing 107 rows.\n",
        "correct_lat_long_df.loc[ind_list,'mass'].describe()"
      ],
      "execution_count": null,
      "outputs": [
        {
          "output_type": "execute_result",
          "data": {
            "text/plain": [
              "count    1.070000e+02\n",
              "mean     2.960000e+01\n",
              "std      5.711092e-14\n",
              "min      2.960000e+01\n",
              "25%      2.960000e+01\n",
              "50%      2.960000e+01\n",
              "75%      2.960000e+01\n",
              "max      2.960000e+01\n",
              "Name: mass, dtype: float64"
            ]
          },
          "metadata": {},
          "execution_count": 19
        }
      ]
    },
    {
      "cell_type": "markdown",
      "metadata": {
        "id": "EnadNHyB6ZbZ"
      },
      "source": [
        "As expected, the `count` value is `107`, the `std` value is very close to `0` because $10^{-14}$ or $\\frac{1}{10^{14}}$ is practically zero. \n",
        "\n",
        "Now, let's get the descriptive statistics for the entire `mass` column in `correct_lat_long_df`:"
      ]
    },
    {
      "cell_type": "code",
      "metadata": {
        "id": "b2XugN5h4tPY",
        "colab": {
          "base_uri": "https://localhost:8080/"
        },
        "outputId": "1ceadc06-8661-402f-b8de-c3d8691380fe"
      },
      "source": [
        "# S4.4: Create a descriptive statistics summary of the 'mass' column in the 'correct_lat_long_df' DataFrame.\n",
        "correct_lat_long_df['mass'].describe()"
      ],
      "execution_count": null,
      "outputs": [
        {
          "output_type": "execute_result",
          "data": {
            "text/plain": [
              "count    3.203600e+04\n",
              "mean     1.848105e+04\n",
              "std      6.857023e+05\n",
              "min      0.000000e+00\n",
              "25%      6.500000e+00\n",
              "50%      2.960000e+01\n",
              "75%      2.006500e+02\n",
              "max      6.000000e+07\n",
              "Name: mass, dtype: float64"
            ]
          },
          "metadata": {},
          "execution_count": 20
        }
      ]
    },
    {
      "cell_type": "markdown",
      "metadata": {
        "id": "PfsqD4NW9F4I"
      },
      "source": [
        "As you can see there is no major change in the `std, min, 25%, 50%, 75%`, and `max` values. They all are the same which is how it should be. **Treatment of the missing values should not affect the original dataset drastically.**\n",
        "\n",
        "In the next class, we will learn how to create a count plot using the `seaborn` module."
      ]
    },
    {
      "cell_type": "markdown",
      "metadata": {
        "id": "2korLSyCZcW-"
      },
      "source": [
        "---"
      ]
    }
  ]
}