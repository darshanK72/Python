{
 "cells": [
  {
   "cell_type": "markdown",
   "metadata": {
    "id": "X-yRjeBfrIzI"
   },
   "source": [
    "# Lesson 17: Pandas DataFrame"
   ]
  },
  {
   "cell_type": "markdown",
   "metadata": {
    "id": "o-2xPruIHKvR"
   },
   "source": [
    "---"
   ]
  },
  {
   "cell_type": "markdown",
   "metadata": {
    "id": "Fb6GsywkBTPn"
   },
   "source": [
    "### Teacher-Student Activities\n",
    "\n",
    "In the last class, we learned about the Pandas series. Now in this lesson, we will learn about Pandas DataFrame which is a collection of Pandas series. In other words, a Pandas DataFrame is a two-dimensional array.\n",
    "\n",
    "In the process of learning Pandas DataFrames, we will learn how NASA finds the exoplanets in the universe. There are deep Physical and mathematical theories on exploring exoplanets in space. But we will not go through all of that. Right now, we just need to understand the basic principle behind these theories to be able to learn how the exoplanets are found."
   ]
  },
  {
   "cell_type": "markdown",
   "metadata": {
    "id": "K-zCMmreBUaH"
   },
   "source": [
    "---"
   ]
  },
  {
   "cell_type": "markdown",
   "metadata": {
    "id": "YdmZPtYSn7kA"
   },
   "source": [
    "\n",
    "\n",
    "### Finding Exoplanets Principle\n",
    "\n",
    "Imagine that you are in your room during the daytime with the window curtains open. The room probably would be well-lit. Now, imagine that you close the curtains of the window and block the sunlight from entering the room. In this situation, the room would be darker and the visibility would be low.\n",
    "\n",
    "So, whenever the curtains are open, the brightness of the light would be higher whereas when the curtains are closed, the brightness would be lower. We can measure the brightness of the light using a spectroscope.\n",
    "\n",
    "The same principle is applied in searching for an exoplanet. There are billions of galaxies in the universe. These galaxies have millions of stars. One such galaxy is the Milky-way galaxy in which our solar system exists. The solar system has a star called Sun which has its light. In astronomy, a star is a heavenly body that has its light. There are 8 planets in our solar system orbiting around the Sun. Similar to this, in some other galaxy there would be a star and probably a planet would be revolving around that star.\n",
    "\n",
    "Long back, NASA placed a telescope called the Kepler telescope in space. This telescope is used to measure the brightness of the stars in the far-distant galaxies.\n",
    " \n",
    "\n",
    "<img src='https://student-datasets-bucket.s3.ap-south-1.amazonaws.com/whitehat-ds-datasets/kepler-exoplanets-dataset/kepler-space-telescope.jpg' width=\"800\">\n",
    "\n",
    "*Image credits: https://www.nasa.gov/feature/ames/kepler/nasa-s-kepler-confirms-100-exoplanets-during-its-k2-mission*\n",
    "\n",
    "Whenever a planet, while orbiting its star, comes in between the telescope and the star, the brightness of the star recorded by the telescope is lower whereas when the planet goes behind the star, the brightness of the light recorded by the telescope is higher.\n",
    "\n",
    "This method of detecting exoplanets in far-distant galaxies through the brightness of the light emitted by a star is called the **Transit Method**. You can read about it by clicking on the link provided in the **Activities** section under the title **How Do Astronomers Find Exoplanets?**\n",
    "\n",
    "Essentially, if you plot the brightness on the vertical axis and the time on the horizontal axis, then you will see that the brightness of the star recorded by the telescope increases and decreases periodically. Thus, in the graph, you will notice a wave-like pattern. This indicates that the star has at least one planet. \n",
    "\n",
    "<img src = 'https://s3-whjr-v2-prod-bucket.whjr.online/99a90115-148e-45c6-b9b0-4ac4a5db4e18.gif' width=500 >\n",
    "\n",
    "\n",
    "\n",
    "The image below shows some of the exoplanets (Kepler 4b to Kepler 8b) discovered by the Kepler space telescope. You can see the brightness level radiated by the star for each planet. The Flux values on the vertical axis represent the brightness level of the star.\n",
    "\n",
    "<img src = 'https://student-datasets-bucket.s3.ap-south-1.amazonaws.com/whitehat-ds-datasets/kepler-exoplanets-dataset/transit-method.jpg' width='800'>\n",
    "\n",
    "*Image credits: https://www.nasa.gov/content/light-curves-of-keplers-first-5-discoveries*\n",
    "\n",
    "As you can see in the image above, the bigger the planet (Kepler 6b), the deeper the dip in the brightness level. And, the longer the orbital period of a planet, the broader is the width of the dip (Kepler 7b). Kepler 7b has the greatest orbital period of 4.9 days among these 5 planets.\n",
    "\n",
    "So, this is how NASA finds a planet beyond our solar system. Now, let's use the Kepler space telescope dataset to create a Pandas DataFrame to find out which stars beyond our solar system have a planet."
   ]
  },
  {
   "cell_type": "markdown",
   "metadata": {
    "id": "eq9mAtEg9cpZ"
   },
   "source": [
    "---"
   ]
  },
  {
   "cell_type": "markdown",
   "metadata": {
    "id": "OwzryU6Zie33"
   },
   "source": [
    "#### Task 1: Loading a CSV File\n",
    "\n",
    "Generally, we store data in different files such as text (`txt` format) file, comma-separated value (`csv` format) file, tab-separated value (`tsv` format) file, etc. We can read the contents of these files through Python.\n",
    "\n",
    "A comma-separated value (`csv`) file is used most commonly to store data.\n",
    "\n",
    "To load or read the contents of a `csv` file, we can use the `read_csv()` function in Pandas. The data is read in the form of a two-dimensional array called a **Pandas DataFrame**.\n",
    "\n",
    "As an input to the `read_csv()` function, we need to provide the full location of the `csv` file that we wish to read in the string format. The file that we wish to read is stored in cloud storage. \n",
    "\n",
    "Here's the link to the file:\n",
    "\n",
    "https://s3-student-datasets-bucket.whjr.online/whitehat-ds-datasets/kepler-exoplanets-dataset/exoTrain.csv\n",
    "\n",
    "\n",
    "**Dataset Credits:** https://www.kaggle.com/keplersmachines/kepler-labelled-time-series-data\n",
    "\n",
    "In the above link, `exoTrain.csv` is the name of the `csv` file. We will create Pandas DataFrame using this file:\n"
   ]
  },
  {
   "cell_type": "code",
   "execution_count": null,
   "metadata": {
    "colab": {
     "base_uri": "https://localhost:8080/",
     "height": 255
    },
    "id": "zjScdqmQstFg",
    "outputId": "c284bfde-98b7-4248-a422-efffeb4e9e88"
   },
   "outputs": [],
   "source": [
    "# S1.1: Read a 'csv' file using the 'read_csv()' function. Also, display the first 5 rows of the DataFrame using the 'head()' function.\n",
    "# First of all we have to import the Pandas module with pd as an alias (or nickname).\n",
    "\n",
    "import pandas as pd\n",
    "\n",
    "exo_train_df = pd.read_csv(\"https://s3-student-datasets-bucket.whjr.online/whitehat-ds-datasets/kepler-exoplanets-dataset/exoTrain.csv\")\n",
    "exo_train_df.head()"
   ]
  },
  {
   "cell_type": "markdown",
   "metadata": {
    "id": "D4RGB9jb9hym"
   },
   "source": [
    "As you can see, we have created a Pandas DataFrame for the `exoTrain.csv` file and stored it in the `exo_train_df` variable.\n",
    "\n",
    "Now, you create a DataFrame for the `exoTest.csv` file and store it in a variable called `exo_test_df`. Here is the link to the file.\n",
    "\n",
    "https://s3-student-datasets-bucket.whjr.online/whitehat-ds-datasets/kepler-exoplanets-dataset/exoTest.csv\n",
    "\n",
    "**Dataset Credits:** https://www.kaggle.com/keplersmachines/kepler-labelled-time-series-data"
   ]
  },
  {
   "cell_type": "code",
   "execution_count": null,
   "metadata": {
    "colab": {
     "base_uri": "https://localhost:8080/",
     "height": 255
    },
    "id": "sys1jcw2jpF3",
    "outputId": "8dd61f75-8f38-4094-e4d7-22075115ad9b"
   },
   "outputs": [],
   "source": [
    "# S1.2: Read the 'exoTest.csv' file and display its first 5 rows using the 'head()' function.\n",
    "exo_test_df = pd.read_csv(\"https://s3-student-datasets-bucket.whjr.online/whitehat-ds-datasets/kepler-exoplanets-dataset/exoTest.csv\")\n",
    "exo_test_df.head()"
   ]
  },
  {
   "cell_type": "markdown",
   "metadata": {
    "id": "fNIuF-oKkExp"
   },
   "source": [
    "The two DataFrames have the same type of data.\n",
    "\n",
    "**Q: Why do we have a training dataset and a test dataset?**\n",
    "\n",
    "Ans: We create machine learning models using the training dataset to train a computer so that it can learn from that data. It, thus, can make predictions based on what it has learned. While learning, the computer tries to find a pattern in the data, how one information affects another, which information is the most critical one, etc.\n",
    "\n",
    "The test dataset is used to test the accuracy of the model that you have built. The higher the accuracy, the higher is the prediction capability of the machine.\n",
    "\n",
    "After creating the DataFrames, it is a good practice to find out the number of rows and columns that exist in a DataFrame. You can do this exercise by using the `shape` keyword:"
   ]
  },
  {
   "cell_type": "code",
   "execution_count": null,
   "metadata": {
    "colab": {
     "base_uri": "https://localhost:8080/"
    },
    "id": "9aGcwb3Ax10u",
    "outputId": "265d4dc9-e47b-40b6-c906-dd883984695a"
   },
   "outputs": [],
   "source": [
    "# S1.3: Find the number of rows and columns in the 'exo_train_df' DataFrame.\n",
    "exo_train_df.shape"
   ]
  },
  {
   "cell_type": "markdown",
   "metadata": {
    "id": "BQXojZA6m1Oo"
   },
   "source": [
    "So, there are 5087 rows and 3198 columns in the `exo_train_df` DataFrame."
   ]
  },
  {
   "cell_type": "code",
   "execution_count": null,
   "metadata": {
    "colab": {
     "base_uri": "https://localhost:8080/"
    },
    "id": "77zf3wvMnjNB",
    "outputId": "8b7dcabd-a1ff-4f96-98d5-317e2f2025b7"
   },
   "outputs": [],
   "source": [
    "# S1.4: How many rows and columns are there in the 'exo_test_df'?\n",
    "exo_test_df.shape"
   ]
  },
  {
   "cell_type": "markdown",
   "metadata": {
    "id": "afcKyO4An1tN"
   },
   "source": [
    "There are 570 rows and 3198 columns in the `exo_test_df` DataFrame. "
   ]
  },
  {
   "cell_type": "markdown",
   "metadata": {
    "id": "OW6N0e0dn9jq"
   },
   "source": [
    "---"
   ]
  },
  {
   "cell_type": "markdown",
   "metadata": {
    "id": "6kr-OIofEvrC"
   },
   "source": [
    "#### Task 2: Check for the Missing Values\n",
    "\n",
    "In most cases, we do not get complete datasets. They either have some values missing from the rows and columns or they do not have standardized values.\n",
    "\n",
    "For example: If there is a date column in a dataset, then there is a huge chance that some of the dates are entered in the `DD-MM-YYYY` format, some in the `MM-DD-YYYY` format, and so on.\n",
    "\n",
    "So, before going ahead with the analysis, it is a good idea to check whether the dataset has any missing values.\n",
    "\n",
    "To check for missing values in a DataFrame, use the `isnull()` function. If a DataFrame has a missing value, then the `isnull()` function will return `True` else it will return `False`. "
   ]
  },
  {
   "cell_type": "code",
   "execution_count": null,
   "metadata": {
    "colab": {
     "base_uri": "https://localhost:8080/",
     "height": 442
    },
    "id": "p28lXAqoFQMe",
    "outputId": "4d0dd85c-7ef8-49a5-8887-a2f4416954ec"
   },
   "outputs": [],
   "source": [
    "# S2.1: Check for the missing values using the 'isnull()' function.\n",
    "exo_train_df.isnull()"
   ]
  },
  {
   "cell_type": "markdown",
   "metadata": {
    "id": "OSubPWuvFZ0d"
   },
   "source": [
    "\n",
    "\n",
    "As you can see, the `isnull()` function has returned the DataFrame with a lot of `False` values as an output. There are $5087\\times3198=16268226$ values in the DataFrame. It is not feasible to check so many values manually. So, we need a better approach to check for missing values.\n",
    "\n",
    "We can call the `sum()` function on the `exo_train_df.isnull()` statement. It will return the sum of `True` values for every column in a DataFrame. If a column does not have any missing values, then it will return `0` else a number greater than `0`:"
   ]
  },
  {
   "cell_type": "code",
   "execution_count": null,
   "metadata": {
    "colab": {
     "base_uri": "https://localhost:8080/"
    },
    "id": "qSthlUG5FYLG",
    "outputId": "7a2bc13c-2035-4c7c-ae81-76e7db756cff"
   },
   "outputs": [],
   "source": [
    "# S2.2: Use the 'sum()' function to find the total number of True values in each column.\n",
    "print(exo_train_df.isnull().sum())\n",
    "#exo_train_df.columns"
   ]
  },
  {
   "cell_type": "markdown",
   "metadata": {
    "id": "MNuRR1NjHh99"
   },
   "source": [
    "We can see that a lot of columns have `0` missing values. But still, we cannot manually see whether all the columns have missing values or not because the list of columns is too long to be seen in this notebook. There are `3198` columns to search. If there were very few columns, then we would not need to go any further to check for the missing values.\n",
    "\n",
    "The `columns` keyword returns an array of all the columns in a DataFrame. To get a column from a DataFrame just, write the name of the column inside the square brackets in the single or double inverted quote after writing the name of the DataFrame. \n",
    "For example: If you want to get the values of `FLUX.1` column from the `exo_train_df`, then write `exo_train_df['FLUX.1']`."
   ]
  },
  {
   "cell_type": "code",
   "execution_count": null,
   "metadata": {
    "colab": {
     "base_uri": "https://localhost:8080/"
    },
    "id": "M-2gSCVkHiag",
    "outputId": "313954de-d970-40cf-d670-654640afd249"
   },
   "outputs": [],
   "source": [
    "# S2.3: View all the columns in the 'exo_train_df' DataFrame.\n",
    "exo_train_df.columns"
   ]
  },
  {
   "cell_type": "markdown",
   "metadata": {
    "id": "q2EzheZ4H_lh"
   },
   "source": [
    "\n",
    "We, again, need a better approach. We will create a variable called `num_missing_values` to store the total number of values that are missing. Then, we will iterate through each column, and within each column, we will iterate through each item to check for the missing values. If the `isnull()` function for a column returns `True`, then we will increase the value of the `num_missing_values` by `1` else we will not do anything."
   ]
  },
  {
   "cell_type": "code",
   "execution_count": null,
   "metadata": {
    "colab": {
     "base_uri": "https://localhost:8080/"
    },
    "id": "xzPkrVYjH_9U",
    "outputId": "1978a1e4-e084-4ca7-e833-72f36a507029"
   },
   "outputs": [],
   "source": [
    "# S2.4: Get the values of the 'FLUX.1' column from a DataFrame.\n",
    "exo_train_df['FLUX.1']"
   ]
  },
  {
   "cell_type": "code",
   "execution_count": null,
   "metadata": {
    "colab": {
     "base_uri": "https://localhost:8080/"
    },
    "id": "EjQVWTPnIGas",
    "outputId": "b9d3ee63-6dd4-4889-e27a-0e8b625908e7"
   },
   "outputs": [],
   "source": [
    "# S2.5: Get all the values of the 'FLUX.2' column.\n",
    "exo_train_df['FLUX.2']"
   ]
  },
  {
   "cell_type": "markdown",
   "metadata": {
    "id": "dtF7bMmVIbCd"
   },
   "source": [
    "Now, using the `columns` keyword and the square brackets method of getting all items in a column, we will check for the missing values in the entire DataFrame:"
   ]
  },
  {
   "cell_type": "code",
   "execution_count": null,
   "metadata": {
    "colab": {
     "base_uri": "https://localhost:8080/"
    },
    "id": "dHjOAaq-IU_c",
    "outputId": "4a943dd7-e0a7-4fca-bf14-20b3679c6bb3"
   },
   "outputs": [],
   "source": [
    "# S2.6: Iterate through the 'exo_train_df' DataFrame to find the total number of missing values.\n",
    "count = 0\n",
    "for column in exo_train_df.columns:\n",
    "  for row in exo_train_df[column].isnull():\n",
    "    if(row == True):\n",
    "      count += 1\n",
    "\n",
    "print(count)\n",
    "    "
   ]
  },
  {
   "cell_type": "markdown",
   "metadata": {
    "id": "Tts_SnCSJW2z"
   },
   "source": [
    "As you can see, there are no missing values in the DataFrame because the final value of the `num_missing_values` is `0`.\n",
    "\n",
    "Now let's find the number of non-missing values by replacing `True` with `False` in the above code and store it in variable `non_missing_values`:"
   ]
  },
  {
   "cell_type": "code",
   "execution_count": null,
   "metadata": {
    "colab": {
     "base_uri": "https://localhost:8080/"
    },
    "id": "pH9-fPPYJWOQ",
    "outputId": "10615a3d-0ea2-4eeb-ea58-ba09bf92d0b3"
   },
   "outputs": [],
   "source": [
    "# S2.7: In the above code replace 'True' with 'False' and get the number of non missing values.\n",
    "# The output should be 16268226.\n",
    "count = 0\n",
    "for column in exo_train_df.columns:\n",
    "  for row in exo_train_df[column].isnull():\n",
    "    if(row == False):\n",
    "      count += 1\n",
    "\n",
    "print(count)"
   ]
  },
  {
   "cell_type": "markdown",
   "metadata": {
    "id": "ufUqq0kMJotW"
   },
   "source": [
    "As we can see, the output is 16,268,226. It is the sum of all the values False. That means there are no missing values because the total number of values in the `exo_train_df` is 16,268,226 which is the same as the total number of non-missing values."
   ]
  },
  {
   "cell_type": "markdown",
   "metadata": {
    "id": "uZDCZAklQ2Fe"
   },
   "source": [
    "---"
   ]
  },
  {
   "cell_type": "markdown",
   "metadata": {
    "id": "llwHgQbDLLT8"
   },
   "source": [
    "#### Task 3: Slicing a DataFrame Using the `iloc[]` Function\n",
    "\n",
    " We want to plot the scatter plots and line plots for 6 stars. For each of these stars, we will create a Pandas series which will have the brightness levels starting from `FLUX.1` to `FLUX.3197`. \n",
    "\n",
    " Effectively, we need to create 6 Pandas series. \n",
    "\n",
    "Let's create a Pandas series for the first star in the `exo_train_df`. Let's store the series in a variable called `star_0`. To do this, we need to use the `iloc` function:"
   ]
  },
  {
   "cell_type": "code",
   "execution_count": null,
   "metadata": {
    "colab": {
     "base_uri": "https://localhost:8080/"
    },
    "id": "-bERYJF3JpFR",
    "outputId": "0860df02-28c1-4fc1-9145-02522d0df6bd"
   },
   "outputs": [],
   "source": [
    "# S3.1: Create a Pandas series from a Pandas DataFrame using the 'iloc[]' function.\n",
    "star_zero = exo_train_df.iloc[0,:]\n",
    "star_zero"
   ]
  },
  {
   "cell_type": "markdown",
   "metadata": {
    "id": "l1bpbkBnLU_1"
   },
   "source": [
    "Inside, the `iloc[]` function, the digit `0` indicates the first row (located at index `0`) of the `exo_train_df` DataFrame, and the colon (`:`) symbol denotes collect all the values from the first column till the last column, i.e., all the columns starting from `LABEL` to `FLUX.3197` columns.\n",
    "\n",
    "**Syntax:** \n",
    "\n",
    "`dataframe_name.iloc[row_position_start : row_position_end, column_position_start : column_position_end]`\n",
    "\n",
    "In this syntax: \n",
    "\n",
    "- `row_position_start`: Denotes the position of the row in the DataFrame **starting** from whose values you want to take in the new Pandas series or DataFrame.\n",
    "- `row_position_end`: Denotes the position of the row in the DataFrame till whose values you want to take in the new Pandas series or DataFrame.\n",
    "- `column_position_start`: Denotes the position of the column in the DataFrame **starting** from whose values you want to take in the new Pandas series or DataFrame.\n",
    "- `column_position_end`: Denotes the position of the column in the DataFrame till whose values you want to take in the new Pandas series or DataFrame.\n",
    "\n",
    "You can verify manually whether we have extracted the values from the first row or not by viewing the first 5 rows of the DataFrame using the `head()` function:"
   ]
  },
  {
   "cell_type": "code",
   "execution_count": null,
   "metadata": {
    "colab": {
     "base_uri": "https://localhost:8080/",
     "height": 255
    },
    "id": "M9OYWQR8LUBO",
    "outputId": "688fc7d1-182e-4769-ec95-cb6ee974801c"
   },
   "outputs": [],
   "source": [
    "# S3.2: Compare the values of the 'star_0' Pandas series with the first row in the 'exo_train_df' DataFrame.\n",
    "exo_train_df.head()"
   ]
  },
  {
   "cell_type": "markdown",
   "metadata": {
    "id": "WfD8IxKNMRkf"
   },
   "source": [
    "We have confirmed that we indeed created a Pandas series using the `iloc[]` function:"
   ]
  },
  {
   "cell_type": "code",
   "execution_count": null,
   "metadata": {
    "colab": {
     "base_uri": "https://localhost:8080/"
    },
    "id": "pMF6jXr_MG9q",
    "outputId": "89f95418-0d22-4621-c250-4c5447b4b972"
   },
   "outputs": [],
   "source": [
    "# S3.4: Verify whether the series created is a Pandas series using the 'type()' function.\n",
    "type(star_zero)"
   ]
  },
  {
   "cell_type": "markdown",
   "metadata": {
    "id": "jqdJu4SWQP2G"
   },
   "source": [
    "As you can see, `star_0` is a Pandas series. \n",
    "\n",
    "Similarly, create a Pandas series for the second star and print first 5 values of the series:"
   ]
  },
  {
   "cell_type": "code",
   "execution_count": null,
   "metadata": {
    "colab": {
     "base_uri": "https://localhost:8080/"
    },
    "id": "5gKra1lEMLji",
    "outputId": "edf1363a-d1fb-4f3e-cef2-5557d904e149"
   },
   "outputs": [],
   "source": [
    "# S3.5: Using the 'iloc[]' function, create a Pandas series for the second star and store it in a variable called 'star_1'.\n",
    "# Use the 'head()' function to display only the first 5 values of the series.\n",
    "star_one = exo_train_df.iloc[1,:]\n",
    "star_one"
   ]
  },
  {
   "cell_type": "code",
   "execution_count": null,
   "metadata": {
    "colab": {
     "base_uri": "https://localhost:8080/"
    },
    "id": "jn8St5flM0k3",
    "outputId": "7509811d-fe04-4739-99a0-1f9f9e28eb3b"
   },
   "outputs": [],
   "source": [
    "# S3.6: Using the 'iloc[]' function, create a Pandas series for the third star and store it in a variable called 'star_2'.\n",
    "star_two = exo_train_df.iloc[2,:]\n",
    "star_two"
   ]
  },
  {
   "cell_type": "markdown",
   "metadata": {
    "id": "sgUmqwwGQfAq"
   },
   "source": [
    "We have created a Pandas series for each of the first three stars. Now, let's create the same for each of the last three stars in the DataFrame:"
   ]
  },
  {
   "cell_type": "code",
   "execution_count": null,
   "metadata": {
    "colab": {
     "base_uri": "https://localhost:8080/",
     "height": 255
    },
    "id": "8tIu89YeM5Ih",
    "outputId": "05bf7ac7-b1fe-435e-d480-f232849043d4"
   },
   "outputs": [],
   "source": [
    "# S3.7: Display the last 5 rows of the 'exo_train_df' DataFrame using the 'tail()' function.\n",
    "exo_train_df.tail()"
   ]
  },
  {
   "cell_type": "code",
   "execution_count": null,
   "metadata": {
    "colab": {
     "base_uri": "https://localhost:8080/"
    },
    "id": "_dOssdOlM-Lz",
    "outputId": "7b0a6458-ac8e-4835-a2c4-e1be0520f294"
   },
   "outputs": [],
   "source": [
    "# S3.8:  Using the 'iloc[]' function, create a Pandas series for the last star and store it in a variable called 'star_5086'.\n",
    "star_5086 = exo_train_df.iloc[5086,:]\n",
    "star_5086"
   ]
  },
  {
   "cell_type": "code",
   "execution_count": null,
   "metadata": {
    "colab": {
     "base_uri": "https://localhost:8080/"
    },
    "id": "07pOAWj_NBYM",
    "outputId": "71849f0b-7975-446f-e1a2-1fe38f56cbad"
   },
   "outputs": [],
   "source": [
    "# S3.7:  Using the 'iloc[]' function, create a Pandas series for the second-last star and store it in a variable called 'star_5085'.\n",
    "star_5085 = exo_train_df.iloc[5085,:]\n",
    "star_5085"
   ]
  },
  {
   "cell_type": "code",
   "execution_count": null,
   "metadata": {
    "colab": {
     "base_uri": "https://localhost:8080/"
    },
    "id": "scFAkI-KNE3M",
    "outputId": "4640bc7b-4427-469e-d6b3-0ddab64e06f9"
   },
   "outputs": [],
   "source": [
    "# S3.9:  Using the 'iloc[]' function, create a Pandas series for the third-last star and store it in a variable called 'star_5084'.\n",
    "star_5084 = exo_train_df.iloc[5084,:]\n",
    "star_5084"
   ]
  },
  {
   "cell_type": "markdown",
   "metadata": {
    "id": "v5EtvUk2Q8NE"
   },
   "source": [
    "So, in this class we learned the transit method of detecting exoplanets and how to import data from a CSV file and create a Pandas DataFrame from the file. \n",
    "\n",
    "We also learned how to check for the missing values and slice a DataFrame using the `iloc[]` function.\n",
    "\n",
    "In the next class, we will learn how to create a scatter plot and a line plot to visualise data."
   ]
  },
  {
   "cell_type": "markdown",
   "metadata": {
    "id": "Q5KC7P66Q6aV"
   },
   "source": [
    "---"
   ]
  }
 ],
 "metadata": {
  "colab": {
   "collapsed_sections": [],
   "name": "Copy of 2021-11-09_Darshan_Lesson17",
   "provenance": []
  },
  "kernelspec": {
   "display_name": "Python 3",
   "language": "python",
   "name": "python3"
  },
  "language_info": {
   "codemirror_mode": {
    "name": "ipython",
    "version": 3
   },
   "file_extension": ".py",
   "mimetype": "text/x-python",
   "name": "python",
   "nbconvert_exporter": "python",
   "pygments_lexer": "ipython3",
   "version": "3.8.5"
  }
 },
 "nbformat": 4,
 "nbformat_minor": 1
}
