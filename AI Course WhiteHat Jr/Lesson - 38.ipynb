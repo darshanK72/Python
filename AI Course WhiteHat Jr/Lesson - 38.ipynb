{
  "cells": [
    {
      "cell_type": "markdown",
      "metadata": {
        "id": "YZnBY81YDCCr"
      },
      "source": [
        "### Instructions"
      ]
    },
    {
      "cell_type": "markdown",
      "metadata": {
        "id": "fIKnY8occu37"
      },
      "source": [
        "#### Goal of the Project\n",
        "\n",
        "This project is designed for you to practice and solve the activities that are based on the concepts covered in the following lessons:\n",
        "\n",
        "1. String Operations\n",
        "\n",
        "2. Python Dictionary\n",
        "\n",
        "3. Customised matplotlib Plots\n",
        "\n",
        "\n",
        "\n",
        "\n",
        "\n",
        "\n"
      ]
    },
    {
      "cell_type": "markdown",
      "metadata": {
        "id": "4GlOMTG2w1en"
      },
      "source": [
        "---"
      ]
    },
    {
      "cell_type": "markdown",
      "metadata": {
        "id": "5v6BZp_fw2Qv"
      },
      "source": [
        "#### Getting Started:\n",
        "\n",
        "1. Click on this link to open the Colab file for this project.\n",
        "\n",
        "   https://colab.research.google.com/drive/1ak3Ytp3bVuB_hZ5KIh-tMzo6unLCxnh7\n",
        "\n",
        "2. Create a duplicate copy of the Colab file as described below.\n",
        "\n",
        "  - Click on the **File menu**. A new drop-down list will appear.\n",
        "\n",
        "   <img src='https://student-datasets-bucket.s3.ap-south-1.amazonaws.com/images/lesson-0/0_file_menu.png' width=500>\n",
        "\n",
        "  - Click on the **Save a copy in Drive** option. A duplicate copy will get created. It will open up in the new tab on your web browser.\n",
        "\n",
        "  <img src='https://student-datasets-bucket.s3.ap-south-1.amazonaws.com/images/lesson-0/1_create_colab_duplicate_copy.png' width=500>\n",
        "\n",
        "3. After creating the duplicate copy of the notebook, please rename it in the **YYYY-MM-DD_StudentName_Project42** format.\n",
        "\n",
        "4. Now, write your code in the prescribed code cells.\n"
      ]
    },
    {
      "cell_type": "markdown",
      "metadata": {
        "id": "BBqkpH4_Doqe"
      },
      "source": [
        "---"
      ]
    },
    {
      "cell_type": "markdown",
      "metadata": {
        "id": "H0P9F3DUf8x2"
      },
      "source": [
        "### Activities\n",
        "\n",
        "\n",
        "  "
      ]
    },
    {
      "cell_type": "markdown",
      "metadata": {
        "id": "0dG-Pm9-UpYh"
      },
      "source": [
        "#### Activity 1: Create Customized Line plots.\n",
        "\n",
        "Given the dataset of the average annual salary (in dollars) of developers of various programming languages. Create customized line plots to compare the salary variations **Age-wise** for **Python** developer with **Javascript** developer.\n",
        "\n",
        "**Link to the Dataset**: https://curriculum.whitehatjr.com/APT+Asset/Salary_variations.csv\n",
        "\n",
        "**Source**: https://github.com/CoreyMSchafer/code_snippets/tree/master/Python/Matplotlib/10-Subplots"
      ]
    },
    {
      "cell_type": "code",
      "execution_count": null,
      "metadata": {
        "colab": {
          "base_uri": "https://localhost:8080/",
          "height": 1000
        },
        "id": "yYlWfTFxUx8C",
        "outputId": "9d766b5e-44e3-4e72-c2e4-d05edd5e73a1"
      },
      "outputs": [
        {
          "data": {
            "text/html": [
              "<div>\n",
              "<style scoped>\n",
              "    .dataframe tbody tr th:only-of-type {\n",
              "        vertical-align: middle;\n",
              "    }\n",
              "\n",
              "    .dataframe tbody tr th {\n",
              "        vertical-align: top;\n",
              "    }\n",
              "\n",
              "    .dataframe thead th {\n",
              "        text-align: right;\n",
              "    }\n",
              "</style>\n",
              "<table border=\"1\" class=\"dataframe\">\n",
              "  <thead>\n",
              "    <tr style=\"text-align: right;\">\n",
              "      <th></th>\n",
              "      <th>Age</th>\n",
              "      <th>All_Devs</th>\n",
              "      <th>Python</th>\n",
              "      <th>JavaScript</th>\n",
              "    </tr>\n",
              "  </thead>\n",
              "  <tbody>\n",
              "    <tr>\n",
              "      <th>0</th>\n",
              "      <td>18</td>\n",
              "      <td>17784</td>\n",
              "      <td>20046</td>\n",
              "      <td>16446</td>\n",
              "    </tr>\n",
              "    <tr>\n",
              "      <th>1</th>\n",
              "      <td>19</td>\n",
              "      <td>16500</td>\n",
              "      <td>17100</td>\n",
              "      <td>16791</td>\n",
              "    </tr>\n",
              "    <tr>\n",
              "      <th>2</th>\n",
              "      <td>20</td>\n",
              "      <td>18012</td>\n",
              "      <td>20000</td>\n",
              "      <td>18942</td>\n",
              "    </tr>\n",
              "    <tr>\n",
              "      <th>3</th>\n",
              "      <td>21</td>\n",
              "      <td>20628</td>\n",
              "      <td>24744</td>\n",
              "      <td>21780</td>\n",
              "    </tr>\n",
              "    <tr>\n",
              "      <th>4</th>\n",
              "      <td>22</td>\n",
              "      <td>25206</td>\n",
              "      <td>30500</td>\n",
              "      <td>25704</td>\n",
              "    </tr>\n",
              "    <tr>\n",
              "      <th>5</th>\n",
              "      <td>23</td>\n",
              "      <td>30252</td>\n",
              "      <td>37732</td>\n",
              "      <td>29000</td>\n",
              "    </tr>\n",
              "    <tr>\n",
              "      <th>6</th>\n",
              "      <td>24</td>\n",
              "      <td>34368</td>\n",
              "      <td>41247</td>\n",
              "      <td>34372</td>\n",
              "    </tr>\n",
              "    <tr>\n",
              "      <th>7</th>\n",
              "      <td>25</td>\n",
              "      <td>38496</td>\n",
              "      <td>45372</td>\n",
              "      <td>37810</td>\n",
              "    </tr>\n",
              "    <tr>\n",
              "      <th>8</th>\n",
              "      <td>26</td>\n",
              "      <td>42000</td>\n",
              "      <td>48876</td>\n",
              "      <td>43515</td>\n",
              "    </tr>\n",
              "    <tr>\n",
              "      <th>9</th>\n",
              "      <td>27</td>\n",
              "      <td>46752</td>\n",
              "      <td>53850</td>\n",
              "      <td>46823</td>\n",
              "    </tr>\n",
              "    <tr>\n",
              "      <th>10</th>\n",
              "      <td>28</td>\n",
              "      <td>49320</td>\n",
              "      <td>57287</td>\n",
              "      <td>49293</td>\n",
              "    </tr>\n",
              "    <tr>\n",
              "      <th>11</th>\n",
              "      <td>29</td>\n",
              "      <td>53200</td>\n",
              "      <td>63016</td>\n",
              "      <td>53437</td>\n",
              "    </tr>\n",
              "    <tr>\n",
              "      <th>12</th>\n",
              "      <td>30</td>\n",
              "      <td>56000</td>\n",
              "      <td>65998</td>\n",
              "      <td>56373</td>\n",
              "    </tr>\n",
              "    <tr>\n",
              "      <th>13</th>\n",
              "      <td>31</td>\n",
              "      <td>62316</td>\n",
              "      <td>70003</td>\n",
              "      <td>62375</td>\n",
              "    </tr>\n",
              "    <tr>\n",
              "      <th>14</th>\n",
              "      <td>32</td>\n",
              "      <td>64928</td>\n",
              "      <td>70000</td>\n",
              "      <td>66674</td>\n",
              "    </tr>\n",
              "    <tr>\n",
              "      <th>15</th>\n",
              "      <td>33</td>\n",
              "      <td>67317</td>\n",
              "      <td>71496</td>\n",
              "      <td>68745</td>\n",
              "    </tr>\n",
              "    <tr>\n",
              "      <th>16</th>\n",
              "      <td>34</td>\n",
              "      <td>68748</td>\n",
              "      <td>75370</td>\n",
              "      <td>68746</td>\n",
              "    </tr>\n",
              "    <tr>\n",
              "      <th>17</th>\n",
              "      <td>35</td>\n",
              "      <td>73752</td>\n",
              "      <td>83640</td>\n",
              "      <td>74583</td>\n",
              "    </tr>\n",
              "    <tr>\n",
              "      <th>18</th>\n",
              "      <td>36</td>\n",
              "      <td>77232</td>\n",
              "      <td>84666</td>\n",
              "      <td>79000</td>\n",
              "    </tr>\n",
              "    <tr>\n",
              "      <th>19</th>\n",
              "      <td>37</td>\n",
              "      <td>78000</td>\n",
              "      <td>84392</td>\n",
              "      <td>78508</td>\n",
              "    </tr>\n",
              "    <tr>\n",
              "      <th>20</th>\n",
              "      <td>38</td>\n",
              "      <td>78508</td>\n",
              "      <td>78254</td>\n",
              "      <td>79996</td>\n",
              "    </tr>\n",
              "    <tr>\n",
              "      <th>21</th>\n",
              "      <td>39</td>\n",
              "      <td>79536</td>\n",
              "      <td>85000</td>\n",
              "      <td>80403</td>\n",
              "    </tr>\n",
              "    <tr>\n",
              "      <th>22</th>\n",
              "      <td>40</td>\n",
              "      <td>82488</td>\n",
              "      <td>87038</td>\n",
              "      <td>83820</td>\n",
              "    </tr>\n",
              "    <tr>\n",
              "      <th>23</th>\n",
              "      <td>41</td>\n",
              "      <td>88935</td>\n",
              "      <td>91991</td>\n",
              "      <td>88833</td>\n",
              "    </tr>\n",
              "    <tr>\n",
              "      <th>24</th>\n",
              "      <td>42</td>\n",
              "      <td>90000</td>\n",
              "      <td>100000</td>\n",
              "      <td>91660</td>\n",
              "    </tr>\n",
              "    <tr>\n",
              "      <th>25</th>\n",
              "      <td>43</td>\n",
              "      <td>90056</td>\n",
              "      <td>94796</td>\n",
              "      <td>87892</td>\n",
              "    </tr>\n",
              "    <tr>\n",
              "      <th>26</th>\n",
              "      <td>44</td>\n",
              "      <td>95000</td>\n",
              "      <td>97962</td>\n",
              "      <td>96243</td>\n",
              "    </tr>\n",
              "    <tr>\n",
              "      <th>27</th>\n",
              "      <td>45</td>\n",
              "      <td>90000</td>\n",
              "      <td>93302</td>\n",
              "      <td>90000</td>\n",
              "    </tr>\n",
              "    <tr>\n",
              "      <th>28</th>\n",
              "      <td>46</td>\n",
              "      <td>91633</td>\n",
              "      <td>99240</td>\n",
              "      <td>99313</td>\n",
              "    </tr>\n",
              "    <tr>\n",
              "      <th>29</th>\n",
              "      <td>47</td>\n",
              "      <td>91660</td>\n",
              "      <td>102736</td>\n",
              "      <td>91660</td>\n",
              "    </tr>\n",
              "    <tr>\n",
              "      <th>30</th>\n",
              "      <td>48</td>\n",
              "      <td>98150</td>\n",
              "      <td>112285</td>\n",
              "      <td>102264</td>\n",
              "    </tr>\n",
              "    <tr>\n",
              "      <th>31</th>\n",
              "      <td>49</td>\n",
              "      <td>98964</td>\n",
              "      <td>100771</td>\n",
              "      <td>100000</td>\n",
              "    </tr>\n",
              "    <tr>\n",
              "      <th>32</th>\n",
              "      <td>50</td>\n",
              "      <td>100000</td>\n",
              "      <td>104708</td>\n",
              "      <td>100000</td>\n",
              "    </tr>\n",
              "    <tr>\n",
              "      <th>33</th>\n",
              "      <td>51</td>\n",
              "      <td>98988</td>\n",
              "      <td>108423</td>\n",
              "      <td>91660</td>\n",
              "    </tr>\n",
              "    <tr>\n",
              "      <th>34</th>\n",
              "      <td>52</td>\n",
              "      <td>100000</td>\n",
              "      <td>101407</td>\n",
              "      <td>99240</td>\n",
              "    </tr>\n",
              "    <tr>\n",
              "      <th>35</th>\n",
              "      <td>53</td>\n",
              "      <td>108923</td>\n",
              "      <td>112542</td>\n",
              "      <td>108000</td>\n",
              "    </tr>\n",
              "    <tr>\n",
              "      <th>36</th>\n",
              "      <td>54</td>\n",
              "      <td>105000</td>\n",
              "      <td>122870</td>\n",
              "      <td>105000</td>\n",
              "    </tr>\n",
              "    <tr>\n",
              "      <th>37</th>\n",
              "      <td>55</td>\n",
              "      <td>103117</td>\n",
              "      <td>120000</td>\n",
              "      <td>104000</td>\n",
              "    </tr>\n",
              "  </tbody>\n",
              "</table>\n",
              "</div>"
            ],
            "text/plain": [
              "    Age  All_Devs  Python  JavaScript\n",
              "0    18     17784   20046       16446\n",
              "1    19     16500   17100       16791\n",
              "2    20     18012   20000       18942\n",
              "3    21     20628   24744       21780\n",
              "4    22     25206   30500       25704\n",
              "5    23     30252   37732       29000\n",
              "6    24     34368   41247       34372\n",
              "7    25     38496   45372       37810\n",
              "8    26     42000   48876       43515\n",
              "9    27     46752   53850       46823\n",
              "10   28     49320   57287       49293\n",
              "11   29     53200   63016       53437\n",
              "12   30     56000   65998       56373\n",
              "13   31     62316   70003       62375\n",
              "14   32     64928   70000       66674\n",
              "15   33     67317   71496       68745\n",
              "16   34     68748   75370       68746\n",
              "17   35     73752   83640       74583\n",
              "18   36     77232   84666       79000\n",
              "19   37     78000   84392       78508\n",
              "20   38     78508   78254       79996\n",
              "21   39     79536   85000       80403\n",
              "22   40     82488   87038       83820\n",
              "23   41     88935   91991       88833\n",
              "24   42     90000  100000       91660\n",
              "25   43     90056   94796       87892\n",
              "26   44     95000   97962       96243\n",
              "27   45     90000   93302       90000\n",
              "28   46     91633   99240       99313\n",
              "29   47     91660  102736       91660\n",
              "30   48     98150  112285      102264\n",
              "31   49     98964  100771      100000\n",
              "32   50    100000  104708      100000\n",
              "33   51     98988  108423       91660\n",
              "34   52    100000  101407       99240\n",
              "35   53    108923  112542      108000\n",
              "36   54    105000  122870      105000\n",
              "37   55    103117  120000      104000"
            ]
          },
          "execution_count": 5,
          "metadata": {},
          "output_type": "execute_result"
        }
      ],
      "source": [
        "# Step 1: Import necessary modules to create dataframe and line plots \n",
        "import pandas as pd\n",
        "import matplotlib.pyplot as plt\n",
        "\n",
        "# Step 2: Create a Dataframe and store it in a variable from the given dataset\n",
        "df = pd.read_csv(\"https://curriculum.whitehatjr.com/APT+Asset/Salary_variations.csv\")\n",
        "# Print the first 5 rows in the DataFrame\n",
        "df"
      ]
    },
    {
      "cell_type": "code",
      "execution_count": null,
      "metadata": {
        "colab": {
          "base_uri": "https://localhost:8080/",
          "height": 345
        },
        "id": "KYfflY2cd3Ow",
        "outputId": "061ba4e2-d2ff-472a-82b7-d3e4ab774632"
      },
      "outputs": [
        {
          "data": {
            "image/png": "[encoded data removed]",
            "text/plain": [
              "<Figure size 1080x360 with 1 Axes>"
            ]
          },
          "metadata": {},
          "output_type": "display_data"
        }
      ],
      "source": [
        "# Step 3: Create a customised line plot for comparing the Age-wise annual salary variations for Python developer with JavaScript developer.  Use the 'seaborn-dark' style\n",
        "plt.style.use(\"seaborn-dark\")\n",
        "plt.figure(figsize=(15,5))\n",
        "plt.title('Age-wise annual Salary varation for Developers')\n",
        "plt.plot(df['Age'],df['Python'],'red')\n",
        "plt.plot(df['Age'],df['JavaScript'],'green')\n",
        "plt.xlabel('Age')\n",
        "plt.ylabel('Salary')\n",
        "plt.grid()\n",
        "plt.show()"
      ]
    },
    {
      "cell_type": "markdown",
      "metadata": {
        "id": "PLSY4nu0UzCj"
      },
      "source": [
        "**Q**: What can you conclude from the above comparison ?\n",
        "\n",
        "**A**: We can concluede thant as the age of developer or experiance of developer increases, salary also increases."
      ]
    },
    {
      "cell_type": "markdown",
      "metadata": {
        "id": "ftOXrP5NUzsZ"
      },
      "source": [
        "---"
      ]
    },
    {
      "cell_type": "markdown",
      "metadata": {
        "id": "BVT9G_baB1aq"
      },
      "source": [
        "#### Activity 2:  Find Reverse Complement of RNA\n",
        "\n",
        "**Ribonucleic acid** (RNA) is a polymeric molecule essential in various biological roles in coding, decoding, regulation and expression of genes. RNA and DNA are nucleic acids.\n",
        "\n",
        "Create a function (let's say `reverse_complement()`) that finds the **reverse complement** of a ribonucleic acid (**RNA**) strand. \n",
        "\n",
        "The **reverse complement** of **RNA** sequence is formed by reversing the letters, interchanging `A` with `U` and `G` with `C` and vice-versa.\n",
        "\n",
        "The **RNA** will be represented as a string containing only the characters `\"A\", \"C\", \"G\"` and `\"U\"`. Since **RNA** can only (canonically) allow pairings of A/U and G/C, the complement of an **RNA** would be as follows:\n",
        "\n",
        "```\n",
        "original -> complement\n",
        "\n",
        "\"AAA\" -> \"UUU\"\n",
        "\n",
        "\"UUU\" -> \"AAA\"\n",
        "\n",
        "\"GGG\" -> \"CCC\"\n",
        "\n",
        "\"CCC\" -> \"GGG\"\n",
        "\n",
        "\"GGAACC\" -> \"CCAAGG\"\n",
        "```\n",
        "\n",
        "Your function should find the complement on the right and also reverse the resulting string.\n",
        "\n",
        "**Examples**\n",
        "```\n",
        "reverse_complement(\"GUGU\") ➞ \"ACAC\"\n",
        "\n",
        "reverse_complement(\"UCUCG\") ➞ \"CGAGA\"\n",
        "\n",
        "reverse_complement(\"CAGGU\") ➞ \"ACCUG\"\n",
        "```"
      ]
    },
    {
      "cell_type": "code",
      "execution_count": null,
      "metadata": {
        "colab": {
          "base_uri": "https://localhost:8080/"
        },
        "id": "0pIGxKG9B3mb",
        "outputId": "7d8156f7-b0ef-43a3-cbe5-04d7a9b66b30"
      },
      "outputs": [
        {
          "name": "stdout",
          "output_type": "stream",
          "text": [
            "ACAC\n",
            "CGAGA\n",
            "ACCUG\n"
          ]
        }
      ],
      "source": [
        "# Write a program to print the reverse complement of RNA.\n",
        "# Replace A with U, G with C, C with G, U with A. Use python dictionary to store the original and their complement values in the form of key-value pair\n",
        "def reverse_complement(s):\n",
        "  out = \"\"\n",
        "  for ch in s:\n",
        "    if ch == 'A':\n",
        "      out += 'U'\n",
        "    elif ch == 'U':\n",
        "      out += 'A'\n",
        "    elif ch == 'G':\n",
        "      out += 'C'\n",
        "    elif ch == 'C':\n",
        "      out += 'G'\n",
        "  return out[::-1]\n",
        "\n",
        "print(reverse_complement(\"GUGU\"))\n",
        "\n",
        "print(reverse_complement(\"UCUCG\"))\n",
        "\n",
        "print(reverse_complement(\"CAGGU\"))"
      ]
    },
    {
      "cell_type": "markdown",
      "metadata": {
        "id": "IJIZASayCpEW"
      },
      "source": [
        "---"
      ]
    },
    {
      "cell_type": "markdown",
      "metadata": {
        "id": "CKg-ZtsFxgdK"
      },
      "source": [
        "### Submitting the Project:\n",
        "\n",
        "1. After finishing the project, click on the **Share** button on the top right corner of the notebook. A new dialog box will appear.\n",
        "\n",
        "  <img src='https://student-datasets-bucket.s3.ap-south-1.amazonaws.com/images/project-share-images/2_share_button.png' width=500>\n",
        "\n",
        "2. In the dialog box, make sure that '**Anyone on the Internet with this link can view**' option is selected and then click on the **Copy link** button.\n",
        "\n",
        "   <img src='https://student-datasets-bucket.s3.ap-south-1.amazonaws.com/images/project-share-images/3_copy_link.png' width=500>\n",
        "\n",
        "3. The link of the duplicate copy (named as **YYYY-MM-DD_StudentName_Project42**) of the notebook will get copied \n",
        "\n",
        "   <img src='https://student-datasets-bucket.s3.ap-south-1.amazonaws.com/images/project-share-images/4_copy_link_confirmation.png' width=500>\n",
        "\n",
        "4. Go to your dashboard and click on the **My Projects** option.\n",
        "   \n",
        "   <img src='https://student-datasets-bucket.s3.ap-south-1.amazonaws.com/images/project-share-images/5_student_dashboard.png' width=800>\n",
        "\n",
        "  <img src='https://student-datasets-bucket.s3.ap-south-1.amazonaws.com/images/project-share-images/6_my_projects.png' width=800>\n",
        "\n",
        "5. Click on the **View Project** button for the project you want to submit.\n",
        "\n",
        "   <img src='https://student-datasets-bucket.s3.ap-south-1.amazonaws.com/images/project-share-images/7_view_project.png' width=800>\n",
        "\n",
        "6. Click on the **Submit Project Here** button.\n",
        "\n",
        "   <img src='https://student-datasets-bucket.s3.ap-south-1.amazonaws.com/images/project-share-images/8_submit_project.png' width=800>\n",
        "\n",
        "7. Paste the link to the project file named as **YYYY-MM-DD_StudentName_Project42** in the URL box and then click on the **Submit** button.\n",
        "\n",
        "   <img src='https://student-datasets-bucket.s3.ap-south-1.amazonaws.com/images/project-share-images/9_enter_project_url.png' width=800> "
      ]
    },
    {
      "cell_type": "markdown",
      "metadata": {
        "id": "sxsoj9uRxfUF"
      },
      "source": [
        "---"
      ]
    }
  ],
  "metadata": {
    "colab": {
      "collapsed_sections": [],
      "name": "Copy of 2021_12_10_Darshan_Khairnar_Project_38.ipynb",
      "provenance": []
    },
    "kernelspec": {
      "display_name": "Python 3",
      "language": "python",
      "name": "python3"
    },
    "language_info": {
      "name": "python",
      "version": "3.10.1 (tags/v3.10.1:2cd268a, Dec  6 2021, 19:10:37) [MSC v.1929 64 bit (AMD64)]"
    },
    "vscode": {
      "interpreter": {
        "hash": "68d9ee2d6506037d46bb9f9453832f417650a598f262a5f9c9d171213762fa4c"
      }
    }
  },
  "nbformat": 4,
  "nbformat_minor": 0
}
